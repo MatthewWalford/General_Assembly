{
 "cells": [
  {
   "cell_type": "code",
   "execution_count": 1,
   "metadata": {
    "scrolled": true
   },
   "outputs": [
    {
     "name": "stdout",
     "output_type": "stream",
     "text": [
      "Collecting pydub\n",
      "  Downloading https://files.pythonhosted.org/packages/79/db/eaf620b73a1eec3c8c6f8f5b0b236a50f9da88ad57802154b7ba7664d0b8/pydub-0.23.1-py2.py3-none-any.whl\n",
      "Installing collected packages: pydub\n",
      "Successfully installed pydub-0.23.1\n"
     ]
    }
   ],
   "source": [
    "!pip install pydub"
   ]
  },
  {
   "cell_type": "code",
   "execution_count": 2,
   "metadata": {
    "scrolled": false
   },
   "outputs": [
    {
     "name": "stdout",
     "output_type": "stream",
     "text": [
      "Collecting ffmpeg-python\n",
      "  Downloading https://files.pythonhosted.org/packages/d7/0c/56be52741f75bad4dc6555991fabd2e07b432d333da82c11ad701123888a/ffmpeg_python-0.2.0-py3-none-any.whl\n",
      "Requirement already satisfied: future in c:\\users\\matth\\anaconda3\\lib\\site-packages (from ffmpeg-python) (0.18.2)\n",
      "Installing collected packages: ffmpeg-python\n",
      "Successfully installed ffmpeg-python-0.2.0\n"
     ]
    }
   ],
   "source": [
    "!pip install ffmpeg-python"
   ]
  },
  {
   "cell_type": "code",
   "execution_count": 3,
   "metadata": {
    "scrolled": false
   },
   "outputs": [
    {
     "name": "stdout",
     "output_type": "stream",
     "text": [
      "Collecting my-voice-analysis\n",
      "  Downloading https://files.pythonhosted.org/packages/99/9e/0f8eb6916e35f8733aa8bee11d473439af904a8abcaa581926a2b1998f09/my_voice_analysis-0.7-py3-none-any.whl\n",
      "Collecting praat-parselmouth>=0.3.2\n",
      "  Downloading https://files.pythonhosted.org/packages/14/80/3ed7cc3e2377af8d625b26179919f7a0d47a5add5d12ad1a4468d5b59764/praat_parselmouth-0.3.3-cp37-cp37m-win_amd64.whl (7.4MB)\n",
      "Requirement already satisfied: pandas>=0.23.4 in c:\\users\\matth\\anaconda3\\lib\\site-packages (from my-voice-analysis) (0.25.3)\n",
      "Requirement already satisfied: scipy>=1.1.0 in c:\\users\\matth\\anaconda3\\lib\\site-packages (from my-voice-analysis) (1.3.2)\n",
      "Requirement already satisfied: numpy>=1.15.2 in c:\\users\\matth\\anaconda3\\lib\\site-packages (from my-voice-analysis) (1.17.4)\n",
      "Requirement already satisfied: python-dateutil>=2.6.1 in c:\\users\\matth\\anaconda3\\lib\\site-packages (from pandas>=0.23.4->my-voice-analysis) (2.8.1)\n",
      "Requirement already satisfied: pytz>=2017.2 in c:\\users\\matth\\anaconda3\\lib\\site-packages (from pandas>=0.23.4->my-voice-analysis) (2019.3)\n",
      "Requirement already satisfied: six>=1.5 in c:\\users\\matth\\anaconda3\\lib\\site-packages (from python-dateutil>=2.6.1->pandas>=0.23.4->my-voice-analysis) (1.13.0)\n",
      "Installing collected packages: praat-parselmouth, my-voice-analysis\n",
      "Successfully installed my-voice-analysis-0.7 praat-parselmouth-0.3.3\n"
     ]
    }
   ],
   "source": [
    "!pip install my-voice-analysis"
   ]
  },
  {
   "cell_type": "code",
   "execution_count": 1,
   "metadata": {
    "scrolled": true
   },
   "outputs": [
    {
     "name": "stdout",
     "output_type": "stream",
     "text": [
      "Collecting myprosody\n",
      "  Downloading https://files.pythonhosted.org/packages/98/92/33c6e2ce9b16b1485749eafad6392f1c03f2c37611bb9565ec6caaca4aa0/myprosody-20-py3-none-any.whl\n",
      "Requirement already satisfied: scipy>=1.1.0 in c:\\users\\matth\\anaconda3\\lib\\site-packages (from myprosody) (1.3.2)\n",
      "Requirement already satisfied: pandas>=0.23.4 in c:\\users\\matth\\anaconda3\\lib\\site-packages (from myprosody) (0.25.3)\n",
      "Requirement already satisfied: scikit-learn>=0.20.2 in c:\\users\\matth\\anaconda3\\lib\\site-packages (from myprosody) (0.22.1)\n",
      "Requirement already satisfied: pickleshare>=0.7.5 in c:\\users\\matth\\anaconda3\\lib\\site-packages (from myprosody) (0.7.5)\n",
      "Requirement already satisfied: numpy>=1.15.2 in c:\\users\\matth\\anaconda3\\lib\\site-packages (from myprosody) (1.17.4)\n",
      "Requirement already satisfied: praat-parselmouth>=0.3.2 in c:\\users\\matth\\anaconda3\\lib\\site-packages (from myprosody) (0.3.3)\n",
      "Requirement already satisfied: pytz>=2017.2 in c:\\users\\matth\\anaconda3\\lib\\site-packages (from pandas>=0.23.4->myprosody) (2019.3)\n",
      "Requirement already satisfied: python-dateutil>=2.6.1 in c:\\users\\matth\\anaconda3\\lib\\site-packages (from pandas>=0.23.4->myprosody) (2.8.1)\n",
      "Requirement already satisfied: joblib>=0.11 in c:\\users\\matth\\anaconda3\\lib\\site-packages (from scikit-learn>=0.20.2->myprosody) (0.14.1)\n",
      "Requirement already satisfied: six>=1.5 in c:\\users\\matth\\anaconda3\\lib\\site-packages (from python-dateutil>=2.6.1->pandas>=0.23.4->myprosody) (1.13.0)\n",
      "Installing collected packages: myprosody\n",
      "Successfully installed myprosody-20\n"
     ]
    }
   ],
   "source": [
    "!pip install myprosody"
   ]
  },
  {
   "cell_type": "code",
   "execution_count": null,
   "metadata": {},
   "outputs": [],
   "source": [
    "import pickle"
   ]
  }
 ],
 "metadata": {
  "kernelspec": {
   "display_name": "Python 3",
   "language": "python",
   "name": "python3"
  },
  "language_info": {
   "codemirror_mode": {
    "name": "ipython",
    "version": 3
   },
   "file_extension": ".py",
   "mimetype": "text/x-python",
   "name": "python",
   "nbconvert_exporter": "python",
   "pygments_lexer": "ipython3",
   "version": "3.7.6"
  }
 },
 "nbformat": 4,
 "nbformat_minor": 2
}
