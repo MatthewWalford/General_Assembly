{
 "cells": [
  {
   "cell_type": "markdown",
   "metadata": {},
   "source": [
    "\n",
    "\n",
    "<img src=\"https://www.thehindubusinessline.com/opinion/columns/the-cheat-sheet/cnn5bv/article27140390.ece/ALTERNATES/LANDSCAPE_1200/bl16thinkdisguise-with-mask\" width=\"1000\" height=\"100\">"
   ]
  },
  {
   "cell_type": "markdown",
   "metadata": {},
   "source": [
    "# Introduction\n",
    "\n",
    "Lets get it out of the way... people lie! There are many reasons for this from the most serious such as avoiding being put in jail for a crime down to a \"white-lie\" that is told to not hurt someones feelings. In all cases, there is usually a motivating reason for lying. Being able to distingush between a lie and a truth, therefore, can be important particulary in legal and and law enforcement settings. \n",
    "\n",
    "However, humans are actually pretty poor detectors of deception with meta-analytical research showing that the average accuracy of detecting deception stood at around 54 percent. This is only better than chance by 4% and holds across students, psychologists, judges, job interviewers, and law enforcement personnel (https://www.psychologytoday.com/us/blog/living-single/201305/why-are-we-so-bad-detecting-lies).\n",
    "\n",
    "We also need to consider that deception occurs not through a single modality such as speech but rather has research has demonstrated that it can occur through multiple channels. Indeed, deception is a complex human behavior that sees individuals trying to hide their deception through their facial expressions, gestures, and voice. Consequently, an approach to deception is more likely to be effective when considering and integrating a range of modalities.\n",
    "\n",
    "##### Detecting Deception - Linguistic Features\n",
    "A key approach in the psychological literature is that to look at the lingustic differences between statements about actual and imagined events on the assumption that these will differ between each (Porter & Yuille, 1995; Undeutsch, 1954; 1967). \n",
    "\n",
    "Two models have been used to inform the direction of extracting these lingustic features including:\n",
    "1. **Newman-Pennebaker**: which generally argues that differences in the use of word categories (Hancock & Woodworth, 2013), with deceptive statements tending to demonstrate use of:\n",
    "    \n",
    "    a. **Fewer first person singular pronouns such as ‘I’**: reduced use of pronouns is believed to show psychological distancing from the lie... where they do not associate themselves subconsiously with it (Hancock & Woodworth, 2013);\n",
    "    \n",
    "    b. **More negative emotion words**: aligning to the leakage hypothesis, the anxiety caused by lying results in the use of more negative terminology and body displays (Ekman, 2007; Newman, Pennebaker, Berry, & Richards, 2003). \n",
    "    \n",
    "    \n",
    "2. **Reality Monitoring**: which generally argues that statements not based on real events will tend to manifest in less references made to sensory, affective, and contextual information (Bond & Lee, 2005; Zhou et al., 2004).\n",
    "\n",
    "Another area looked at in deception is the role of cognitive strain on the speaker due to the need for the individual to fabricate their lie and maintain an internally consistent narrative from it. This results in the individual requiring to be careful in what they are saying resulting in slower speech and more pauses as they engage in a a process of careful thinking (Zuckerman et al., 1981).\n",
    "\n",
    "Given the above, it could be excepted that those engaging in deception:\n",
    "\n",
    " 1. will speak at slower rates compared to those providing truthful statements\n",
    " 2. will show increased pauses when speaking\n",
    " 3. will use more negative emotion words\n",
    " 4. will use less sensory-related words\n",
    " 5. will use less first personal singular pronouns\n",
    " \n",
    "##### Detecting Deception - Facial expression, gestures, and voice \n",
    "\n",
    "Other features have also been associated with deception. These include micro-facial expression, gestures, and voice features.\n",
    "In terms of vocal features, for example, acoustic-prosodic features have been found to be highly effective at classifying deceptive speech Levitan, Maredia & Hirschberg (2018). "
   ]
  },
  {
   "cell_type": "markdown",
   "metadata": {},
   "source": [
    "## Data Sources - Real-life Trial Deception Detection Dataset"
   ]
  },
  {
   "cell_type": "markdown",
   "metadata": {},
   "source": [
    "The data set that is used comes from the Real-life Trial Deception Detection Dataset created by Veronica Perez-Rosas, Mohamed Abouelenien, Rada Mihalcea, and Mihai Burzo based at the University of Michigan.\n",
    "\n",
    "The dataset consists of real-life trial videos that are publicly available on YouTube channels and other public websites. The dataset also contains statements made by exonerees after exoneration and a few statements from defendants during crime-related TV episodes. The speakers in the videos are either defendants or witnesses. The video clips are labeled as deceptive or truthful based on a guilty verdict, not-guilty verdict, and exoneration. More details are available in the paper that introduced the dataset (Perez-Rosas et al, 2015).\n",
    "\n",
    "Data includes three types:\n",
    "\n",
    "* **Video Clips**: deceptive and truthful video clips in the form of mp4. \n",
    "* **Transcriptions**: manual transcriptions of the deceptive and truthful statements contained in the video clips. \n",
    "* **Gesture annotation**: manual gesture annotations in one .csv file using the MUMIN coding scheme (Allwood, Jens, et al. \"The MUMIN multimodal coding scheme\" (NorFA yearbook (2005): 129-157).\n",
    "\n",
    "The dataset consists of **121 videos** including:\n",
    "* 61 deceptive\n",
    "* 60 truthful trial clips. \n",
    "\n",
    "The average length of the videos in the dataset is 28.0 seconds. The average video length is 27.7 seconds and 28.3 seconds for the deceptive and truthful clips, respectively. \n",
    "\n",
    "The data consists of 21 unique female and 35 unique male speakers, with their ages approximately ranging between 16 and 60 years."
   ]
  },
  {
   "cell_type": "markdown",
   "metadata": {},
   "source": [
    "## Initial Data Processing"
   ]
  },
  {
   "cell_type": "markdown",
   "metadata": {},
   "source": [
    "This section describes the steps and associated code for initial data processing."
   ]
  },
  {
   "cell_type": "code",
   "execution_count": 1,
   "metadata": {},
   "outputs": [],
   "source": [
    "#1. Import relevant standard libraries for processing\n",
    "import numpy as np\n",
    "from glob import glob\n",
    "import re \n",
    "import pandas as pd\n",
    "from io import StringIO \n",
    "import sys\n",
    "from IPython.display import clear_output\n",
    "import time\n",
    "from datetime import datetime\n",
    "import Signal_Analysis\n",
    "import Signal_Analysis.features\n",
    "from scipy.io.wavfile import read\n",
    "import matplotlib\n",
    "import matplotlib.pyplot as plt\n",
    "import numpy as np"
   ]
  },
  {
   "cell_type": "markdown",
   "metadata": {},
   "source": [
    "### Convert Videos to WAV files for processing by myspsolution library"
   ]
  },
  {
   "cell_type": "markdown",
   "metadata": {},
   "source": [
    "The first step in the process is to convert the video clips (mp4) of the witness testimony into wav files (codec='pcm_s16le') that is required for passing to the myspsolution library (see below) for extraction of voice acoustic features. This is achieved through the use of moviepy (https://zulko.github.io/moviepy/)."
   ]
  },
  {
   "cell_type": "code",
   "execution_count": 2,
   "metadata": {},
   "outputs": [],
   "source": [
    "#First we import the moviepy library.\n",
    "from moviepy.editor import *"
   ]
  },
  {
   "cell_type": "code",
   "execution_count": 149,
   "metadata": {},
   "outputs": [],
   "source": [
    "#Identify all mp4s using glob falling under the target video folder and append them to a list called videos.\n",
    "videos=glob('data/video/*.mp4')\n",
    "#videos\n",
    "#videos[0]"
   ]
  },
  {
   "cell_type": "code",
   "execution_count": 87,
   "metadata": {
    "scrolled": true
   },
   "outputs": [
    {
     "name": "stderr",
     "output_type": "stream",
     "text": [
      "chunk:   6%|███▉                                                            | 25/408 [07:14<00:19, 19.28it/s, now=None]\n",
      "chunk:   0%|                                                                         | 0/374 [00:00<?, ?it/s, now=None]\u001b[A\n",
      "chunk:  29%|█████████████████▊                                           | 109/374 [00:00<00:00, 1081.72it/s, now=None]\u001b[A"
     ]
    },
    {
     "name": "stdout",
     "output_type": "stream",
     "text": [
      "MoviePy - Writing audio in ./data/audio/trial_lie_audio_001.wav\n"
     ]
    },
    {
     "name": "stderr",
     "output_type": "stream",
     "text": [
      "\n",
      "chunk:  95%|██████████████████████████████████████████████████████████▏  | 357/374 [00:00<00:00, 1288.39it/s, now=None]\u001b[A\n",
      "chunk:   6%|███▉                                                            | 25/408 [07:14<00:19, 19.28it/s, now=None]\u001b[A\n",
      "chunk:   0%|                                                                         | 0/408 [00:00<?, ?it/s, now=None]\u001b[A\n",
      "chunk:   0%|▎                                                                | 2/408 [00:00<00:20, 19.46it/s, now=None]\u001b[A"
     ]
    },
    {
     "name": "stdout",
     "output_type": "stream",
     "text": [
      "MoviePy - Done.\n",
      "MoviePy - Writing audio in ./data/myprosody/dataset/audioFiles/trial_lie_audio_001.wav\n"
     ]
    },
    {
     "name": "stderr",
     "output_type": "stream",
     "text": [
      "\n",
      "chunk:  56%|███████████████████████████████████                            | 227/408 [00:00<00:06, 27.69it/s, now=None]\u001b[A\n",
      "chunk:   6%|███▉                                                            | 25/408 [07:14<00:19, 19.28it/s, now=None]\u001b[A"
     ]
    },
    {
     "name": "stdout",
     "output_type": "stream",
     "text": [
      "MoviePy - Done.\n"
     ]
    },
    {
     "name": "stderr",
     "output_type": "stream",
     "text": [
      "chunk:   6%|███▉                                                            | 25/408 [07:15<00:19, 19.28it/s, now=None]\n",
      "chunk:   0%|                                                                        | 0/1378 [00:00<?, ?it/s, now=None]\u001b[A\n",
      "chunk:   8%|████▌                                                       | 105/1378 [00:00<00:01, 1042.37it/s, now=None]\u001b[A"
     ]
    },
    {
     "name": "stdout",
     "output_type": "stream",
     "text": [
      "MoviePy - Writing audio in ./data/audio/trial_lie_audio_002.wav\n"
     ]
    },
    {
     "name": "stderr",
     "output_type": "stream",
     "text": [
      "\n",
      "chunk:  26%|███████████████▌                                            | 357/1378 [00:00<00:00, 1252.21it/s, now=None]\u001b[A\n",
      "chunk:  44%|██████████████████████████▎                                 | 605/1378 [00:00<00:00, 1468.72it/s, now=None]\u001b[A\n",
      "chunk:  60%|████████████████████████████████████▏                       | 831/1378 [00:00<00:00, 1640.23it/s, now=None]\u001b[A\n",
      "chunk:  78%|█████████████████████████████████████████████▊             | 1071/1378 [00:00<00:00, 1801.23it/s, now=None]\u001b[A\n",
      "chunk:  96%|████████████████████████████████████████████████████████▊  | 1326/1378 [00:00<00:00, 1958.29it/s, now=None]\u001b[A\n",
      "                                                                                                                       \u001b[A\r"
     ]
    },
    {
     "name": "stdout",
     "output_type": "stream",
     "text": [
      "MoviePy - Done.\n"
     ]
    },
    {
     "name": "stderr",
     "output_type": "stream",
     "text": [
      "chunk:   6%|███▉                                                            | 25/408 [07:16<00:19, 19.28it/s, now=None]\n",
      "chunk:   0%|                                                                        | 0/1500 [00:00<?, ?it/s, now=None]\u001b[A\n",
      "chunk:   0%|                                                                | 2/1500 [00:00<01:18, 19.09it/s, now=None]\u001b[A"
     ]
    },
    {
     "name": "stdout",
     "output_type": "stream",
     "text": [
      "MoviePy - Writing audio in ./data/myprosody/dataset/audioFiles/trial_lie_audio_002.wav\n"
     ]
    },
    {
     "name": "stderr",
     "output_type": "stream",
     "text": [
      "\n",
      "chunk:  16%|██████████                                                    | 244/1500 [00:00<00:46, 27.18it/s, now=None]\u001b[A\n",
      "chunk:  32%|████████████████████                                          | 485/1500 [00:00<00:26, 38.64it/s, now=None]\u001b[A\n",
      "chunk:  48%|█████████████████████████████▌                                | 715/1500 [00:00<00:14, 54.79it/s, now=None]\u001b[A\n",
      "chunk:  62%|██████████████████████████████████████▋                       | 935/1500 [00:00<00:07, 77.44it/s, now=None]\u001b[A\n",
      "chunk:  78%|██████████████████████████████████████████████▋             | 1167/1500 [00:00<00:03, 109.05it/s, now=None]\u001b[A\n",
      "chunk:  94%|████████████████████████████████████████████████████████▎   | 1407/1500 [00:00<00:00, 152.79it/s, now=None]\u001b[A\n",
      "chunk:   6%|███▉                                                            | 25/408 [07:16<00:19, 19.28it/s, now=None]\u001b[A"
     ]
    },
    {
     "name": "stdout",
     "output_type": "stream",
     "text": [
      "MoviePy - Done.\n"
     ]
    },
    {
     "name": "stderr",
     "output_type": "stream",
     "text": [
      "chunk:   6%|███▉                                                            | 25/408 [07:17<00:19, 19.28it/s, now=None]\n",
      "chunk:   0%|                                                                         | 0/155 [00:00<?, ?it/s, now=None]\u001b[A\n",
      "chunk:  82%|█████████████████████████████████████████████████▉           | 127/155 [00:00<00:00, 1260.54it/s, now=None]\u001b[A\n",
      "chunk:   6%|███▉                                                            | 25/408 [07:17<00:19, 19.28it/s, now=None]\u001b[A\n",
      "chunk:   0%|                                                                         | 0/169 [00:00<?, ?it/s, now=None]\u001b[A"
     ]
    },
    {
     "name": "stdout",
     "output_type": "stream",
     "text": [
      "MoviePy - Writing audio in ./data/audio/trial_lie_audio_003.wav\n",
      "MoviePy - Done.\n",
      "MoviePy - Writing audio in ./data/myprosody/dataset/audioFiles/trial_lie_audio_003.wav\n"
     ]
    },
    {
     "name": "stderr",
     "output_type": "stream",
     "text": [
      "\n",
      "chunk:   1%|▊                                                                | 2/169 [00:00<00:08, 19.80it/s, now=None]\u001b[A\n",
      "chunk:   6%|███▉                                                            | 25/408 [07:17<00:19, 19.28it/s, now=None]\u001b[A"
     ]
    },
    {
     "name": "stdout",
     "output_type": "stream",
     "text": [
      "MoviePy - Done.\n"
     ]
    },
    {
     "name": "stderr",
     "output_type": "stream",
     "text": [
      "chunk:   6%|███▉                                                            | 25/408 [07:17<00:19, 19.28it/s, now=None]\n",
      "chunk:   0%|                                                                         | 0/256 [00:00<?, ?it/s, now=None]\u001b[A\n",
      "chunk:  52%|███████████████████████████████▋                             | 133/256 [00:00<00:00, 1319.23it/s, now=None]\u001b[A\n",
      "                                                                                                                       \u001b[A"
     ]
    },
    {
     "name": "stdout",
     "output_type": "stream",
     "text": [
      "MoviePy - Writing audio in ./data/audio/trial_lie_audio_004.wav\n"
     ]
    },
    {
     "name": "stderr",
     "output_type": "stream",
     "text": [
      "chunk:   6%|███▉                                                            | 25/408 [07:18<00:19, 19.28it/s, now=None]\n",
      "chunk:   0%|                                                                         | 0/278 [00:00<?, ?it/s, now=None]\u001b[A\n",
      "chunk:   2%|█▏                                                               | 5/278 [00:00<00:05, 49.62it/s, now=None]\u001b[A"
     ]
    },
    {
     "name": "stdout",
     "output_type": "stream",
     "text": [
      "MoviePy - Done.\n",
      "MoviePy - Writing audio in ./data/myprosody/dataset/audioFiles/trial_lie_audio_004.wav\n"
     ]
    },
    {
     "name": "stderr",
     "output_type": "stream",
     "text": [
      "\n",
      "chunk:  89%|███████████████████████████████████████████████████████▉       | 247/278 [00:00<00:00, 70.27it/s, now=None]\u001b[A\n",
      "chunk:   6%|███▉                                                            | 25/408 [07:18<00:19, 19.28it/s, now=None]\u001b[A"
     ]
    },
    {
     "name": "stdout",
     "output_type": "stream",
     "text": [
      "MoviePy - Done.\n"
     ]
    },
    {
     "name": "stderr",
     "output_type": "stream",
     "text": [
      "chunk:   6%|███▉                                                            | 25/408 [07:18<00:19, 19.28it/s, now=None]\n",
      "chunk:   0%|                                                                        | 0/1178 [00:00<?, ?it/s, now=None]\u001b[A\n",
      "chunk:   9%|█████▏                                                      | 102/1178 [00:00<00:01, 1001.97it/s, now=None]\u001b[A"
     ]
    },
    {
     "name": "stdout",
     "output_type": "stream",
     "text": [
      "MoviePy - Writing audio in ./data/audio/trial_lie_audio_005.wav\n"
     ]
    },
    {
     "name": "stderr",
     "output_type": "stream",
     "text": [
      "\n",
      "chunk:  30%|██████████████████▏                                         | 357/1178 [00:00<00:00, 1215.08it/s, now=None]\u001b[A\n",
      "chunk:  52%|███████████████████████████████▏                            | 612/1178 [00:00<00:00, 1434.83it/s, now=None]\u001b[A\n",
      "chunk:  74%|████████████████████████████████████████████▏               | 867/1178 [00:00<00:00, 1627.12it/s, now=None]\u001b[A\n",
      "chunk:  95%|████████████████████████████████████████████████████████▏  | 1122/1178 [00:00<00:00, 1810.82it/s, now=None]\u001b[A\n",
      "chunk:   6%|███▉                                                            | 25/408 [07:19<00:19, 19.28it/s, now=None]\u001b[A\n",
      "chunk:   0%|                                                                        | 0/1283 [00:00<?, ?it/s, now=None]\u001b[A\n",
      "chunk:   0%|▏                                                               | 5/1283 [00:00<00:25, 49.64it/s, now=None]\u001b[A"
     ]
    },
    {
     "name": "stdout",
     "output_type": "stream",
     "text": [
      "MoviePy - Done.\n",
      "MoviePy - Writing audio in ./data/myprosody/dataset/audioFiles/trial_lie_audio_005.wav\n"
     ]
    },
    {
     "name": "stderr",
     "output_type": "stream",
     "text": [
      "\n",
      "chunk:  18%|███████████▍                                                  | 236/1283 [00:00<00:14, 70.26it/s, now=None]\u001b[A\n",
      "chunk:  37%|██████████████████████▋                                       | 470/1283 [00:00<00:08, 99.09it/s, now=None]\u001b[A\n",
      "chunk:  54%|████████████████████████████████▋                            | 688/1283 [00:00<00:04, 138.83it/s, now=None]\u001b[A\n",
      "chunk:  70%|██████████████████████████████████████████▉                  | 902/1283 [00:00<00:01, 192.92it/s, now=None]\u001b[A\n",
      "chunk:  89%|█████████████████████████████████████████████████████▏      | 1138/1283 [00:00<00:00, 266.21it/s, now=None]\u001b[A\n",
      "chunk:   6%|███▉                                                            | 25/408 [07:20<00:19, 19.28it/s, now=None]\u001b[A"
     ]
    },
    {
     "name": "stdout",
     "output_type": "stream",
     "text": [
      "MoviePy - Done.\n"
     ]
    },
    {
     "name": "stderr",
     "output_type": "stream",
     "text": [
      "chunk:   6%|███▉                                                            | 25/408 [07:20<00:19, 19.28it/s, now=None]\n",
      "chunk:   0%|                                                                         | 0/401 [00:00<?, ?it/s, now=None]\u001b[A\n",
      "chunk:  32%|███████████████████▊                                         | 130/401 [00:00<00:00, 1290.60it/s, now=None]\u001b[A"
     ]
    },
    {
     "name": "stdout",
     "output_type": "stream",
     "text": [
      "MoviePy - Writing audio in ./data/audio/trial_lie_audio_006.wav\n"
     ]
    },
    {
     "name": "stderr",
     "output_type": "stream",
     "text": [
      "\n",
      "chunk:  90%|██████████████████████████████████████████████████████▊      | 360/401 [00:00<00:00, 1484.18it/s, now=None]\u001b[A\n",
      "chunk:   6%|███▉                                                            | 25/408 [07:20<00:19, 19.28it/s, now=None]\u001b[A\n",
      "chunk:   0%|                                                                         | 0/437 [00:00<?, ?it/s, now=None]\u001b[A\n",
      "chunk:   1%|▋                                                                | 5/437 [00:00<00:08, 49.64it/s, now=None]\u001b[A"
     ]
    },
    {
     "name": "stdout",
     "output_type": "stream",
     "text": [
      "MoviePy - Done.\n",
      "MoviePy - Writing audio in ./data/myprosody/dataset/audioFiles/trial_lie_audio_006.wav\n"
     ]
    },
    {
     "name": "stderr",
     "output_type": "stream",
     "text": [
      "\n",
      "chunk:  56%|███████████████████████████████████▍                           | 246/437 [00:00<00:02, 70.29it/s, now=None]\u001b[A\n",
      "chunk:   6%|███▉                                                            | 25/408 [07:20<00:19, 19.28it/s, now=None]\u001b[A"
     ]
    },
    {
     "name": "stdout",
     "output_type": "stream",
     "text": [
      "MoviePy - Done.\n"
     ]
    },
    {
     "name": "stderr",
     "output_type": "stream",
     "text": [
      "chunk:   6%|███▉                                                            | 25/408 [07:21<00:19, 19.28it/s, now=None]\n",
      "chunk:   0%|                                                                        | 0/1032 [00:00<?, ?it/s, now=None]\u001b[A\n",
      "chunk:  12%|██████▉                                                     | 119/1032 [00:00<00:00, 1181.35it/s, now=None]\u001b[A"
     ]
    },
    {
     "name": "stdout",
     "output_type": "stream",
     "text": [
      "MoviePy - Writing audio in ./data/audio/trial_lie_audio_007.wav\n"
     ]
    },
    {
     "name": "stderr",
     "output_type": "stream",
     "text": [
      "\n",
      "chunk:  35%|█████████████████████▏                                      | 364/1032 [00:00<00:00, 1396.88it/s, now=None]\u001b[A\n",
      "chunk:  59%|███████████████████████████████████▌                        | 612/1032 [00:00<00:00, 1599.02it/s, now=None]\u001b[A\n",
      "chunk:  84%|██████████████████████████████████████████████████▍         | 867/1032 [00:00<00:00, 1778.70it/s, now=None]\u001b[A\n",
      "chunk:   6%|███▉                                                            | 25/408 [07:21<00:19, 19.28it/s, now=None]\u001b[A\n",
      "chunk:   0%|                                                                        | 0/1123 [00:00<?, ?it/s, now=None]\u001b[A\n",
      "chunk:   0%|                                                                | 2/1123 [00:00<01:03, 17.58it/s, now=None]\u001b[A"
     ]
    },
    {
     "name": "stdout",
     "output_type": "stream",
     "text": [
      "MoviePy - Done.\n",
      "MoviePy - Writing audio in ./data/myprosody/dataset/audioFiles/trial_lie_audio_007.wav\n"
     ]
    },
    {
     "name": "stderr",
     "output_type": "stream",
     "text": [
      "\n",
      "chunk:  21%|█████████████▎                                                | 241/1123 [00:00<00:35, 25.04it/s, now=None]\u001b[A\n",
      "chunk:  43%|██████████████████████████▌                                   | 480/1123 [00:00<00:18, 35.61it/s, now=None]\u001b[A\n",
      "chunk:  61%|█████████████████████████████████████▉                        | 688/1123 [00:00<00:08, 50.50it/s, now=None]\u001b[A\n",
      "chunk:  81%|██████████████████████████████████████████████████▏           | 909/1123 [00:00<00:02, 71.44it/s, now=None]\u001b[A\n",
      "chunk:   6%|███▉                                                            | 25/408 [07:22<00:19, 19.28it/s, now=None]\u001b[A"
     ]
    },
    {
     "name": "stdout",
     "output_type": "stream",
     "text": [
      "MoviePy - Done.\n"
     ]
    },
    {
     "name": "stderr",
     "output_type": "stream",
     "text": [
      "chunk:   6%|███▉                                                            | 25/408 [07:23<00:19, 19.28it/s, now=None]\n",
      "chunk:   0%|                                                                         | 0/160 [00:00<?, ?it/s, now=None]\u001b[A\n",
      "chunk:  82%|██████████████████████████████████████████████████▎          | 132/160 [00:00<00:00, 1309.96it/s, now=None]\u001b[A\n",
      "chunk:   6%|███▉                                                            | 25/408 [07:23<00:19, 19.28it/s, now=None]\u001b[A\n",
      "chunk:   0%|                                                                         | 0/175 [00:00<?, ?it/s, now=None]\u001b[A"
     ]
    },
    {
     "name": "stdout",
     "output_type": "stream",
     "text": [
      "MoviePy - Writing audio in ./data/audio/trial_lie_audio_008.wav\n",
      "MoviePy - Done.\n",
      "MoviePy - Writing audio in ./data/myprosody/dataset/audioFiles/trial_lie_audio_008.wav\n"
     ]
    },
    {
     "name": "stderr",
     "output_type": "stream",
     "text": [
      "\n",
      "chunk:   1%|▋                                                                | 2/175 [00:00<00:09, 17.43it/s, now=None]\u001b[A\n",
      "chunk:   6%|███▉                                                            | 25/408 [07:23<00:19, 19.28it/s, now=None]\u001b[A"
     ]
    },
    {
     "name": "stdout",
     "output_type": "stream",
     "text": [
      "MoviePy - Done.\n"
     ]
    },
    {
     "name": "stderr",
     "output_type": "stream",
     "text": [
      "chunk:   6%|███▉                                                            | 25/408 [07:23<00:19, 19.28it/s, now=None]\n",
      "chunk:   0%|                                                                         | 0/455 [00:00<?, ?it/s, now=None]\u001b[A\n",
      "chunk:  25%|███████████████▏                                             | 113/455 [00:00<00:00, 1121.20it/s, now=None]\u001b[A"
     ]
    },
    {
     "name": "stdout",
     "output_type": "stream",
     "text": [
      "MoviePy - Writing audio in ./data/audio/trial_lie_audio_009.wav\n"
     ]
    },
    {
     "name": "stderr",
     "output_type": "stream",
     "text": [
      "\n",
      "chunk:  79%|███████████████████████████████████████████████▉             | 358/455 [00:00<00:00, 1337.60it/s, now=None]\u001b[A\n",
      "chunk:   6%|███▉                                                            | 25/408 [07:24<00:19, 19.28it/s, now=None]\u001b[A\n",
      "chunk:   0%|                                                                         | 0/495 [00:00<?, ?it/s, now=None]\u001b[A\n",
      "chunk:   0%|▎                                                                | 2/495 [00:00<00:28, 17.43it/s, now=None]\u001b[A"
     ]
    },
    {
     "name": "stdout",
     "output_type": "stream",
     "text": [
      "MoviePy - Done.\n",
      "MoviePy - Writing audio in ./data/myprosody/dataset/audioFiles/trial_lie_audio_009.wav\n"
     ]
    },
    {
     "name": "stderr",
     "output_type": "stream",
     "text": [
      "\n",
      "chunk:  47%|█████████████████████████████▊                                 | 234/495 [00:00<00:10, 24.82it/s, now=None]\u001b[A\n",
      "chunk:  89%|████████████████████████████████████████████████████████       | 440/495 [00:00<00:01, 35.27it/s, now=None]\u001b[A\n",
      "chunk:   6%|███▉                                                            | 25/408 [07:24<00:19, 19.28it/s, now=None]\u001b[A"
     ]
    },
    {
     "name": "stdout",
     "output_type": "stream",
     "text": [
      "MoviePy - Done.\n"
     ]
    },
    {
     "name": "stderr",
     "output_type": "stream",
     "text": [
      "chunk:   6%|███▉                                                            | 25/408 [07:24<00:19, 19.28it/s, now=None]\n",
      "chunk:   0%|                                                                         | 0/644 [00:00<?, ?it/s, now=None]\u001b[A\n",
      "chunk:  18%|███████████▎                                                 | 119/644 [00:00<00:00, 1180.66it/s, now=None]\u001b[A"
     ]
    },
    {
     "name": "stdout",
     "output_type": "stream",
     "text": [
      "MoviePy - Writing audio in ./data/audio/trial_lie_audio_010.wav\n"
     ]
    },
    {
     "name": "stderr",
     "output_type": "stream",
     "text": [
      "\n",
      "chunk:  55%|█████████████████████████████████▊                           | 357/644 [00:00<00:00, 1384.26it/s, now=None]\u001b[A\n",
      "chunk:  95%|█████████████████████████████████████████████████████████▉   | 612/644 [00:00<00:00, 1581.25it/s, now=None]\u001b[A\n",
      "chunk:   6%|███▉                                                            | 25/408 [07:25<00:19, 19.28it/s, now=None]\u001b[A\n",
      "chunk:   0%|                                                                         | 0/701 [00:00<?, ?it/s, now=None]\u001b[A\n",
      "chunk:   0%|▏                                                                | 2/701 [00:00<00:41, 16.99it/s, now=None]\u001b[A"
     ]
    },
    {
     "name": "stdout",
     "output_type": "stream",
     "text": [
      "MoviePy - Done.\n",
      "MoviePy - Writing audio in ./data/myprosody/dataset/audioFiles/trial_lie_audio_010.wav\n"
     ]
    },
    {
     "name": "stderr",
     "output_type": "stream",
     "text": [
      "\n",
      "chunk:  32%|████████████████████▍                                          | 227/701 [00:00<00:19, 24.20it/s, now=None]\u001b[A\n",
      "chunk:  63%|███████████████████████████████████████▌                       | 440/701 [00:00<00:07, 34.40it/s, now=None]\u001b[A\n",
      "chunk:  94%|███████████████████████████████████████████████████████████▎   | 660/701 [00:00<00:00, 48.78it/s, now=None]\u001b[A\n",
      "chunk:   6%|███▉                                                            | 25/408 [07:25<00:19, 19.28it/s, now=None]\u001b[A"
     ]
    },
    {
     "name": "stdout",
     "output_type": "stream",
     "text": [
      "MoviePy - Done.\n"
     ]
    },
    {
     "name": "stderr",
     "output_type": "stream",
     "text": [
      "chunk:   6%|███▉                                                            | 25/408 [07:26<00:19, 19.28it/s, now=None]\n",
      "chunk:   0%|                                                                         | 0/743 [00:00<?, ?it/s, now=None]\u001b[A\n",
      "chunk:  14%|████████▎                                                    | 102/743 [00:00<00:00, 1012.59it/s, now=None]\u001b[A"
     ]
    },
    {
     "name": "stdout",
     "output_type": "stream",
     "text": [
      "MoviePy - Writing audio in ./data/audio/trial_lie_audio_011.wav\n"
     ]
    },
    {
     "name": "stderr",
     "output_type": "stream",
     "text": [
      "\n",
      "chunk:  43%|██████████████████████████▎                                  | 320/743 [00:00<00:00, 1204.94it/s, now=None]\u001b[A\n",
      "chunk:  76%|██████████████████████████████████████████████               | 561/743 [00:00<00:00, 1400.90it/s, now=None]\u001b[A\n",
      "chunk:   6%|███▉                                                            | 25/408 [07:26<00:19, 19.28it/s, now=None]\u001b[A\n",
      "chunk:   0%|                                                                         | 0/808 [00:00<?, ?it/s, now=None]\u001b[A\n",
      "chunk:   0%|▏                                                                | 2/808 [00:00<00:50, 16.04it/s, now=None]\u001b[A"
     ]
    },
    {
     "name": "stdout",
     "output_type": "stream",
     "text": [
      "MoviePy - Done.\n",
      "MoviePy - Writing audio in ./data/myprosody/dataset/audioFiles/trial_lie_audio_011.wav\n"
     ]
    },
    {
     "name": "stderr",
     "output_type": "stream",
     "text": [
      "\n",
      "chunk:  27%|█████████████████▏                                             | 220/808 [00:00<00:25, 22.83it/s, now=None]\u001b[A\n",
      "chunk:  54%|██████████████████████████████████▎                            | 440/808 [00:00<00:11, 32.46it/s, now=None]\u001b[A\n",
      "chunk:  82%|███████████████████████████████████████████████████▌           | 662/808 [00:00<00:03, 46.09it/s, now=None]\u001b[A\n",
      "chunk:   6%|███▉                                                            | 25/408 [07:27<00:19, 19.28it/s, now=None]\u001b[A"
     ]
    },
    {
     "name": "stdout",
     "output_type": "stream",
     "text": [
      "MoviePy - Done.\n"
     ]
    },
    {
     "name": "stderr",
     "output_type": "stream",
     "text": [
      "chunk:   6%|███▉                                                            | 25/408 [07:27<00:19, 19.28it/s, now=None]\n",
      "chunk:   0%|                                                                         | 0/174 [00:00<?, ?it/s, now=None]\u001b[A\n",
      "chunk:  59%|████████████████████████████████████                         | 103/174 [00:00<00:00, 1022.51it/s, now=None]\u001b[A\n",
      "chunk:   6%|███▉                                                            | 25/408 [07:27<00:19, 19.28it/s, now=None]\u001b[A\n"
     ]
    },
    {
     "name": "stdout",
     "output_type": "stream",
     "text": [
      "MoviePy - Writing audio in ./data/audio/trial_lie_audio_012.wav\n",
      "MoviePy - Done.\n",
      "MoviePy - Writing audio in ./data/myprosody/dataset/audioFiles/trial_lie_audio_012.wav\n"
     ]
    },
    {
     "name": "stderr",
     "output_type": "stream",
     "text": [
      "chunk:   0%|                                                                         | 0/189 [00:00<?, ?it/s, now=None]\u001b[A\n",
      "chunk:   1%|▋                                                                | 2/189 [00:00<00:10, 17.29it/s, now=None]\u001b[A\n",
      "chunk:   6%|███▉                                                            | 25/408 [07:28<00:19, 19.28it/s, now=None]\u001b[A"
     ]
    },
    {
     "name": "stdout",
     "output_type": "stream",
     "text": [
      "MoviePy - Done.\n"
     ]
    },
    {
     "name": "stderr",
     "output_type": "stream",
     "text": [
      "chunk:   6%|███▉                                                            | 25/408 [07:28<00:19, 19.28it/s, now=None]\n",
      "chunk:   0%|                                                                         | 0/420 [00:00<?, ?it/s, now=None]\u001b[A\n",
      "chunk:  29%|█████████████████▊                                           | 123/420 [00:00<00:00, 1221.10it/s, now=None]\u001b[A"
     ]
    },
    {
     "name": "stdout",
     "output_type": "stream",
     "text": [
      "MoviePy - Writing audio in ./data/audio/trial_lie_audio_013.wav\n"
     ]
    },
    {
     "name": "stderr",
     "output_type": "stream",
     "text": [
      "\n",
      "chunk:  85%|███████████████████████████████████████████████████▊         | 357/420 [00:00<00:00, 1408.23it/s, now=None]\u001b[A\n",
      "chunk:   6%|███▉                                                            | 25/408 [07:28<00:19, 19.28it/s, now=None]\u001b[A\n",
      "chunk:   0%|                                                                         | 0/457 [00:00<?, ?it/s, now=None]\u001b[A\n",
      "chunk:   0%|▎                                                                | 2/457 [00:00<00:26, 17.14it/s, now=None]\u001b[A"
     ]
    },
    {
     "name": "stdout",
     "output_type": "stream",
     "text": [
      "MoviePy - Done.\n",
      "MoviePy - Writing audio in ./data/myprosody/dataset/audioFiles/trial_lie_audio_013.wav\n"
     ]
    },
    {
     "name": "stderr",
     "output_type": "stream",
     "text": [
      "\n",
      "chunk:  48%|██████████████████████████████▍                                | 221/457 [00:00<00:09, 24.40it/s, now=None]\u001b[A\n",
      "chunk: 100%|██████████████████████████████████████████████████████████████▊| 456/457 [00:00<00:00, 34.70it/s, now=None]\u001b[A\n",
      "chunk:   6%|███▉                                                            | 25/408 [07:29<00:19, 19.28it/s, now=None]\u001b[A"
     ]
    },
    {
     "name": "stdout",
     "output_type": "stream",
     "text": [
      "MoviePy - Done.\n"
     ]
    },
    {
     "name": "stderr",
     "output_type": "stream",
     "text": [
      "chunk:   6%|███▉                                                            | 25/408 [07:29<00:19, 19.28it/s, now=None]\n",
      "chunk:   0%|                                                                         | 0/306 [00:00<?, ?it/s, now=None]\u001b[A\n",
      "chunk:  45%|███████████████████████████▌                                 | 138/306 [00:00<00:00, 1369.48it/s, now=None]\u001b[A\n"
     ]
    },
    {
     "name": "stdout",
     "output_type": "stream",
     "text": [
      "MoviePy - Writing audio in ./data/audio/trial_lie_audio_014.wav\n"
     ]
    },
    {
     "name": "stderr",
     "output_type": "stream",
     "text": [
      "chunk:   6%|███▉                                                            | 25/408 [07:29<00:19, 19.28it/s, now=None]\u001b[A\n",
      "chunk:   0%|                                                                         | 0/333 [00:00<?, ?it/s, now=None]\u001b[A\n",
      "chunk:   1%|▍                                                                | 2/333 [00:00<00:17, 18.91it/s, now=None]\u001b[A"
     ]
    },
    {
     "name": "stdout",
     "output_type": "stream",
     "text": [
      "MoviePy - Done.\n",
      "MoviePy - Writing audio in ./data/myprosody/dataset/audioFiles/trial_lie_audio_014.wav\n"
     ]
    },
    {
     "name": "stderr",
     "output_type": "stream",
     "text": [
      "\n",
      "chunk:  74%|██████████████████████████████████████████████▌                | 246/333 [00:00<00:03, 26.93it/s, now=None]\u001b[A\n",
      "chunk:   6%|███▉                                                            | 25/408 [07:30<00:19, 19.28it/s, now=None]\u001b[A"
     ]
    },
    {
     "name": "stdout",
     "output_type": "stream",
     "text": [
      "MoviePy - Done.\n"
     ]
    },
    {
     "name": "stderr",
     "output_type": "stream",
     "text": [
      "chunk:   6%|███▉                                                            | 25/408 [07:30<00:19, 19.28it/s, now=None]\n",
      "chunk:   0%|                                                                         | 0/759 [00:00<?, ?it/s, now=None]\u001b[A\n",
      "chunk:  15%|████████▉                                                    | 111/759 [00:00<00:00, 1101.94it/s, now=None]\u001b[A"
     ]
    },
    {
     "name": "stdout",
     "output_type": "stream",
     "text": [
      "MoviePy - Writing audio in ./data/audio/trial_lie_audio_015.wav\n"
     ]
    },
    {
     "name": "stderr",
     "output_type": "stream",
     "text": [
      "\n",
      "chunk:  47%|████████████████████████████▋                                | 357/759 [00:00<00:00, 1312.80it/s, now=None]\u001b[A\n",
      "chunk:  81%|█████████████████████████████████████████████████▏           | 612/759 [00:00<00:00, 1532.98it/s, now=None]\u001b[A\n",
      "chunk:   6%|███▉                                                            | 25/408 [07:30<00:19, 19.28it/s, now=None]\u001b[A\n",
      "chunk:   0%|                                                                         | 0/826 [00:00<?, ?it/s, now=None]\u001b[A\n",
      "chunk:   0%|▏                                                                | 2/826 [00:00<00:41, 19.85it/s, now=None]\u001b[A"
     ]
    },
    {
     "name": "stdout",
     "output_type": "stream",
     "text": [
      "MoviePy - Done.\n",
      "MoviePy - Writing audio in ./data/myprosody/dataset/audioFiles/trial_lie_audio_015.wav\n"
     ]
    },
    {
     "name": "stderr",
     "output_type": "stream",
     "text": [
      "\n",
      "chunk:  29%|██████████████████▏                                            | 238/826 [00:00<00:20, 28.26it/s, now=None]\u001b[A\n",
      "chunk:  57%|███████████████████████████████████▋                           | 468/826 [00:00<00:08, 40.16it/s, now=None]\u001b[A\n",
      "chunk:  86%|██████████████████████████████████████████████████████▍        | 713/826 [00:00<00:01, 56.97it/s, now=None]\u001b[A\n",
      "chunk:   6%|███▉                                                            | 25/408 [07:31<00:19, 19.28it/s, now=None]\u001b[A"
     ]
    },
    {
     "name": "stdout",
     "output_type": "stream",
     "text": [
      "MoviePy - Done.\n"
     ]
    },
    {
     "name": "stderr",
     "output_type": "stream",
     "text": [
      "chunk:   6%|███▉                                                            | 25/408 [07:31<00:19, 19.28it/s, now=None]\n",
      "chunk:   0%|                                                                         | 0/815 [00:00<?, ?it/s, now=None]\u001b[A\n",
      "chunk:  15%|█████████                                                    | 121/815 [00:00<00:00, 1200.09it/s, now=None]\u001b[A"
     ]
    },
    {
     "name": "stdout",
     "output_type": "stream",
     "text": [
      "MoviePy - Writing audio in ./data/audio/trial_lie_audio_016.wav\n"
     ]
    },
    {
     "name": "stderr",
     "output_type": "stream",
     "text": [
      "\n",
      "chunk:  46%|███████████████████████████▊                                 | 372/815 [00:00<00:00, 1421.09it/s, now=None]\u001b[A\n",
      "chunk:  76%|██████████████████████████████████████████████▍              | 620/815 [00:00<00:00, 1627.51it/s, now=None]\u001b[A\n",
      "chunk:   6%|███▉                                                            | 25/408 [07:32<00:19, 19.28it/s, now=None]\u001b[A\n",
      "chunk:   0%|                                                                         | 0/888 [00:00<?, ?it/s, now=None]\u001b[A\n",
      "chunk:   3%|█▊                                                             | 25/888 [00:00<00:03, 248.19it/s, now=None]\u001b[A"
     ]
    },
    {
     "name": "stdout",
     "output_type": "stream",
     "text": [
      "MoviePy - Done.\n",
      "MoviePy - Writing audio in ./data/myprosody/dataset/audioFiles/trial_lie_audio_016.wav\n"
     ]
    },
    {
     "name": "stderr",
     "output_type": "stream",
     "text": [
      "\n",
      "chunk:  31%|███████████████████                                           | 273/888 [00:00<00:01, 339.88it/s, now=None]\u001b[A\n",
      "chunk:  56%|██████████████████████████████████▋                           | 497/888 [00:00<00:00, 455.69it/s, now=None]\u001b[A\n",
      "chunk:  83%|███████████████████████████████████████████████████▌          | 738/888 [00:00<00:00, 601.86it/s, now=None]\u001b[A\n",
      "chunk:   6%|███▉                                                            | 25/408 [07:32<00:19, 19.28it/s, now=None]\u001b[A"
     ]
    },
    {
     "name": "stdout",
     "output_type": "stream",
     "text": [
      "MoviePy - Done.\n"
     ]
    },
    {
     "name": "stderr",
     "output_type": "stream",
     "text": [
      "chunk:   6%|███▉                                                            | 25/408 [07:33<00:19, 19.28it/s, now=None]\n",
      "chunk:   0%|                                                                         | 0/968 [00:00<?, ?it/s, now=None]\u001b[A\n",
      "chunk:  11%|██████▌                                                       | 102/968 [00:00<00:00, 964.84it/s, now=None]\u001b[A"
     ]
    },
    {
     "name": "stdout",
     "output_type": "stream",
     "text": [
      "MoviePy - Writing audio in ./data/audio/trial_lie_audio_017.wav\n"
     ]
    },
    {
     "name": "stderr",
     "output_type": "stream",
     "text": [
      "\n",
      "chunk:  37%|██████████████████████▍                                      | 357/968 [00:00<00:00, 1171.70it/s, now=None]\u001b[A\n",
      "chunk:  63%|██████████████████████████████████████▌                      | 612/968 [00:00<00:00, 1383.17it/s, now=None]\u001b[A\n",
      "chunk:  90%|██████████████████████████████████████████████████████▋      | 867/968 [00:00<00:00, 1583.20it/s, now=None]\u001b[A\n",
      "chunk:   6%|███▉                                                            | 25/408 [07:33<00:19, 19.28it/s, now=None]\u001b[A\n",
      "chunk:   0%|                                                                        | 0/1054 [00:00<?, ?it/s, now=None]\u001b[A\n",
      "chunk:   0%|                                                                | 2/1054 [00:00<01:00, 17.44it/s, now=None]\u001b[A"
     ]
    },
    {
     "name": "stdout",
     "output_type": "stream",
     "text": [
      "MoviePy - Done.\n",
      "MoviePy - Writing audio in ./data/myprosody/dataset/audioFiles/trial_lie_audio_017.wav\n"
     ]
    },
    {
     "name": "stderr",
     "output_type": "stream",
     "text": [
      "\n",
      "chunk:  21%|████████████▉                                                 | 220/1054 [00:00<00:33, 24.82it/s, now=None]\u001b[A\n",
      "chunk:  44%|███████████████████████████▍                                  | 466/1054 [00:00<00:16, 35.31it/s, now=None]\u001b[A\n",
      "chunk:  67%|█████████████████████████████████████████▊                    | 711/1054 [00:00<00:06, 50.13it/s, now=None]\u001b[A\n",
      "chunk:  89%|███████████████████████████████████████████████████████▏      | 938/1054 [00:00<00:01, 70.94it/s, now=None]\u001b[A\n",
      "chunk:   6%|███▉                                                            | 25/408 [07:34<00:19, 19.28it/s, now=None]\u001b[A"
     ]
    },
    {
     "name": "stdout",
     "output_type": "stream",
     "text": [
      "MoviePy - Done.\n"
     ]
    },
    {
     "name": "stderr",
     "output_type": "stream",
     "text": [
      "chunk:   6%|███▉                                                            | 25/408 [07:34<00:19, 19.28it/s, now=None]\n",
      "chunk:   0%|                                                                         | 0/762 [00:00<?, ?it/s, now=None]\u001b[A\n",
      "chunk:  13%|████████▎                                                     | 102/762 [00:00<00:00, 992.95it/s, now=None]\u001b[A"
     ]
    },
    {
     "name": "stdout",
     "output_type": "stream",
     "text": [
      "MoviePy - Writing audio in ./data/audio/trial_lie_audio_018.wav\n"
     ]
    },
    {
     "name": "stderr",
     "output_type": "stream",
     "text": [
      "\n",
      "chunk:  33%|████████████████████▍                                        | 255/762 [00:00<00:00, 1082.17it/s, now=None]\u001b[A\n",
      "chunk:  67%|████████████████████████████████████████▊                    | 510/762 [00:00<00:00, 1294.45it/s, now=None]\u001b[A\n",
      "chunk:   6%|███▉                                                            | 25/408 [07:35<00:19, 19.28it/s, now=None]\u001b[A\n",
      "chunk:   0%|                                                                         | 0/830 [00:00<?, ?it/s, now=None]\u001b[A\n",
      "chunk:   1%|▉                                                              | 12/830 [00:00<00:06, 119.13it/s, now=None]\u001b[A"
     ]
    },
    {
     "name": "stdout",
     "output_type": "stream",
     "text": [
      "MoviePy - Done.\n",
      "MoviePy - Writing audio in ./data/myprosody/dataset/audioFiles/trial_lie_audio_018.wav\n"
     ]
    },
    {
     "name": "stderr",
     "output_type": "stream",
     "text": [
      "\n",
      "chunk:  31%|███████████████████                                           | 256/830 [00:00<00:03, 166.67it/s, now=None]\u001b[A\n",
      "chunk:  60%|████████████████████████████████████▉                         | 495/830 [00:00<00:01, 230.74it/s, now=None]\u001b[A\n",
      "chunk:  88%|██████████████████████████████████████████████████████▍       | 728/830 [00:00<00:00, 316.12it/s, now=None]\u001b[A\n",
      "chunk:   6%|███▉                                                            | 25/408 [07:35<00:19, 19.28it/s, now=None]\u001b[A"
     ]
    },
    {
     "name": "stdout",
     "output_type": "stream",
     "text": [
      "MoviePy - Done.\n"
     ]
    },
    {
     "name": "stderr",
     "output_type": "stream",
     "text": [
      "chunk:   6%|███▉                                                            | 25/408 [07:36<00:19, 19.28it/s, now=None]\n",
      "chunk:   0%|                                                                         | 0/811 [00:00<?, ?it/s, now=None]\u001b[A\n",
      "chunk:  13%|███████▉                                                     | 106/811 [00:00<00:00, 1052.33it/s, now=None]\u001b[A"
     ]
    },
    {
     "name": "stdout",
     "output_type": "stream",
     "text": [
      "MoviePy - Writing audio in ./data/audio/trial_lie_audio_019.wav\n"
     ]
    },
    {
     "name": "stderr",
     "output_type": "stream",
     "text": [
      "\n",
      "chunk:  17%|██████████▊                                                   | 141/811 [00:00<00:01, 345.20it/s, now=None]\u001b[A\n",
      "chunk:  45%|████████████████████████████▏                                 | 369/811 [00:00<00:00, 462.89it/s, now=None]\u001b[A\n",
      "chunk:  75%|██████████████████████████████████████████████▊               | 612/811 [00:00<00:00, 609.16it/s, now=None]\u001b[A\n",
      "chunk:   6%|███▉                                                            | 25/408 [07:36<00:19, 19.28it/s, now=None]\u001b[A\n",
      "chunk:   0%|                                                                         | 0/883 [00:00<?, ?it/s, now=None]\u001b[A\n",
      "chunk:   0%|▎                                                                | 4/883 [00:00<00:22, 39.71it/s, now=None]\u001b[A"
     ]
    },
    {
     "name": "stdout",
     "output_type": "stream",
     "text": [
      "MoviePy - Done.\n",
      "MoviePy - Writing audio in ./data/myprosody/dataset/audioFiles/trial_lie_audio_019.wav\n"
     ]
    },
    {
     "name": "stderr",
     "output_type": "stream",
     "text": [
      "\n",
      "chunk:  27%|████████████████▋                                              | 234/883 [00:00<00:11, 56.30it/s, now=None]\u001b[A\n",
      "chunk:  54%|██████████████████████████████████                             | 478/883 [00:00<00:05, 79.63it/s, now=None]\u001b[A\n",
      "chunk:  81%|██████████████████████████████████████████████████▏           | 715/883 [00:00<00:01, 112.07it/s, now=None]\u001b[A\n",
      "chunk:   6%|███▉                                                            | 25/408 [07:37<00:19, 19.28it/s, now=None]\u001b[A"
     ]
    },
    {
     "name": "stdout",
     "output_type": "stream",
     "text": [
      "MoviePy - Done.\n"
     ]
    },
    {
     "name": "stderr",
     "output_type": "stream",
     "text": [
      "chunk:   6%|███▉                                                            | 25/408 [07:37<00:19, 19.28it/s, now=None]\n",
      "chunk:   0%|                                                                         | 0/247 [00:00<?, ?it/s, now=None]\u001b[A\n",
      "chunk:  46%|████████████████████████████▏                                | 114/247 [00:00<00:00, 1130.87it/s, now=None]\u001b[A\n",
      "chunk:   6%|███▉                                                            | 25/408 [07:37<00:19, 19.28it/s, now=None]\u001b[A\n"
     ]
    },
    {
     "name": "stdout",
     "output_type": "stream",
     "text": [
      "MoviePy - Writing audio in ./data/audio/trial_lie_audio_020.wav\n",
      "MoviePy - Done.\n",
      "MoviePy - Writing audio in ./data/myprosody/dataset/audioFiles/trial_lie_audio_020.wav\n"
     ]
    },
    {
     "name": "stderr",
     "output_type": "stream",
     "text": [
      "chunk:   0%|                                                                         | 0/268 [00:00<?, ?it/s, now=None]\u001b[A\n",
      "chunk:   1%|▍                                                                | 2/268 [00:00<00:14, 18.57it/s, now=None]\u001b[A\n",
      "chunk:  88%|███████████████████████████████████████████████████████▋       | 237/268 [00:00<00:01, 26.44it/s, now=None]\u001b[A\n",
      "chunk:   6%|███▉                                                            | 25/408 [07:38<00:19, 19.28it/s, now=None]\u001b[A"
     ]
    },
    {
     "name": "stdout",
     "output_type": "stream",
     "text": [
      "MoviePy - Done.\n"
     ]
    },
    {
     "name": "stderr",
     "output_type": "stream",
     "text": [
      "chunk:   6%|███▉                                                            | 25/408 [07:38<00:19, 19.28it/s, now=None]\n",
      "chunk:   0%|                                                                         | 0/402 [00:00<?, ?it/s, now=None]\u001b[A\n",
      "chunk:  28%|█████████████████▏                                           | 113/402 [00:00<00:00, 1121.12it/s, now=None]\u001b[A"
     ]
    },
    {
     "name": "stdout",
     "output_type": "stream",
     "text": [
      "MoviePy - Writing audio in ./data/audio/trial_lie_audio_021.wav\n"
     ]
    },
    {
     "name": "stderr",
     "output_type": "stream",
     "text": [
      "\n",
      "chunk:  81%|█████████████████████████████████████████████████▌           | 327/402 [00:00<00:00, 1306.19it/s, now=None]\u001b[A\n",
      "chunk:   6%|███▉                                                            | 25/408 [07:38<00:19, 19.28it/s, now=None]\u001b[A\n",
      "chunk:   0%|                                                                         | 0/437 [00:00<?, ?it/s, now=None]\u001b[A\n",
      "chunk:   0%|▎                                                                | 2/437 [00:00<00:21, 19.86it/s, now=None]\u001b[A"
     ]
    },
    {
     "name": "stdout",
     "output_type": "stream",
     "text": [
      "MoviePy - Done.\n",
      "MoviePy - Writing audio in ./data/myprosody/dataset/audioFiles/trial_lie_audio_021.wav\n"
     ]
    },
    {
     "name": "stderr",
     "output_type": "stream",
     "text": [
      "\n",
      "chunk:  55%|██████████████████████████████████▋                            | 241/437 [00:00<00:06, 28.26it/s, now=None]\u001b[A\n",
      "chunk:   6%|███▉                                                            | 25/408 [07:39<00:19, 19.28it/s, now=None]\u001b[A"
     ]
    },
    {
     "name": "stdout",
     "output_type": "stream",
     "text": [
      "MoviePy - Done.\n"
     ]
    },
    {
     "name": "stderr",
     "output_type": "stream",
     "text": [
      "chunk:   6%|███▉                                                            | 25/408 [07:39<00:19, 19.28it/s, now=None]\n",
      "chunk:   0%|                                                                         | 0/916 [00:00<?, ?it/s, now=None]\u001b[A\n",
      "chunk:  15%|████████▉                                                    | 135/916 [00:00<00:00, 1338.75it/s, now=None]\u001b[A"
     ]
    },
    {
     "name": "stdout",
     "output_type": "stream",
     "text": [
      "MoviePy - Writing audio in ./data/audio/trial_lie_audio_022.wav\n"
     ]
    },
    {
     "name": "stderr",
     "output_type": "stream",
     "text": [
      "\n",
      "chunk:  39%|███████████████████████▉                                     | 359/916 [00:00<00:00, 1520.25it/s, now=None]\u001b[A\n",
      "chunk:  67%|████████████████████████████████████████▊                    | 612/916 [00:00<00:00, 1710.30it/s, now=None]\u001b[A\n",
      "chunk:  95%|█████████████████████████████████████████████████████████▋   | 867/916 [00:00<00:00, 1874.09it/s, now=None]\u001b[A\n",
      "chunk:   6%|███▉                                                            | 25/408 [07:39<00:19, 19.28it/s, now=None]\u001b[A\n",
      "chunk:   0%|                                                                         | 0/997 [00:00<?, ?it/s, now=None]\u001b[A\n",
      "chunk:   1%|▉                                                              | 14/997 [00:00<00:07, 138.96it/s, now=None]\u001b[A"
     ]
    },
    {
     "name": "stdout",
     "output_type": "stream",
     "text": [
      "MoviePy - Done.\n",
      "MoviePy - Writing audio in ./data/myprosody/dataset/audioFiles/trial_lie_audio_022.wav\n"
     ]
    },
    {
     "name": "stderr",
     "output_type": "stream",
     "text": [
      "\n",
      "chunk:  26%|████████████████▎                                             | 262/997 [00:00<00:03, 193.82it/s, now=None]\u001b[A\n",
      "chunk:  50%|██████████████████████████████▊                               | 495/997 [00:00<00:01, 267.11it/s, now=None]\u001b[A\n",
      "chunk:  74%|█████████████████████████████████████████████▋                | 734/997 [00:00<00:00, 364.02it/s, now=None]\u001b[A\n",
      "chunk:  98%|████████████████████████████████████████████████████████████▉ | 979/997 [00:00<00:00, 488.68it/s, now=None]\u001b[A\n",
      "chunk:   6%|███▉                                                            | 25/408 [07:40<00:19, 19.28it/s, now=None]\u001b[A"
     ]
    },
    {
     "name": "stdout",
     "output_type": "stream",
     "text": [
      "MoviePy - Done.\n"
     ]
    },
    {
     "name": "stderr",
     "output_type": "stream",
     "text": [
      "chunk:   6%|███▉                                                            | 25/408 [07:41<00:19, 19.28it/s, now=None]\n",
      "chunk:   0%|                                                                         | 0/955 [00:00<?, ?it/s, now=None]\u001b[A\n",
      "chunk:  12%|███████▎                                                     | 114/955 [00:00<00:00, 1131.35it/s, now=None]\u001b[A"
     ]
    },
    {
     "name": "stdout",
     "output_type": "stream",
     "text": [
      "MoviePy - Writing audio in ./data/audio/trial_lie_audio_023.wav\n"
     ]
    },
    {
     "name": "stderr",
     "output_type": "stream",
     "text": [
      "\n",
      "chunk:  37%|██████████████████████▋                                      | 355/955 [00:00<00:00, 1332.71it/s, now=None]\u001b[A\n",
      "chunk:  64%|██████████████████████████████████████▊                      | 607/955 [00:00<00:00, 1533.07it/s, now=None]\u001b[A\n",
      "chunk:  90%|██████████████████████████████████████████████████████▉      | 860/955 [00:00<00:00, 1725.40it/s, now=None]\u001b[A\n",
      "chunk:   6%|███▉                                                            | 25/408 [07:41<00:19, 19.28it/s, now=None]\u001b[A\n",
      "chunk:   0%|                                                                        | 0/1040 [00:00<?, ?it/s, now=None]\u001b[A\n",
      "chunk:   0%|                                                                | 2/1040 [00:00<01:05, 15.91it/s, now=None]\u001b[A"
     ]
    },
    {
     "name": "stdout",
     "output_type": "stream",
     "text": [
      "MoviePy - Done.\n",
      "MoviePy - Writing audio in ./data/myprosody/dataset/audioFiles/trial_lie_audio_023.wav\n"
     ]
    },
    {
     "name": "stderr",
     "output_type": "stream",
     "text": [
      "\n",
      "chunk:  24%|██████████████▊                                               | 249/1040 [00:00<00:34, 22.67it/s, now=None]\u001b[A\n",
      "chunk:  48%|█████████████████████████████▍                                | 494/1040 [00:00<00:16, 32.25it/s, now=None]\u001b[A\n",
      "chunk:  69%|██████████████████████████████████████████▋                   | 715/1040 [00:00<00:07, 45.78it/s, now=None]\u001b[A\n",
      "chunk:  92%|█████████████████████████████████████████████████████████▏    | 959/1040 [00:00<00:01, 64.88it/s, now=None]\u001b[A\n",
      "chunk:   6%|███▉                                                            | 25/408 [07:42<00:19, 19.28it/s, now=None]\u001b[A"
     ]
    },
    {
     "name": "stdout",
     "output_type": "stream",
     "text": [
      "MoviePy - Done.\n"
     ]
    },
    {
     "name": "stderr",
     "output_type": "stream",
     "text": [
      "chunk:   6%|███▉                                                            | 25/408 [07:42<00:19, 19.28it/s, now=None]\n",
      "chunk:   0%|                                                                         | 0/544 [00:00<?, ?it/s, now=None]\u001b[A\n",
      "chunk:  22%|█████████████▍                                               | 120/544 [00:00<00:00, 1191.31it/s, now=None]\u001b[A"
     ]
    },
    {
     "name": "stdout",
     "output_type": "stream",
     "text": [
      "MoviePy - Writing audio in ./data/audio/trial_lie_audio_024.wav\n"
     ]
    },
    {
     "name": "stderr",
     "output_type": "stream",
     "text": [
      "\n",
      "chunk:  66%|████████████████████████████████████████                     | 357/544 [00:00<00:00, 1378.72it/s, now=None]\u001b[A\n",
      "chunk:   6%|███▉                                                            | 25/408 [07:42<00:19, 19.28it/s, now=None]\u001b[A\n",
      "chunk:   0%|                                                                         | 0/592 [00:00<?, ?it/s, now=None]\u001b[A\n",
      "chunk:   2%|▉                                                                | 9/592 [00:00<00:06, 89.35it/s, now=None]\u001b[A"
     ]
    },
    {
     "name": "stdout",
     "output_type": "stream",
     "text": [
      "MoviePy - Done.\n",
      "MoviePy - Writing audio in ./data/myprosody/dataset/audioFiles/trial_lie_audio_024.wav\n"
     ]
    },
    {
     "name": "stderr",
     "output_type": "stream",
     "text": [
      "\n",
      "chunk:  44%|███████████████████████████▌                                  | 263/592 [00:00<00:02, 125.73it/s, now=None]\u001b[A\n",
      "chunk:  84%|███████████████████████████████████████████████████▊          | 495/592 [00:00<00:00, 175.31it/s, now=None]\u001b[A\n",
      "chunk:   6%|███▉                                                            | 25/408 [07:43<00:19, 19.28it/s, now=None]\u001b[A"
     ]
    },
    {
     "name": "stdout",
     "output_type": "stream",
     "text": [
      "MoviePy - Done.\n"
     ]
    },
    {
     "name": "stderr",
     "output_type": "stream",
     "text": [
      "chunk:   6%|███▉                                                            | 25/408 [07:43<00:19, 19.28it/s, now=None]\n",
      "chunk:   0%|                                                                         | 0/651 [00:00<?, ?it/s, now=None]\u001b[A\n",
      "chunk:  20%|███████████▉                                                 | 127/651 [00:00<00:00, 1260.20it/s, now=None]\u001b[A"
     ]
    },
    {
     "name": "stdout",
     "output_type": "stream",
     "text": [
      "MoviePy - Writing audio in ./data/audio/trial_lie_audio_025.wav\n"
     ]
    },
    {
     "name": "stderr",
     "output_type": "stream",
     "text": [
      "\n",
      "chunk:  55%|█████████████████████████████████▊                           | 361/651 [00:00<00:00, 1460.68it/s, now=None]\u001b[A\n",
      "chunk:  94%|█████████████████████████████████████████████████████████▎   | 612/651 [00:00<00:00, 1651.03it/s, now=None]\u001b[A\n",
      "chunk:   6%|███▉                                                            | 25/408 [07:43<00:19, 19.28it/s, now=None]\u001b[A\n",
      "chunk:   0%|                                                                         | 0/708 [00:00<?, ?it/s, now=None]\u001b[A\n",
      "chunk:   2%|█▌                                                             | 17/708 [00:00<00:04, 168.69it/s, now=None]\u001b[A"
     ]
    },
    {
     "name": "stdout",
     "output_type": "stream",
     "text": [
      "MoviePy - Done.\n",
      "MoviePy - Writing audio in ./data/myprosody/dataset/audioFiles/trial_lie_audio_025.wav\n"
     ]
    },
    {
     "name": "stderr",
     "output_type": "stream",
     "text": [
      "\n",
      "chunk:  37%|██████████████████████▉                                       | 262/708 [00:00<00:01, 234.03it/s, now=None]\u001b[A\n",
      "chunk:  70%|███████████████████████████████████████████▎                  | 495/708 [00:00<00:00, 319.90it/s, now=None]\u001b[A\n",
      "chunk:   6%|███▉                                                            | 25/408 [07:44<00:19, 19.28it/s, now=None]\u001b[A"
     ]
    },
    {
     "name": "stdout",
     "output_type": "stream",
     "text": [
      "MoviePy - Done.\n"
     ]
    },
    {
     "name": "stderr",
     "output_type": "stream",
     "text": [
      "chunk:   6%|███▉                                                            | 25/408 [07:44<00:19, 19.28it/s, now=None]\n",
      "chunk:   0%|                                                                         | 0/629 [00:00<?, ?it/s, now=None]\u001b[A\n",
      "chunk:  21%|████████████▊                                                | 132/629 [00:00<00:00, 1310.43it/s, now=None]\u001b[A"
     ]
    },
    {
     "name": "stdout",
     "output_type": "stream",
     "text": [
      "MoviePy - Writing audio in ./data/audio/trial_lie_audio_026.wav\n"
     ]
    },
    {
     "name": "stderr",
     "output_type": "stream",
     "text": [
      "\n",
      "chunk:  49%|█████████████████████████████▋                               | 306/629 [00:00<00:00, 1374.89it/s, now=None]\u001b[A\n",
      "chunk:  89%|██████████████████████████████████████████████████████▍      | 561/629 [00:00<00:00, 1575.49it/s, now=None]\u001b[A\n",
      "chunk:   6%|███▉                                                            | 25/408 [07:45<00:19, 19.28it/s, now=None]\u001b[A\n",
      "chunk:   0%|                                                                         | 0/685 [00:00<?, ?it/s, now=None]\u001b[A\n",
      "chunk:   0%|▏                                                                | 2/685 [00:00<00:36, 18.57it/s, now=None]\u001b[A"
     ]
    },
    {
     "name": "stdout",
     "output_type": "stream",
     "text": [
      "MoviePy - Done.\n",
      "MoviePy - Writing audio in ./data/myprosody/dataset/audioFiles/trial_lie_audio_026.wav\n"
     ]
    },
    {
     "name": "stderr",
     "output_type": "stream",
     "text": [
      "\n",
      "chunk:  32%|████████████████████▏                                          | 220/685 [00:00<00:17, 26.42it/s, now=None]\u001b[A\n",
      "chunk:  68%|██████████████████████████████████████████▊                    | 466/685 [00:00<00:05, 37.57it/s, now=None]\u001b[A\n",
      "chunk: 100%|██████████████████████████████████████████████████████████████▊| 683/685 [00:00<00:00, 53.28it/s, now=None]\u001b[A\n",
      "chunk:   6%|███▉                                                            | 25/408 [07:45<00:19, 19.28it/s, now=None]\u001b[A"
     ]
    },
    {
     "name": "stdout",
     "output_type": "stream",
     "text": [
      "MoviePy - Done.\n"
     ]
    },
    {
     "name": "stderr",
     "output_type": "stream",
     "text": [
      "chunk:   6%|███▉                                                            | 25/408 [07:45<00:19, 19.28it/s, now=None]\n",
      "chunk:   0%|                                                                         | 0/595 [00:00<?, ?it/s, now=None]\u001b[A\n",
      "chunk:  21%|████████████▌                                                | 123/595 [00:00<00:00, 1221.11it/s, now=None]\u001b[A"
     ]
    },
    {
     "name": "stdout",
     "output_type": "stream",
     "text": [
      "MoviePy - Writing audio in ./data/audio/trial_lie_audio_027.wav\n"
     ]
    },
    {
     "name": "stderr",
     "output_type": "stream",
     "text": [
      "\n",
      "chunk:  60%|████████████████████████████████████▌                        | 357/595 [00:00<00:00, 1418.54it/s, now=None]\u001b[A\n",
      "chunk:   6%|███▉                                                            | 25/408 [07:46<00:19, 19.28it/s, now=None]\u001b[A\n",
      "chunk:   0%|                                                                         | 0/648 [00:00<?, ?it/s, now=None]\u001b[A\n",
      "chunk:   2%|█▍                                                             | 15/648 [00:00<00:04, 148.84it/s, now=None]\u001b[A"
     ]
    },
    {
     "name": "stdout",
     "output_type": "stream",
     "text": [
      "MoviePy - Done.\n",
      "MoviePy - Writing audio in ./data/myprosody/dataset/audioFiles/trial_lie_audio_027.wav\n"
     ]
    },
    {
     "name": "stderr",
     "output_type": "stream",
     "text": [
      "\n",
      "chunk:  40%|█████████████████████████                                     | 262/648 [00:00<00:01, 207.24it/s, now=None]\u001b[A\n",
      "chunk:  76%|███████████████████████████████████████████████▎              | 495/648 [00:00<00:00, 284.47it/s, now=None]\u001b[A\n",
      "chunk:   6%|███▉                                                            | 25/408 [07:46<00:19, 19.28it/s, now=None]\u001b[A"
     ]
    },
    {
     "name": "stdout",
     "output_type": "stream",
     "text": [
      "MoviePy - Done.\n"
     ]
    },
    {
     "name": "stderr",
     "output_type": "stream",
     "text": [
      "chunk:   6%|███▉                                                            | 25/408 [07:47<00:19, 19.28it/s, now=None]\n",
      "chunk:   0%|                                                                         | 0/535 [00:00<?, ?it/s, now=None]\u001b[A\n",
      "chunk:  25%|███████████████▍                                             | 135/535 [00:00<00:00, 1340.25it/s, now=None]\u001b[A"
     ]
    },
    {
     "name": "stdout",
     "output_type": "stream",
     "text": [
      "MoviePy - Writing audio in ./data/audio/trial_lie_audio_028.wav\n"
     ]
    },
    {
     "name": "stderr",
     "output_type": "stream",
     "text": [
      "\n",
      "chunk:  67%|████████████████████████████████████████▋                    | 357/535 [00:00<00:00, 1509.42it/s, now=None]\u001b[A\n",
      "chunk:   6%|███▉                                                            | 25/408 [07:47<00:19, 19.28it/s, now=None]\u001b[A\n",
      "chunk:   0%|                                                                         | 0/583 [00:00<?, ?it/s, now=None]\u001b[A\n",
      "chunk:   2%|█▌                                                             | 14/583 [00:00<00:04, 138.99it/s, now=None]\u001b[A"
     ]
    },
    {
     "name": "stdout",
     "output_type": "stream",
     "text": [
      "MoviePy - Done.\n",
      "MoviePy - Writing audio in ./data/myprosody/dataset/audioFiles/trial_lie_audio_028.wav\n"
     ]
    },
    {
     "name": "stderr",
     "output_type": "stream",
     "text": [
      "\n",
      "chunk:  45%|███████████████████████████▋                                  | 260/583 [00:00<00:01, 193.82it/s, now=None]\u001b[A\n",
      "chunk:  85%|████████████████████████████████████████████████████▋         | 496/583 [00:00<00:00, 267.04it/s, now=None]\u001b[A\n",
      "chunk:   6%|███▉                                                            | 25/408 [07:47<00:19, 19.28it/s, now=None]\u001b[A"
     ]
    },
    {
     "name": "stdout",
     "output_type": "stream",
     "text": [
      "MoviePy - Done.\n"
     ]
    },
    {
     "name": "stderr",
     "output_type": "stream",
     "text": [
      "chunk:   6%|███▉                                                            | 25/408 [07:48<00:19, 19.28it/s, now=None]\n",
      "chunk:   0%|                                                                         | 0/435 [00:00<?, ?it/s, now=None]\u001b[A\n",
      "chunk:  16%|██████████▎                                                    | 71/435 [00:00<00:00, 704.22it/s, now=None]\u001b[A"
     ]
    },
    {
     "name": "stdout",
     "output_type": "stream",
     "text": [
      "MoviePy - Writing audio in ./data/audio/trial_lie_audio_029.wav\n"
     ]
    },
    {
     "name": "stderr",
     "output_type": "stream",
     "text": [
      "\n",
      "chunk:  71%|███████████████████████████████████████████▉                  | 308/435 [00:00<00:00, 891.64it/s, now=None]\u001b[A\n",
      "chunk:   6%|███▉                                                            | 25/408 [07:48<00:19, 19.28it/s, now=None]\u001b[A\n",
      "chunk:   0%|                                                                         | 0/474 [00:00<?, ?it/s, now=None]\u001b[A\n",
      "chunk:   0%|▎                                                                | 2/474 [00:00<00:31, 15.07it/s, now=None]\u001b[A"
     ]
    },
    {
     "name": "stdout",
     "output_type": "stream",
     "text": [
      "MoviePy - Done.\n",
      "MoviePy - Writing audio in ./data/myprosody/dataset/audioFiles/trial_lie_audio_029.wav\n"
     ]
    },
    {
     "name": "stderr",
     "output_type": "stream",
     "text": [
      "\n",
      "chunk:  51%|████████████████████████████████▍                              | 244/474 [00:00<00:10, 21.48it/s, now=None]\u001b[A\n",
      "chunk:  96%|████████████████████████████████████████████████████████████▏  | 453/474 [00:00<00:00, 30.54it/s, now=None]\u001b[A\n",
      "chunk:   6%|███▉                                                            | 25/408 [07:48<00:19, 19.28it/s, now=None]\u001b[A"
     ]
    },
    {
     "name": "stdout",
     "output_type": "stream",
     "text": [
      "MoviePy - Done.\n"
     ]
    },
    {
     "name": "stderr",
     "output_type": "stream",
     "text": [
      "chunk:   6%|███▉                                                            | 25/408 [07:49<00:19, 19.28it/s, now=None]\n",
      "chunk:   0%|                                                                         | 0/834 [00:00<?, ?it/s, now=None]\u001b[A\n",
      "chunk:  13%|███████▉                                                     | 109/834 [00:00<00:00, 1086.09it/s, now=None]\u001b[A"
     ]
    },
    {
     "name": "stdout",
     "output_type": "stream",
     "text": [
      "MoviePy - Writing audio in ./data/audio/trial_lie_audio_030.wav\n"
     ]
    },
    {
     "name": "stderr",
     "output_type": "stream",
     "text": [
      "\n",
      "chunk:  43%|██████████████████████████                                   | 357/834 [00:00<00:00, 1298.55it/s, now=None]\u001b[A\n",
      "chunk:  73%|████████████████████████████████████████████▊                | 612/834 [00:00<00:00, 1506.96it/s, now=None]\u001b[A\n",
      "chunk:   6%|███▉                                                            | 25/408 [07:49<00:19, 19.28it/s, now=None]\u001b[A\n",
      "chunk:   0%|                                                                         | 0/907 [00:00<?, ?it/s, now=None]\u001b[A\n",
      "chunk:   0%|▏                                                                | 2/907 [00:00<00:45, 19.86it/s, now=None]\u001b[A"
     ]
    },
    {
     "name": "stdout",
     "output_type": "stream",
     "text": [
      "MoviePy - Done.\n",
      "MoviePy - Writing audio in ./data/myprosody/dataset/audioFiles/trial_lie_audio_030.wav\n"
     ]
    },
    {
     "name": "stderr",
     "output_type": "stream",
     "text": [
      "\n",
      "chunk:  26%|████████████████                                               | 232/907 [00:00<00:23, 28.26it/s, now=None]\u001b[A\n",
      "chunk:  49%|██████████████████████████████▊                                | 443/907 [00:00<00:11, 40.14it/s, now=None]\u001b[A\n",
      "chunk:  73%|█████████████████████████████████████████████▊                 | 660/907 [00:00<00:04, 56.88it/s, now=None]\u001b[A\n",
      "chunk:  99%|██████████████████████████████████████████████████████████████▋| 902/907 [00:00<00:00, 80.44it/s, now=None]\u001b[A\n",
      "chunk:   6%|███▉                                                            | 25/408 [07:50<00:19, 19.28it/s, now=None]\u001b[A"
     ]
    },
    {
     "name": "stdout",
     "output_type": "stream",
     "text": [
      "MoviePy - Done.\n"
     ]
    },
    {
     "name": "stderr",
     "output_type": "stream",
     "text": [
      "chunk:   6%|███▉                                                            | 25/408 [07:50<00:19, 19.28it/s, now=None]\n",
      "chunk:   0%|                                                                         | 0/572 [00:00<?, ?it/s, now=None]\u001b[A\n",
      "chunk:  22%|█████████████▎                                               | 125/572 [00:00<00:00, 1240.50it/s, now=None]\u001b[A"
     ]
    },
    {
     "name": "stdout",
     "output_type": "stream",
     "text": [
      "MoviePy - Writing audio in ./data/audio/trial_lie_audio_031.wav\n"
     ]
    },
    {
     "name": "stderr",
     "output_type": "stream",
     "text": [
      "\n",
      "chunk:  62%|██████████████████████████████████████                       | 357/572 [00:00<00:00, 1434.42it/s, now=None]\u001b[A\n",
      "chunk:   6%|███▉                                                            | 25/408 [07:51<00:19, 19.28it/s, now=None]\u001b[A\n",
      "chunk:   0%|                                                                         | 0/623 [00:00<?, ?it/s, now=None]\u001b[A\n",
      "chunk:   3%|██                                                             | 21/623 [00:00<00:02, 208.37it/s, now=None]\u001b[A"
     ]
    },
    {
     "name": "stdout",
     "output_type": "stream",
     "text": [
      "MoviePy - Done.\n",
      "MoviePy - Writing audio in ./data/myprosody/dataset/audioFiles/trial_lie_audio_031.wav\n"
     ]
    },
    {
     "name": "stderr",
     "output_type": "stream",
     "text": [
      "\n",
      "chunk:  44%|███████████████████████████                                   | 272/623 [00:00<00:01, 287.37it/s, now=None]\u001b[A\n",
      "chunk:  80%|█████████████████████████████████████████████████▋            | 499/623 [00:00<00:00, 389.26it/s, now=None]\u001b[A\n",
      "chunk:   6%|███▉                                                            | 25/408 [07:51<00:19, 19.28it/s, now=None]\u001b[A"
     ]
    },
    {
     "name": "stdout",
     "output_type": "stream",
     "text": [
      "MoviePy - Done.\n"
     ]
    },
    {
     "name": "stderr",
     "output_type": "stream",
     "text": [
      "chunk:   6%|███▉                                                            | 25/408 [07:51<00:19, 19.28it/s, now=None]\n",
      "chunk:   0%|                                                                         | 0/618 [00:00<?, ?it/s, now=None]\u001b[A\n",
      "chunk:  17%|██████████▏                                                   | 102/618 [00:00<00:00, 964.82it/s, now=None]\u001b[A"
     ]
    },
    {
     "name": "stdout",
     "output_type": "stream",
     "text": [
      "MoviePy - Writing audio in ./data/audio/trial_lie_audio_032.wav\n"
     ]
    },
    {
     "name": "stderr",
     "output_type": "stream",
     "text": [
      "\n",
      "chunk:  57%|██████████████████████████████████▋                          | 351/618 [00:00<00:00, 1180.80it/s, now=None]\u001b[A\n",
      "chunk:  99%|████████████████████████████████████████████████████████████▍| 612/618 [00:00<00:00, 1404.42it/s, now=None]\u001b[A\n",
      "chunk:   6%|███▉                                                            | 25/408 [07:52<00:19, 19.28it/s, now=None]\u001b[A\n",
      "chunk:   0%|                                                                         | 0/673 [00:00<?, ?it/s, now=None]\u001b[A\n",
      "chunk:   4%|██▌                                                            | 28/673 [00:00<00:02, 269.96it/s, now=None]\u001b[A"
     ]
    },
    {
     "name": "stdout",
     "output_type": "stream",
     "text": [
      "MoviePy - Done.\n",
      "MoviePy - Writing audio in ./data/myprosody/dataset/audioFiles/trial_lie_audio_032.wav\n"
     ]
    },
    {
     "name": "stderr",
     "output_type": "stream",
     "text": [
      "\n",
      "chunk:  38%|███████████████████████▌                                      | 256/673 [00:00<00:01, 366.91it/s, now=None]\u001b[A\n",
      "chunk:  71%|███████████████████████████████████████████▉                  | 477/673 [00:00<00:00, 489.09it/s, now=None]\u001b[A\n",
      "chunk:   6%|███▉                                                            | 25/408 [07:52<00:19, 19.28it/s, now=None]\u001b[A"
     ]
    },
    {
     "name": "stdout",
     "output_type": "stream",
     "text": [
      "MoviePy - Done.\n"
     ]
    },
    {
     "name": "stderr",
     "output_type": "stream",
     "text": [
      "chunk:   6%|███▉                                                            | 25/408 [07:52<00:19, 19.28it/s, now=None]\n",
      "chunk:   0%|                                                                         | 0/993 [00:00<?, ?it/s, now=None]\u001b[A\n",
      "chunk:  10%|██████▎                                                       | 102/993 [00:00<00:00, 992.60it/s, now=None]\u001b[A"
     ]
    },
    {
     "name": "stdout",
     "output_type": "stream",
     "text": [
      "MoviePy - Writing audio in ./data/audio/trial_lie_audio_033.wav\n"
     ]
    },
    {
     "name": "stderr",
     "output_type": "stream",
     "text": [
      "\n",
      "chunk:  36%|█████████████████████▉                                       | 357/993 [00:00<00:00, 1208.80it/s, now=None]\u001b[A\n",
      "chunk:  63%|██████████████████████████████████████▎                      | 623/993 [00:00<00:00, 1443.65it/s, now=None]\u001b[A\n",
      "chunk:  90%|██████████████████████████████████████████████████████▌      | 889/993 [00:00<00:00, 1670.86it/s, now=None]\u001b[A\n",
      "chunk:   6%|███▉                                                            | 25/408 [07:53<00:19, 19.28it/s, now=None]\u001b[A\n",
      "chunk:   0%|                                                                        | 0/1081 [00:00<?, ?it/s, now=None]\u001b[A\n",
      "chunk:   3%|█▌                                                            | 28/1081 [00:00<00:03, 274.61it/s, now=None]\u001b[A"
     ]
    },
    {
     "name": "stdout",
     "output_type": "stream",
     "text": [
      "MoviePy - Done.\n",
      "MoviePy - Writing audio in ./data/myprosody/dataset/audioFiles/trial_lie_audio_033.wav\n"
     ]
    },
    {
     "name": "stderr",
     "output_type": "stream",
     "text": [
      "\n",
      "chunk:  25%|███████████████▌                                             | 275/1081 [00:00<00:02, 373.65it/s, now=None]\u001b[A\n",
      "chunk:  48%|█████████████████████████████▍                               | 522/1081 [00:00<00:01, 501.06it/s, now=None]\u001b[A\n",
      "chunk:  71%|███████████████████████████████████████████▍                 | 770/1081 [00:00<00:00, 655.25it/s, now=None]\u001b[A\n",
      "chunk:  94%|████████████████████████████████████████████████████████▌   | 1020/1081 [00:00<00:00, 840.94it/s, now=None]\u001b[A\n",
      "chunk:   6%|███▉                                                            | 25/408 [07:53<00:19, 19.28it/s, now=None]\u001b[A"
     ]
    },
    {
     "name": "stdout",
     "output_type": "stream",
     "text": [
      "MoviePy - Done.\n"
     ]
    },
    {
     "name": "stderr",
     "output_type": "stream",
     "text": [
      "chunk:   6%|███▉                                                            | 25/408 [07:54<00:19, 19.28it/s, now=None]\n",
      "chunk:   0%|                                                                         | 0/662 [00:00<?, ?it/s, now=None]\u001b[A\n",
      "chunk:  15%|█████████▌                                                    | 102/662 [00:00<00:00, 991.14it/s, now=None]\u001b[A"
     ]
    },
    {
     "name": "stdout",
     "output_type": "stream",
     "text": [
      "MoviePy - Writing audio in ./data/audio/trial_lie_audio_034.wav\n"
     ]
    },
    {
     "name": "stderr",
     "output_type": "stream",
     "text": [
      "\n",
      "chunk:  54%|████████████████████████████████▉                            | 358/662 [00:00<00:00, 1213.16it/s, now=None]\u001b[A\n",
      "chunk:  94%|█████████████████████████████████████████████████████████    | 619/662 [00:00<00:00, 1443.52it/s, now=None]\u001b[A\n",
      "chunk:   6%|███▉                                                            | 25/408 [07:54<00:19, 19.28it/s, now=None]\u001b[A\n",
      "chunk:   0%|                                                                         | 0/721 [00:00<?, ?it/s, now=None]\u001b[A\n",
      "chunk:   4%|██▍                                                            | 28/721 [00:00<00:02, 277.97it/s, now=None]\u001b[A"
     ]
    },
    {
     "name": "stdout",
     "output_type": "stream",
     "text": [
      "MoviePy - Done.\n",
      "MoviePy - Writing audio in ./data/myprosody/dataset/audioFiles/trial_lie_audio_034.wav\n"
     ]
    },
    {
     "name": "stderr",
     "output_type": "stream",
     "text": [
      "\n",
      "chunk:  39%|███████████████████████▉                                      | 278/721 [00:00<00:01, 378.90it/s, now=None]\u001b[A\n",
      "chunk:  73%|█████████████████████████████████████████████▏                | 526/721 [00:00<00:00, 507.80it/s, now=None]\u001b[A\n",
      "chunk:   6%|███▉                                                            | 25/408 [07:55<00:19, 19.28it/s, now=None]\u001b[A"
     ]
    },
    {
     "name": "stdout",
     "output_type": "stream",
     "text": [
      "MoviePy - Done.\n"
     ]
    },
    {
     "name": "stderr",
     "output_type": "stream",
     "text": [
      "chunk:   6%|███▉                                                            | 25/408 [07:55<00:19, 19.28it/s, now=None]\n",
      "chunk:   0%|                                                                         | 0/773 [00:00<?, ?it/s, now=None]\u001b[A\n",
      "chunk:  18%|██████████▉                                                  | 139/773 [00:00<00:00, 1389.06it/s, now=None]\u001b[A"
     ]
    },
    {
     "name": "stdout",
     "output_type": "stream",
     "text": [
      "MoviePy - Writing audio in ./data/audio/trial_lie_audio_035.wav\n"
     ]
    },
    {
     "name": "stderr",
     "output_type": "stream",
     "text": [
      "\n",
      "chunk:  53%|████████████████████████████████                             | 407/773 [00:00<00:00, 1621.64it/s, now=None]\u001b[A\n",
      "chunk:  84%|███████████████████████████████████████████████████▎         | 651/773 [00:00<00:00, 1800.15it/s, now=None]\u001b[A\n",
      "chunk:   6%|███▉                                                            | 25/408 [07:55<00:19, 19.28it/s, now=None]\u001b[A\n",
      "chunk:   0%|                                                                         | 0/841 [00:00<?, ?it/s, now=None]\u001b[A\n",
      "chunk:   3%|██                                                             | 28/841 [00:00<00:03, 269.95it/s, now=None]\u001b[A"
     ]
    },
    {
     "name": "stdout",
     "output_type": "stream",
     "text": [
      "MoviePy - Done.\n",
      "MoviePy - Writing audio in ./data/myprosody/dataset/audioFiles/trial_lie_audio_035.wav\n"
     ]
    },
    {
     "name": "stderr",
     "output_type": "stream",
     "text": [
      "\n",
      "chunk:  34%|████████████████████▊                                         | 283/841 [00:00<00:01, 368.79it/s, now=None]\u001b[A\n",
      "chunk:  64%|███████████████████████████████████████▉                      | 541/841 [00:00<00:00, 496.23it/s, now=None]\u001b[A\n",
      "chunk:  92%|████████████████████████████████████████████████████████▊     | 770/841 [00:00<00:00, 647.70it/s, now=None]\u001b[A\n",
      "chunk:   6%|███▉                                                            | 25/408 [07:56<00:19, 19.28it/s, now=None]\u001b[A"
     ]
    },
    {
     "name": "stdout",
     "output_type": "stream",
     "text": [
      "MoviePy - Done.\n"
     ]
    },
    {
     "name": "stderr",
     "output_type": "stream",
     "text": [
      "chunk:   6%|███▉                                                            | 25/408 [07:56<00:19, 19.28it/s, now=None]\n",
      "chunk:   0%|                                                                         | 0/861 [00:00<?, ?it/s, now=None]\u001b[A\n",
      "chunk:  16%|█████████▋                                                   | 136/861 [00:00<00:00, 1350.14it/s, now=None]\u001b[A"
     ]
    },
    {
     "name": "stdout",
     "output_type": "stream",
     "text": [
      "MoviePy - Writing audio in ./data/audio/trial_lie_audio_036.wav\n"
     ]
    },
    {
     "name": "stderr",
     "output_type": "stream",
     "text": [
      "\n",
      "chunk:  45%|███████████████████████████▋                                 | 391/861 [00:00<00:00, 1569.93it/s, now=None]\u001b[A\n",
      "chunk:  77%|██████████████████████████████████████████████▉              | 663/861 [00:00<00:00, 1774.25it/s, now=None]\u001b[A\n",
      "chunk:   6%|███▉                                                            | 25/408 [07:57<00:19, 19.28it/s, now=None]\u001b[A\n"
     ]
    },
    {
     "name": "stdout",
     "output_type": "stream",
     "text": [
      "MoviePy - Done.\n",
      "MoviePy - Writing audio in ./data/myprosody/dataset/audioFiles/trial_lie_audio_036.wav\n"
     ]
    },
    {
     "name": "stderr",
     "output_type": "stream",
     "text": [
      "chunk:   0%|                                                                         | 0/937 [00:00<?, ?it/s, now=None]\u001b[A\n",
      "chunk:   3%|█▊                                                             | 27/937 [00:00<00:03, 267.79it/s, now=None]\u001b[A\n",
      "chunk:  29%|██████████████████▏                                           | 275/937 [00:00<00:01, 364.71it/s, now=None]\u001b[A\n",
      "chunk:  56%|██████████████████████████████████▊                           | 526/937 [00:00<00:00, 490.27it/s, now=None]\u001b[A\n",
      "chunk:  82%|██████████████████████████████████████████████████▉           | 770/937 [00:00<00:00, 643.46it/s, now=None]\u001b[A\n",
      "chunk:   6%|███▉                                                            | 25/408 [07:57<00:19, 19.28it/s, now=None]\u001b[A"
     ]
    },
    {
     "name": "stdout",
     "output_type": "stream",
     "text": [
      "MoviePy - Done.\n"
     ]
    },
    {
     "name": "stderr",
     "output_type": "stream",
     "text": [
      "chunk:   6%|███▉                                                            | 25/408 [07:58<00:19, 19.28it/s, now=None]\n",
      "chunk:   0%|                                                                         | 0/574 [00:00<?, ?it/s, now=None]\u001b[A\n",
      "chunk:  25%|███████████████▏                                             | 143/574 [00:00<00:00, 1418.90it/s, now=None]\u001b[A"
     ]
    },
    {
     "name": "stdout",
     "output_type": "stream",
     "text": [
      "MoviePy - Writing audio in ./data/audio/trial_lie_audio_037.wav\n"
     ]
    },
    {
     "name": "stderr",
     "output_type": "stream",
     "text": [
      "\n",
      "chunk:  66%|████████████████████████████████████████▎                    | 379/574 [00:00<00:00, 1609.48it/s, now=None]\u001b[A\n",
      "chunk:   6%|███▉                                                            | 25/408 [07:58<00:19, 19.28it/s, now=None]\u001b[A\n",
      "chunk:   0%|                                                                         | 0/625 [00:00<?, ?it/s, now=None]\u001b[A\n",
      "chunk:   4%|██▊                                                            | 28/625 [00:00<00:02, 272.57it/s, now=None]\u001b[A"
     ]
    },
    {
     "name": "stdout",
     "output_type": "stream",
     "text": [
      "MoviePy - Done.\n",
      "MoviePy - Writing audio in ./data/myprosody/dataset/audioFiles/trial_lie_audio_037.wav\n"
     ]
    },
    {
     "name": "stderr",
     "output_type": "stream",
     "text": [
      "\n",
      "chunk:  44%|███████████████████████████▎                                  | 275/625 [00:00<00:00, 371.01it/s, now=None]\u001b[A\n",
      "chunk:  86%|█████████████████████████████████████████████████████▎        | 538/625 [00:00<00:00, 499.58it/s, now=None]\u001b[A\n",
      "chunk:   6%|███▉                                                            | 25/408 [07:58<00:19, 19.28it/s, now=None]\u001b[A"
     ]
    },
    {
     "name": "stdout",
     "output_type": "stream",
     "text": [
      "MoviePy - Done.\n"
     ]
    },
    {
     "name": "stderr",
     "output_type": "stream",
     "text": [
      "chunk:   6%|███▉                                                            | 25/408 [07:59<00:19, 19.28it/s, now=None]\n",
      "chunk:   0%|                                                                         | 0/508 [00:00<?, ?it/s, now=None]\u001b[A\n",
      "chunk:  28%|█████████████████▏                                           | 143/508 [00:00<00:00, 1418.85it/s, now=None]\u001b[A"
     ]
    },
    {
     "name": "stdout",
     "output_type": "stream",
     "text": [
      "MoviePy - Writing audio in ./data/audio/trial_lie_audio_038.wav\n"
     ]
    },
    {
     "name": "stderr",
     "output_type": "stream",
     "text": [
      "\n",
      "chunk:  78%|███████████████████████████████████████████████▌             | 396/508 [00:00<00:00, 1632.03it/s, now=None]\u001b[A\n",
      "chunk:   6%|███▉                                                            | 25/408 [07:59<00:19, 19.28it/s, now=None]\u001b[A\n",
      "chunk:   0%|                                                                         | 0/553 [00:00<?, ?it/s, now=None]\u001b[A\n",
      "chunk:   2%|█▎                                                             | 12/553 [00:00<00:04, 119.07it/s, now=None]\u001b[A"
     ]
    },
    {
     "name": "stdout",
     "output_type": "stream",
     "text": [
      "MoviePy - Done.\n",
      "MoviePy - Writing audio in ./data/myprosody/dataset/audioFiles/trial_lie_audio_038.wav\n"
     ]
    },
    {
     "name": "stderr",
     "output_type": "stream",
     "text": [
      "\n",
      "chunk:  47%|█████████████████████████████▎                                | 262/553 [00:00<00:01, 166.67it/s, now=None]\u001b[A\n",
      "chunk:  90%|███████████████████████████████████████████████████████▍      | 495/553 [00:00<00:00, 230.90it/s, now=None]\u001b[A\n",
      "chunk:   6%|███▉                                                            | 25/408 [07:59<00:19, 19.28it/s, now=None]\u001b[A"
     ]
    },
    {
     "name": "stdout",
     "output_type": "stream",
     "text": [
      "MoviePy - Done.\n"
     ]
    },
    {
     "name": "stderr",
     "output_type": "stream",
     "text": [
      "chunk:   6%|███▉                                                            | 25/408 [08:00<00:19, 19.28it/s, now=None]\n",
      "chunk:   0%|                                                                         | 0/662 [00:00<?, ?it/s, now=None]\u001b[A\n",
      "chunk:  21%|████████████▌                                                | 136/662 [00:00<00:00, 1349.64it/s, now=None]\u001b[A"
     ]
    },
    {
     "name": "stdout",
     "output_type": "stream",
     "text": [
      "MoviePy - Writing audio in ./data/audio/trial_lie_audio_039.wav\n"
     ]
    },
    {
     "name": "stderr",
     "output_type": "stream",
     "text": [
      "\n",
      "chunk:  54%|████████████████████████████████▉                            | 357/662 [00:00<00:00, 1516.41it/s, now=None]\u001b[A\n",
      "chunk:  92%|████████████████████████████████████████████████████████▍    | 612/662 [00:00<00:00, 1713.49it/s, now=None]\u001b[A\n",
      "chunk:   6%|███▉                                                            | 25/408 [08:00<00:19, 19.28it/s, now=None]\u001b[A\n",
      "chunk:   0%|                                                                         | 0/721 [00:00<?, ?it/s, now=None]\u001b[A\n",
      "chunk:   1%|▉                                                               | 10/721 [00:00<00:07, 99.28it/s, now=None]\u001b[A"
     ]
    },
    {
     "name": "stdout",
     "output_type": "stream",
     "text": [
      "MoviePy - Done.\n",
      "MoviePy - Writing audio in ./data/myprosody/dataset/audioFiles/trial_lie_audio_039.wav\n"
     ]
    },
    {
     "name": "stderr",
     "output_type": "stream",
     "text": [
      "\n",
      "chunk:  32%|████████████████████                                          | 233/721 [00:00<00:03, 139.15it/s, now=None]\u001b[A\n",
      "chunk:  65%|████████████████████████████████████████▌                     | 471/721 [00:00<00:01, 193.89it/s, now=None]\u001b[A\n",
      "chunk:  97%|████████████████████████████████████████████████████████████▎ | 701/721 [00:00<00:00, 267.26it/s, now=None]\u001b[A\n",
      "chunk:   6%|███▉                                                            | 25/408 [08:01<00:19, 19.28it/s, now=None]\u001b[A"
     ]
    },
    {
     "name": "stdout",
     "output_type": "stream",
     "text": [
      "MoviePy - Done.\n"
     ]
    },
    {
     "name": "stderr",
     "output_type": "stream",
     "text": [
      "chunk:   6%|███▉                                                            | 25/408 [08:01<00:19, 19.28it/s, now=None]\n",
      "chunk:   0%|                                                                         | 0/530 [00:00<?, ?it/s, now=None]\u001b[A\n",
      "chunk:  24%|██████████████▌                                              | 126/530 [00:00<00:00, 1250.38it/s, now=None]\u001b[A"
     ]
    },
    {
     "name": "stdout",
     "output_type": "stream",
     "text": [
      "MoviePy - Writing audio in ./data/audio/trial_lie_audio_040.wav\n"
     ]
    },
    {
     "name": "stderr",
     "output_type": "stream",
     "text": [
      "\n",
      "chunk:  71%|███████████████████████████████████████████▌                 | 378/530 [00:00<00:00, 1471.24it/s, now=None]\u001b[A\n",
      "chunk:   6%|███▉                                                            | 25/408 [08:01<00:19, 19.28it/s, now=None]\u001b[A\n",
      "chunk:   0%|                                                                         | 0/577 [00:00<?, ?it/s, now=None]\u001b[A\n",
      "chunk:   3%|█▋                                                             | 15/577 [00:00<00:03, 148.91it/s, now=None]\u001b[A"
     ]
    },
    {
     "name": "stdout",
     "output_type": "stream",
     "text": [
      "MoviePy - Done.\n",
      "MoviePy - Writing audio in ./data/myprosody/dataset/audioFiles/trial_lie_audio_040.wav\n"
     ]
    },
    {
     "name": "stderr",
     "output_type": "stream",
     "text": [
      "\n",
      "chunk:  43%|██████████████████████████▌                                   | 247/577 [00:00<00:01, 207.00it/s, now=None]\u001b[A\n",
      "chunk:  83%|███████████████████████████████████████████████████▋          | 481/577 [00:00<00:00, 284.83it/s, now=None]\u001b[A\n",
      "chunk:   6%|███▉                                                            | 25/408 [08:02<00:19, 19.28it/s, now=None]\u001b[A"
     ]
    },
    {
     "name": "stdout",
     "output_type": "stream",
     "text": [
      "MoviePy - Done.\n"
     ]
    },
    {
     "name": "stderr",
     "output_type": "stream",
     "text": [
      "chunk:   6%|███▉                                                            | 25/408 [08:02<00:19, 19.28it/s, now=None]\n",
      "chunk:   0%|                                                                         | 0/574 [00:00<?, ?it/s, now=None]\u001b[A\n",
      "chunk:  24%|██████████████▌                                              | 137/574 [00:00<00:00, 1359.57it/s, now=None]\u001b[A"
     ]
    },
    {
     "name": "stdout",
     "output_type": "stream",
     "text": [
      "MoviePy - Writing audio in ./data/audio/trial_lie_audio_041.wav\n"
     ]
    },
    {
     "name": "stderr",
     "output_type": "stream",
     "text": [
      "\n",
      "chunk:  67%|█████████████████████████████████████████                    | 386/574 [00:00<00:00, 1571.86it/s, now=None]\u001b[A\n",
      "chunk:   6%|███▉                                                            | 25/408 [08:02<00:19, 19.28it/s, now=None]\u001b[A\n",
      "chunk:   0%|                                                                         | 0/625 [00:00<?, ?it/s, now=None]\u001b[A\n",
      "chunk:   4%|██▋                                                            | 27/625 [00:00<00:02, 267.96it/s, now=None]\u001b[A"
     ]
    },
    {
     "name": "stdout",
     "output_type": "stream",
     "text": [
      "MoviePy - Done.\n",
      "MoviePy - Writing audio in ./data/myprosody/dataset/audioFiles/trial_lie_audio_041.wav\n"
     ]
    },
    {
     "name": "stderr",
     "output_type": "stream",
     "text": [
      "\n",
      "chunk:  42%|██████████████████████████▏                                   | 264/625 [00:00<00:00, 364.98it/s, now=None]\u001b[A\n",
      "chunk:  79%|█████████████████████████████████████████████████             | 495/625 [00:00<00:00, 487.18it/s, now=None]\u001b[A\n",
      "chunk:   6%|███▉                                                            | 25/408 [08:03<00:19, 19.28it/s, now=None]\u001b[A"
     ]
    },
    {
     "name": "stdout",
     "output_type": "stream",
     "text": [
      "MoviePy - Done.\n"
     ]
    },
    {
     "name": "stderr",
     "output_type": "stream",
     "text": [
      "chunk:   6%|███▉                                                            | 25/408 [08:03<00:19, 19.28it/s, now=None]\n",
      "chunk:   0%|                                                                         | 0/530 [00:00<?, ?it/s, now=None]\u001b[A\n",
      "chunk:  24%|██████████████▌                                              | 126/530 [00:00<00:00, 1250.17it/s, now=None]\u001b[A"
     ]
    },
    {
     "name": "stdout",
     "output_type": "stream",
     "text": [
      "MoviePy - Writing audio in ./data/audio/trial_lie_audio_042.wav\n"
     ]
    },
    {
     "name": "stderr",
     "output_type": "stream",
     "text": [
      "\n",
      "chunk:  72%|███████████████████████████████████████████▌                 | 379/530 [00:00<00:00, 1472.09it/s, now=None]\u001b[A\n",
      "chunk:   6%|███▉                                                            | 25/408 [08:03<00:19, 19.28it/s, now=None]\u001b[A\n",
      "chunk:   0%|                                                                         | 0/577 [00:00<?, ?it/s, now=None]\u001b[A\n",
      "chunk:   5%|███                                                            | 28/577 [00:00<00:02, 267.38it/s, now=None]\u001b[A"
     ]
    },
    {
     "name": "stdout",
     "output_type": "stream",
     "text": [
      "MoviePy - Done.\n",
      "MoviePy - Writing audio in ./data/myprosody/dataset/audioFiles/trial_lie_audio_042.wav\n"
     ]
    },
    {
     "name": "stderr",
     "output_type": "stream",
     "text": [
      "\n",
      "chunk:  46%|████████████████████████████▌                                 | 266/577 [00:00<00:00, 364.30it/s, now=None]\u001b[A\n",
      "chunk:  86%|█████████████████████████████████████████████████████▏        | 495/577 [00:00<00:00, 485.13it/s, now=None]\u001b[A\n",
      "chunk:   6%|███▉                                                            | 25/408 [08:04<00:19, 19.28it/s, now=None]\u001b[A"
     ]
    },
    {
     "name": "stdout",
     "output_type": "stream",
     "text": [
      "MoviePy - Done.\n"
     ]
    },
    {
     "name": "stderr",
     "output_type": "stream",
     "text": [
      "chunk:   6%|███▉                                                            | 25/408 [08:04<00:19, 19.28it/s, now=None]\n",
      "chunk:   0%|                                                                         | 0/311 [00:00<?, ?it/s, now=None]\u001b[A\n",
      "chunk:  41%|█████████████████████████▎                                   | 129/311 [00:00<00:00, 1280.66it/s, now=None]\u001b[A"
     ]
    },
    {
     "name": "stdout",
     "output_type": "stream",
     "text": [
      "MoviePy - Writing audio in ./data/audio/trial_lie_audio_043.wav\n"
     ]
    },
    {
     "name": "stderr",
     "output_type": "stream",
     "text": [
      "\n",
      "chunk:   6%|███▉                                                            | 25/408 [08:04<00:19, 19.28it/s, now=None]\u001b[A\n",
      "chunk:   0%|                                                                         | 0/338 [00:00<?, ?it/s, now=None]\u001b[A\n",
      "chunk:   2%|█▌                                                               | 8/338 [00:00<00:04, 79.42it/s, now=None]\u001b[A"
     ]
    },
    {
     "name": "stdout",
     "output_type": "stream",
     "text": [
      "MoviePy - Done.\n",
      "MoviePy - Writing audio in ./data/myprosody/dataset/audioFiles/trial_lie_audio_043.wav\n"
     ]
    },
    {
     "name": "stderr",
     "output_type": "stream",
     "text": [
      "\n",
      "chunk:  69%|██████████████████████████████████████████▋                   | 233/338 [00:00<00:00, 111.75it/s, now=None]\u001b[A\n",
      "chunk:   6%|███▉                                                            | 25/408 [08:04<00:19, 19.28it/s, now=None]\u001b[A"
     ]
    },
    {
     "name": "stdout",
     "output_type": "stream",
     "text": [
      "MoviePy - Done.\n"
     ]
    },
    {
     "name": "stderr",
     "output_type": "stream",
     "text": [
      "chunk:   6%|███▉                                                            | 25/408 [08:05<00:19, 19.28it/s, now=None]\n",
      "chunk:   0%|                                                                         | 0/199 [00:00<?, ?it/s, now=None]\u001b[A\n",
      "chunk:  66%|████████████████████████████████████████▍                    | 132/199 [00:00<00:00, 1309.71it/s, now=None]\u001b[A\n",
      "chunk:   6%|███▉                                                            | 25/408 [08:05<00:19, 19.28it/s, now=None]\u001b[A\n",
      "chunk:   0%|                                                                         | 0/217 [00:00<?, ?it/s, now=None]\u001b[A"
     ]
    },
    {
     "name": "stdout",
     "output_type": "stream",
     "text": [
      "MoviePy - Writing audio in ./data/audio/trial_lie_audio_044.wav\n",
      "MoviePy - Done.\n",
      "MoviePy - Writing audio in ./data/myprosody/dataset/audioFiles/trial_lie_audio_044.wav\n"
     ]
    },
    {
     "name": "stderr",
     "output_type": "stream",
     "text": [
      "\n",
      "chunk:   1%|▉                                                                | 3/217 [00:00<00:07, 29.77it/s, now=None]\u001b[A\n",
      "chunk:   6%|███▉                                                            | 25/408 [08:05<00:19, 19.28it/s, now=None]\u001b[A"
     ]
    },
    {
     "name": "stdout",
     "output_type": "stream",
     "text": [
      "MoviePy - Done.\n"
     ]
    },
    {
     "name": "stderr",
     "output_type": "stream",
     "text": [
      "chunk:   6%|███▉                                                            | 25/408 [08:06<00:19, 19.28it/s, now=None]\n",
      "chunk:   0%|                                                                         | 0/421 [00:00<?, ?it/s, now=None]\u001b[A\n",
      "chunk:  25%|███████████████                                              | 104/421 [00:00<00:00, 1032.45it/s, now=None]\u001b[A"
     ]
    },
    {
     "name": "stdout",
     "output_type": "stream",
     "text": [
      "MoviePy - Writing audio in ./data/audio/trial_lie_audio_045.wav\n"
     ]
    },
    {
     "name": "stderr",
     "output_type": "stream",
     "text": [
      "\n",
      "chunk:  84%|███████████████████████████████████████████████████▏         | 353/421 [00:00<00:00, 1250.94it/s, now=None]\u001b[A\n",
      "chunk:   6%|███▉                                                            | 25/408 [08:06<00:19, 19.28it/s, now=None]\u001b[A\n",
      "chunk:   0%|                                                                         | 0/458 [00:00<?, ?it/s, now=None]\u001b[A\n",
      "chunk:   0%|▎                                                                | 2/458 [00:00<00:23, 19.66it/s, now=None]\u001b[A"
     ]
    },
    {
     "name": "stdout",
     "output_type": "stream",
     "text": [
      "MoviePy - Done.\n",
      "MoviePy - Writing audio in ./data/myprosody/dataset/audioFiles/trial_lie_audio_045.wav\n"
     ]
    },
    {
     "name": "stderr",
     "output_type": "stream",
     "text": [
      "\n",
      "chunk:  50%|███████████████████████████████▊                               | 231/458 [00:00<00:08, 27.98it/s, now=None]\u001b[A\n",
      "chunk:   6%|███▉                                                            | 25/408 [08:06<00:19, 19.28it/s, now=None]\u001b[A"
     ]
    },
    {
     "name": "stdout",
     "output_type": "stream",
     "text": [
      "MoviePy - Done.\n"
     ]
    },
    {
     "name": "stderr",
     "output_type": "stream",
     "text": [
      "chunk:   6%|███▉                                                            | 25/408 [08:07<00:19, 19.28it/s, now=None]\n",
      "chunk:   0%|                                                                         | 0/729 [00:00<?, ?it/s, now=None]\u001b[A\n",
      "chunk:  17%|██████████▍                                                  | 125/729 [00:00<00:00, 1240.12it/s, now=None]\u001b[A"
     ]
    },
    {
     "name": "stdout",
     "output_type": "stream",
     "text": [
      "MoviePy - Writing audio in ./data/audio/trial_lie_audio_046.wav\n"
     ]
    },
    {
     "name": "stderr",
     "output_type": "stream",
     "text": [
      "\n",
      "chunk:  51%|███████████████████████████████▏                             | 372/729 [00:00<00:00, 1456.02it/s, now=None]\u001b[A\n",
      "chunk:  85%|███████████████████████████████████████████████████▉         | 620/729 [00:00<00:00, 1659.43it/s, now=None]\u001b[A\n",
      "chunk:   6%|███▉                                                            | 25/408 [08:07<00:19, 19.28it/s, now=None]\u001b[A\n",
      "chunk:   0%|                                                                         | 0/793 [00:00<?, ?it/s, now=None]\u001b[A\n",
      "chunk:   2%|▉                                                              | 12/793 [00:00<00:06, 119.13it/s, now=None]\u001b[A"
     ]
    },
    {
     "name": "stdout",
     "output_type": "stream",
     "text": [
      "MoviePy - Done.\n",
      "MoviePy - Writing audio in ./data/myprosody/dataset/audioFiles/trial_lie_audio_046.wav\n"
     ]
    },
    {
     "name": "stderr",
     "output_type": "stream",
     "text": [
      "\n",
      "chunk:  31%|███████████████████▍                                          | 249/793 [00:00<00:03, 166.57it/s, now=None]\u001b[A\n",
      "chunk:  62%|██████████████████████████████████████▌                       | 493/793 [00:00<00:01, 231.15it/s, now=None]\u001b[A\n",
      "chunk:  89%|███████████████████████████████████████████████████████▍      | 709/793 [00:00<00:00, 315.63it/s, now=None]\u001b[A\n",
      "chunk:   6%|███▉                                                            | 25/408 [08:08<00:19, 19.28it/s, now=None]\u001b[A"
     ]
    },
    {
     "name": "stdout",
     "output_type": "stream",
     "text": [
      "MoviePy - Done.\n"
     ]
    },
    {
     "name": "stderr",
     "output_type": "stream",
     "text": [
      "chunk:   6%|███▉                                                            | 25/408 [08:08<00:19, 19.28it/s, now=None]\n",
      "chunk:   0%|                                                                         | 0/354 [00:00<?, ?it/s, now=None]\u001b[A\n",
      "chunk:  33%|████████████████████▏                                        | 117/354 [00:00<00:00, 1161.09it/s, now=None]\u001b[A\n"
     ]
    },
    {
     "name": "stdout",
     "output_type": "stream",
     "text": [
      "MoviePy - Writing audio in ./data/audio/trial_lie_audio_047.wav\n"
     ]
    },
    {
     "name": "stderr",
     "output_type": "stream",
     "text": [
      "chunk:   6%|███▉                                                            | 25/408 [08:08<00:19, 19.28it/s, now=None]\u001b[A\n",
      "chunk:   0%|                                                                         | 0/385 [00:00<?, ?it/s, now=None]\u001b[A\n",
      "chunk:   3%|█▊                                                             | 11/385 [00:00<00:03, 109.20it/s, now=None]\u001b[A"
     ]
    },
    {
     "name": "stdout",
     "output_type": "stream",
     "text": [
      "MoviePy - Done.\n",
      "MoviePy - Writing audio in ./data/myprosody/dataset/audioFiles/trial_lie_audio_047.wav\n"
     ]
    },
    {
     "name": "stderr",
     "output_type": "stream",
     "text": [
      "\n",
      "chunk:  64%|███████████████████████████████████████▌                      | 246/385 [00:00<00:00, 152.94it/s, now=None]\u001b[A\n",
      "chunk:   6%|███▉                                                            | 25/408 [08:08<00:19, 19.28it/s, now=None]\u001b[A"
     ]
    },
    {
     "name": "stdout",
     "output_type": "stream",
     "text": [
      "MoviePy - Done.\n"
     ]
    },
    {
     "name": "stderr",
     "output_type": "stream",
     "text": [
      "chunk:   6%|███▉                                                            | 25/408 [08:09<00:19, 19.28it/s, now=None]\n",
      "chunk:   0%|                                                                        | 0/1059 [00:00<?, ?it/s, now=None]\u001b[A\n",
      "chunk:  12%|███████▏                                                    | 127/1059 [00:00<00:00, 1260.33it/s, now=None]\u001b[A"
     ]
    },
    {
     "name": "stdout",
     "output_type": "stream",
     "text": [
      "MoviePy - Writing audio in ./data/audio/trial_lie_audio_048.wav\n"
     ]
    },
    {
     "name": "stderr",
     "output_type": "stream",
     "text": [
      "\n",
      "chunk:  36%|█████████████████████▊                                      | 386/1059 [00:00<00:00, 1487.90it/s, now=None]\u001b[A\n",
      "chunk:  61%|████████████████████████████████████▊                       | 649/1059 [00:00<00:00, 1708.34it/s, now=None]\u001b[A\n",
      "chunk:  86%|███████████████████████████████████████████████████▊        | 915/1059 [00:00<00:00, 1910.73it/s, now=None]\u001b[A\n",
      "chunk:   6%|███▉                                                            | 25/408 [08:09<00:19, 19.28it/s, now=None]\u001b[A\n",
      "chunk:   0%|                                                                        | 0/1153 [00:00<?, ?it/s, now=None]\u001b[A\n",
      "chunk:   0%|                                                                | 2/1153 [00:00<00:57, 19.85it/s, now=None]\u001b[A"
     ]
    },
    {
     "name": "stdout",
     "output_type": "stream",
     "text": [
      "MoviePy - Done.\n",
      "MoviePy - Writing audio in ./data/myprosody/dataset/audioFiles/trial_lie_audio_048.wav\n"
     ]
    },
    {
     "name": "stderr",
     "output_type": "stream",
     "text": [
      "\n",
      "chunk:  20%|████████████▎                                                 | 229/1153 [00:00<00:32, 28.25it/s, now=None]\u001b[A\n",
      "chunk:  39%|████████████████████████▍                                     | 454/1153 [00:00<00:17, 40.14it/s, now=None]\u001b[A\n",
      "chunk:  59%|████████████████████████████████████▉                         | 686/1153 [00:00<00:08, 56.91it/s, now=None]\u001b[A\n",
      "chunk:  80%|█████████████████████████████████████████████████▋            | 924/1153 [00:00<00:02, 80.47it/s, now=None]\u001b[A\n",
      "chunk: 100%|████████████████████████████████████████████████████████████| 1153/1153 [00:00<00:00, 113.22it/s, now=None]\u001b[A\n",
      "chunk:   6%|███▉                                                            | 25/408 [08:10<00:19, 19.28it/s, now=None]\u001b[A"
     ]
    },
    {
     "name": "stdout",
     "output_type": "stream",
     "text": [
      "MoviePy - Done.\n"
     ]
    },
    {
     "name": "stderr",
     "output_type": "stream",
     "text": [
      "chunk:   6%|███▉                                                            | 25/408 [08:10<00:19, 19.28it/s, now=None]\n",
      "chunk:   0%|                                                                         | 0/508 [00:00<?, ?it/s, now=None]\u001b[A\n",
      "chunk:  27%|████████████████▌                                            | 138/508 [00:00<00:00, 1369.50it/s, now=None]\u001b[A"
     ]
    },
    {
     "name": "stdout",
     "output_type": "stream",
     "text": [
      "MoviePy - Writing audio in ./data/audio/trial_lie_audio_049.wav\n"
     ]
    },
    {
     "name": "stderr",
     "output_type": "stream",
     "text": [
      "\n",
      "chunk:  77%|███████████████████████████████████████████████              | 392/508 [00:00<00:00, 1586.98it/s, now=None]\u001b[A\n",
      "chunk:   6%|███▉                                                            | 25/408 [08:11<00:19, 19.28it/s, now=None]\u001b[A\n",
      "chunk:   0%|                                                                         | 0/553 [00:00<?, ?it/s, now=None]\u001b[A\n",
      "chunk:   0%|▏                                                                | 2/553 [00:00<00:28, 19.46it/s, now=None]\u001b[A"
     ]
    },
    {
     "name": "stdout",
     "output_type": "stream",
     "text": [
      "MoviePy - Done.\n",
      "MoviePy - Writing audio in ./data/myprosody/dataset/audioFiles/trial_lie_audio_049.wav\n"
     ]
    },
    {
     "name": "stderr",
     "output_type": "stream",
     "text": [
      "\n",
      "chunk:  40%|█████████████████████████▏                                     | 221/553 [00:00<00:11, 27.69it/s, now=None]\u001b[A\n",
      "chunk:  83%|████████████████████████████████████████████████████▎          | 459/553 [00:00<00:02, 39.37it/s, now=None]\u001b[A\n",
      "chunk:   6%|███▉                                                            | 25/408 [08:11<00:19, 19.28it/s, now=None]\u001b[A"
     ]
    },
    {
     "name": "stdout",
     "output_type": "stream",
     "text": [
      "MoviePy - Done.\n"
     ]
    },
    {
     "name": "stderr",
     "output_type": "stream",
     "text": [
      "chunk:   6%|███▉                                                            | 25/408 [08:11<00:19, 19.28it/s, now=None]\n",
      "chunk:   0%|                                                                         | 0/552 [00:00<?, ?it/s, now=None]\u001b[A\n",
      "chunk:  25%|███████████████▎                                             | 138/552 [00:00<00:00, 1369.99it/s, now=None]\u001b[A"
     ]
    },
    {
     "name": "stdout",
     "output_type": "stream",
     "text": [
      "MoviePy - Writing audio in ./data/audio/trial_lie_audio_050.wav\n"
     ]
    },
    {
     "name": "stderr",
     "output_type": "stream",
     "text": [
      "\n",
      "chunk:  71%|███████████████████████████████████████████                  | 390/552 [00:00<00:00, 1584.54it/s, now=None]\u001b[A\n",
      "chunk:   6%|███▉                                                            | 25/408 [08:12<00:19, 19.28it/s, now=None]\u001b[A\n",
      "chunk:   0%|                                                                         | 0/601 [00:00<?, ?it/s, now=None]\u001b[A\n",
      "chunk:   2%|█▌                                                             | 15/601 [00:00<00:03, 148.91it/s, now=None]\u001b[A"
     ]
    },
    {
     "name": "stdout",
     "output_type": "stream",
     "text": [
      "MoviePy - Done.\n",
      "MoviePy - Writing audio in ./data/myprosody/dataset/audioFiles/trial_lie_audio_050.wav\n"
     ]
    },
    {
     "name": "stderr",
     "output_type": "stream",
     "text": [
      "\n",
      "chunk:  42%|█████████████████████████▉                                    | 251/601 [00:00<00:01, 207.09it/s, now=None]\u001b[A\n",
      "chunk:  82%|███████████████████████████████████████████████████           | 495/601 [00:00<00:00, 285.09it/s, now=None]\u001b[A\n",
      "chunk:   6%|███▉                                                            | 25/408 [08:12<00:19, 19.28it/s, now=None]\u001b[A"
     ]
    },
    {
     "name": "stdout",
     "output_type": "stream",
     "text": [
      "MoviePy - Done.\n"
     ]
    },
    {
     "name": "stderr",
     "output_type": "stream",
     "text": [
      "chunk:   6%|███▉                                                            | 25/408 [08:12<00:19, 19.28it/s, now=None]\n",
      "chunk:   0%|                                                                         | 0/155 [00:00<?, ?it/s, now=None]\u001b[A\n",
      "chunk:  82%|█████████████████████████████████████████████████▉           | 127/155 [00:00<00:00, 1260.79it/s, now=None]\u001b[A\n",
      "chunk:   6%|███▉                                                            | 25/408 [08:12<00:19, 19.28it/s, now=None]\u001b[A\n",
      "chunk:   0%|                                                                         | 0/169 [00:00<?, ?it/s, now=None]\u001b[A"
     ]
    },
    {
     "name": "stdout",
     "output_type": "stream",
     "text": [
      "MoviePy - Writing audio in ./data/audio/trial_lie_audio_051.wav\n",
      "MoviePy - Done.\n",
      "MoviePy - Writing audio in ./data/myprosody/dataset/audioFiles/trial_lie_audio_051.wav\n"
     ]
    },
    {
     "name": "stderr",
     "output_type": "stream",
     "text": [
      "\n",
      "chunk:   6%|███▊                                                            | 10/169 [00:00<00:01, 99.28it/s, now=None]\u001b[A\n",
      "chunk:   6%|███▉                                                            | 25/408 [08:13<00:19, 19.28it/s, now=None]\u001b[A"
     ]
    },
    {
     "name": "stdout",
     "output_type": "stream",
     "text": [
      "MoviePy - Done.\n"
     ]
    },
    {
     "name": "stderr",
     "output_type": "stream",
     "text": [
      "chunk:   6%|███▉                                                            | 25/408 [08:13<00:19, 19.28it/s, now=None]\n",
      "chunk:   0%|                                                                        | 0/1059 [00:00<?, ?it/s, now=None]\u001b[A\n",
      "chunk:  13%|███████▋                                                    | 135/1059 [00:00<00:00, 1340.23it/s, now=None]\u001b[A"
     ]
    },
    {
     "name": "stdout",
     "output_type": "stream",
     "text": [
      "MoviePy - Writing audio in ./data/audio/trial_lie_audio_052.wav\n"
     ]
    },
    {
     "name": "stderr",
     "output_type": "stream",
     "text": [
      "\n",
      "chunk:  37%|██████████████████████▏                                     | 391/1059 [00:00<00:00, 1561.56it/s, now=None]\u001b[A\n",
      "chunk:  60%|███████████████████████████████████▉                        | 635/1059 [00:00<00:00, 1747.91it/s, now=None]\u001b[A\n",
      "chunk:  84%|██████████████████████████████████████████████████▍         | 890/1059 [00:00<00:00, 1926.83it/s, now=None]\u001b[A\n",
      "chunk:   6%|███▉                                                            | 25/408 [08:13<00:19, 19.28it/s, now=None]\u001b[A\n",
      "chunk:   0%|                                                                        | 0/1153 [00:00<?, ?it/s, now=None]\u001b[A\n",
      "chunk:   1%|▊                                                             | 14/1153 [00:00<00:08, 138.91it/s, now=None]\u001b[A"
     ]
    },
    {
     "name": "stdout",
     "output_type": "stream",
     "text": [
      "MoviePy - Done.\n",
      "MoviePy - Writing audio in ./data/myprosody/dataset/audioFiles/trial_lie_audio_052.wav\n"
     ]
    },
    {
     "name": "stderr",
     "output_type": "stream",
     "text": [
      "\n",
      "chunk:  20%|████████████▍                                                | 234/1153 [00:00<00:04, 193.17it/s, now=None]\u001b[A\n",
      "chunk:  38%|███████████████████████▎                                     | 441/1153 [00:00<00:02, 265.27it/s, now=None]\u001b[A\n",
      "chunk:  57%|███████████████████████████████████                          | 662/1153 [00:00<00:01, 360.29it/s, now=None]\u001b[A\n",
      "chunk:  78%|███████████████████████████████████████████████▎             | 894/1153 [00:00<00:00, 482.36it/s, now=None]\u001b[A\n",
      "chunk:  97%|██████████████████████████████████████████████████████████▏ | 1117/1153 [00:00<00:00, 630.24it/s, now=None]\u001b[A\n",
      "chunk:   6%|███▉                                                            | 25/408 [08:14<00:19, 19.28it/s, now=None]\u001b[A"
     ]
    },
    {
     "name": "stdout",
     "output_type": "stream",
     "text": [
      "MoviePy - Done.\n"
     ]
    },
    {
     "name": "stderr",
     "output_type": "stream",
     "text": [
      "chunk:   6%|███▉                                                            | 25/408 [08:15<00:19, 19.28it/s, now=None]\n",
      "chunk:   0%|                                                                         | 0/795 [00:00<?, ?it/s, now=None]\u001b[A\n",
      "chunk:  15%|█████████▍                                                   | 123/795 [00:00<00:00, 1220.19it/s, now=None]\u001b[A"
     ]
    },
    {
     "name": "stdout",
     "output_type": "stream",
     "text": [
      "MoviePy - Writing audio in ./data/audio/trial_lie_audio_053.wav\n"
     ]
    },
    {
     "name": "stderr",
     "output_type": "stream",
     "text": [
      "\n",
      "chunk:  45%|███████████████████████████▌                                 | 360/795 [00:00<00:00, 1426.34it/s, now=None]\u001b[A\n",
      "chunk:  77%|███████████████████████████████████████████████              | 613/795 [00:00<00:00, 1638.78it/s, now=None]\u001b[A\n",
      "chunk:   6%|███▉                                                            | 25/408 [08:15<00:19, 19.28it/s, now=None]\u001b[A\n"
     ]
    },
    {
     "name": "stdout",
     "output_type": "stream",
     "text": [
      "MoviePy - Done.\n",
      "MoviePy - Writing audio in ./data/myprosody/dataset/audioFiles/trial_lie_audio_053.wav\n"
     ]
    },
    {
     "name": "stderr",
     "output_type": "stream",
     "text": [
      "chunk:   0%|                                                                         | 0/865 [00:00<?, ?it/s, now=None]\u001b[A\n",
      "chunk:   0%|▏                                                                | 2/865 [00:00<00:43, 19.86it/s, now=None]\u001b[A\n",
      "chunk:  27%|█████████████████▏                                             | 236/865 [00:00<00:22, 28.26it/s, now=None]\u001b[A\n",
      "chunk:  51%|████████████████████████████████                               | 440/865 [00:00<00:10, 40.13it/s, now=None]\u001b[A\n",
      "chunk:  78%|████████████████████████████████████████████████▊              | 671/865 [00:00<00:03, 56.90it/s, now=None]\u001b[A\n",
      "chunk:   6%|███▉                                                            | 25/408 [08:16<00:19, 19.28it/s, now=None]\u001b[A"
     ]
    },
    {
     "name": "stdout",
     "output_type": "stream",
     "text": [
      "MoviePy - Done.\n"
     ]
    },
    {
     "name": "stderr",
     "output_type": "stream",
     "text": [
      "chunk:   6%|███▉                                                            | 25/408 [08:16<00:19, 19.28it/s, now=None]\n",
      "chunk:   0%|                                                                         | 0/442 [00:00<?, ?it/s, now=None]\u001b[A\n",
      "chunk:  32%|███████████████████▋                                         | 143/442 [00:00<00:00, 1419.05it/s, now=None]\u001b[A"
     ]
    },
    {
     "name": "stdout",
     "output_type": "stream",
     "text": [
      "MoviePy - Writing audio in ./data/audio/trial_lie_audio_054.wav\n"
     ]
    },
    {
     "name": "stderr",
     "output_type": "stream",
     "text": [
      "\n",
      "chunk:  84%|███████████████████████████████████████████████████▍         | 373/442 [00:00<00:00, 1600.86it/s, now=None]\u001b[A\n",
      "chunk:   6%|███▉                                                            | 25/408 [08:16<00:19, 19.28it/s, now=None]\u001b[A\n",
      "chunk:   0%|                                                                         | 0/481 [00:00<?, ?it/s, now=None]\u001b[A\n",
      "chunk:   0%|▎                                                                | 2/481 [00:00<00:25, 19.10it/s, now=None]\u001b[A"
     ]
    },
    {
     "name": "stdout",
     "output_type": "stream",
     "text": [
      "MoviePy - Done.\n",
      "MoviePy - Writing audio in ./data/myprosody/dataset/audioFiles/trial_lie_audio_054.wav\n"
     ]
    },
    {
     "name": "stderr",
     "output_type": "stream",
     "text": [
      "\n",
      "chunk:  43%|███████████████████████████▎                                   | 209/481 [00:00<00:10, 27.18it/s, now=None]\u001b[A\n",
      "chunk:  87%|██████████████████████████████████████████████████████▋        | 418/481 [00:00<00:01, 38.61it/s, now=None]\u001b[A\n",
      "chunk:   6%|███▉                                                            | 25/408 [08:17<00:19, 19.28it/s, now=None]\u001b[A"
     ]
    },
    {
     "name": "stdout",
     "output_type": "stream",
     "text": [
      "MoviePy - Done.\n"
     ]
    },
    {
     "name": "stderr",
     "output_type": "stream",
     "text": [
      "chunk:   6%|███▉                                                            | 25/408 [08:17<00:19, 19.28it/s, now=None]\n",
      "chunk:   0%|                                                                         | 0/707 [00:00<?, ?it/s, now=None]\u001b[A\n",
      "chunk:  17%|██████████▏                                                  | 118/707 [00:00<00:00, 1171.44it/s, now=None]\u001b[A"
     ]
    },
    {
     "name": "stdout",
     "output_type": "stream",
     "text": [
      "MoviePy - Writing audio in ./data/audio/trial_lie_audio_055.wav\n"
     ]
    },
    {
     "name": "stderr",
     "output_type": "stream",
     "text": [
      "\n",
      "chunk:  52%|███████████████████████████████▍                             | 365/707 [00:00<00:00, 1389.08it/s, now=None]\u001b[A\n",
      "chunk:  87%|████████████████████████████████████████████████████▊        | 612/707 [00:00<00:00, 1596.57it/s, now=None]\u001b[A\n",
      "chunk:   6%|███▉                                                            | 25/408 [08:17<00:19, 19.28it/s, now=None]\u001b[A\n",
      "chunk:   0%|                                                                         | 0/769 [00:00<?, ?it/s, now=None]\u001b[A\n",
      "chunk:   0%|▏                                                                | 2/769 [00:00<00:39, 19.27it/s, now=None]\u001b[A"
     ]
    },
    {
     "name": "stdout",
     "output_type": "stream",
     "text": [
      "MoviePy - Done.\n",
      "MoviePy - Writing audio in ./data/myprosody/dataset/audioFiles/trial_lie_audio_055.wav\n"
     ]
    },
    {
     "name": "stderr",
     "output_type": "stream",
     "text": [
      "\n",
      "chunk:  29%|██████████████████                                             | 220/769 [00:00<00:20, 27.43it/s, now=None]\u001b[A\n",
      "chunk:  58%|████████████████████████████████████▎                          | 444/769 [00:00<00:08, 38.98it/s, now=None]\u001b[A\n",
      "chunk:  88%|███████████████████████████████████████████████████████▎       | 675/769 [00:00<00:01, 55.28it/s, now=None]\u001b[A\n",
      "chunk:   6%|███▉                                                            | 25/408 [08:18<00:19, 19.28it/s, now=None]\u001b[A"
     ]
    },
    {
     "name": "stdout",
     "output_type": "stream",
     "text": [
      "MoviePy - Done.\n"
     ]
    },
    {
     "name": "stderr",
     "output_type": "stream",
     "text": [
      "chunk:   6%|███▉                                                            | 25/408 [08:18<00:19, 19.28it/s, now=None]\n",
      "chunk:   0%|                                                                         | 0/641 [00:00<?, ?it/s, now=None]\u001b[A\n",
      "chunk:  20%|████████████▎                                                | 130/641 [00:00<00:00, 1290.22it/s, now=None]\u001b[A"
     ]
    },
    {
     "name": "stdout",
     "output_type": "stream",
     "text": [
      "MoviePy - Writing audio in ./data/audio/trial_lie_audio_056.wav\n"
     ]
    },
    {
     "name": "stderr",
     "output_type": "stream",
     "text": [
      "\n",
      "chunk:  60%|████████████████████████████████████▎                        | 382/641 [00:00<00:00, 1509.52it/s, now=None]\u001b[A\n",
      "chunk:  97%|███████████████████████████████████████████████████████████▎ | 623/641 [00:00<00:00, 1697.58it/s, now=None]\u001b[A\n",
      "chunk:   6%|███▉                                                            | 25/408 [08:19<00:19, 19.28it/s, now=None]\u001b[A\n",
      "chunk:   0%|                                                                         | 0/697 [00:00<?, ?it/s, now=None]\u001b[A\n",
      "chunk:   0%|▏                                                                | 2/697 [00:00<00:36, 19.28it/s, now=None]\u001b[A"
     ]
    },
    {
     "name": "stdout",
     "output_type": "stream",
     "text": [
      "MoviePy - Done.\n",
      "MoviePy - Writing audio in ./data/myprosody/dataset/audioFiles/trial_lie_audio_056.wav\n"
     ]
    },
    {
     "name": "stderr",
     "output_type": "stream",
     "text": [
      "\n",
      "chunk:  33%|████████████████████▌                                          | 228/697 [00:00<00:17, 27.45it/s, now=None]\u001b[A\n",
      "chunk:  63%|███████████████████████████████████████▉                       | 442/697 [00:00<00:06, 38.99it/s, now=None]\u001b[A\n",
      "chunk:  96%|████████████████████████████████████████████████████████████▍  | 668/697 [00:00<00:00, 55.29it/s, now=None]\u001b[A\n",
      "chunk:   6%|███▉                                                            | 25/408 [08:19<00:19, 19.28it/s, now=None]\u001b[A"
     ]
    },
    {
     "name": "stdout",
     "output_type": "stream",
     "text": [
      "MoviePy - Done.\n"
     ]
    },
    {
     "name": "stderr",
     "output_type": "stream",
     "text": [
      "chunk:   6%|███▉                                                            | 25/408 [08:19<00:19, 19.28it/s, now=None]\n",
      "chunk:   0%|                                                                         | 0/420 [00:00<?, ?it/s, now=None]\u001b[A\n",
      "chunk:  29%|█████████████████▌                                           | 121/420 [00:00<00:00, 1200.59it/s, now=None]\u001b[A"
     ]
    },
    {
     "name": "stdout",
     "output_type": "stream",
     "text": [
      "MoviePy - Writing audio in ./data/audio/trial_lie_audio_057.wav\n"
     ]
    },
    {
     "name": "stderr",
     "output_type": "stream",
     "text": [
      "\n",
      "chunk:  86%|████████████████████████████████████████████████████▌        | 362/420 [00:00<00:00, 1411.68it/s, now=None]\u001b[A\n",
      "chunk:   6%|███▉                                                            | 25/408 [08:20<00:19, 19.28it/s, now=None]\u001b[A\n",
      "chunk:   0%|                                                                         | 0/457 [00:00<?, ?it/s, now=None]\u001b[A\n",
      "chunk:   1%|▋                                                                | 5/457 [00:00<00:09, 49.93it/s, now=None]\u001b[A"
     ]
    },
    {
     "name": "stdout",
     "output_type": "stream",
     "text": [
      "MoviePy - Done.\n",
      "MoviePy - Writing audio in ./data/myprosody/dataset/audioFiles/trial_lie_audio_057.wav\n"
     ]
    },
    {
     "name": "stderr",
     "output_type": "stream",
     "text": [
      "\n",
      "chunk:  49%|██████████████████████████████▉                                | 224/457 [00:00<00:03, 70.63it/s, now=None]\u001b[A\n",
      "chunk:  99%|██████████████████████████████████████████████████████████████▏| 451/457 [00:00<00:00, 99.56it/s, now=None]\u001b[A\n",
      "chunk:   6%|███▉                                                            | 25/408 [08:20<00:19, 19.28it/s, now=None]\u001b[A"
     ]
    },
    {
     "name": "stdout",
     "output_type": "stream",
     "text": [
      "MoviePy - Done.\n"
     ]
    },
    {
     "name": "stderr",
     "output_type": "stream",
     "text": [
      "chunk:   6%|███▉                                                            | 25/408 [08:20<00:19, 19.28it/s, now=None]\n",
      "chunk:   0%|                                                                         | 0/486 [00:00<?, ?it/s, now=None]\u001b[A\n",
      "chunk:  24%|██████████████▋                                              | 117/486 [00:00<00:00, 1160.85it/s, now=None]\u001b[A"
     ]
    },
    {
     "name": "stdout",
     "output_type": "stream",
     "text": [
      "MoviePy - Writing audio in ./data/audio/trial_lie_audio_058.wav\n"
     ]
    },
    {
     "name": "stderr",
     "output_type": "stream",
     "text": [
      "\n",
      "chunk:  74%|████████████████████████████████████████████▉                | 358/486 [00:00<00:00, 1372.88it/s, now=None]\u001b[A\n",
      "chunk:   6%|███▉                                                            | 25/408 [08:21<00:19, 19.28it/s, now=None]\u001b[A\n",
      "chunk:   0%|                                                                         | 0/529 [00:00<?, ?it/s, now=None]\u001b[A\n",
      "chunk:   0%|▏                                                                | 2/529 [00:00<00:26, 19.86it/s, now=None]\u001b[A"
     ]
    },
    {
     "name": "stdout",
     "output_type": "stream",
     "text": [
      "MoviePy - Done.\n",
      "MoviePy - Writing audio in ./data/myprosody/dataset/audioFiles/trial_lie_audio_058.wav\n"
     ]
    },
    {
     "name": "stderr",
     "output_type": "stream",
     "text": [
      "\n",
      "chunk:  42%|██████████████████████████▎                                    | 221/529 [00:00<00:10, 28.25it/s, now=None]\u001b[A\n",
      "chunk:  83%|████████████████████████████████████████████████████▍          | 440/529 [00:00<00:02, 40.14it/s, now=None]\u001b[A\n",
      "chunk:   6%|███▉                                                            | 25/408 [08:21<00:19, 19.28it/s, now=None]\u001b[A"
     ]
    },
    {
     "name": "stdout",
     "output_type": "stream",
     "text": [
      "MoviePy - Done.\n"
     ]
    },
    {
     "name": "stderr",
     "output_type": "stream",
     "text": [
      "chunk:   6%|███▉                                                            | 25/408 [08:21<00:19, 19.28it/s, now=None]\n",
      "chunk:   0%|                                                                         | 0/883 [00:00<?, ?it/s, now=None]\u001b[A\n",
      "chunk:  12%|███████▍                                                     | 108/883 [00:00<00:00, 1070.20it/s, now=None]\u001b[A"
     ]
    },
    {
     "name": "stdout",
     "output_type": "stream",
     "text": [
      "MoviePy - Writing audio in ./data/audio/trial_lie_audio_059.wav\n"
     ]
    },
    {
     "name": "stderr",
     "output_type": "stream",
     "text": [
      "\n",
      "chunk:  40%|████████████████████████▋                                    | 357/883 [00:00<00:00, 1289.57it/s, now=None]\u001b[A\n",
      "chunk:  69%|██████████████████████████████████████████▎                  | 612/883 [00:00<00:00, 1509.40it/s, now=None]\u001b[A\n",
      "chunk:  98%|███████████████████████████████████████████████████████████▉ | 867/883 [00:00<00:00, 1717.61it/s, now=None]\u001b[A\n",
      "chunk:   6%|███▉                                                            | 25/408 [08:22<00:19, 19.28it/s, now=None]\u001b[A\n",
      "chunk:   0%|                                                                         | 0/961 [00:00<?, ?it/s, now=None]\u001b[A\n",
      "chunk:   1%|▌                                                                | 9/961 [00:00<00:10, 89.35it/s, now=None]\u001b[A"
     ]
    },
    {
     "name": "stdout",
     "output_type": "stream",
     "text": [
      "MoviePy - Done.\n",
      "MoviePy - Writing audio in ./data/myprosody/dataset/audioFiles/trial_lie_audio_059.wav\n"
     ]
    },
    {
     "name": "stderr",
     "output_type": "stream",
     "text": [
      "\n",
      "chunk:  24%|███████████████▏                                              | 235/961 [00:00<00:05, 125.50it/s, now=None]\u001b[A\n",
      "chunk:  48%|██████████████████████████████                                | 466/961 [00:00<00:02, 175.17it/s, now=None]\u001b[A\n",
      "chunk:  72%|████████████████████████████████████████████▊                 | 694/961 [00:00<00:01, 242.21it/s, now=None]\u001b[A\n",
      "chunk:  97%|████████████████████████████████████████████████████████████  | 931/961 [00:00<00:00, 331.40it/s, now=None]\u001b[A\n",
      "chunk:   6%|███▉                                                            | 25/408 [08:22<00:19, 19.28it/s, now=None]\u001b[A"
     ]
    },
    {
     "name": "stdout",
     "output_type": "stream",
     "text": [
      "MoviePy - Done.\n"
     ]
    },
    {
     "name": "stderr",
     "output_type": "stream",
     "text": [
      "chunk:   6%|███▉                                                            | 25/408 [08:23<00:19, 19.28it/s, now=None]\n",
      "chunk:   0%|                                                                         | 0/552 [00:00<?, ?it/s, now=None]\u001b[A\n",
      "chunk:  23%|██████████████▎                                              | 129/552 [00:00<00:00, 1280.65it/s, now=None]\u001b[A"
     ]
    },
    {
     "name": "stdout",
     "output_type": "stream",
     "text": [
      "MoviePy - Writing audio in ./data/audio/trial_lie_audio_060.wav\n"
     ]
    },
    {
     "name": "stderr",
     "output_type": "stream",
     "text": [
      "\n",
      "chunk:  69%|██████████████████████████████████████████▏                  | 382/552 [00:00<00:00, 1501.40it/s, now=None]\u001b[A\n",
      "chunk:   6%|███▉                                                            | 25/408 [08:23<00:19, 19.28it/s, now=None]\u001b[A\n",
      "chunk:   0%|                                                                         | 0/601 [00:00<?, ?it/s, now=None]\u001b[A\n",
      "chunk:   2%|█▏                                                             | 11/601 [00:00<00:05, 109.70it/s, now=None]\u001b[A"
     ]
    },
    {
     "name": "stdout",
     "output_type": "stream",
     "text": [
      "MoviePy - Done.\n",
      "MoviePy - Writing audio in ./data/myprosody/dataset/audioFiles/trial_lie_audio_060.wav\n"
     ]
    },
    {
     "name": "stderr",
     "output_type": "stream",
     "text": [
      "\n",
      "chunk:  40%|████████████████████████▊                                     | 240/601 [00:00<00:02, 153.54it/s, now=None]\u001b[A\n",
      "chunk:  76%|██████████████████████████████████████████████▉               | 455/601 [00:00<00:00, 212.78it/s, now=None]\u001b[A\n",
      "chunk:   6%|███▉                                                            | 25/408 [08:23<00:19, 19.28it/s, now=None]\u001b[A"
     ]
    },
    {
     "name": "stdout",
     "output_type": "stream",
     "text": [
      "MoviePy - Done.\n"
     ]
    },
    {
     "name": "stderr",
     "output_type": "stream",
     "text": [
      "chunk:   6%|███▉                                                            | 25/408 [08:24<00:19, 19.28it/s, now=None]\n",
      "chunk:   0%|                                                                         | 0/641 [00:00<?, ?it/s, now=None]\u001b[A\n",
      "chunk:  16%|█████████▋                                                   | 102/641 [00:00<00:00, 1012.56it/s, now=None]\u001b[A"
     ]
    },
    {
     "name": "stdout",
     "output_type": "stream",
     "text": [
      "MoviePy - Writing audio in ./data/audio/trial_lie_audio_061.wav\n"
     ]
    },
    {
     "name": "stderr",
     "output_type": "stream",
     "text": [
      "\n",
      "chunk:  56%|█████████████████████████████████▉                           | 357/641 [00:00<00:00, 1231.27it/s, now=None]\u001b[A\n",
      "chunk:  95%|██████████████████████████████████████████████████████████▏  | 612/641 [00:00<00:00, 1452.99it/s, now=None]\u001b[A\n",
      "chunk:   6%|███▉                                                            | 25/408 [08:24<00:19, 19.28it/s, now=None]\u001b[A\n",
      "chunk:   0%|                                                                         | 0/697 [00:00<?, ?it/s, now=None]\u001b[A\n",
      "chunk:   2%|█▍                                                             | 16/697 [00:00<00:04, 158.84it/s, now=None]\u001b[A"
     ]
    },
    {
     "name": "stdout",
     "output_type": "stream",
     "text": [
      "MoviePy - Done.\n",
      "MoviePy - Writing audio in ./data/myprosody/dataset/audioFiles/trial_lie_audio_061.wav\n"
     ]
    },
    {
     "name": "stderr",
     "output_type": "stream",
     "text": [
      "\n",
      "chunk:  32%|███████████████████▌                                          | 220/697 [00:00<00:02, 219.53it/s, now=None]\u001b[A\n",
      "chunk:  63%|███████████████████████████████████████▏                      | 440/697 [00:00<00:00, 300.06it/s, now=None]\u001b[A\n",
      "chunk:  95%|██████████████████████████████████████████████████████████▋   | 660/697 [00:00<00:00, 403.70it/s, now=None]\u001b[A\n",
      "chunk:   6%|███▉                                                            | 25/408 [08:25<00:19, 19.28it/s, now=None]\u001b[A"
     ]
    },
    {
     "name": "stdout",
     "output_type": "stream",
     "text": [
      "MoviePy - Done.\n"
     ]
    },
    {
     "name": "stderr",
     "output_type": "stream",
     "text": [
      "chunk:   6%|███▉                                                            | 25/408 [08:25<00:19, 19.28it/s, now=None]\n",
      "chunk:   0%|                                                                         | 0/303 [00:00<?, ?it/s, now=None]\u001b[A\n",
      "chunk:  40%|████████████████████████▌                                    | 122/303 [00:00<00:00, 1211.18it/s, now=None]\u001b[A\n"
     ]
    },
    {
     "name": "stdout",
     "output_type": "stream",
     "text": [
      "MoviePy - Writing audio in ./data/audio/trial_truth_audio_001.wav\n"
     ]
    },
    {
     "name": "stderr",
     "output_type": "stream",
     "text": [
      "chunk:   6%|███▉                                                            | 25/408 [08:25<00:19, 19.28it/s, now=None]\u001b[A\n",
      "chunk:   0%|                                                                         | 0/330 [00:00<?, ?it/s, now=None]\u001b[A\n",
      "chunk:   1%|▍                                                                | 2/330 [00:00<00:16, 19.44it/s, now=None]\u001b[A"
     ]
    },
    {
     "name": "stdout",
     "output_type": "stream",
     "text": [
      "MoviePy - Done.\n",
      "MoviePy - Writing audio in ./data/myprosody/dataset/audioFiles/trial_truth_audio_001.wav\n"
     ]
    },
    {
     "name": "stderr",
     "output_type": "stream",
     "text": [
      "\n",
      "chunk:  67%|██████████████████████████████████████████▏                    | 221/330 [00:00<00:03, 27.66it/s, now=None]\u001b[A\n",
      "chunk:   6%|███▉                                                            | 25/408 [08:25<00:19, 19.28it/s, now=None]\u001b[A"
     ]
    },
    {
     "name": "stdout",
     "output_type": "stream",
     "text": [
      "MoviePy - Done.\n"
     ]
    },
    {
     "name": "stderr",
     "output_type": "stream",
     "text": [
      "chunk:   6%|███▉                                                            | 25/408 [08:26<00:19, 19.28it/s, now=None]\n",
      "chunk:   0%|                                                                         | 0/437 [00:00<?, ?it/s, now=None]\u001b[A\n",
      "chunk:  27%|████████████████▎                                            | 117/437 [00:00<00:00, 1161.53it/s, now=None]\u001b[A"
     ]
    },
    {
     "name": "stdout",
     "output_type": "stream",
     "text": [
      "MoviePy - Writing audio in ./data/audio/trial_truth_audio_002.wav\n"
     ]
    },
    {
     "name": "stderr",
     "output_type": "stream",
     "text": [
      "\n",
      "chunk:  83%|██████████████████████████████████████████████████▍          | 361/437 [00:00<00:00, 1376.45it/s, now=None]\u001b[A\n",
      "chunk:   6%|███▉                                                            | 25/408 [08:26<00:19, 19.28it/s, now=None]\u001b[A\n",
      "chunk:   0%|                                                                         | 0/476 [00:00<?, ?it/s, now=None]\u001b[A\n",
      "chunk:   6%|███▋                                                           | 28/476 [00:00<00:01, 267.39it/s, now=None]\u001b[A"
     ]
    },
    {
     "name": "stdout",
     "output_type": "stream",
     "text": [
      "MoviePy - Done.\n",
      "MoviePy - Writing audio in ./data/myprosody/dataset/audioFiles/trial_truth_audio_002.wav\n"
     ]
    },
    {
     "name": "stderr",
     "output_type": "stream",
     "text": [
      "\n",
      "chunk:  58%|███████████████████████████████████▊                          | 275/476 [00:00<00:00, 363.95it/s, now=None]\u001b[A\n",
      "chunk:   6%|███▉                                                            | 25/408 [08:26<00:19, 19.28it/s, now=None]\u001b[A"
     ]
    },
    {
     "name": "stdout",
     "output_type": "stream",
     "text": [
      "MoviePy - Done.\n"
     ]
    },
    {
     "name": "stderr",
     "output_type": "stream",
     "text": [
      "chunk:   6%|███▉                                                            | 25/408 [08:27<00:19, 19.28it/s, now=None]\n",
      "chunk:   0%|                                                                         | 0/281 [00:00<?, ?it/s, now=None]\u001b[A\n",
      "chunk:  37%|██████████████████████▌                                      | 104/281 [00:00<00:00, 1032.47it/s, now=None]\u001b[A\n"
     ]
    },
    {
     "name": "stdout",
     "output_type": "stream",
     "text": [
      "MoviePy - Writing audio in ./data/audio/trial_truth_audio_003.wav\n"
     ]
    },
    {
     "name": "stderr",
     "output_type": "stream",
     "text": [
      "chunk:   6%|███▉                                                            | 25/408 [08:27<00:19, 19.28it/s, now=None]\u001b[A\n",
      "chunk:   0%|                                                                         | 0/306 [00:00<?, ?it/s, now=None]\u001b[A\n",
      "chunk:   1%|▍                                                                | 2/306 [00:00<00:19, 15.92it/s, now=None]\u001b[A"
     ]
    },
    {
     "name": "stdout",
     "output_type": "stream",
     "text": [
      "MoviePy - Done.\n",
      "MoviePy - Writing audio in ./data/myprosody/dataset/audioFiles/trial_truth_audio_003.wav\n"
     ]
    },
    {
     "name": "stderr",
     "output_type": "stream",
     "text": [
      "\n",
      "chunk:  72%|█████████████████████████████████████████████▎                 | 220/306 [00:00<00:03, 22.66it/s, now=None]\u001b[A\n",
      "chunk:   6%|███▉                                                            | 25/408 [08:27<00:19, 19.28it/s, now=None]\u001b[A"
     ]
    },
    {
     "name": "stdout",
     "output_type": "stream",
     "text": [
      "MoviePy - Done.\n"
     ]
    },
    {
     "name": "stderr",
     "output_type": "stream",
     "text": [
      "chunk:   6%|███▉                                                            | 25/408 [08:28<00:19, 19.28it/s, now=None]\n",
      "chunk:   0%|                                                                        | 0/1796 [00:00<?, ?it/s, now=None]\u001b[A\n",
      "chunk:   5%|██▊                                                           | 82/1796 [00:00<00:02, 813.78it/s, now=None]\u001b[A"
     ]
    },
    {
     "name": "stdout",
     "output_type": "stream",
     "text": [
      "MoviePy - Writing audio in ./data/audio/trial_truth_audio_004.wav\n"
     ]
    },
    {
     "name": "stderr",
     "output_type": "stream",
     "text": [
      "\n",
      "chunk:  17%|██████████▏                                                 | 304/1796 [00:00<00:01, 1001.00it/s, now=None]\u001b[A\n",
      "chunk:  30%|██████████████████                                          | 541/1796 [00:00<00:01, 1209.44it/s, now=None]\u001b[A\n",
      "chunk:  41%|████████████████████████▊                                   | 741/1796 [00:00<00:00, 1370.10it/s, now=None]\u001b[A\n",
      "chunk:  54%|████████████████████████████████                            | 961/1796 [00:00<00:00, 1526.60it/s, now=None]\u001b[A\n",
      "chunk:  66%|██████████████████████████████████████▉                    | 1185/1796 [00:00<00:00, 1685.02it/s, now=None]\u001b[A\n",
      "chunk:  79%|██████████████████████████████████████████████▌            | 1416/1796 [00:00<00:00, 1830.66it/s, now=None]\u001b[A\n",
      "chunk:  92%|██████████████████████████████████████████████████████▎    | 1655/1796 [00:00<00:00, 1965.62it/s, now=None]\u001b[A\n",
      "chunk:   6%|███▉                                                            | 25/408 [08:29<00:19, 19.28it/s, now=None]\u001b[A\n",
      "chunk:   0%|                                                                        | 0/1955 [00:00<?, ?it/s, now=None]\u001b[A\n",
      "chunk:   0%|                                                                | 2/1955 [00:00<02:03, 15.78it/s, now=None]\u001b[A"
     ]
    },
    {
     "name": "stdout",
     "output_type": "stream",
     "text": [
      "MoviePy - Done.\n",
      "MoviePy - Writing audio in ./data/myprosody/dataset/audioFiles/trial_truth_audio_004.wav\n"
     ]
    },
    {
     "name": "stderr",
     "output_type": "stream",
     "text": [
      "\n",
      "chunk:  11%|██████▉                                                       | 220/1955 [00:00<01:17, 22.47it/s, now=None]\u001b[A\n",
      "chunk:  23%|█████████████▉                                                | 440/1955 [00:00<00:47, 31.96it/s, now=None]\u001b[A\n",
      "chunk:  34%|████████████████████▉                                         | 660/1955 [00:00<00:28, 45.36it/s, now=None]\u001b[A\n",
      "chunk:  45%|███████████████████████████▉                                  | 880/1955 [00:00<00:16, 64.22it/s, now=None]\u001b[A\n",
      "chunk:  56%|██████████████████████████████████▎                          | 1100/1955 [00:00<00:09, 90.60it/s, now=None]\u001b[A\n",
      "chunk:  68%|████████████████████████████████████████▌                   | 1321/1955 [00:00<00:04, 127.18it/s, now=None]\u001b[A\n",
      "chunk:  79%|███████████████████████████████████████████████▎            | 1541/1955 [00:00<00:02, 177.27it/s, now=None]\u001b[A\n",
      "chunk:  90%|██████████████████████████████████████████████████████      | 1763/1955 [00:00<00:00, 244.80it/s, now=None]\u001b[A\n",
      "chunk:   6%|███▉                                                            | 25/408 [08:30<00:19, 19.28it/s, now=None]\u001b[A"
     ]
    },
    {
     "name": "stdout",
     "output_type": "stream",
     "text": [
      "MoviePy - Done.\n"
     ]
    },
    {
     "name": "stderr",
     "output_type": "stream",
     "text": [
      "chunk:   6%|███▉                                                            | 25/408 [08:30<00:19, 19.28it/s, now=None]\n",
      "chunk:   0%|                                                                         | 0/767 [00:00<?, ?it/s, now=None]\u001b[A\n",
      "chunk:  17%|██████████▎                                                  | 129/767 [00:00<00:00, 1280.65it/s, now=None]\u001b[A"
     ]
    },
    {
     "name": "stdout",
     "output_type": "stream",
     "text": [
      "MoviePy - Writing audio in ./data/audio/trial_truth_audio_005.wav\n"
     ]
    },
    {
     "name": "stderr",
     "output_type": "stream",
     "text": [
      "\n",
      "chunk:  49%|█████████████████████████████▋                               | 373/767 [00:00<00:00, 1491.49it/s, now=None]\u001b[A\n",
      "chunk:  80%|████████████████████████████████████████████████▋            | 612/767 [00:00<00:00, 1678.50it/s, now=None]\u001b[A\n",
      "chunk:   6%|███▉                                                            | 25/408 [08:31<00:19, 19.28it/s, now=None]\u001b[A\n",
      "chunk:   0%|                                                                         | 0/835 [00:00<?, ?it/s, now=None]\u001b[A\n",
      "chunk:   0%|▏                                                                | 2/835 [00:00<00:52, 15.79it/s, now=None]\u001b[A"
     ]
    },
    {
     "name": "stdout",
     "output_type": "stream",
     "text": [
      "MoviePy - Done.\n",
      "MoviePy - Writing audio in ./data/myprosody/dataset/audioFiles/trial_truth_audio_005.wav\n"
     ]
    },
    {
     "name": "stderr",
     "output_type": "stream",
     "text": [
      "\n",
      "chunk:  26%|████████████████▌                                              | 220/835 [00:00<00:27, 22.48it/s, now=None]\u001b[A\n",
      "chunk:  53%|█████████████████████████████████▏                             | 440/835 [00:00<00:12, 31.97it/s, now=None]\u001b[A\n",
      "chunk:  79%|█████████████████████████████████████████████████▊             | 660/835 [00:00<00:03, 45.39it/s, now=None]\u001b[A\n",
      "chunk:   6%|███▉                                                            | 25/408 [08:31<00:19, 19.28it/s, now=None]\u001b[A"
     ]
    },
    {
     "name": "stdout",
     "output_type": "stream",
     "text": [
      "MoviePy - Done.\n"
     ]
    },
    {
     "name": "stderr",
     "output_type": "stream",
     "text": [
      "chunk:   6%|███▉                                                            | 25/408 [08:32<00:19, 19.28it/s, now=None]\n",
      "chunk:   0%|                                                                         | 0/675 [00:00<?, ?it/s, now=None]\u001b[A\n",
      "chunk:  19%|███████████▊                                                 | 131/675 [00:00<00:00, 1300.00it/s, now=None]\u001b[A"
     ]
    },
    {
     "name": "stdout",
     "output_type": "stream",
     "text": [
      "MoviePy - Writing audio in ./data/audio/trial_truth_audio_006.wav\n"
     ]
    },
    {
     "name": "stderr",
     "output_type": "stream",
     "text": [
      "\n",
      "chunk:  54%|████████████████████████████████▊                            | 363/675 [00:00<00:00, 1495.41it/s, now=None]\u001b[A\n",
      "chunk:  91%|███████████████████████████████████████████████████████▎     | 612/675 [00:00<00:00, 1679.28it/s, now=None]\u001b[A\n",
      "chunk:   6%|███▉                                                            | 25/408 [08:32<00:19, 19.28it/s, now=None]\u001b[A\n",
      "chunk:   0%|                                                                         | 0/735 [00:00<?, ?it/s, now=None]\u001b[A\n",
      "chunk:   0%|▏                                                                | 2/735 [00:00<00:44, 16.30it/s, now=None]\u001b[A"
     ]
    },
    {
     "name": "stdout",
     "output_type": "stream",
     "text": [
      "MoviePy - Done.\n",
      "MoviePy - Writing audio in ./data/myprosody/dataset/audioFiles/trial_truth_audio_006.wav\n"
     ]
    },
    {
     "name": "stderr",
     "output_type": "stream",
     "text": [
      "\n",
      "chunk:  31%|███████████████████▋                                           | 229/735 [00:00<00:21, 23.21it/s, now=None]\u001b[A\n",
      "chunk:  62%|███████████████████████████████████████                        | 455/735 [00:00<00:08, 33.01it/s, now=None]\u001b[A\n",
      "chunk:  90%|████████████████████████████████████████████████████████▌      | 660/735 [00:00<00:01, 46.83it/s, now=None]\u001b[A\n",
      "chunk:   6%|███▉                                                            | 25/408 [08:33<00:19, 19.28it/s, now=None]\u001b[A"
     ]
    },
    {
     "name": "stdout",
     "output_type": "stream",
     "text": [
      "MoviePy - Done.\n"
     ]
    },
    {
     "name": "stderr",
     "output_type": "stream",
     "text": [
      "chunk:   6%|███▉                                                            | 25/408 [08:33<00:19, 19.28it/s, now=None]\n",
      "chunk:   0%|                                                                        | 0/1579 [00:00<?, ?it/s, now=None]\u001b[A\n",
      "chunk:   7%|████▍                                                       | 117/1579 [00:00<00:01, 1160.89it/s, now=None]\u001b[A"
     ]
    },
    {
     "name": "stdout",
     "output_type": "stream",
     "text": [
      "MoviePy - Writing audio in ./data/audio/trial_truth_audio_007.wav\n"
     ]
    },
    {
     "name": "stderr",
     "output_type": "stream",
     "text": [
      "\n",
      "chunk:  23%|█████████████▌                                              | 357/1579 [00:00<00:00, 1369.63it/s, now=None]\u001b[A\n",
      "chunk:  39%|███████████████████████▏                                    | 611/1579 [00:00<00:00, 1587.25it/s, now=None]\u001b[A\n",
      "chunk:  53%|███████████████████████████████▊                            | 836/1579 [00:00<00:00, 1738.17it/s, now=None]\u001b[A\n",
      "chunk:  68%|████████████████████████████████████████                   | 1071/1579 [00:00<00:00, 1855.20it/s, now=None]\u001b[A\n",
      "chunk:  84%|█████████████████████████████████████████████████▌         | 1326/1579 [00:00<00:00, 1993.26it/s, now=None]\u001b[A\n",
      "chunk: 100%|███████████████████████████████████████████████████████████| 1579/1579 [00:00<00:00, 2124.98it/s, now=None]\u001b[A\n",
      "chunk:   6%|███▉                                                            | 25/408 [08:34<00:19, 19.28it/s, now=None]\u001b[A\n",
      "chunk:   0%|                                                                        | 0/1718 [00:00<?, ?it/s, now=None]\u001b[A\n",
      "chunk:   0%|                                                                | 2/1718 [00:00<01:41, 16.84it/s, now=None]\u001b[A"
     ]
    },
    {
     "name": "stdout",
     "output_type": "stream",
     "text": [
      "MoviePy - Done.\n",
      "MoviePy - Writing audio in ./data/myprosody/dataset/audioFiles/trial_truth_audio_007.wav\n"
     ]
    },
    {
     "name": "stderr",
     "output_type": "stream",
     "text": [
      "\n",
      "chunk:  13%|███████▉                                                      | 220/1718 [00:00<01:02, 23.98it/s, now=None]\u001b[A\n",
      "chunk:  26%|███████████████▉                                              | 440/1718 [00:00<00:37, 34.09it/s, now=None]\u001b[A\n",
      "chunk:  38%|███████████████████████▊                                      | 660/1718 [00:00<00:21, 48.38it/s, now=None]\u001b[A\n",
      "chunk:  51%|███████████████████████████████▊                              | 880/1718 [00:00<00:12, 68.44it/s, now=None]\u001b[A\n",
      "chunk:  64%|███████████████████████████████████████▏                     | 1103/1718 [00:00<00:06, 96.49it/s, now=None]\u001b[A\n",
      "chunk:  77%|██████████████████████████████████████████████▍             | 1329/1718 [00:00<00:02, 135.35it/s, now=None]\u001b[A\n",
      "chunk:  90%|██████████████████████████████████████████████████████      | 1548/1718 [00:00<00:00, 188.33it/s, now=None]\u001b[A\n",
      "chunk:   6%|███▉                                                            | 25/408 [08:35<00:19, 19.28it/s, now=None]\u001b[A"
     ]
    },
    {
     "name": "stdout",
     "output_type": "stream",
     "text": [
      "MoviePy - Done.\n"
     ]
    },
    {
     "name": "stderr",
     "output_type": "stream",
     "text": [
      "chunk:   6%|███▉                                                            | 25/408 [08:35<00:19, 19.28it/s, now=None]\n",
      "chunk:   0%|                                                                         | 0/979 [00:00<?, ?it/s, now=None]\u001b[A\n",
      "chunk:  13%|███████▋                                                     | 123/979 [00:00<00:00, 1221.09it/s, now=None]\u001b[A"
     ]
    },
    {
     "name": "stdout",
     "output_type": "stream",
     "text": [
      "MoviePy - Writing audio in ./data/audio/trial_truth_audio_008.wav\n"
     ]
    },
    {
     "name": "stderr",
     "output_type": "stream",
     "text": [
      "\n",
      "chunk:  37%|██████████████████████▊                                      | 366/979 [00:00<00:00, 1433.45it/s, now=None]\u001b[A\n",
      "chunk:  63%|██████████████████████████████████████▏                      | 612/979 [00:00<00:00, 1636.20it/s, now=None]\u001b[A\n",
      "chunk:  89%|██████████████████████████████████████████████████████       | 867/979 [00:00<00:00, 1822.57it/s, now=None]\u001b[A\n",
      "chunk:   6%|███▉                                                            | 25/408 [08:36<00:19, 19.28it/s, now=None]\u001b[A\n",
      "chunk:   0%|                                                                        | 0/1065 [00:00<?, ?it/s, now=None]\u001b[A\n",
      "chunk:   0%|                                                                | 2/1065 [00:00<00:56, 18.92it/s, now=None]\u001b[A"
     ]
    },
    {
     "name": "stdout",
     "output_type": "stream",
     "text": [
      "MoviePy - Done.\n",
      "MoviePy - Writing audio in ./data/myprosody/dataset/audioFiles/trial_truth_audio_008.wav\n"
     ]
    },
    {
     "name": "stderr",
     "output_type": "stream",
     "text": [
      "\n",
      "chunk:  18%|███████████▎                                                  | 195/1065 [00:00<00:32, 26.91it/s, now=None]\u001b[A\n",
      "chunk:  38%|███████████████████████▌                                      | 404/1065 [00:00<00:17, 38.23it/s, now=None]\u001b[A\n",
      "chunk:  59%|████████████████████████████████████▍                         | 625/1065 [00:00<00:08, 54.21it/s, now=None]\u001b[A\n",
      "chunk:  80%|█████████████████████████████████████████████████▍            | 849/1065 [00:00<00:02, 76.65it/s, now=None]\u001b[A\n",
      "chunk:   6%|███▉                                                            | 25/408 [08:36<00:19, 19.28it/s, now=None]\u001b[A"
     ]
    },
    {
     "name": "stdout",
     "output_type": "stream",
     "text": [
      "MoviePy - Done.\n"
     ]
    },
    {
     "name": "stderr",
     "output_type": "stream",
     "text": [
      "chunk:   6%|███▉                                                            | 25/408 [08:37<00:19, 19.28it/s, now=None]\n",
      "chunk:   0%|                                                                         | 0/498 [00:00<?, ?it/s, now=None]\u001b[A\n",
      "chunk:  24%|██████████████▌                                              | 119/498 [00:00<00:00, 1188.40it/s, now=None]\u001b[A"
     ]
    },
    {
     "name": "stdout",
     "output_type": "stream",
     "text": [
      "MoviePy - Writing audio in ./data/audio/trial_truth_audio_009.wav\n"
     ]
    },
    {
     "name": "stderr",
     "output_type": "stream",
     "text": [
      "\n",
      "chunk:  72%|███████████████████████████████████████████▋                 | 357/498 [00:00<00:00, 1395.17it/s, now=None]\u001b[A\n",
      "chunk:   6%|███▉                                                            | 25/408 [08:37<00:19, 19.28it/s, now=None]\u001b[A\n",
      "chunk:   0%|                                                                         | 0/542 [00:00<?, ?it/s, now=None]\u001b[A"
     ]
    },
    {
     "name": "stdout",
     "output_type": "stream",
     "text": [
      "MoviePy - Done.\n",
      "MoviePy - Writing audio in ./data/myprosody/dataset/audioFiles/trial_truth_audio_009.wav\n"
     ]
    },
    {
     "name": "stderr",
     "output_type": "stream",
     "text": [
      "\n",
      "chunk:   4%|██▍                                                            | 21/542 [00:00<00:02, 208.48it/s, now=None]\u001b[A\n",
      "chunk:  47%|████████████████████████████▉                                 | 253/542 [00:00<00:01, 286.70it/s, now=None]\u001b[A\n",
      "chunk:  90%|███████████████████████████████████████████████████████▊      | 488/542 [00:00<00:00, 389.08it/s, now=None]\u001b[A\n",
      "chunk:   6%|███▉                                                            | 25/408 [08:38<00:19, 19.28it/s, now=None]\u001b[A"
     ]
    },
    {
     "name": "stdout",
     "output_type": "stream",
     "text": [
      "MoviePy - Done.\n"
     ]
    },
    {
     "name": "stderr",
     "output_type": "stream",
     "text": [
      "chunk:   6%|███▉                                                            | 25/408 [08:38<00:19, 19.28it/s, now=None]\n",
      "chunk:   0%|                                                                        | 0/1591 [00:00<?, ?it/s, now=None]\u001b[A\n",
      "chunk:   7%|████▏                                                       | 111/1591 [00:00<00:01, 1101.94it/s, now=None]\u001b[A"
     ]
    },
    {
     "name": "stdout",
     "output_type": "stream",
     "text": [
      "MoviePy - Writing audio in ./data/audio/trial_truth_audio_010.wav\n"
     ]
    },
    {
     "name": "stderr",
     "output_type": "stream",
     "text": [
      "\n",
      "chunk:  23%|█████████████▌                                              | 360/1591 [00:00<00:00, 1321.69it/s, now=None]\u001b[A\n",
      "chunk:  38%|███████████████████████                                     | 612/1591 [00:00<00:00, 1533.84it/s, now=None]\u001b[A\n",
      "chunk:  54%|████████████████████████████████▋                           | 867/1591 [00:00<00:00, 1732.55it/s, now=None]\u001b[A\n",
      "chunk:  67%|███████████████████████████████████████▋                   | 1071/1591 [00:00<00:00, 1782.42it/s, now=None]\u001b[A\n",
      "chunk:  83%|█████████████████████████████████████████████████▏         | 1326/1591 [00:00<00:00, 1938.27it/s, now=None]\u001b[A\n",
      "chunk:  99%|██████████████████████████████████████████████████████████▎| 1573/1591 [00:00<00:00, 2068.54it/s, now=None]\u001b[A\n",
      "chunk:   6%|███▉                                                            | 25/408 [08:39<00:19, 19.28it/s, now=None]\u001b[A\n",
      "chunk:   0%|                                                                        | 0/1732 [00:00<?, ?it/s, now=None]\u001b[A\n",
      "chunk:   1%|▎                                                               | 9/1732 [00:00<00:19, 89.35it/s, now=None]\u001b[A"
     ]
    },
    {
     "name": "stdout",
     "output_type": "stream",
     "text": [
      "MoviePy - Done.\n",
      "MoviePy - Writing audio in ./data/myprosody/dataset/audioFiles/trial_truth_audio_010.wav\n"
     ]
    },
    {
     "name": "stderr",
     "output_type": "stream",
     "text": [
      "\n",
      "chunk:  13%|███████▊                                                     | 222/1732 [00:00<00:12, 125.37it/s, now=None]\u001b[A\n",
      "chunk:  26%|███████████████▌                                             | 442/1732 [00:00<00:07, 174.80it/s, now=None]\u001b[A\n",
      "chunk:  39%|███████████████████████▊                                     | 675/1732 [00:00<00:04, 241.88it/s, now=None]\u001b[A\n",
      "chunk:  53%|████████████████████████████████                             | 911/1732 [00:00<00:02, 330.90it/s, now=None]\u001b[A\n",
      "chunk:  66%|███████████████████████████████████████▊                    | 1148/1732 [00:00<00:01, 445.85it/s, now=None]\u001b[A\n",
      "chunk:  79%|███████████████████████████████████████████████▋            | 1375/1732 [00:00<00:00, 587.14it/s, now=None]\u001b[A\n",
      "chunk:  93%|████████████████████████████████████████████████████████    | 1617/1732 [00:00<00:00, 759.25it/s, now=None]\u001b[A\n",
      "chunk:   6%|███▉                                                            | 25/408 [08:40<00:19, 19.28it/s, now=None]\u001b[A"
     ]
    },
    {
     "name": "stdout",
     "output_type": "stream",
     "text": [
      "MoviePy - Done.\n"
     ]
    },
    {
     "name": "stderr",
     "output_type": "stream",
     "text": [
      "chunk:   6%|███▉                                                            | 25/408 [08:40<00:19, 19.28it/s, now=None]\n",
      "chunk:   0%|                                                                         | 0/901 [00:00<?, ?it/s, now=None]\u001b[A\n",
      "chunk:  16%|█████████▍                                                   | 140/901 [00:00<00:00, 1389.12it/s, now=None]\u001b[A"
     ]
    },
    {
     "name": "stdout",
     "output_type": "stream",
     "text": [
      "MoviePy - Writing audio in ./data/audio/trial_truth_audio_011.wav\n"
     ]
    },
    {
     "name": "stderr",
     "output_type": "stream",
     "text": [
      "\n",
      "chunk:  45%|███████████████████████████▌                                 | 408/901 [00:00<00:00, 1604.23it/s, now=None]\u001b[A\n",
      "chunk:  76%|██████████████████████████████████████████████               | 681/901 [00:00<00:00, 1828.03it/s, now=None]\u001b[A\n",
      "chunk:   6%|███▉                                                            | 25/408 [08:40<00:19, 19.28it/s, now=None]\u001b[A\n",
      "chunk:   0%|                                                                         | 0/981 [00:00<?, ?it/s, now=None]\u001b[A\n",
      "chunk:   0%|▏                                                                | 2/981 [00:00<00:51, 18.91it/s, now=None]\u001b[A"
     ]
    },
    {
     "name": "stdout",
     "output_type": "stream",
     "text": [
      "MoviePy - Done.\n",
      "MoviePy - Writing audio in ./data/myprosody/dataset/audioFiles/trial_truth_audio_011.wav\n"
     ]
    },
    {
     "name": "stderr",
     "output_type": "stream",
     "text": [
      "\n",
      "chunk:  24%|██████████████▉                                                | 233/981 [00:00<00:27, 26.92it/s, now=None]\u001b[A\n",
      "chunk:  46%|█████████████████████████████                                  | 452/981 [00:00<00:13, 38.26it/s, now=None]\u001b[A\n",
      "chunk:  68%|██████████████████████████████████████████▉                    | 669/981 [00:00<00:05, 54.24it/s, now=None]\u001b[A\n",
      "chunk:  91%|█████████████████████████████████████████████████████████      | 889/981 [00:00<00:01, 76.67it/s, now=None]\u001b[A\n",
      "chunk:   6%|███▉                                                            | 25/408 [08:41<00:19, 19.28it/s, now=None]\u001b[A"
     ]
    },
    {
     "name": "stdout",
     "output_type": "stream",
     "text": [
      "MoviePy - Done.\n"
     ]
    },
    {
     "name": "stderr",
     "output_type": "stream",
     "text": [
      "chunk:   6%|███▉                                                            | 25/408 [08:41<00:19, 19.28it/s, now=None]\n",
      "chunk:   0%|                                                                         | 0/627 [00:00<?, ?it/s, now=None]\u001b[A\n",
      "chunk:  16%|█████████▉                                                   | 102/627 [00:00<00:00, 1002.19it/s, now=None]\u001b[A"
     ]
    },
    {
     "name": "stdout",
     "output_type": "stream",
     "text": [
      "MoviePy - Writing audio in ./data/audio/trial_truth_audio_012.wav\n"
     ]
    },
    {
     "name": "stderr",
     "output_type": "stream",
     "text": [
      "\n",
      "chunk:  57%|██████████████████████████████████▋                          | 357/627 [00:00<00:00, 1220.54it/s, now=None]\u001b[A\n",
      "chunk:  98%|███████████████████████████████████████████████████████████▌ | 612/627 [00:00<00:00, 1440.25it/s, now=None]\u001b[A\n",
      "chunk:   6%|███▉                                                            | 25/408 [08:42<00:19, 19.28it/s, now=None]\u001b[A\n",
      "chunk:   0%|                                                                         | 0/682 [00:00<?, ?it/s, now=None]\u001b[A\n",
      "chunk:   1%|▍                                                                | 4/682 [00:00<00:17, 39.68it/s, now=None]\u001b[A"
     ]
    },
    {
     "name": "stdout",
     "output_type": "stream",
     "text": [
      "MoviePy - Done.\n",
      "MoviePy - Writing audio in ./data/myprosody/dataset/audioFiles/trial_truth_audio_012.wav\n"
     ]
    },
    {
     "name": "stderr",
     "output_type": "stream",
     "text": [
      "\n",
      "chunk:  34%|█████████████████████▏                                         | 230/682 [00:00<00:08, 56.25it/s, now=None]\u001b[A\n",
      "chunk:  67%|██████████████████████████████████████████▍                    | 459/682 [00:00<00:02, 79.52it/s, now=None]\u001b[A\n",
      "chunk:   6%|███▉                                                            | 25/408 [08:42<00:19, 19.28it/s, now=None]\u001b[A"
     ]
    },
    {
     "name": "stdout",
     "output_type": "stream",
     "text": [
      "MoviePy - Done.\n"
     ]
    },
    {
     "name": "stderr",
     "output_type": "stream",
     "text": [
      "chunk:   6%|███▉                                                            | 25/408 [08:43<00:19, 19.28it/s, now=None]\n",
      "chunk:   0%|                                                                         | 0/614 [00:00<?, ?it/s, now=None]\u001b[A\n",
      "chunk:  23%|██████████████▏                                              | 143/614 [00:00<00:00, 1419.63it/s, now=None]\u001b[A"
     ]
    },
    {
     "name": "stdout",
     "output_type": "stream",
     "text": [
      "MoviePy - Writing audio in ./data/audio/trial_truth_audio_013.wav\n"
     ]
    },
    {
     "name": "stderr",
     "output_type": "stream",
     "text": [
      "\n",
      "chunk:  64%|██████████████████████████████████████▊                      | 391/614 [00:00<00:00, 1626.18it/s, now=None]\u001b[A\n",
      "chunk:   6%|███▉                                                            | 25/408 [08:43<00:19, 19.28it/s, now=None]\u001b[A\n",
      "chunk:   0%|                                                                         | 0/668 [00:00<?, ?it/s, now=None]\u001b[A\n",
      "chunk:   0%|▏                                                                | 2/668 [00:00<00:34, 19.46it/s, now=None]\u001b[A"
     ]
    },
    {
     "name": "stdout",
     "output_type": "stream",
     "text": [
      "MoviePy - Done.\n",
      "MoviePy - Writing audio in ./data/myprosody/dataset/audioFiles/trial_truth_audio_013.wav\n"
     ]
    },
    {
     "name": "stderr",
     "output_type": "stream",
     "text": [
      "\n",
      "chunk:  37%|███████████████████████                                        | 245/668 [00:00<00:15, 27.71it/s, now=None]\u001b[A\n",
      "chunk:  72%|█████████████████████████████████████████████▎                 | 480/668 [00:00<00:04, 39.38it/s, now=None]\u001b[A\n",
      "chunk:   6%|███▉                                                            | 25/408 [08:43<00:19, 19.28it/s, now=None]\u001b[A"
     ]
    },
    {
     "name": "stdout",
     "output_type": "stream",
     "text": [
      "MoviePy - Done.\n"
     ]
    },
    {
     "name": "stderr",
     "output_type": "stream",
     "text": [
      "chunk:   6%|███▉                                                            | 25/408 [08:44<00:19, 19.28it/s, now=None]\n",
      "chunk:   0%|                                                                         | 0/280 [00:00<?, ?it/s, now=None]\u001b[A\n",
      "chunk:  36%|██████████████████████▏                                      | 102/280 [00:00<00:00, 1012.19it/s, now=None]\u001b[A\n"
     ]
    },
    {
     "name": "stdout",
     "output_type": "stream",
     "text": [
      "MoviePy - Writing audio in ./data/audio/trial_truth_audio_014.wav\n"
     ]
    },
    {
     "name": "stderr",
     "output_type": "stream",
     "text": [
      "chunk:   6%|███▉                                                            | 25/408 [08:44<00:19, 19.28it/s, now=None]\u001b[A\n",
      "chunk:   0%|                                                                         | 0/305 [00:00<?, ?it/s, now=None]\u001b[A\n",
      "chunk:   1%|▍                                                                | 2/305 [00:00<00:15, 19.65it/s, now=None]\u001b[A"
     ]
    },
    {
     "name": "stdout",
     "output_type": "stream",
     "text": [
      "MoviePy - Done.\n",
      "MoviePy - Writing audio in ./data/myprosody/dataset/audioFiles/trial_truth_audio_014.wav\n"
     ]
    },
    {
     "name": "stderr",
     "output_type": "stream",
     "text": [
      "\n",
      "chunk:  72%|█████████████████████████████████████████████▋                 | 221/305 [00:00<00:03, 27.96it/s, now=None]\u001b[A\n",
      "chunk:   6%|███▉                                                            | 25/408 [08:44<00:19, 19.28it/s, now=None]\u001b[A"
     ]
    },
    {
     "name": "stdout",
     "output_type": "stream",
     "text": [
      "MoviePy - Done.\n"
     ]
    },
    {
     "name": "stderr",
     "output_type": "stream",
     "text": [
      "chunk:   6%|███▉                                                            | 25/408 [08:44<00:19, 19.28it/s, now=None]\n",
      "chunk:   0%|                                                                         | 0/785 [00:00<?, ?it/s, now=None]\u001b[A\n",
      "chunk:  10%|██████▌                                                        | 82/785 [00:00<00:00, 812.78it/s, now=None]\u001b[A"
     ]
    },
    {
     "name": "stdout",
     "output_type": "stream",
     "text": [
      "MoviePy - Writing audio in ./data/audio/trial_truth_audio_015.wav\n"
     ]
    },
    {
     "name": "stderr",
     "output_type": "stream",
     "text": [
      "\n",
      "chunk:  37%|███████████████████████▏                                      | 294/785 [00:00<00:00, 996.30it/s, now=None]\u001b[A\n",
      "chunk:  65%|███████████████████████████████████████▋                     | 510/785 [00:00<00:00, 1186.85it/s, now=None]\u001b[A\n",
      "chunk:  97%|███████████████████████████████████████████████████████████▍ | 765/785 [00:00<00:00, 1400.34it/s, now=None]\u001b[A\n",
      "chunk:   6%|███▉                                                            | 25/408 [08:45<00:19, 19.28it/s, now=None]\u001b[A\n",
      "chunk:   0%|                                                                         | 0/854 [00:00<?, ?it/s, now=None]\u001b[A\n",
      "chunk:   0%|▏                                                                | 2/854 [00:00<00:47, 18.06it/s, now=None]\u001b[A"
     ]
    },
    {
     "name": "stdout",
     "output_type": "stream",
     "text": [
      "MoviePy - Done.\n",
      "MoviePy - Writing audio in ./data/myprosody/dataset/audioFiles/trial_truth_audio_015.wav\n"
     ]
    },
    {
     "name": "stderr",
     "output_type": "stream",
     "text": [
      "\n",
      "chunk:  22%|█████████████▋                                                 | 186/854 [00:00<00:26, 25.69it/s, now=None]\u001b[A\n",
      "chunk:  45%|████████████████████████████▍                                  | 385/854 [00:00<00:12, 36.49it/s, now=None]\u001b[A\n",
      "chunk:  71%|████████████████████████████████████████████▋                  | 605/854 [00:00<00:04, 51.74it/s, now=None]\u001b[A\n",
      "chunk:  97%|████████████████████████████████████████████████████████████▊  | 825/854 [00:00<00:00, 73.17it/s, now=None]\u001b[A\n",
      "chunk:   6%|███▉                                                            | 25/408 [08:46<00:19, 19.28it/s, now=None]\u001b[A"
     ]
    },
    {
     "name": "stdout",
     "output_type": "stream",
     "text": [
      "MoviePy - Done.\n"
     ]
    },
    {
     "name": "stderr",
     "output_type": "stream",
     "text": [
      "chunk:   6%|███▉                                                            | 25/408 [08:46<00:19, 19.28it/s, now=None]\n",
      "chunk:   0%|                                                                         | 0/166 [00:00<?, ?it/s, now=None]\u001b[A\n",
      "chunk:  72%|███████████████████████████████████████████▋                 | 119/166 [00:00<00:00, 1181.40it/s, now=None]\u001b[A\n",
      "chunk:   6%|███▉                                                            | 25/408 [08:46<00:19, 19.28it/s, now=None]\u001b[A\n",
      "chunk:   0%|                                                                         | 0/181 [00:00<?, ?it/s, now=None]\u001b[A"
     ]
    },
    {
     "name": "stdout",
     "output_type": "stream",
     "text": [
      "MoviePy - Writing audio in ./data/audio/trial_truth_audio_016.wav\n",
      "MoviePy - Done.\n",
      "MoviePy - Writing audio in ./data/myprosody/dataset/audioFiles/trial_truth_audio_016.wav\n"
     ]
    },
    {
     "name": "stderr",
     "output_type": "stream",
     "text": [
      "\n",
      "chunk:   1%|▋                                                                | 2/181 [00:00<00:09, 19.28it/s, now=None]\u001b[A\n",
      "chunk:   6%|███▉                                                            | 25/408 [08:46<00:19, 19.28it/s, now=None]\u001b[A"
     ]
    },
    {
     "name": "stdout",
     "output_type": "stream",
     "text": [
      "MoviePy - Done.\n"
     ]
    },
    {
     "name": "stderr",
     "output_type": "stream",
     "text": [
      "chunk:   6%|███▉                                                            | 25/408 [08:47<00:19, 19.28it/s, now=None]\n",
      "chunk:   0%|                                                                         | 0/100 [00:00<?, ?it/s, now=None]\u001b[A\n",
      "chunk:  87%|██████████████████████████████████████████████████████▊        | 87/100 [00:00<00:00, 863.43it/s, now=None]\u001b[A\n",
      "chunk:   6%|███▉                                                            | 25/408 [08:47<00:19, 19.28it/s, now=None]\u001b[A\n",
      "chunk:   0%|                                                                         | 0/109 [00:00<?, ?it/s, now=None]\u001b[A"
     ]
    },
    {
     "name": "stdout",
     "output_type": "stream",
     "text": [
      "MoviePy - Writing audio in ./data/audio/trial_truth_audio_017.wav\n",
      "MoviePy - Done.\n",
      "MoviePy - Writing audio in ./data/myprosody/dataset/audioFiles/trial_truth_audio_017.wav\n"
     ]
    },
    {
     "name": "stderr",
     "output_type": "stream",
     "text": [
      "\n",
      "chunk:   2%|█▏                                                               | 2/109 [00:00<00:06, 17.74it/s, now=None]\u001b[A\n",
      "chunk:   6%|███▉                                                            | 25/408 [08:47<00:19, 19.28it/s, now=None]\u001b[A"
     ]
    },
    {
     "name": "stdout",
     "output_type": "stream",
     "text": [
      "MoviePy - Done.\n"
     ]
    },
    {
     "name": "stderr",
     "output_type": "stream",
     "text": [
      "chunk:   6%|███▉                                                            | 25/408 [08:47<00:19, 19.28it/s, now=None]\n",
      "chunk:   0%|                                                                         | 0/154 [00:00<?, ?it/s, now=None]\u001b[A\n",
      "chunk:  76%|██████████████████████████████████████████████▎              | 117/154 [00:00<00:00, 1161.54it/s, now=None]\u001b[A\n",
      "chunk:   6%|███▉                                                            | 25/408 [08:48<00:19, 19.28it/s, now=None]\u001b[A\n",
      "chunk:   0%|                                                                         | 0/168 [00:00<?, ?it/s, now=None]\u001b[A"
     ]
    },
    {
     "name": "stdout",
     "output_type": "stream",
     "text": [
      "MoviePy - Writing audio in ./data/audio/trial_truth_audio_018.wav\n",
      "MoviePy - Done.\n",
      "MoviePy - Writing audio in ./data/myprosody/dataset/audioFiles/trial_truth_audio_018.wav\n"
     ]
    },
    {
     "name": "stderr",
     "output_type": "stream",
     "text": [
      "\n",
      "chunk:   1%|▊                                                                | 2/168 [00:00<00:09, 18.23it/s, now=None]\u001b[A\n",
      "chunk:   6%|███▉                                                            | 25/408 [08:48<00:19, 19.28it/s, now=None]\u001b[A"
     ]
    },
    {
     "name": "stdout",
     "output_type": "stream",
     "text": [
      "MoviePy - Done.\n"
     ]
    },
    {
     "name": "stderr",
     "output_type": "stream",
     "text": [
      "chunk:   6%|███▉                                                            | 25/408 [08:48<00:19, 19.28it/s, now=None]\n",
      "chunk:   0%|                                                                         | 0/287 [00:00<?, ?it/s, now=None]\u001b[A\n",
      "chunk:  37%|██████████████████████▋                                      | 107/287 [00:00<00:00, 1061.88it/s, now=None]\u001b[A\n"
     ]
    },
    {
     "name": "stdout",
     "output_type": "stream",
     "text": [
      "MoviePy - Writing audio in ./data/audio/trial_truth_audio_019.wav\n"
     ]
    },
    {
     "name": "stderr",
     "output_type": "stream",
     "text": [
      "chunk:   6%|███▉                                                            | 25/408 [08:48<00:19, 19.28it/s, now=None]\u001b[A\n",
      "chunk:   0%|                                                                         | 0/313 [00:00<?, ?it/s, now=None]\u001b[A\n",
      "chunk:   1%|▍                                                                | 2/313 [00:00<00:15, 19.46it/s, now=None]\u001b[A"
     ]
    },
    {
     "name": "stdout",
     "output_type": "stream",
     "text": [
      "MoviePy - Done.\n",
      "MoviePy - Writing audio in ./data/myprosody/dataset/audioFiles/trial_truth_audio_019.wav\n"
     ]
    },
    {
     "name": "stderr",
     "output_type": "stream",
     "text": [
      "\n",
      "chunk:  71%|████████████████████████████████████████████▍                  | 221/313 [00:00<00:03, 27.69it/s, now=None]\u001b[A\n",
      "chunk:   6%|███▉                                                            | 25/408 [08:49<00:19, 19.28it/s, now=None]\u001b[A"
     ]
    },
    {
     "name": "stdout",
     "output_type": "stream",
     "text": [
      "MoviePy - Done.\n"
     ]
    },
    {
     "name": "stderr",
     "output_type": "stream",
     "text": [
      "chunk:   6%|███▉                                                            | 25/408 [08:49<00:19, 19.28it/s, now=None]\n",
      "chunk:   0%|                                                                         | 0/154 [00:00<?, ?it/s, now=None]\u001b[A\n",
      "chunk:  75%|█████████████████████████████████████████████▌               | 115/154 [00:00<00:00, 1141.66it/s, now=None]\u001b[A\n",
      "chunk:   6%|███▉                                                            | 25/408 [08:49<00:19, 19.28it/s, now=None]\u001b[A\n",
      "chunk:   0%|                                                                         | 0/167 [00:00<?, ?it/s, now=None]\u001b[A"
     ]
    },
    {
     "name": "stdout",
     "output_type": "stream",
     "text": [
      "MoviePy - Writing audio in ./data/audio/trial_truth_audio_020.wav\n",
      "MoviePy - Done.\n",
      "MoviePy - Writing audio in ./data/myprosody/dataset/audioFiles/trial_truth_audio_020.wav\n"
     ]
    },
    {
     "name": "stderr",
     "output_type": "stream",
     "text": [
      "\n",
      "chunk:   1%|▊                                                                | 2/167 [00:00<00:08, 18.92it/s, now=None]\u001b[A\n",
      "chunk:   6%|███▉                                                            | 25/408 [08:49<00:19, 19.28it/s, now=None]\u001b[A"
     ]
    },
    {
     "name": "stdout",
     "output_type": "stream",
     "text": [
      "MoviePy - Done.\n"
     ]
    },
    {
     "name": "stderr",
     "output_type": "stream",
     "text": [
      "chunk:   6%|███▉                                                            | 25/408 [08:50<00:19, 19.28it/s, now=None]\n",
      "chunk:   0%|                                                                         | 0/241 [00:00<?, ?it/s, now=None]\u001b[A\n",
      "chunk:  42%|██████████████████████████▏                                   | 102/241 [00:00<00:00, 983.40it/s, now=None]\u001b[A\n"
     ]
    },
    {
     "name": "stdout",
     "output_type": "stream",
     "text": [
      "MoviePy - Writing audio in ./data/audio/trial_truth_audio_021.wav\n"
     ]
    },
    {
     "name": "stderr",
     "output_type": "stream",
     "text": [
      "chunk:   6%|███▉                                                            | 25/408 [08:50<00:19, 19.28it/s, now=None]\u001b[A\n",
      "chunk:   0%|                                                                         | 0/263 [00:00<?, ?it/s, now=None]\u001b[A\n",
      "chunk:   1%|▍                                                                | 2/263 [00:00<00:13, 19.28it/s, now=None]\u001b[A"
     ]
    },
    {
     "name": "stdout",
     "output_type": "stream",
     "text": [
      "MoviePy - Done.\n",
      "MoviePy - Writing audio in ./data/myprosody/dataset/audioFiles/trial_truth_audio_021.wav\n"
     ]
    },
    {
     "name": "stderr",
     "output_type": "stream",
     "text": [
      "\n",
      "chunk:  86%|█████████████████████████████████████████████████████▉         | 225/263 [00:00<00:01, 27.44it/s, now=None]\u001b[A\n",
      "chunk:   6%|███▉                                                            | 25/408 [08:50<00:19, 19.28it/s, now=None]\u001b[A"
     ]
    },
    {
     "name": "stdout",
     "output_type": "stream",
     "text": [
      "MoviePy - Done.\n"
     ]
    },
    {
     "name": "stderr",
     "output_type": "stream",
     "text": [
      "chunk:   6%|███▉                                                            | 25/408 [08:51<00:19, 19.28it/s, now=None]\n",
      "chunk:   0%|                                                                         | 0/629 [00:00<?, ?it/s, now=None]\u001b[A\n",
      "chunk:  19%|███████████▎                                                 | 117/629 [00:00<00:00, 1161.51it/s, now=None]\u001b[A"
     ]
    },
    {
     "name": "stdout",
     "output_type": "stream",
     "text": [
      "MoviePy - Writing audio in ./data/audio/trial_truth_audio_022.wav\n"
     ]
    },
    {
     "name": "stderr",
     "output_type": "stream",
     "text": [
      "\n",
      "chunk:  53%|████████████████████████████████▍                            | 334/629 [00:00<00:00, 1347.85it/s, now=None]\u001b[A\n",
      "chunk:  89%|██████████████████████████████████████████████████████▍      | 561/629 [00:00<00:00, 1529.44it/s, now=None]\u001b[A\n",
      "chunk:   6%|███▉                                                            | 25/408 [08:51<00:19, 19.28it/s, now=None]\u001b[A\n",
      "chunk:   0%|                                                                         | 0/685 [00:00<?, ?it/s, now=None]\u001b[A\n",
      "chunk:   1%|▍                                                                | 5/685 [00:00<00:13, 49.62it/s, now=None]\u001b[A"
     ]
    },
    {
     "name": "stdout",
     "output_type": "stream",
     "text": [
      "MoviePy - Done.\n",
      "MoviePy - Writing audio in ./data/myprosody/dataset/audioFiles/trial_truth_audio_022.wav\n"
     ]
    },
    {
     "name": "stderr",
     "output_type": "stream",
     "text": [
      "\n",
      "chunk:  34%|█████████████████████▍                                         | 233/685 [00:00<00:06, 70.22it/s, now=None]\u001b[A\n",
      "chunk:  68%|██████████████████████████████████████████▊                    | 466/685 [00:00<00:02, 99.02it/s, now=None]\u001b[A\n",
      "chunk: 100%|██████████████████████████████████████████████████████████████| 685/685 [00:00<00:00, 138.76it/s, now=None]\u001b[A\n",
      "chunk:   6%|███▉                                                            | 25/408 [08:51<00:19, 19.28it/s, now=None]\u001b[A"
     ]
    },
    {
     "name": "stdout",
     "output_type": "stream",
     "text": [
      "MoviePy - Done.\n"
     ]
    },
    {
     "name": "stderr",
     "output_type": "stream",
     "text": [
      "chunk:   6%|███▉                                                            | 25/408 [08:52<00:19, 19.28it/s, now=None]\n",
      "chunk:   0%|                                                                         | 0/498 [00:00<?, ?it/s, now=None]\u001b[A\n",
      "chunk:  24%|██████████████▍                                              | 118/498 [00:00<00:00, 1170.47it/s, now=None]\u001b[A"
     ]
    },
    {
     "name": "stdout",
     "output_type": "stream",
     "text": [
      "MoviePy - Writing audio in ./data/audio/trial_truth_audio_023.wav\n"
     ]
    },
    {
     "name": "stderr",
     "output_type": "stream",
     "text": [
      "\n",
      "chunk:  72%|████████████████████████████████████████████                 | 360/498 [00:00<00:00, 1383.26it/s, now=None]\u001b[A\n",
      "chunk:   6%|███▉                                                            | 25/408 [08:52<00:19, 19.28it/s, now=None]\u001b[A\n",
      "chunk:   0%|                                                                         | 0/542 [00:00<?, ?it/s, now=None]\u001b[A\n",
      "chunk:   0%|▏                                                                | 2/542 [00:00<00:27, 19.85it/s, now=None]\u001b[A"
     ]
    },
    {
     "name": "stdout",
     "output_type": "stream",
     "text": [
      "MoviePy - Done.\n",
      "MoviePy - Writing audio in ./data/myprosody/dataset/audioFiles/trial_truth_audio_023.wav\n"
     ]
    },
    {
     "name": "stderr",
     "output_type": "stream",
     "text": [
      "\n",
      "chunk:  43%|██████████████████████████▊                                    | 231/542 [00:00<00:11, 28.24it/s, now=None]\u001b[A\n",
      "chunk:  86%|██████████████████████████████████████████████████████▏        | 466/542 [00:00<00:01, 40.14it/s, now=None]\u001b[A\n",
      "chunk:   6%|███▉                                                            | 25/408 [08:52<00:19, 19.28it/s, now=None]\u001b[A"
     ]
    },
    {
     "name": "stdout",
     "output_type": "stream",
     "text": [
      "MoviePy - Done.\n"
     ]
    },
    {
     "name": "stderr",
     "output_type": "stream",
     "text": [
      "chunk:   6%|███▉                                                            | 25/408 [08:53<00:19, 19.28it/s, now=None]\n",
      "chunk:   0%|                                                                         | 0/494 [00:00<?, ?it/s, now=None]\u001b[A\n",
      "chunk:  23%|██████████████▎                                              | 116/494 [00:00<00:00, 1151.59it/s, now=None]\u001b[A"
     ]
    },
    {
     "name": "stdout",
     "output_type": "stream",
     "text": [
      "MoviePy - Writing audio in ./data/audio/trial_truth_audio_024.wav\n"
     ]
    },
    {
     "name": "stderr",
     "output_type": "stream",
     "text": [
      "\n",
      "chunk:  71%|███████████████████████████████████████████▌                 | 353/494 [00:00<00:00, 1359.88it/s, now=None]\u001b[A\n",
      "chunk:   6%|███▉                                                            | 25/408 [08:53<00:19, 19.28it/s, now=None]\u001b[A\n",
      "chunk:   0%|                                                                         | 0/537 [00:00<?, ?it/s, now=None]\u001b[A\n",
      "chunk:   0%|▏                                                                | 2/537 [00:00<00:29, 18.22it/s, now=None]\u001b[A"
     ]
    },
    {
     "name": "stdout",
     "output_type": "stream",
     "text": [
      "MoviePy - Done.\n",
      "MoviePy - Writing audio in ./data/myprosody/dataset/audioFiles/trial_truth_audio_024.wav\n"
     ]
    },
    {
     "name": "stderr",
     "output_type": "stream",
     "text": [
      "\n",
      "chunk:  41%|█████████████████████████▊                                     | 220/537 [00:00<00:12, 25.94it/s, now=None]\u001b[A\n",
      "chunk:  82%|███████████████████████████████████████████████████▌           | 440/537 [00:00<00:02, 36.86it/s, now=None]\u001b[A\n",
      "chunk:   6%|███▉                                                            | 25/408 [08:54<00:19, 19.28it/s, now=None]\u001b[A"
     ]
    },
    {
     "name": "stdout",
     "output_type": "stream",
     "text": [
      "MoviePy - Done.\n"
     ]
    },
    {
     "name": "stderr",
     "output_type": "stream",
     "text": [
      "chunk:   6%|███▉                                                            | 25/408 [08:54<00:19, 19.28it/s, now=None]\n",
      "chunk:   0%|                                                                         | 0/746 [00:00<?, ?it/s, now=None]\u001b[A\n",
      "chunk:  16%|██████████                                                   | 123/746 [00:00<00:00, 1221.51it/s, now=None]\u001b[A"
     ]
    },
    {
     "name": "stdout",
     "output_type": "stream",
     "text": [
      "MoviePy - Writing audio in ./data/audio/trial_truth_audio_025.wav\n"
     ]
    },
    {
     "name": "stderr",
     "output_type": "stream",
     "text": [
      "\n",
      "chunk:  48%|█████████████████████████████▎                               | 359/746 [00:00<00:00, 1426.31it/s, now=None]\u001b[A\n",
      "chunk:  82%|██████████████████████████████████████████████████           | 612/746 [00:00<00:00, 1632.43it/s, now=None]\u001b[A\n",
      "chunk:   6%|███▉                                                            | 25/408 [08:54<00:19, 19.28it/s, now=None]\u001b[A\n",
      "chunk:   0%|                                                                         | 0/812 [00:00<?, ?it/s, now=None]\u001b[A\n",
      "chunk:   0%|▏                                                                | 2/812 [00:00<00:42, 19.10it/s, now=None]\u001b[A"
     ]
    },
    {
     "name": "stdout",
     "output_type": "stream",
     "text": [
      "MoviePy - Done.\n",
      "MoviePy - Writing audio in ./data/myprosody/dataset/audioFiles/trial_truth_audio_025.wav\n"
     ]
    },
    {
     "name": "stderr",
     "output_type": "stream",
     "text": [
      "\n",
      "chunk:  27%|█████████████████                                              | 220/812 [00:00<00:21, 27.18it/s, now=None]\u001b[A\n",
      "chunk:  54%|██████████████████████████████████▏                            | 440/812 [00:00<00:09, 38.61it/s, now=None]\u001b[A\n",
      "chunk:  72%|█████████████████████████████████████████████▌                 | 587/812 [00:00<00:04, 54.54it/s, now=None]\u001b[A\n",
      "chunk:  95%|███████████████████████████████████████████████████████████▋   | 770/812 [00:00<00:00, 76.89it/s, now=None]\u001b[A\n",
      "chunk:   6%|███▉                                                            | 25/408 [08:55<00:19, 19.28it/s, now=None]\u001b[A"
     ]
    },
    {
     "name": "stdout",
     "output_type": "stream",
     "text": [
      "MoviePy - Done.\n"
     ]
    },
    {
     "name": "stderr",
     "output_type": "stream",
     "text": [
      "chunk:   6%|███▉                                                            | 25/408 [08:55<00:19, 19.28it/s, now=None]\n",
      "chunk:   0%|                                                                         | 0/707 [00:00<?, ?it/s, now=None]\u001b[A\n",
      "chunk:  14%|████████▊                                                    | 102/707 [00:00<00:00, 1012.60it/s, now=None]\u001b[A"
     ]
    },
    {
     "name": "stdout",
     "output_type": "stream",
     "text": [
      "MoviePy - Writing audio in ./data/audio/trial_truth_audio_026.wav\n"
     ]
    },
    {
     "name": "stderr",
     "output_type": "stream",
     "text": [
      "\n",
      "chunk:  45%|███████████████████████████▎                                 | 316/707 [00:00<00:00, 1201.13it/s, now=None]\u001b[A\n",
      "chunk:  79%|████████████████████████████████████████████████▍            | 561/707 [00:00<00:00, 1406.53it/s, now=None]\u001b[A\n",
      "chunk:   6%|███▉                                                            | 25/408 [08:56<00:19, 19.28it/s, now=None]\u001b[A\n",
      "chunk:   0%|                                                                         | 0/769 [00:00<?, ?it/s, now=None]\u001b[A\n",
      "chunk:   0%|▏                                                                | 2/769 [00:00<00:40, 19.10it/s, now=None]\u001b[A"
     ]
    },
    {
     "name": "stdout",
     "output_type": "stream",
     "text": [
      "MoviePy - Done.\n",
      "MoviePy - Writing audio in ./data/myprosody/dataset/audioFiles/trial_truth_audio_026.wav\n"
     ]
    },
    {
     "name": "stderr",
     "output_type": "stream",
     "text": [
      "\n",
      "chunk:   0%|▎                                                                | 3/769 [00:00<01:20,  9.56it/s, now=None]\u001b[A\n",
      "chunk:  30%|███████████████████                                            | 232/769 [00:00<00:39, 13.63it/s, now=None]\u001b[A\n",
      "chunk:  57%|████████████████████████████████████▏                          | 442/769 [00:00<00:16, 19.42it/s, now=None]\u001b[A\n",
      "chunk:  86%|██████████████████████████████████████████████████████         | 660/769 [00:00<00:03, 27.64it/s, now=None]\u001b[A\n",
      "chunk:   6%|███▉                                                            | 25/408 [08:56<00:19, 19.28it/s, now=None]\u001b[A"
     ]
    },
    {
     "name": "stdout",
     "output_type": "stream",
     "text": [
      "MoviePy - Done.\n"
     ]
    },
    {
     "name": "stderr",
     "output_type": "stream",
     "text": [
      "chunk:   6%|███▉                                                            | 25/408 [08:57<00:19, 19.28it/s, now=None]\n",
      "chunk:   0%|                                                                         | 0/552 [00:00<?, ?it/s, now=None]\u001b[A\n",
      "chunk:  19%|███████████▌                                                 | 105/552 [00:00<00:00, 1042.04it/s, now=None]\u001b[A"
     ]
    },
    {
     "name": "stdout",
     "output_type": "stream",
     "text": [
      "MoviePy - Writing audio in ./data/audio/trial_truth_audio_027.wav\n"
     ]
    },
    {
     "name": "stderr",
     "output_type": "stream",
     "text": [
      "\n",
      "chunk:  65%|███████████████████████████████████████▌                     | 358/552 [00:00<00:00, 1263.97it/s, now=None]\u001b[A\n",
      "chunk:   6%|███▉                                                            | 25/408 [08:57<00:19, 19.28it/s, now=None]\u001b[A\n",
      "chunk:   0%|                                                                         | 0/601 [00:00<?, ?it/s, now=None]\u001b[A\n",
      "chunk:   2%|█▎                                                             | 12/601 [00:00<00:04, 119.09it/s, now=None]\u001b[A"
     ]
    },
    {
     "name": "stdout",
     "output_type": "stream",
     "text": [
      "MoviePy - Done.\n",
      "MoviePy - Writing audio in ./data/myprosody/dataset/audioFiles/trial_truth_audio_027.wav\n"
     ]
    },
    {
     "name": "stderr",
     "output_type": "stream",
     "text": [
      "\n",
      "chunk:  37%|██████████████████████▋                                       | 220/601 [00:00<00:02, 165.95it/s, now=None]\u001b[A\n",
      "chunk:  74%|█████████████████████████████████████████████▉                | 445/601 [00:00<00:00, 229.75it/s, now=None]\u001b[A\n",
      "chunk:   6%|███▉                                                            | 25/408 [08:58<00:19, 19.28it/s, now=None]\u001b[A"
     ]
    },
    {
     "name": "stdout",
     "output_type": "stream",
     "text": [
      "MoviePy - Done.\n"
     ]
    },
    {
     "name": "stderr",
     "output_type": "stream",
     "text": [
      "chunk:   6%|███▉                                                            | 25/408 [08:58<00:19, 19.28it/s, now=None]\n",
      "chunk:   0%|                                                                         | 0/398 [00:00<?, ?it/s, now=None]\u001b[A\n",
      "chunk:  26%|███████████████▋                                             | 102/398 [00:00<00:00, 1012.27it/s, now=None]\u001b[A"
     ]
    },
    {
     "name": "stdout",
     "output_type": "stream",
     "text": [
      "MoviePy - Writing audio in ./data/audio/trial_truth_audio_028.wav\n"
     ]
    },
    {
     "name": "stderr",
     "output_type": "stream",
     "text": [
      "\n",
      "chunk:  90%|██████████████████████████████████████████████████████▋      | 357/398 [00:00<00:00, 1227.41it/s, now=None]\u001b[A\n",
      "chunk:   6%|███▉                                                            | 25/408 [08:58<00:19, 19.28it/s, now=None]\u001b[A\n",
      "chunk:   0%|                                                                         | 0/433 [00:00<?, ?it/s, now=None]\u001b[A\n",
      "chunk:   0%|▎                                                                | 2/433 [00:00<00:21, 19.86it/s, now=None]\u001b[A"
     ]
    },
    {
     "name": "stdout",
     "output_type": "stream",
     "text": [
      "MoviePy - Done.\n",
      "MoviePy - Writing audio in ./data/myprosody/dataset/audioFiles/trial_truth_audio_028.wav\n"
     ]
    },
    {
     "name": "stderr",
     "output_type": "stream",
     "text": [
      "\n",
      "chunk:  52%|████████████████████████████████▋                              | 225/433 [00:00<00:07, 28.26it/s, now=None]\u001b[A\n",
      "chunk:   6%|███▉                                                            | 25/408 [08:58<00:19, 19.28it/s, now=None]\u001b[A"
     ]
    },
    {
     "name": "stdout",
     "output_type": "stream",
     "text": [
      "MoviePy - Done.\n"
     ]
    },
    {
     "name": "stderr",
     "output_type": "stream",
     "text": [
      "chunk:   6%|███▉                                                            | 25/408 [08:59<00:19, 19.28it/s, now=None]\n",
      "chunk:   0%|                                                                         | 0/508 [00:00<?, ?it/s, now=None]\u001b[A\n",
      "chunk:  22%|█████████████▌                                               | 113/508 [00:00<00:00, 1121.81it/s, now=None]\u001b[A"
     ]
    },
    {
     "name": "stdout",
     "output_type": "stream",
     "text": [
      "MoviePy - Writing audio in ./data/audio/trial_truth_audio_029.wav\n"
     ]
    },
    {
     "name": "stderr",
     "output_type": "stream",
     "text": [
      "\n",
      "chunk:  70%|██████████████████████████████████████████▊                  | 357/508 [00:00<00:00, 1332.73it/s, now=None]\u001b[A\n",
      "chunk:   6%|███▉                                                            | 25/408 [08:59<00:19, 19.28it/s, now=None]\u001b[A\n",
      "chunk:   0%|                                                                         | 0/553 [00:00<?, ?it/s, now=None]\u001b[A\n",
      "chunk:   3%|█▉                                                             | 17/553 [00:00<00:03, 168.77it/s, now=None]\u001b[A"
     ]
    },
    {
     "name": "stdout",
     "output_type": "stream",
     "text": [
      "MoviePy - Done.\n",
      "MoviePy - Writing audio in ./data/myprosody/dataset/audioFiles/trial_truth_audio_029.wav\n"
     ]
    },
    {
     "name": "stderr",
     "output_type": "stream",
     "text": [
      "\n",
      "chunk:  44%|███████████████████████████▏                                  | 243/553 [00:00<00:01, 233.57it/s, now=None]\u001b[A\n",
      "chunk:  82%|███████████████████████████████████████████████████           | 456/553 [00:00<00:00, 318.58it/s, now=None]\u001b[A\n",
      "chunk:   6%|███▉                                                            | 25/408 [09:00<00:19, 19.28it/s, now=None]\u001b[A"
     ]
    },
    {
     "name": "stdout",
     "output_type": "stream",
     "text": [
      "MoviePy - Done.\n"
     ]
    },
    {
     "name": "stderr",
     "output_type": "stream",
     "text": [
      "chunk:   6%|███▉                                                            | 25/408 [09:00<00:19, 19.28it/s, now=None]\n",
      "chunk:   0%|                                                                        | 0/1214 [00:00<?, ?it/s, now=None]\u001b[A\n",
      "chunk:   8%|█████▏                                                       | 102/1214 [00:00<00:01, 955.37it/s, now=None]\u001b[A"
     ]
    },
    {
     "name": "stdout",
     "output_type": "stream",
     "text": [
      "MoviePy - Writing audio in ./data/audio/trial_truth_audio_030.wav\n"
     ]
    },
    {
     "name": "stderr",
     "output_type": "stream",
     "text": [
      "\n",
      "chunk:  29%|█████████████████▋                                          | 357/1214 [00:00<00:00, 1165.19it/s, now=None]\u001b[A\n",
      "chunk:  50%|██████████████████████████████▏                             | 612/1214 [00:00<00:00, 1385.74it/s, now=None]\u001b[A\n",
      "chunk:  72%|███████████████████████████████████████████▏                | 873/1214 [00:00<00:00, 1610.66it/s, now=None]\u001b[A\n",
      "chunk:  93%|██████████████████████████████████████████████████████▊    | 1129/1214 [00:00<00:00, 1809.47it/s, now=None]\u001b[A\n",
      "chunk:   6%|███▉                                                            | 25/408 [09:00<00:19, 19.28it/s, now=None]\u001b[A\n",
      "chunk:   0%|                                                                        | 0/1321 [00:00<?, ?it/s, now=None]\u001b[A\n",
      "chunk:   1%|▌                                                             | 12/1321 [00:00<00:10, 119.13it/s, now=None]\u001b[A"
     ]
    },
    {
     "name": "stdout",
     "output_type": "stream",
     "text": [
      "MoviePy - Done.\n",
      "MoviePy - Writing audio in ./data/myprosody/dataset/audioFiles/trial_truth_audio_030.wav\n"
     ]
    },
    {
     "name": "stderr",
     "output_type": "stream",
     "text": [
      "\n",
      "chunk:  17%|██████████▌                                                  | 230/1321 [00:00<00:06, 166.27it/s, now=None]\u001b[A\n",
      "chunk:  35%|█████████████████████                                        | 456/1321 [00:00<00:03, 230.21it/s, now=None]\u001b[A\n",
      "chunk:  51%|██████████████████████████████▉                              | 669/1321 [00:00<00:02, 314.21it/s, now=None]\u001b[A\n",
      "chunk:  67%|█████████████████████████████████████████▏                   | 891/1321 [00:00<00:01, 423.03it/s, now=None]\u001b[A\n",
      "chunk:  83%|██████████████████████████████████████████████████          | 1102/1321 [00:00<00:00, 556.19it/s, now=None]\u001b[A\n",
      "chunk:  97%|██████████████████████████████████████████████████████████▎ | 1283/1321 [00:00<00:00, 623.46it/s, now=None]\u001b[A\n",
      "chunk:   6%|███▉                                                            | 25/408 [09:01<00:19, 19.28it/s, now=None]\u001b[A"
     ]
    },
    {
     "name": "stdout",
     "output_type": "stream",
     "text": [
      "MoviePy - Done.\n"
     ]
    },
    {
     "name": "stderr",
     "output_type": "stream",
     "text": [
      "chunk:   6%|███▉                                                            | 25/408 [09:02<00:19, 19.28it/s, now=None]\n",
      "chunk:   0%|                                                                         | 0/398 [00:00<?, ?it/s, now=None]\u001b[A\n",
      "chunk:   1%|▍                                                                | 3/398 [00:00<00:16, 23.72it/s, now=None]\u001b[A"
     ]
    },
    {
     "name": "stdout",
     "output_type": "stream",
     "text": [
      "MoviePy - Writing audio in ./data/audio/trial_truth_audio_031.wav\n"
     ]
    },
    {
     "name": "stderr",
     "output_type": "stream",
     "text": [
      "\n",
      "chunk:  24%|███████████████▌                                                | 97/398 [00:00<00:08, 33.53it/s, now=None]\u001b[A\n",
      "chunk:  39%|████████████████████████▌                                      | 155/398 [00:00<00:05, 46.73it/s, now=None]\u001b[A\n",
      "chunk:  61%|██████████████████████████████████████▎                        | 242/398 [00:00<00:02, 65.26it/s, now=None]\u001b[A\n",
      "chunk:  85%|█████████████████████████████████████████████████████▊         | 340/398 [00:00<00:00, 90.56it/s, now=None]\u001b[A\n",
      "chunk:   6%|███▉                                                            | 25/408 [09:03<00:19, 19.28it/s, now=None]\u001b[A\n",
      "chunk:   0%|                                                                         | 0/433 [00:00<?, ?it/s, now=None]\u001b[A"
     ]
    },
    {
     "name": "stdout",
     "output_type": "stream",
     "text": [
      "MoviePy - Done.\n",
      "MoviePy - Writing audio in ./data/myprosody/dataset/audioFiles/trial_truth_audio_031.wav\n"
     ]
    },
    {
     "name": "stderr",
     "output_type": "stream",
     "text": [
      "\n",
      "chunk:   0%|▎                                                                | 2/433 [00:00<00:54,  7.91it/s, now=None]\u001b[A\n",
      "chunk:  24%|███████████████▍                                               | 106/433 [00:00<00:29, 11.27it/s, now=None]\u001b[A\n",
      "chunk:  42%|██████████████████████████▏                                    | 180/433 [00:00<00:15, 15.99it/s, now=None]\u001b[A\n",
      "chunk:  54%|█████████████████████████████████▊                             | 232/433 [00:00<00:08, 22.55it/s, now=None]\u001b[A\n",
      "chunk:  74%|██████████████████████████████████████████████▍                | 319/433 [00:00<00:03, 31.85it/s, now=None]\u001b[A\n",
      "chunk:  88%|███████████████████████████████████████████████████████▏       | 379/433 [00:00<00:01, 44.20it/s, now=None]\u001b[A\n",
      "chunk:   6%|███▉                                                            | 25/408 [09:04<00:19, 19.28it/s, now=None]\u001b[A"
     ]
    },
    {
     "name": "stdout",
     "output_type": "stream",
     "text": [
      "MoviePy - Done.\n"
     ]
    },
    {
     "name": "stderr",
     "output_type": "stream",
     "text": [
      "chunk:   6%|███▉                                                            | 25/408 [09:05<00:19, 19.28it/s, now=None]\n",
      "chunk:   0%|                                                                         | 0/817 [00:00<?, ?it/s, now=None]\u001b[A"
     ]
    },
    {
     "name": "stdout",
     "output_type": "stream",
     "text": [
      "MoviePy - Writing audio in ./data/audio/trial_truth_audio_032.wav\n"
     ]
    },
    {
     "name": "stderr",
     "output_type": "stream",
     "text": [
      "\n",
      "chunk:   0%|▏                                                                | 3/817 [00:00<01:00, 13.55it/s, now=None]\u001b[A\n",
      "chunk:   8%|█████▏                                                          | 67/817 [00:00<00:39, 19.18it/s, now=None]\u001b[A\n",
      "chunk:  14%|████████▉                                                      | 116/817 [00:00<00:26, 26.94it/s, now=None]\u001b[A\n",
      "chunk:  19%|████████████▎                                                  | 159/817 [00:00<00:17, 37.46it/s, now=None]\u001b[A\n",
      "chunk:  25%|███████████████▉                                               | 207/817 [00:00<00:11, 51.77it/s, now=None]\u001b[A\n",
      "chunk:  31%|███████████████████▋                                           | 255/817 [00:00<00:07, 70.56it/s, now=None]\u001b[A\n",
      "chunk:  37%|███████████████████████▌                                       | 306/817 [00:00<00:05, 95.05it/s, now=None]\u001b[A\n",
      "chunk:  46%|████████████████████████████▏                                 | 372/817 [00:00<00:03, 127.62it/s, now=None]\u001b[A\n",
      "chunk:  53%|████████████████████████████████▊                             | 433/817 [00:01<00:02, 167.23it/s, now=None]\u001b[A\n",
      "chunk:  61%|█████████████████████████████████████▌                        | 495/817 [00:01<00:01, 213.41it/s, now=None]\u001b[A\n",
      "chunk:  69%|██████████████████████████████████████████▌                   | 561/817 [00:01<00:00, 262.29it/s, now=None]\u001b[A\n",
      "chunk:  76%|███████████████████████████████████████████████▏              | 621/817 [00:01<00:00, 311.66it/s, now=None]\u001b[A\n",
      "chunk:  84%|████████████████████████████████████████████████████▏         | 687/817 [00:01<00:00, 369.52it/s, now=None]\u001b[A\n",
      "chunk:  91%|████████████████████████████████████████████████████████▌     | 746/817 [00:01<00:00, 415.12it/s, now=None]\u001b[A\n",
      "chunk:  99%|█████████████████████████████████████████████████████████████▎| 808/817 [00:01<00:00, 458.48it/s, now=None]\u001b[A\n",
      "chunk:   6%|███▉                                                            | 25/408 [09:07<00:19, 19.28it/s, now=None]\u001b[A\n",
      "chunk:   0%|                                                                         | 0/889 [00:00<?, ?it/s, now=None]\u001b[A"
     ]
    },
    {
     "name": "stdout",
     "output_type": "stream",
     "text": [
      "MoviePy - Done.\n",
      "MoviePy - Writing audio in ./data/myprosody/dataset/audioFiles/trial_truth_audio_032.wav\n"
     ]
    },
    {
     "name": "stderr",
     "output_type": "stream",
     "text": [
      "\n",
      "chunk:   0%|▏                                                                | 2/889 [00:00<01:47,  8.27it/s, now=None]\u001b[A\n",
      "chunk:  12%|███████▊                                                       | 110/889 [00:00<01:06, 11.77it/s, now=None]\u001b[A\n",
      "chunk:  23%|██████████████▍                                                | 204/889 [00:00<00:40, 16.72it/s, now=None]\u001b[A\n",
      "chunk:  28%|█████████████████▊                                             | 252/889 [00:00<00:27, 23.53it/s, now=None]\u001b[A\n",
      "chunk:  34%|█████████████████████▎                                         | 300/889 [00:00<00:17, 32.73it/s, now=None]\u001b[A\n",
      "chunk:  39%|████████████████████████▌                                      | 346/889 [00:00<00:11, 45.36it/s, now=None]\u001b[A\n",
      "chunk:  44%|███████████████████████████▉                                   | 395/889 [00:00<00:07, 62.32it/s, now=None]\u001b[A\n",
      "chunk:  50%|███████████████████████████████▎                               | 442/889 [00:01<00:05, 83.53it/s, now=None]\u001b[A\n",
      "chunk:  55%|██████████████████████████████████▎                           | 492/889 [00:01<00:03, 110.44it/s, now=None]\u001b[A\n",
      "chunk:  64%|███████████████████████████████████████▋                      | 569/889 [00:01<00:02, 148.48it/s, now=None]\u001b[A\n",
      "chunk:  74%|█████████████████████████████████████████████▊                | 657/889 [00:01<00:01, 197.62it/s, now=None]\u001b[A\n",
      "chunk:  83%|███████████████████████████████████████████████████▍          | 738/889 [00:01<00:00, 254.91it/s, now=None]\u001b[A\n",
      "chunk:  91%|████████████████████████████████████████████████████████▎     | 808/889 [00:01<00:00, 313.50it/s, now=None]\u001b[A\n",
      "chunk:  99%|█████████████████████████████████████████████████████████████▎| 880/889 [00:01<00:00, 364.50it/s, now=None]\u001b[A\n",
      "chunk:   6%|███▉                                                            | 25/408 [09:08<00:19, 19.28it/s, now=None]\u001b[A"
     ]
    },
    {
     "name": "stdout",
     "output_type": "stream",
     "text": [
      "MoviePy - Done.\n"
     ]
    },
    {
     "name": "stderr",
     "output_type": "stream",
     "text": [
      "chunk:   6%|███▉                                                            | 25/408 [09:09<00:19, 19.28it/s, now=None]\n",
      "chunk:   0%|                                                                         | 0/376 [00:00<?, ?it/s, now=None]\u001b[A\n",
      "chunk:   1%|▌                                                                | 3/376 [00:00<00:15, 23.38it/s, now=None]\u001b[A"
     ]
    },
    {
     "name": "stdout",
     "output_type": "stream",
     "text": [
      "MoviePy - Writing audio in ./data/audio/trial_truth_audio_033.wav\n"
     ]
    },
    {
     "name": "stderr",
     "output_type": "stream",
     "text": [
      "\n",
      "chunk:  27%|█████████████████                                              | 102/376 [00:00<00:08, 33.06it/s, now=None]\u001b[A\n",
      "chunk:  55%|██████████████████████████████████▊                            | 208/376 [00:00<00:03, 46.59it/s, now=None]\u001b[A\n",
      "chunk:  82%|███████████████████████████████████████████████████▌           | 308/376 [00:00<00:01, 65.21it/s, now=None]\u001b[A\n",
      "chunk:   6%|███▉                                                            | 25/408 [09:10<00:19, 19.28it/s, now=None]\u001b[A\n",
      "chunk:   0%|                                                                         | 0/409 [00:00<?, ?it/s, now=None]\u001b[A"
     ]
    },
    {
     "name": "stdout",
     "output_type": "stream",
     "text": [
      "MoviePy - Done.\n",
      "MoviePy - Writing audio in ./data/myprosody/dataset/audioFiles/trial_truth_audio_033.wav\n"
     ]
    },
    {
     "name": "stderr",
     "output_type": "stream",
     "text": [
      "\n",
      "chunk:   0%|▎                                                                | 2/409 [00:00<00:40, 10.03it/s, now=None]\u001b[A\n",
      "chunk:  25%|████████████████                                               | 104/409 [00:00<00:21, 14.27it/s, now=None]\u001b[A\n",
      "chunk:  43%|███████████████████████████                                    | 176/409 [00:00<00:11, 20.21it/s, now=None]\u001b[A\n",
      "chunk:  67%|██████████████████████████████████████████▎                    | 275/409 [00:00<00:04, 28.61it/s, now=None]\u001b[A\n",
      "chunk:  94%|███████████████████████████████████████████████████████████▎   | 385/409 [00:00<00:00, 40.37it/s, now=None]\u001b[A\n",
      "chunk:   6%|███▉                                                            | 25/408 [09:10<00:19, 19.28it/s, now=None]\u001b[A"
     ]
    },
    {
     "name": "stdout",
     "output_type": "stream",
     "text": [
      "MoviePy - Done.\n"
     ]
    },
    {
     "name": "stderr",
     "output_type": "stream",
     "text": [
      "chunk:   6%|███▉                                                            | 25/408 [09:11<00:19, 19.28it/s, now=None]\n",
      "chunk:   0%|                                                                         | 0/684 [00:00<?, ?it/s, now=None]\u001b[A"
     ]
    },
    {
     "name": "stdout",
     "output_type": "stream",
     "text": [
      "MoviePy - Writing audio in ./data/audio/trial_truth_audio_034.wav\n"
     ]
    },
    {
     "name": "stderr",
     "output_type": "stream",
     "text": [
      "\n",
      "chunk:   0%|▎                                                                | 3/684 [00:00<00:35, 19.12it/s, now=None]\u001b[A\n",
      "chunk:  11%|██████▊                                                         | 73/684 [00:00<00:22, 26.99it/s, now=None]\u001b[A\n",
      "chunk:  21%|█████████████▍                                                 | 146/684 [00:00<00:14, 37.94it/s, now=None]\u001b[A\n",
      "chunk:  30%|██████████████████▋                                            | 203/684 [00:00<00:09, 52.48it/s, now=None]\u001b[A\n",
      "chunk:  37%|███████████████████████▍                                       | 255/684 [00:00<00:05, 71.84it/s, now=None]\u001b[A\n",
      "chunk:  47%|█████████████████████████████▌                                 | 321/684 [00:00<00:03, 98.02it/s, now=None]\u001b[A\n",
      "chunk:  57%|███████████████████████████████████▎                          | 389/684 [00:00<00:02, 131.64it/s, now=None]\u001b[A\n",
      "chunk:  67%|█████████████████████████████████████████▎                    | 456/684 [00:00<00:01, 170.68it/s, now=None]\u001b[A\n",
      "chunk:  76%|██████████████████████████████████████████████▉               | 518/684 [00:01<00:00, 217.41it/s, now=None]\u001b[A\n",
      "chunk:  85%|████████████████████████████████████████████████████▋         | 581/684 [00:01<00:00, 270.03it/s, now=None]\u001b[A\n",
      "chunk:  95%|██████████████████████████████████████████████████████████▋   | 647/684 [00:01<00:00, 326.99it/s, now=None]\u001b[A\n",
      "chunk:   6%|███▉                                                            | 25/408 [09:13<00:19, 19.28it/s, now=None]\u001b[A\n",
      "chunk:   0%|                                                                         | 0/745 [00:00<?, ?it/s, now=None]\u001b[A"
     ]
    },
    {
     "name": "stdout",
     "output_type": "stream",
     "text": [
      "MoviePy - Done.\n",
      "MoviePy - Writing audio in ./data/myprosody/dataset/audioFiles/trial_truth_audio_034.wav\n"
     ]
    },
    {
     "name": "stderr",
     "output_type": "stream",
     "text": [
      "\n",
      "chunk:   0%|▏                                                                | 2/745 [00:00<01:04, 11.61it/s, now=None]\u001b[A\n",
      "chunk:  15%|█████████▎                                                     | 110/745 [00:00<00:38, 16.50it/s, now=None]\u001b[A\n",
      "chunk:  27%|████████████████▊                                              | 199/745 [00:00<00:23, 23.39it/s, now=None]\u001b[A\n",
      "chunk:  37%|███████████████████████▎                                       | 275/745 [00:00<00:14, 32.94it/s, now=None]\u001b[A\n",
      "chunk:  49%|███████████████████████████████                                | 367/745 [00:00<00:08, 46.33it/s, now=None]\u001b[A\n",
      "chunk:  59%|█████████████████████████████████████▎                         | 441/745 [00:00<00:04, 64.41it/s, now=None]\u001b[A\n",
      "chunk:  69%|███████████████████████████████████████████▏                   | 511/745 [00:00<00:02, 87.80it/s, now=None]\u001b[A\n",
      "chunk:  78%|████████████████████████████████████████████████              | 578/745 [00:00<00:01, 118.59it/s, now=None]\u001b[A\n",
      "chunk:  87%|█████████████████████████████████████████████████████▊        | 646/745 [00:01<00:00, 156.54it/s, now=None]\u001b[A\n",
      "chunk:  95%|███████████████████████████████████████████████████████████▏  | 711/745 [00:01<00:00, 200.42it/s, now=None]\u001b[A\n",
      "chunk:   6%|███▉                                                            | 25/408 [09:14<00:19, 19.28it/s, now=None]\u001b[A"
     ]
    },
    {
     "name": "stdout",
     "output_type": "stream",
     "text": [
      "MoviePy - Done.\n"
     ]
    },
    {
     "name": "stderr",
     "output_type": "stream",
     "text": [
      "chunk:   6%|███▉                                                            | 25/408 [09:15<00:19, 19.28it/s, now=None]\n",
      "chunk:   0%|                                                                         | 0/662 [00:00<?, ?it/s, now=None]\u001b[A"
     ]
    },
    {
     "name": "stdout",
     "output_type": "stream",
     "text": [
      "MoviePy - Writing audio in ./data/audio/trial_truth_audio_035.wav\n"
     ]
    },
    {
     "name": "stderr",
     "output_type": "stream",
     "text": [
      "\n",
      "chunk:   0%|▎                                                                | 3/662 [00:00<00:31, 20.85it/s, now=None]\u001b[A\n",
      "chunk:  16%|█████████▉                                                     | 105/662 [00:00<00:18, 29.52it/s, now=None]\u001b[A\n",
      "chunk:  31%|███████████████████▍                                           | 204/662 [00:00<00:11, 41.61it/s, now=None]\u001b[A\n",
      "chunk:  46%|█████████████████████████████                                  | 306/662 [00:00<00:06, 58.33it/s, now=None]\u001b[A\n",
      "chunk:  62%|██████████████████████████████████████▊                        | 408/662 [00:00<00:03, 81.28it/s, now=None]\u001b[A\n",
      "chunk:  77%|███████████████████████████████████████████████▊              | 510/662 [00:00<00:01, 111.76it/s, now=None]\u001b[A\n",
      "chunk:  92%|█████████████████████████████████████████████████████████▎    | 612/662 [00:00<00:00, 151.94it/s, now=None]\u001b[A\n",
      "chunk:   6%|███▉                                                            | 25/408 [09:16<00:19, 19.28it/s, now=None]\u001b[A\n",
      "chunk:   0%|                                                                         | 0/721 [00:00<?, ?it/s, now=None]\u001b[A"
     ]
    },
    {
     "name": "stdout",
     "output_type": "stream",
     "text": [
      "MoviePy - Done.\n",
      "MoviePy - Writing audio in ./data/myprosody/dataset/audioFiles/trial_truth_audio_035.wav\n"
     ]
    },
    {
     "name": "stderr",
     "output_type": "stream",
     "text": [
      "\n",
      "chunk:   0%|▏                                                                | 2/721 [00:00<01:11, 10.01it/s, now=None]\u001b[A\n",
      "chunk:  15%|█████████▎                                                     | 107/721 [00:00<00:43, 14.24it/s, now=None]\u001b[A\n",
      "chunk:  28%|█████████████████▊                                             | 204/721 [00:00<00:25, 20.21it/s, now=None]\u001b[A\n",
      "chunk:  42%|██████████████████████████▎                                    | 301/721 [00:00<00:14, 28.61it/s, now=None]\u001b[A\n",
      "chunk:  54%|██████████████████████████████████                             | 390/721 [00:00<00:08, 40.31it/s, now=None]\u001b[A\n",
      "chunk:  69%|███████████████████████████████████████████▎                   | 495/721 [00:00<00:03, 56.61it/s, now=None]\u001b[A\n",
      "chunk:  84%|████████████████████████████████████████████████████▊          | 604/721 [00:00<00:01, 79.10it/s, now=None]\u001b[A\n",
      "chunk:  97%|███████████████████████████████████████████████████████████▉  | 697/721 [00:00<00:00, 108.97it/s, now=None]\u001b[A\n",
      "chunk:   6%|███▉                                                            | 25/408 [09:17<00:19, 19.28it/s, now=None]\u001b[A"
     ]
    },
    {
     "name": "stdout",
     "output_type": "stream",
     "text": [
      "MoviePy - Done.\n"
     ]
    },
    {
     "name": "stderr",
     "output_type": "stream",
     "text": [
      "chunk:   6%|███▉                                                            | 25/408 [09:18<00:19, 19.28it/s, now=None]\n",
      "chunk:   0%|                                                                         | 0/817 [00:00<?, ?it/s, now=None]\u001b[A\n"
     ]
    },
    {
     "name": "stdout",
     "output_type": "stream",
     "text": [
      "MoviePy - Writing audio in ./data/audio/trial_truth_audio_036.wav\n"
     ]
    },
    {
     "name": "stderr",
     "output_type": "stream",
     "text": [
      "chunk:   0%|▏                                                                | 3/817 [00:00<00:37, 21.96it/s, now=None]\u001b[A\n",
      "chunk:  14%|████████▋                                                      | 113/817 [00:00<00:22, 31.11it/s, now=None]\u001b[A\n",
      "chunk:  28%|█████████████████▍                                             | 226/817 [00:00<00:13, 43.91it/s, now=None]\u001b[A\n",
      "chunk:  43%|███████████████████████████▏                                   | 352/817 [00:00<00:07, 61.78it/s, now=None]\u001b[A\n",
      "chunk:  55%|██████████████████████████████████▉                            | 453/817 [00:00<00:04, 85.92it/s, now=None]\u001b[A\n",
      "chunk:  68%|█████████████████████████████████████████▉                    | 552/817 [00:00<00:02, 118.32it/s, now=None]\u001b[A\n",
      "chunk:  81%|██████████████████████████████████████████████████▎           | 663/817 [00:00<00:00, 160.70it/s, now=None]\u001b[A\n",
      "chunk:  95%|██████████████████████████████████████████████████████████▋   | 773/817 [00:00<00:00, 215.68it/s, now=None]\u001b[A\n",
      "chunk:   6%|███▉                                                            | 25/408 [09:19<00:19, 19.28it/s, now=None]\u001b[A\n",
      "chunk:   0%|                                                                         | 0/889 [00:00<?, ?it/s, now=None]\u001b[A"
     ]
    },
    {
     "name": "stdout",
     "output_type": "stream",
     "text": [
      "MoviePy - Done.\n",
      "MoviePy - Writing audio in ./data/myprosody/dataset/audioFiles/trial_truth_audio_036.wav\n"
     ]
    },
    {
     "name": "stderr",
     "output_type": "stream",
     "text": [
      "\n",
      "chunk:   0%|▏                                                                | 2/889 [00:00<01:18, 11.26it/s, now=None]\u001b[A\n",
      "chunk:  12%|███████▊                                                       | 110/889 [00:00<00:48, 16.01it/s, now=None]\u001b[A\n",
      "chunk:  25%|███████████████▌                                               | 220/889 [00:00<00:29, 22.71it/s, now=None]\u001b[A\n",
      "chunk:  37%|███████████████████████▍                                       | 330/889 [00:00<00:17, 32.13it/s, now=None]\u001b[A\n",
      "chunk:  49%|███████████████████████████████▏                               | 440/889 [00:00<00:09, 45.25it/s, now=None]\u001b[A\n",
      "chunk:  62%|██████████████████████████████████████▉                        | 550/889 [00:00<00:05, 63.41it/s, now=None]\u001b[A\n",
      "chunk:  74%|██████████████████████████████████████████████▍                | 656/889 [00:00<00:02, 88.32it/s, now=None]\u001b[A\n",
      "chunk:  85%|████████████████████████████████████████████████████▌         | 754/889 [00:00<00:01, 121.37it/s, now=None]\u001b[A\n",
      "chunk:  95%|███████████████████████████████████████████████████████████   | 847/889 [00:01<00:00, 164.07it/s, now=None]\u001b[A\n",
      "chunk:   6%|███▉                                                            | 25/408 [09:20<00:19, 19.28it/s, now=None]\u001b[A"
     ]
    },
    {
     "name": "stdout",
     "output_type": "stream",
     "text": [
      "MoviePy - Done.\n"
     ]
    },
    {
     "name": "stderr",
     "output_type": "stream",
     "text": [
      "chunk:   6%|███▉                                                            | 25/408 [09:20<00:19, 19.28it/s, now=None]\n",
      "chunk:   0%|                                                                         | 0/486 [00:00<?, ?it/s, now=None]\u001b[A\n",
      "chunk:   1%|▍                                                                | 3/486 [00:00<00:20, 24.00it/s, now=None]\u001b[A"
     ]
    },
    {
     "name": "stdout",
     "output_type": "stream",
     "text": [
      "MoviePy - Writing audio in ./data/audio/trial_truth_audio_037.wav\n"
     ]
    },
    {
     "name": "stderr",
     "output_type": "stream",
     "text": [
      "\n",
      "chunk:  23%|██████████████▎                                                | 110/486 [00:00<00:11, 33.95it/s, now=None]\u001b[A\n",
      "chunk:  45%|████████████████████████████▍                                  | 219/486 [00:00<00:05, 47.85it/s, now=None]\u001b[A\n",
      "chunk:  70%|████████████████████████████████████████████                   | 340/486 [00:00<00:02, 67.18it/s, now=None]\u001b[A\n",
      "chunk:  94%|███████████████████████████████████████████████████████████▌   | 459/486 [00:00<00:00, 93.63it/s, now=None]\u001b[A\n",
      "chunk:   6%|███▉                                                            | 25/408 [09:21<00:19, 19.28it/s, now=None]\u001b[A\n",
      "chunk:   0%|                                                                         | 0/529 [00:00<?, ?it/s, now=None]\u001b[A"
     ]
    },
    {
     "name": "stdout",
     "output_type": "stream",
     "text": [
      "MoviePy - Done.\n",
      "MoviePy - Writing audio in ./data/myprosody/dataset/audioFiles/trial_truth_audio_037.wav\n"
     ]
    },
    {
     "name": "stderr",
     "output_type": "stream",
     "text": [
      "\n",
      "chunk:   0%|▏                                                                | 2/529 [00:00<00:46, 11.41it/s, now=None]\u001b[A\n",
      "chunk:  21%|█████████████                                                  | 110/529 [00:00<00:25, 16.22it/s, now=None]\u001b[A\n",
      "chunk:  41%|█████████████████████████▉                                     | 218/529 [00:00<00:13, 23.02it/s, now=None]\u001b[A\n",
      "chunk:  58%|████████████████████████████████████▌                          | 307/529 [00:00<00:06, 32.53it/s, now=None]\u001b[A\n",
      "chunk:  74%|██████████████████████████████████████████████▋                | 392/529 [00:00<00:02, 45.71it/s, now=None]\u001b[A\n",
      "chunk:  89%|████████████████████████████████████████████████████████▏      | 472/529 [00:00<00:00, 63.74it/s, now=None]\u001b[A\n",
      "chunk:   6%|███▉                                                            | 25/408 [09:22<00:19, 19.28it/s, now=None]\u001b[A"
     ]
    },
    {
     "name": "stdout",
     "output_type": "stream",
     "text": [
      "MoviePy - Done.\n"
     ]
    },
    {
     "name": "stderr",
     "output_type": "stream",
     "text": [
      "chunk:   6%|███▉                                                            | 25/408 [09:23<00:19, 19.28it/s, now=None]\n",
      "chunk:   0%|                                                                         | 0/420 [00:00<?, ?it/s, now=None]\u001b[A\n",
      "chunk:   1%|▍                                                                | 3/420 [00:00<00:18, 22.17it/s, now=None]\u001b[A"
     ]
    },
    {
     "name": "stdout",
     "output_type": "stream",
     "text": [
      "MoviePy - Writing audio in ./data/audio/trial_truth_audio_038.wav\n"
     ]
    },
    {
     "name": "stderr",
     "output_type": "stream",
     "text": [
      "\n",
      "chunk:  25%|███████████████▍                                               | 103/420 [00:00<00:10, 31.36it/s, now=None]\u001b[A\n",
      "chunk:  49%|██████████████████████████████▊                                | 205/420 [00:00<00:04, 44.22it/s, now=None]\u001b[A\n",
      "chunk:  73%|█████████████████████████████████████████████▉                 | 306/420 [00:00<00:01, 61.99it/s, now=None]\u001b[A\n",
      "chunk:  97%|█████████████████████████████████████████████████████████████▏ | 408/420 [00:00<00:00, 86.31it/s, now=None]\u001b[A\n",
      "chunk:   6%|███▉                                                            | 25/408 [09:23<00:19, 19.28it/s, now=None]\u001b[A\n",
      "chunk:   0%|                                                                         | 0/457 [00:00<?, ?it/s, now=None]\u001b[A"
     ]
    },
    {
     "name": "stdout",
     "output_type": "stream",
     "text": [
      "MoviePy - Done.\n",
      "MoviePy - Writing audio in ./data/myprosody/dataset/audioFiles/trial_truth_audio_038.wav\n"
     ]
    },
    {
     "name": "stderr",
     "output_type": "stream",
     "text": [
      "\n",
      "chunk:   0%|▎                                                                | 2/457 [00:00<00:47,  9.54it/s, now=None]\u001b[A\n",
      "chunk:  16%|██████████▌                                                     | 75/457 [00:00<00:28, 13.55it/s, now=None]\u001b[A\n",
      "chunk:  36%|██████████████████████▋                                        | 165/457 [00:00<00:15, 19.21it/s, now=None]\u001b[A\n",
      "chunk:  60%|█████████████████████████████████████▉                         | 275/457 [00:00<00:06, 27.21it/s, now=None]\u001b[A\n",
      "chunk:  82%|███████████████████████████████████████████████████▉           | 377/457 [00:00<00:02, 38.42it/s, now=None]\u001b[A\n",
      "chunk:   6%|███▉                                                            | 25/408 [09:24<00:19, 19.28it/s, now=None]\u001b[A"
     ]
    },
    {
     "name": "stdout",
     "output_type": "stream",
     "text": [
      "MoviePy - Done.\n"
     ]
    },
    {
     "name": "stderr",
     "output_type": "stream",
     "text": [
      "chunk:   6%|███▉                                                            | 25/408 [09:25<00:19, 19.28it/s, now=None]\n",
      "chunk:   0%|                                                                         | 0/707 [00:00<?, ?it/s, now=None]\u001b[A\n",
      "chunk:   0%|▎                                                                | 3/707 [00:00<00:30, 22.83it/s, now=None]\u001b[A"
     ]
    },
    {
     "name": "stdout",
     "output_type": "stream",
     "text": [
      "MoviePy - Writing audio in ./data/audio/trial_truth_audio_039.wav\n"
     ]
    },
    {
     "name": "stderr",
     "output_type": "stream",
     "text": [
      "\n",
      "chunk:  14%|█████████                                                      | 102/707 [00:00<00:18, 32.29it/s, now=None]\u001b[A\n",
      "chunk:  29%|██████████████████▌                                            | 208/707 [00:00<00:10, 45.52it/s, now=None]\u001b[A\n",
      "chunk:  45%|████████████████████████████▌                                  | 321/707 [00:00<00:06, 63.91it/s, now=None]\u001b[A\n",
      "chunk:  64%|████████████████████████████████████████▌                      | 455/707 [00:00<00:02, 89.41it/s, now=None]\u001b[A\n",
      "chunk:  79%|█████████████████████████████████████████████████▏            | 561/707 [00:00<00:01, 122.79it/s, now=None]\u001b[A\n",
      "chunk:  94%|██████████████████████████████████████████████████████████▏   | 663/707 [00:00<00:00, 166.43it/s, now=None]\u001b[A\n",
      "chunk:   6%|███▉                                                            | 25/408 [09:26<00:19, 19.28it/s, now=None]\u001b[A\n",
      "chunk:   0%|                                                                         | 0/769 [00:00<?, ?it/s, now=None]\u001b[A"
     ]
    },
    {
     "name": "stdout",
     "output_type": "stream",
     "text": [
      "MoviePy - Done.\n",
      "MoviePy - Writing audio in ./data/myprosody/dataset/audioFiles/trial_truth_audio_039.wav\n"
     ]
    },
    {
     "name": "stderr",
     "output_type": "stream",
     "text": [
      "\n",
      "chunk:   0%|▏                                                                | 2/769 [00:00<01:12, 10.55it/s, now=None]\u001b[A\n",
      "chunk:  14%|█████████                                                      | 110/769 [00:00<00:43, 15.00it/s, now=None]\u001b[A\n",
      "chunk:  28%|█████████████████▊                                             | 218/769 [00:00<00:25, 21.30it/s, now=None]\u001b[A\n",
      "chunk:  39%|████████████████████████▍                                      | 299/769 [00:00<00:15, 30.09it/s, now=None]\u001b[A\n",
      "chunk:  50%|███████████████████████████████▌                               | 385/769 [00:00<00:09, 42.34it/s, now=None]\u001b[A\n",
      "chunk:  64%|████████████████████████████████████████▍                      | 493/769 [00:00<00:04, 59.49it/s, now=None]\u001b[A\n",
      "chunk:  76%|████████████████████████████████████████████████               | 587/769 [00:00<00:02, 82.71it/s, now=None]\u001b[A\n",
      "chunk:  88%|██████████████████████████████████████████████████████▌       | 676/769 [00:00<00:00, 113.45it/s, now=None]\u001b[A\n",
      "chunk:   6%|███▉                                                            | 25/408 [09:27<00:19, 19.28it/s, now=None]\u001b[A"
     ]
    },
    {
     "name": "stdout",
     "output_type": "stream",
     "text": [
      "MoviePy - Done.\n"
     ]
    },
    {
     "name": "stderr",
     "output_type": "stream",
     "text": [
      "chunk:   6%|███▉                                                            | 25/408 [09:28<00:19, 19.28it/s, now=None]\n",
      "chunk:   0%|                                                                         | 0/684 [00:00<?, ?it/s, now=None]\u001b[A\n"
     ]
    },
    {
     "name": "stdout",
     "output_type": "stream",
     "text": [
      "MoviePy - Writing audio in ./data/audio/trial_truth_audio_040.wav\n"
     ]
    },
    {
     "name": "stderr",
     "output_type": "stream",
     "text": [
      "chunk:   0%|▎                                                                | 3/684 [00:00<00:30, 22.69it/s, now=None]\u001b[A\n",
      "chunk:  15%|█████████▊                                                     | 106/684 [00:00<00:18, 32.11it/s, now=None]\u001b[A\n",
      "chunk:  30%|██████████████████▉                                            | 206/684 [00:00<00:10, 45.23it/s, now=None]\u001b[A\n",
      "chunk:  44%|████████████████████████████                                   | 304/684 [00:00<00:06, 63.23it/s, now=None]\u001b[A\n",
      "chunk:  59%|█████████████████████████████████████▍                         | 406/684 [00:00<00:03, 87.63it/s, now=None]\u001b[A\n",
      "chunk:  74%|█████████████████████████████████████████████▊                | 506/684 [00:00<00:01, 120.62it/s, now=None]\u001b[A\n",
      "chunk:  86%|█████████████████████████████████████████████████████         | 585/684 [00:00<00:00, 158.61it/s, now=None]\u001b[A\n",
      "chunk:  96%|███████████████████████████████████████████████████████████▋  | 659/684 [00:00<00:00, 203.04it/s, now=None]\u001b[A\n",
      "chunk:   6%|███▉                                                            | 25/408 [09:29<00:19, 19.28it/s, now=None]\u001b[A\n",
      "chunk:   0%|                                                                         | 0/745 [00:00<?, ?it/s, now=None]\u001b[A"
     ]
    },
    {
     "name": "stdout",
     "output_type": "stream",
     "text": [
      "MoviePy - Done.\n",
      "MoviePy - Writing audio in ./data/myprosody/dataset/audioFiles/trial_truth_audio_040.wav\n"
     ]
    },
    {
     "name": "stderr",
     "output_type": "stream",
     "text": [
      "\n",
      "chunk:   0%|▏                                                                | 2/745 [00:00<01:05, 11.34it/s, now=None]\u001b[A\n",
      "chunk:  14%|████████▉                                                      | 106/745 [00:00<00:39, 16.12it/s, now=None]\u001b[A\n",
      "chunk:  23%|██████████████▍                                                | 171/745 [00:00<00:25, 22.79it/s, now=None]\u001b[A\n",
      "chunk:  37%|███████████████████████▌                                       | 279/745 [00:00<00:14, 32.26it/s, now=None]\u001b[A\n",
      "chunk:  50%|███████████████████████████████▌                               | 373/745 [00:00<00:08, 45.40it/s, now=None]\u001b[A\n",
      "chunk:  59%|█████████████████████████████████████▍                         | 443/745 [00:00<00:04, 62.80it/s, now=None]\u001b[A\n",
      "chunk:  70%|████████████████████████████████████████████                   | 521/745 [00:00<00:02, 86.72it/s, now=None]\u001b[A\n",
      "chunk:  81%|██████████████████████████████████████████████████▎           | 605/745 [00:00<00:01, 118.57it/s, now=None]\u001b[A\n",
      "chunk:  91%|████████████████████████████████████████████████████████▌     | 679/745 [00:01<00:00, 156.92it/s, now=None]\u001b[A\n",
      "chunk:   6%|███▉                                                            | 25/408 [09:30<00:19, 19.28it/s, now=None]\u001b[A"
     ]
    },
    {
     "name": "stdout",
     "output_type": "stream",
     "text": [
      "MoviePy - Done.\n"
     ]
    },
    {
     "name": "stderr",
     "output_type": "stream",
     "text": [
      "chunk:   6%|███▉                                                            | 25/408 [09:31<00:19, 19.28it/s, now=None]\n",
      "chunk:   0%|                                                                         | 0/751 [00:00<?, ?it/s, now=None]\u001b[A"
     ]
    },
    {
     "name": "stdout",
     "output_type": "stream",
     "text": [
      "MoviePy - Writing audio in ./data/audio/trial_truth_audio_041.wav\n"
     ]
    },
    {
     "name": "stderr",
     "output_type": "stream",
     "text": [
      "\n",
      "chunk:   0%|▎                                                                | 3/751 [00:00<00:38, 19.19it/s, now=None]\u001b[A\n",
      "chunk:  14%|████████▌                                                      | 102/751 [00:00<00:23, 27.15it/s, now=None]\u001b[A\n",
      "chunk:  28%|█████████████████▌                                             | 209/751 [00:00<00:14, 38.36it/s, now=None]\u001b[A\n",
      "chunk:  43%|██████████████████████████▉                                    | 321/751 [00:00<00:07, 53.99it/s, now=None]\u001b[A\n",
      "chunk:  59%|████████████████████████████████████▉                          | 441/751 [00:00<00:04, 75.64it/s, now=None]\u001b[A\n",
      "chunk:  74%|█████████████████████████████████████████████▉                | 557/751 [00:00<00:01, 105.08it/s, now=None]\u001b[A\n",
      "chunk:  88%|██████████████████████████████████████████████████████▋       | 663/751 [00:00<00:00, 143.97it/s, now=None]\u001b[A\n",
      "chunk:   6%|███▉                                                            | 25/408 [09:32<00:19, 19.28it/s, now=None]\u001b[A\n",
      "chunk:   0%|                                                                         | 0/817 [00:00<?, ?it/s, now=None]\u001b[A"
     ]
    },
    {
     "name": "stdout",
     "output_type": "stream",
     "text": [
      "MoviePy - Done.\n",
      "MoviePy - Writing audio in ./data/myprosody/dataset/audioFiles/trial_truth_audio_041.wav\n"
     ]
    },
    {
     "name": "stderr",
     "output_type": "stream",
     "text": [
      "\n",
      "chunk:   0%|▏                                                                | 2/817 [00:00<01:26,  9.42it/s, now=None]\u001b[A\n",
      "chunk:  13%|████████▍                                                      | 110/817 [00:00<00:52, 13.40it/s, now=None]\u001b[A\n",
      "chunk:  25%|███████████████▋                                               | 204/817 [00:00<00:32, 19.02it/s, now=None]\u001b[A\n",
      "chunk:  38%|███████████████████████▉                                       | 310/817 [00:00<00:18, 26.97it/s, now=None]\u001b[A\n",
      "chunk:  49%|██████████████████████████████▊                                | 399/817 [00:00<00:10, 38.03it/s, now=None]\u001b[A\n",
      "chunk:  59%|█████████████████████████████████████                          | 481/817 [00:00<00:06, 53.27it/s, now=None]\u001b[A\n",
      "chunk:  69%|███████████████████████████████████████████▎                   | 561/817 [00:00<00:03, 73.98it/s, now=None]\u001b[A\n",
      "chunk:  78%|█████████████████████████████████████████████████▏             | 638/817 [00:01<00:01, 97.64it/s, now=None]\u001b[A\n",
      "chunk:  86%|█████████████████████████████████████████████████████▍        | 704/817 [00:01<00:00, 127.65it/s, now=None]\u001b[A\n",
      "chunk:  94%|██████████████████████████████████████████████████████████▍   | 770/817 [00:01<00:00, 167.55it/s, now=None]\u001b[A\n",
      "chunk:   6%|███▉                                                            | 25/408 [09:33<00:19, 19.28it/s, now=None]\u001b[A"
     ]
    },
    {
     "name": "stdout",
     "output_type": "stream",
     "text": [
      "MoviePy - Done.\n"
     ]
    },
    {
     "name": "stderr",
     "output_type": "stream",
     "text": [
      "chunk:   6%|███▉                                                            | 25/408 [09:34<00:19, 19.28it/s, now=None]\n",
      "chunk:   0%|                                                                         | 0/662 [00:00<?, ?it/s, now=None]\u001b[A\n"
     ]
    },
    {
     "name": "stdout",
     "output_type": "stream",
     "text": [
      "MoviePy - Writing audio in ./data/audio/trial_truth_audio_042.wav\n"
     ]
    },
    {
     "name": "stderr",
     "output_type": "stream",
     "text": [
      "chunk:   0%|▎                                                                | 3/662 [00:00<00:33, 19.80it/s, now=None]\u001b[A\n",
      "chunk:  13%|████████▎                                                       | 86/662 [00:00<00:20, 28.00it/s, now=None]\u001b[A\n",
      "chunk:  25%|███████████████▌                                               | 164/662 [00:00<00:12, 39.39it/s, now=None]\u001b[A\n",
      "chunk:  39%|████████████████████████▎                                      | 255/662 [00:00<00:07, 55.10it/s, now=None]\u001b[A\n",
      "chunk:  53%|█████████████████████████████████                              | 348/662 [00:00<00:04, 76.76it/s, now=None]\u001b[A\n",
      "chunk:  65%|████████████████████████████████████████▎                     | 431/662 [00:00<00:02, 105.47it/s, now=None]\u001b[A\n",
      "chunk:  78%|████████████████████████████████████████████████▎             | 516/662 [00:00<00:01, 143.03it/s, now=None]\u001b[A\n",
      "chunk:  92%|█████████████████████████████████████████████████████████▎    | 612/662 [00:00<00:00, 191.12it/s, now=None]\u001b[A\n",
      "chunk:   6%|███▉                                                            | 25/408 [09:35<00:19, 19.28it/s, now=None]\u001b[A\n",
      "chunk:   0%|                                                                         | 0/721 [00:00<?, ?it/s, now=None]\u001b[A"
     ]
    },
    {
     "name": "stdout",
     "output_type": "stream",
     "text": [
      "MoviePy - Done.\n",
      "MoviePy - Writing audio in ./data/myprosody/dataset/audioFiles/trial_truth_audio_042.wav\n"
     ]
    },
    {
     "name": "stderr",
     "output_type": "stream",
     "text": [
      "\n",
      "chunk:   0%|▏                                                                | 2/721 [00:00<01:08, 10.44it/s, now=None]\u001b[A\n",
      "chunk:  12%|███████▋                                                        | 86/721 [00:00<00:42, 14.84it/s, now=None]\u001b[A\n",
      "chunk:  23%|██████████████▍                                                | 165/721 [00:00<00:26, 21.02it/s, now=None]\u001b[A\n",
      "chunk:  38%|███████████████████████▊                                       | 272/721 [00:00<00:15, 29.78it/s, now=None]\u001b[A\n",
      "chunk:  51%|████████████████████████████████                               | 367/721 [00:00<00:08, 41.96it/s, now=None]\u001b[A\n",
      "chunk:  64%|████████████████████████████████████████                       | 458/721 [00:00<00:04, 58.77it/s, now=None]\u001b[A\n",
      "chunk:  76%|████████████████████████████████████████████████               | 550/721 [00:00<00:02, 81.41it/s, now=None]\u001b[A\n",
      "chunk:  92%|████████████████████████████████████████████████████████▊     | 660/721 [00:00<00:00, 112.27it/s, now=None]\u001b[A\n",
      "chunk:   6%|███▉                                                            | 25/408 [09:36<00:19, 19.28it/s, now=None]\u001b[A"
     ]
    },
    {
     "name": "stdout",
     "output_type": "stream",
     "text": [
      "MoviePy - Done.\n"
     ]
    },
    {
     "name": "stderr",
     "output_type": "stream",
     "text": [
      "chunk:   6%|███▉                                                            | 25/408 [09:37<00:19, 19.28it/s, now=None]\n",
      "chunk:   0%|                                                                         | 0/486 [00:00<?, ?it/s, now=None]\u001b[A\n"
     ]
    },
    {
     "name": "stdout",
     "output_type": "stream",
     "text": [
      "MoviePy - Writing audio in ./data/audio/trial_truth_audio_043.wav\n"
     ]
    },
    {
     "name": "stderr",
     "output_type": "stream",
     "text": [
      "chunk:   1%|▍                                                                | 3/486 [00:00<00:20, 23.43it/s, now=None]\u001b[A\n",
      "chunk:  23%|██████████████▋                                                | 113/486 [00:00<00:11, 33.16it/s, now=None]\u001b[A\n",
      "chunk:  46%|█████████████████████████████▏                                 | 225/486 [00:00<00:05, 46.77it/s, now=None]\u001b[A\n",
      "chunk:  69%|███████████████████████████████████████████▏                   | 333/486 [00:00<00:02, 65.58it/s, now=None]\u001b[A\n",
      "chunk:  91%|█████████████████████████████████████████████████████████▏     | 441/486 [00:00<00:00, 91.26it/s, now=None]\u001b[A\n",
      "chunk:   6%|███▉                                                            | 25/408 [09:38<00:19, 19.28it/s, now=None]\u001b[A\n"
     ]
    },
    {
     "name": "stdout",
     "output_type": "stream",
     "text": [
      "MoviePy - Done.\n",
      "MoviePy - Writing audio in ./data/myprosody/dataset/audioFiles/trial_truth_audio_043.wav\n"
     ]
    },
    {
     "name": "stderr",
     "output_type": "stream",
     "text": [
      "chunk:   0%|                                                                         | 0/529 [00:00<?, ?it/s, now=None]\u001b[A\n",
      "chunk:   0%|▏                                                                | 2/529 [00:00<01:25,  6.18it/s, now=None]\u001b[A\n",
      "chunk:  12%|███████▊                                                        | 65/529 [00:00<00:52,  8.79it/s, now=None]\u001b[A\n",
      "chunk:  22%|█████████████▌                                                 | 114/529 [00:00<00:33, 12.45it/s, now=None]\u001b[A\n",
      "chunk:  37%|███████████████████████▎                                       | 196/529 [00:00<00:18, 17.67it/s, now=None]\u001b[A\n",
      "chunk:  52%|████████████████████████████████▊                              | 275/529 [00:00<00:10, 25.00it/s, now=None]\u001b[A\n",
      "chunk:  67%|██████████████████████████████████████████▏                    | 354/529 [00:00<00:04, 35.23it/s, now=None]\u001b[A\n",
      "chunk:  83%|████████████████████████████████████████████████████▍          | 440/529 [00:00<00:01, 49.45it/s, now=None]\u001b[A\n",
      "chunk:  96%|████████████████████████████████████████████████████████████▌  | 509/529 [00:01<00:00, 68.06it/s, now=None]\u001b[A\n",
      "chunk:   6%|███▉                                                            | 25/408 [09:39<00:19, 19.28it/s, now=None]\u001b[A"
     ]
    },
    {
     "name": "stdout",
     "output_type": "stream",
     "text": [
      "MoviePy - Done.\n"
     ]
    },
    {
     "name": "stderr",
     "output_type": "stream",
     "text": [
      "chunk:   6%|███▉                                                            | 25/408 [09:41<00:19, 19.28it/s, now=None]\n",
      "chunk:   0%|                                                                         | 0/464 [00:00<?, ?it/s, now=None]\u001b[A"
     ]
    },
    {
     "name": "stdout",
     "output_type": "stream",
     "text": [
      "MoviePy - Writing audio in ./data/audio/trial_truth_audio_044.wav\n"
     ]
    },
    {
     "name": "stderr",
     "output_type": "stream",
     "text": [
      "\n",
      "chunk:   1%|▍                                                                | 3/464 [00:00<00:33, 13.85it/s, now=None]\u001b[A\n",
      "chunk:  13%|████████▍                                                       | 61/464 [00:00<00:20, 19.59it/s, now=None]\u001b[A\n",
      "chunk:  33%|████████████████████▊                                          | 153/464 [00:00<00:11, 27.69it/s, now=None]\u001b[A\n",
      "chunk:  52%|████████████████████████████████▉                              | 243/464 [00:00<00:05, 39.04it/s, now=None]\u001b[A\n",
      "chunk:  70%|████████████████████████████████████████████▍                  | 327/464 [00:00<00:02, 54.67it/s, now=None]\u001b[A\n",
      "chunk:  88%|███████████████████████████████████████████████████████▍       | 408/464 [00:00<00:00, 75.89it/s, now=None]\u001b[A\n",
      "chunk:   6%|███▉                                                            | 25/408 [09:42<00:19, 19.28it/s, now=None]\u001b[A\n",
      "chunk:   0%|                                                                         | 0/505 [00:00<?, ?it/s, now=None]\u001b[A"
     ]
    },
    {
     "name": "stdout",
     "output_type": "stream",
     "text": [
      "MoviePy - Done.\n",
      "MoviePy - Writing audio in ./data/myprosody/dataset/audioFiles/trial_truth_audio_044.wav\n"
     ]
    },
    {
     "name": "stderr",
     "output_type": "stream",
     "text": [
      "\n",
      "chunk:   0%|▎                                                                | 2/505 [00:00<00:55,  9.04it/s, now=None]\u001b[A\n",
      "chunk:  22%|█████████████▋                                                 | 110/505 [00:00<00:30, 12.87it/s, now=None]\u001b[A\n",
      "chunk:  43%|██████████████████████████▊                                    | 215/505 [00:00<00:15, 18.28it/s, now=None]\u001b[A\n",
      "chunk:  58%|████████████████████████████████████▍                          | 292/505 [00:00<00:08, 25.85it/s, now=None]\u001b[A\n",
      "chunk:  75%|███████████████████████████████████████████████▍               | 380/505 [00:00<00:03, 36.47it/s, now=None]\u001b[A\n",
      "chunk:  93%|██████████████████████████████████████████████████████████▍    | 468/505 [00:00<00:00, 51.16it/s, now=None]\u001b[A\n",
      "chunk:   6%|███▉                                                            | 25/408 [09:42<00:19, 19.28it/s, now=None]\u001b[A"
     ]
    },
    {
     "name": "stdout",
     "output_type": "stream",
     "text": [
      "MoviePy - Done.\n"
     ]
    },
    {
     "name": "stderr",
     "output_type": "stream",
     "text": [
      "chunk:   6%|███▉                                                            | 25/408 [09:43<00:19, 19.28it/s, now=None]\n",
      "chunk:   0%|                                                                         | 0/729 [00:00<?, ?it/s, now=None]\u001b[A\n"
     ]
    },
    {
     "name": "stdout",
     "output_type": "stream",
     "text": [
      "MoviePy - Writing audio in ./data/audio/trial_truth_audio_045.wav\n"
     ]
    },
    {
     "name": "stderr",
     "output_type": "stream",
     "text": [
      "chunk:   0%|▎                                                                | 3/729 [00:00<00:31, 23.37it/s, now=None]\u001b[A\n",
      "chunk:  15%|█████████▍                                                     | 109/729 [00:00<00:18, 33.07it/s, now=None]\u001b[A\n",
      "chunk:  29%|██████████████████▏                                            | 210/729 [00:00<00:11, 46.56it/s, now=None]\u001b[A\n",
      "chunk:  43%|███████████████████████████▍                                   | 317/729 [00:00<00:06, 65.30it/s, now=None]\u001b[A\n",
      "chunk:  58%|████████████████████████████████████▋                          | 425/729 [00:00<00:03, 90.91it/s, now=None]\u001b[A\n",
      "chunk:  73%|█████████████████████████████████████████████▏                | 531/729 [00:00<00:01, 125.24it/s, now=None]\u001b[A\n",
      "chunk:  91%|████████████████████████████████████████████████████████▎     | 662/729 [00:00<00:00, 171.85it/s, now=None]\u001b[A\n",
      "chunk:   6%|███▉                                                            | 25/408 [09:44<00:19, 19.28it/s, now=None]\u001b[A\n",
      "chunk:   0%|                                                                         | 0/793 [00:00<?, ?it/s, now=None]\u001b[A"
     ]
    },
    {
     "name": "stdout",
     "output_type": "stream",
     "text": [
      "MoviePy - Done.\n",
      "MoviePy - Writing audio in ./data/myprosody/dataset/audioFiles/trial_truth_audio_045.wav\n"
     ]
    },
    {
     "name": "stderr",
     "output_type": "stream",
     "text": [
      "\n",
      "chunk:   0%|▏                                                                | 2/793 [00:00<01:34,  8.35it/s, now=None]\u001b[A\n",
      "chunk:   4%|██▎                                                             | 28/793 [00:00<01:05, 11.75it/s, now=None]\u001b[A\n",
      "chunk:  11%|███████                                                         | 87/793 [00:00<00:42, 16.65it/s, now=None]\u001b[A\n",
      "chunk:  18%|███████████▍                                                   | 144/793 [00:00<00:27, 23.49it/s, now=None]\u001b[A\n",
      "chunk:  28%|█████████████████▍                                             | 220/793 [00:00<00:17, 33.07it/s, now=None]\u001b[A\n",
      "chunk:  41%|██████████████████████████                                     | 328/793 [00:00<00:09, 46.61it/s, now=None]\u001b[A\n",
      "chunk:  51%|████████████████████████████████▍                              | 408/793 [00:00<00:05, 64.95it/s, now=None]\u001b[A\n",
      "chunk:  63%|███████████████████████████████████████▌                       | 498/793 [00:00<00:03, 89.97it/s, now=None]\u001b[A\n",
      "chunk:  72%|████████████████████████████████████████████▋                 | 572/793 [00:01<00:01, 121.01it/s, now=None]\u001b[A\n",
      "chunk:  81%|██████████████████████████████████████████████████▎           | 643/793 [00:01<00:00, 158.61it/s, now=None]\u001b[A\n",
      "chunk:  90%|███████████████████████████████████████████████████████▌      | 710/793 [00:01<00:00, 203.79it/s, now=None]\u001b[A\n",
      "chunk:  98%|████████████████████████████████████████████████████████████▌ | 775/793 [00:01<00:00, 244.59it/s, now=None]\u001b[A\n",
      "chunk:   6%|███▉                                                            | 25/408 [09:46<00:19, 19.28it/s, now=None]\u001b[A"
     ]
    },
    {
     "name": "stdout",
     "output_type": "stream",
     "text": [
      "MoviePy - Done.\n"
     ]
    },
    {
     "name": "stderr",
     "output_type": "stream",
     "text": [
      "chunk:   6%|███▉                                                            | 25/408 [09:47<00:19, 19.28it/s, now=None]\n",
      "chunk:   0%|                                                                         | 0/817 [00:00<?, ?it/s, now=None]\u001b[A\n",
      "chunk:   1%|▍                                                                | 5/817 [00:00<00:16, 49.70it/s, now=None]\u001b[A"
     ]
    },
    {
     "name": "stdout",
     "output_type": "stream",
     "text": [
      "MoviePy - Writing audio in ./data/audio/trial_truth_audio_046.wav\n"
     ]
    },
    {
     "name": "stderr",
     "output_type": "stream",
     "text": [
      "\n",
      "chunk:  19%|███████████▊                                                   | 153/817 [00:00<00:09, 69.92it/s, now=None]\u001b[A\n",
      "chunk:  32%|████████████████████▏                                          | 261/817 [00:00<00:05, 97.18it/s, now=None]\u001b[A\n",
      "chunk:  44%|███████████████████████████                                   | 357/817 [00:00<00:03, 132.82it/s, now=None]\u001b[A\n",
      "chunk:  53%|████████████████████████████████▌                             | 429/817 [00:00<00:02, 172.29it/s, now=None]\u001b[A\n",
      "chunk:  61%|█████████████████████████████████████▋                        | 496/817 [00:00<00:01, 221.59it/s, now=None]\u001b[A\n",
      "chunk:  69%|███████████████████████████████████████████                   | 567/817 [00:00<00:00, 278.73it/s, now=None]\u001b[A\n",
      "chunk:  81%|██████████████████████████████████████████████████▎           | 663/817 [00:00<00:00, 350.28it/s, now=None]\u001b[A\n",
      "chunk:  94%|██████████████████████████████████████████████████████████    | 765/817 [00:00<00:00, 434.89it/s, now=None]\u001b[A\n",
      "chunk:   6%|███▉                                                            | 25/408 [09:48<00:19, 19.28it/s, now=None]\u001b[A\n",
      "chunk:   0%|                                                                         | 0/889 [00:00<?, ?it/s, now=None]\u001b[A"
     ]
    },
    {
     "name": "stdout",
     "output_type": "stream",
     "text": [
      "MoviePy - Done.\n",
      "MoviePy - Writing audio in ./data/myprosody/dataset/audioFiles/trial_truth_audio_046.wav\n"
     ]
    },
    {
     "name": "stderr",
     "output_type": "stream",
     "text": [
      "\n",
      "chunk:   0%|▏                                                                | 2/889 [00:00<01:23, 10.63it/s, now=None]\u001b[A\n",
      "chunk:  10%|██████▌                                                         | 92/889 [00:00<00:52, 15.10it/s, now=None]\u001b[A\n",
      "chunk:  21%|█████████████                                                  | 185/889 [00:00<00:32, 21.43it/s, now=None]\u001b[A\n",
      "chunk:  31%|███████████████████▍                                           | 275/889 [00:00<00:20, 30.25it/s, now=None]\u001b[A\n",
      "chunk:  39%|████████████████████████▊                                      | 351/889 [00:00<00:12, 42.49it/s, now=None]\u001b[A\n",
      "chunk:  49%|███████████████████████████████▏                               | 440/889 [00:00<00:07, 59.31it/s, now=None]\u001b[A\n",
      "chunk:  58%|████████████████████████████████████▊                          | 520/889 [00:00<00:04, 82.10it/s, now=None]\u001b[A\n",
      "chunk:  66%|█████████████████████████████████████████▏                    | 591/889 [00:00<00:02, 111.71it/s, now=None]\u001b[A\n",
      "chunk:  76%|██████████████████████████████████████████████▊               | 672/889 [00:01<00:01, 150.54it/s, now=None]\u001b[A\n",
      "chunk:  84%|████████████████████████████████████████████████████          | 746/889 [00:01<00:00, 196.29it/s, now=None]\u001b[A\n",
      "chunk:  92%|█████████████████████████████████████████████████████████▏    | 820/889 [00:01<00:00, 251.63it/s, now=None]\u001b[A\n",
      "chunk:   6%|███▉                                                            | 25/408 [09:50<00:19, 19.28it/s, now=None]\u001b[A"
     ]
    },
    {
     "name": "stdout",
     "output_type": "stream",
     "text": [
      "MoviePy - Done.\n"
     ]
    },
    {
     "name": "stderr",
     "output_type": "stream",
     "text": [
      "chunk:   6%|███▉                                                            | 25/408 [09:50<00:19, 19.28it/s, now=None]\n",
      "chunk:   0%|                                                                         | 0/574 [00:00<?, ?it/s, now=None]\u001b[A"
     ]
    },
    {
     "name": "stdout",
     "output_type": "stream",
     "text": [
      "MoviePy - Writing audio in ./data/audio/trial_truth_audio_047.wav\n"
     ]
    },
    {
     "name": "stderr",
     "output_type": "stream",
     "text": [
      "\n",
      "chunk:   1%|▎                                                                | 3/574 [00:00<00:28, 19.70it/s, now=None]\u001b[A\n",
      "chunk:  21%|█████████████▍                                                 | 122/574 [00:00<00:16, 27.95it/s, now=None]\u001b[A\n",
      "chunk:  42%|██████████████████████████▎                                    | 240/574 [00:00<00:08, 39.52it/s, now=None]\u001b[A\n",
      "chunk:  60%|█████████████████████████████████████▊                         | 344/574 [00:00<00:04, 55.55it/s, now=None]\u001b[A\n",
      "chunk:  74%|██████████████████████████████████████████████▊                | 426/574 [00:00<00:01, 77.11it/s, now=None]\u001b[A\n",
      "chunk:  89%|███████████████████████████████████████████████████████       | 510/574 [00:00<00:00, 105.92it/s, now=None]\u001b[A\n",
      "chunk:   6%|███▉                                                            | 25/408 [09:51<00:19, 19.28it/s, now=None]\u001b[A\n",
      "chunk:   0%|                                                                         | 0/625 [00:00<?, ?it/s, now=None]\u001b[A"
     ]
    },
    {
     "name": "stdout",
     "output_type": "stream",
     "text": [
      "MoviePy - Done.\n",
      "MoviePy - Writing audio in ./data/myprosody/dataset/audioFiles/trial_truth_audio_047.wav\n"
     ]
    },
    {
     "name": "stderr",
     "output_type": "stream",
     "text": [
      "\n",
      "chunk:   0%|▏                                                                | 2/625 [00:00<00:57, 10.89it/s, now=None]\u001b[A\n",
      "chunk:  23%|██████████████▎                                                | 142/625 [00:00<00:31, 15.50it/s, now=None]\u001b[A\n",
      "chunk:  39%|████████████████████████▊                                      | 246/625 [00:00<00:17, 22.00it/s, now=None]\u001b[A\n",
      "chunk:  55%|██████████████████████████████████▍                            | 342/625 [00:00<00:09, 31.13it/s, now=None]\u001b[A\n",
      "chunk:  72%|█████████████████████████████████████████████▎                 | 449/625 [00:00<00:04, 43.92it/s, now=None]\u001b[A\n",
      "chunk:  91%|█████████████████████████████████████████████████████████▏     | 567/625 [00:00<00:00, 61.73it/s, now=None]\u001b[A\n",
      "chunk:   6%|███▉                                                            | 25/408 [09:52<00:19, 19.28it/s, now=None]\u001b[A"
     ]
    },
    {
     "name": "stdout",
     "output_type": "stream",
     "text": [
      "MoviePy - Done.\n"
     ]
    },
    {
     "name": "stderr",
     "output_type": "stream",
     "text": [
      "chunk:   6%|███▉                                                            | 25/408 [09:53<00:19, 19.28it/s, now=None]\n",
      "chunk:   0%|                                                                         | 0/574 [00:00<?, ?it/s, now=None]\u001b[A"
     ]
    },
    {
     "name": "stdout",
     "output_type": "stream",
     "text": [
      "MoviePy - Writing audio in ./data/audio/trial_truth_audio_048.wav\n"
     ]
    },
    {
     "name": "stderr",
     "output_type": "stream",
     "text": [
      "\n",
      "chunk:   1%|▎                                                                | 3/574 [00:00<00:44, 12.93it/s, now=None]\u001b[A\n",
      "chunk:   7%|████▍                                                           | 40/574 [00:00<00:29, 18.19it/s, now=None]\u001b[A\n",
      "chunk:  24%|██████████████▊                                                | 135/574 [00:00<00:17, 25.78it/s, now=None]\u001b[A\n",
      "chunk:  40%|████████████████████████▉                                      | 227/574 [00:00<00:09, 36.38it/s, now=None]\u001b[A\n",
      "chunk:  53%|█████████████████████████████████▌                             | 306/574 [00:00<00:05, 50.91it/s, now=None]\u001b[A\n",
      "chunk:  71%|████████████████████████████████████████████▊                  | 408/574 [00:00<00:02, 71.12it/s, now=None]\u001b[A\n",
      "chunk:  89%|███████████████████████████████████████████████████████▉       | 510/574 [00:00<00:00, 98.34it/s, now=None]\u001b[A\n",
      "chunk:   6%|███▉                                                            | 25/408 [09:54<00:19, 19.28it/s, now=None]\u001b[A\n",
      "chunk:   0%|                                                                         | 0/625 [00:00<?, ?it/s, now=None]\u001b[A"
     ]
    },
    {
     "name": "stdout",
     "output_type": "stream",
     "text": [
      "MoviePy - Done.\n",
      "MoviePy - Writing audio in ./data/myprosody/dataset/audioFiles/trial_truth_audio_048.wav\n"
     ]
    },
    {
     "name": "stderr",
     "output_type": "stream",
     "text": [
      "\n",
      "chunk:   0%|▏                                                                | 2/625 [00:00<01:02,  9.89it/s, now=None]\u001b[A\n",
      "chunk:  18%|███████████                                                    | 110/625 [00:00<00:36, 14.07it/s, now=None]\u001b[A\n",
      "chunk:  30%|██████████████████▋                                            | 186/625 [00:00<00:22, 19.93it/s, now=None]\u001b[A\n",
      "chunk:  41%|██████████████████████████                                     | 258/625 [00:00<00:13, 28.14it/s, now=None]\u001b[A\n",
      "chunk:  53%|█████████████████████████████████▎                             | 330/625 [00:00<00:07, 39.53it/s, now=None]\u001b[A\n",
      "chunk:  68%|███████████████████████████████████████████                    | 427/625 [00:00<00:03, 55.48it/s, now=None]\u001b[A\n",
      "chunk:  81%|██████████████████████████████████████████████████▉            | 505/625 [00:00<00:01, 76.85it/s, now=None]\u001b[A\n",
      "chunk:  96%|███████████████████████████████████████████████████████████▍  | 599/625 [00:00<00:00, 106.07it/s, now=None]\u001b[A\n",
      "chunk:   6%|███▉                                                            | 25/408 [09:55<00:19, 19.28it/s, now=None]\u001b[A"
     ]
    },
    {
     "name": "stdout",
     "output_type": "stream",
     "text": [
      "MoviePy - Done.\n"
     ]
    },
    {
     "name": "stderr",
     "output_type": "stream",
     "text": [
      "chunk:   6%|███▉                                                            | 25/408 [09:56<00:19, 19.28it/s, now=None]\n",
      "chunk:   0%|                                                                         | 0/662 [00:00<?, ?it/s, now=None]\u001b[A\n",
      "chunk:   0%|▎                                                                | 3/662 [00:00<00:25, 26.21it/s, now=None]"
     ]
    },
    {
     "name": "stdout",
     "output_type": "stream",
     "text": [
      "MoviePy - Writing audio in ./data/audio/trial_truth_audio_049.wav\n"
     ]
    },
    {
     "name": "stderr",
     "output_type": "stream",
     "text": [
      "\u001b[A\n",
      "chunk:  15%|█████████▋                                                     | 102/662 [00:00<00:15, 36.98it/s, now=None]\u001b[A\n",
      "chunk:  31%|███████████████████▎                                           | 203/662 [00:00<00:08, 52.01it/s, now=None]\u001b[A\n",
      "chunk:  45%|████████████████████████████                                   | 295/662 [00:00<00:05, 72.53it/s, now=None]\u001b[A\n",
      "chunk:  60%|████████████████████████████████████▉                         | 394/662 [00:00<00:02, 100.34it/s, now=None]\u001b[A\n",
      "chunk:  72%|████████████████████████████████████████████▊                 | 478/662 [00:00<00:01, 136.28it/s, now=None]\u001b[A\n",
      "chunk:  85%|████████████████████████████████████████████████████▌         | 561/662 [00:00<00:00, 181.27it/s, now=None]\u001b[A\n",
      "chunk:   6%|███▉                                                            | 25/408 [09:57<00:19, 19.28it/s, now=None]\u001b[A\n",
      "chunk:   0%|                                                                         | 0/721 [00:00<?, ?it/s, now=None]\u001b[A"
     ]
    },
    {
     "name": "stdout",
     "output_type": "stream",
     "text": [
      "MoviePy - Done.\n",
      "MoviePy - Writing audio in ./data/myprosody/dataset/audioFiles/trial_truth_audio_049.wav\n"
     ]
    },
    {
     "name": "stderr",
     "output_type": "stream",
     "text": [
      "\n",
      "chunk:   0%|▏                                                                | 2/721 [00:00<01:16,  9.42it/s, now=None]\u001b[A\n",
      "chunk:   9%|█████▋                                                          | 64/721 [00:00<00:49, 13.36it/s, now=None]\u001b[A\n",
      "chunk:  17%|███████████                                                    | 126/721 [00:00<00:31, 18.91it/s, now=None]\u001b[A\n",
      "chunk:  27%|█████████████████▎                                             | 198/721 [00:00<00:19, 26.71it/s, now=None]\u001b[A\n",
      "chunk:  41%|█████████████████████████▊                                     | 295/721 [00:00<00:11, 37.72it/s, now=None]\u001b[A\n",
      "chunk:  54%|██████████████████████████████████                             | 390/721 [00:00<00:06, 52.95it/s, now=None]\u001b[A\n",
      "chunk:  69%|███████████████████████████████████████████▎                   | 495/721 [00:00<00:03, 73.85it/s, now=None]\u001b[A\n",
      "chunk:  84%|████████████████████████████████████████████████████          | 605/721 [00:00<00:01, 102.39it/s, now=None]\u001b[A\n",
      "chunk:  98%|████████████████████████████████████████████████████████████▉ | 708/721 [00:01<00:00, 140.20it/s, now=None]\u001b[A\n",
      "chunk:   6%|███▉                                                            | 25/408 [09:58<00:19, 19.28it/s, now=None]\u001b[A"
     ]
    },
    {
     "name": "stdout",
     "output_type": "stream",
     "text": [
      "MoviePy - Done.\n"
     ]
    },
    {
     "name": "stderr",
     "output_type": "stream",
     "text": [
      "chunk:   6%|███▉                                                            | 25/408 [09:59<00:19, 19.28it/s, now=None]\n",
      "chunk:   0%|                                                                         | 0/508 [00:00<?, ?it/s, now=None]\u001b[A\n"
     ]
    },
    {
     "name": "stdout",
     "output_type": "stream",
     "text": [
      "MoviePy - Writing audio in ./data/audio/trial_truth_audio_050.wav\n"
     ]
    },
    {
     "name": "stderr",
     "output_type": "stream",
     "text": [
      "chunk:   1%|▍                                                                | 3/508 [00:00<00:22, 22.86it/s, now=None]\u001b[A\n",
      "chunk:  23%|██████████████▎                                                | 115/508 [00:00<00:12, 32.36it/s, now=None]\u001b[A\n",
      "chunk:  44%|███████████████████████████▌                                   | 222/508 [00:00<00:06, 45.64it/s, now=None]\u001b[A\n",
      "chunk:  65%|████████████████████████████████████████▋                      | 328/508 [00:00<00:02, 64.00it/s, now=None]\u001b[A\n",
      "chunk:  88%|███████████████████████████████████████████████████████▍       | 447/508 [00:00<00:00, 89.36it/s, now=None]\u001b[A\n",
      "chunk:   6%|███▉                                                            | 25/408 [10:00<00:19, 19.28it/s, now=None]\u001b[A\n",
      "chunk:   0%|                                                                         | 0/553 [00:00<?, ?it/s, now=None]\u001b[A"
     ]
    },
    {
     "name": "stdout",
     "output_type": "stream",
     "text": [
      "MoviePy - Done.\n",
      "MoviePy - Writing audio in ./data/myprosody/dataset/audioFiles/trial_truth_audio_050.wav\n"
     ]
    },
    {
     "name": "stderr",
     "output_type": "stream",
     "text": [
      "\n",
      "chunk:   0%|▏                                                                | 2/553 [00:00<00:57,  9.50it/s, now=None]\u001b[A\n",
      "chunk:  20%|████████████▌                                                  | 110/553 [00:00<00:32, 13.53it/s, now=None]\u001b[A\n",
      "chunk:  40%|█████████████████████████                                      | 220/553 [00:00<00:17, 19.21it/s, now=None]\u001b[A\n",
      "chunk:  60%|█████████████████████████████████████▌                         | 330/553 [00:00<00:08, 27.23it/s, now=None]\u001b[A\n",
      "chunk:  79%|██████████████████████████████████████████████████             | 439/553 [00:00<00:02, 38.48it/s, now=None]\u001b[A\n",
      "chunk:  94%|███████████████████████████████████████████████████████████▎   | 521/553 [00:00<00:00, 53.78it/s, now=None]\u001b[A\n",
      "chunk:   6%|███▉                                                            | 25/408 [10:01<00:19, 19.28it/s, now=None]\u001b[A"
     ]
    },
    {
     "name": "stdout",
     "output_type": "stream",
     "text": [
      "MoviePy - Done.\n"
     ]
    },
    {
     "name": "stderr",
     "output_type": "stream",
     "text": [
      "chunk:   6%|███▉                                                            | 25/408 [10:02<00:19, 19.28it/s, now=None]\n",
      "chunk:   0%|                                                                         | 0/641 [00:00<?, ?it/s, now=None]\u001b[A\n"
     ]
    },
    {
     "name": "stdout",
     "output_type": "stream",
     "text": [
      "MoviePy - Writing audio in ./data/audio/trial_truth_audio_051.wav\n"
     ]
    },
    {
     "name": "stderr",
     "output_type": "stream",
     "text": [
      "chunk:   0%|▎                                                                | 3/641 [00:00<00:27, 22.95it/s, now=None]\u001b[A\n",
      "chunk:  17%|██████████▌                                                    | 107/641 [00:00<00:16, 32.48it/s, now=None]\u001b[A\n",
      "chunk:  34%|█████████████████████▌                                         | 220/641 [00:00<00:09, 45.81it/s, now=None]\u001b[A\n",
      "chunk:  51%|████████████████████████████████▍                              | 330/641 [00:00<00:04, 64.30it/s, now=None]\u001b[A\n",
      "chunk:  68%|██████████████████████████████████████████▊                    | 435/641 [00:00<00:02, 89.45it/s, now=None]\u001b[A\n",
      "chunk:  84%|███████████████████████████████████████████████████▉          | 537/641 [00:00<00:00, 123.06it/s, now=None]\u001b[A\n",
      "chunk: 100%|██████████████████████████████████████████████████████████████| 641/641 [00:00<00:00, 167.14it/s, now=None]\u001b[A\n",
      "chunk:   6%|███▉                                                            | 25/408 [10:03<00:19, 19.28it/s, now=None]\u001b[A\n",
      "chunk:   0%|                                                                         | 0/697 [00:00<?, ?it/s, now=None]\u001b[A"
     ]
    },
    {
     "name": "stdout",
     "output_type": "stream",
     "text": [
      "MoviePy - Done.\n",
      "MoviePy - Writing audio in ./data/myprosody/dataset/audioFiles/trial_truth_audio_051.wav\n"
     ]
    },
    {
     "name": "stderr",
     "output_type": "stream",
     "text": [
      "\n",
      "chunk:   0%|▏                                                                | 2/697 [00:00<01:13,  9.47it/s, now=None]\u001b[A\n",
      "chunk:  16%|█████████▉                                                     | 110/697 [00:00<00:43, 13.47it/s, now=None]\u001b[A\n",
      "chunk:  31%|███████████████████▎                                           | 213/697 [00:00<00:25, 19.14it/s, now=None]\u001b[A\n",
      "chunk:  43%|██████████████████████████▉                                    | 298/697 [00:00<00:14, 27.07it/s, now=None]\u001b[A\n",
      "chunk:  54%|█████████████████████████████████▊                             | 374/697 [00:00<00:08, 38.07it/s, now=None]\u001b[A\n",
      "chunk:  66%|█████████████████████████████████████████▋                     | 461/697 [00:00<00:04, 53.35it/s, now=None]\u001b[A\n",
      "chunk:  77%|████████████████████████████████████████████████▎              | 534/697 [00:00<00:02, 73.70it/s, now=None]\u001b[A\n",
      "chunk:  87%|█████████████████████████████████████████████████████▋        | 604/697 [00:00<00:00, 100.55it/s, now=None]\u001b[A\n",
      "chunk:  97%|████████████████████████████████████████████████████████████  | 675/697 [00:01<00:00, 134.14it/s, now=None]\u001b[A\n",
      "chunk:   6%|███▉                                                            | 25/408 [10:04<00:19, 19.28it/s, now=None]\u001b[A"
     ]
    },
    {
     "name": "stdout",
     "output_type": "stream",
     "text": [
      "MoviePy - Done.\n"
     ]
    },
    {
     "name": "stderr",
     "output_type": "stream",
     "text": [
      "chunk:   6%|███▉                                                            | 25/408 [10:05<00:19, 19.28it/s, now=None]\n",
      "chunk:   0%|                                                                         | 0/640 [00:00<?, ?it/s, now=None]\u001b[A\n"
     ]
    },
    {
     "name": "stdout",
     "output_type": "stream",
     "text": [
      "MoviePy - Writing audio in ./data/audio/trial_truth_audio_052.wav\n"
     ]
    },
    {
     "name": "stderr",
     "output_type": "stream",
     "text": [
      "chunk:   0%|▎                                                                | 3/640 [00:00<00:28, 22.16it/s, now=None]\u001b[A\n",
      "chunk:  16%|██████████                                                     | 102/640 [00:00<00:17, 31.31it/s, now=None]\u001b[A\n",
      "chunk:  33%|████████████████████▊                                          | 211/640 [00:00<00:09, 44.19it/s, now=None]\u001b[A\n",
      "chunk:  50%|███████████████████████████████▎                               | 318/640 [00:00<00:05, 62.02it/s, now=None]\u001b[A\n",
      "chunk:  67%|█████████████████████████████████████████▉                     | 426/640 [00:00<00:02, 86.42it/s, now=None]\u001b[A\n",
      "chunk:  83%|███████████████████████████████████████████████████▍          | 531/640 [00:00<00:00, 119.24it/s, now=None]\u001b[A\n",
      "chunk: 100%|██████████████████████████████████████████████████████████████| 640/640 [00:00<00:00, 162.66it/s, now=None]\u001b[A\n",
      "chunk:   6%|███▉                                                            | 25/408 [10:06<00:19, 19.28it/s, now=None]\u001b[A\n",
      "chunk:   0%|                                                                         | 0/697 [00:00<?, ?it/s, now=None]\u001b[A"
     ]
    },
    {
     "name": "stdout",
     "output_type": "stream",
     "text": [
      "MoviePy - Done.\n",
      "MoviePy - Writing audio in ./data/myprosody/dataset/audioFiles/trial_truth_audio_052.wav\n"
     ]
    },
    {
     "name": "stderr",
     "output_type": "stream",
     "text": [
      "\n",
      "chunk:   0%|▏                                                                | 2/697 [00:00<01:11,  9.74it/s, now=None]\u001b[A\n",
      "chunk:  16%|█████████▉                                                     | 110/697 [00:00<00:42, 13.86it/s, now=None]\u001b[A\n",
      "chunk:  29%|██████████████████▎                                            | 203/697 [00:00<00:25, 19.67it/s, now=None]\u001b[A\n",
      "chunk:  40%|█████████████████████████▏                                     | 278/697 [00:00<00:15, 27.79it/s, now=None]\u001b[A\n",
      "chunk:  54%|█████████████████████████████████▉                             | 376/697 [00:00<00:08, 39.21it/s, now=None]\u001b[A\n",
      "chunk:  64%|████████████████████████████████████████▏                      | 445/697 [00:00<00:04, 54.30it/s, now=None]\u001b[A\n",
      "chunk:  73%|██████████████████████████████████████████████▏                | 511/697 [00:00<00:02, 74.70it/s, now=None]\u001b[A\n",
      "chunk:  83%|███████████████████████████████████████████████████▌          | 579/697 [00:00<00:01, 101.72it/s, now=None]\u001b[A\n",
      "chunk:  95%|██████████████████████████████████████████████████████████▌   | 659/697 [00:01<00:00, 137.70it/s, now=None]\u001b[A\n",
      "chunk:   6%|███▉                                                            | 25/408 [10:07<00:19, 19.28it/s, now=None]\u001b[A"
     ]
    },
    {
     "name": "stdout",
     "output_type": "stream",
     "text": [
      "MoviePy - Done.\n"
     ]
    },
    {
     "name": "stderr",
     "output_type": "stream",
     "text": [
      "chunk:   6%|███▉                                                            | 25/408 [10:08<00:19, 19.28it/s, now=None]\n",
      "chunk:   0%|                                                                         | 0/662 [00:00<?, ?it/s, now=None]\u001b[A"
     ]
    },
    {
     "name": "stdout",
     "output_type": "stream",
     "text": [
      "MoviePy - Writing audio in ./data/audio/trial_truth_audio_053.wav\n"
     ]
    },
    {
     "name": "stderr",
     "output_type": "stream",
     "text": [
      "\n",
      "chunk:   0%|▎                                                                | 3/662 [00:00<00:34, 19.09it/s, now=None]\u001b[A\n",
      "chunk:  15%|█████████▋                                                     | 102/662 [00:00<00:20, 27.01it/s, now=None]\u001b[A\n",
      "chunk:  32%|████████████████████▎                                          | 213/662 [00:00<00:11, 38.18it/s, now=None]\u001b[A\n",
      "chunk:  49%|███████████████████████████████                                | 326/662 [00:00<00:06, 53.74it/s, now=None]\u001b[A\n",
      "chunk:  67%|██████████████████████████████████████████▎                    | 444/662 [00:00<00:02, 75.26it/s, now=None]\u001b[A\n",
      "chunk:  85%|████████████████████████████████████████████████████▌         | 561/662 [00:00<00:00, 104.33it/s, now=None]\u001b[A\n",
      "chunk:   6%|███▉                                                            | 25/408 [10:09<00:19, 19.28it/s, now=None]\u001b[A\n",
      "chunk:   0%|                                                                         | 0/721 [00:00<?, ?it/s, now=None]\u001b[A"
     ]
    },
    {
     "name": "stdout",
     "output_type": "stream",
     "text": [
      "MoviePy - Done.\n",
      "MoviePy - Writing audio in ./data/myprosody/dataset/audioFiles/trial_truth_audio_053.wav\n"
     ]
    },
    {
     "name": "stderr",
     "output_type": "stream",
     "text": [
      "\n",
      "chunk:   0%|▏                                                                | 2/721 [00:00<01:09, 10.39it/s, now=None]\u001b[A\n",
      "chunk:  15%|█████████▌                                                     | 110/721 [00:00<00:41, 14.77it/s, now=None]\u001b[A\n",
      "chunk:  29%|██████████████████▌                                            | 212/721 [00:00<00:24, 20.97it/s, now=None]\u001b[A\n",
      "chunk:  41%|█████████████████████████▉                                     | 297/721 [00:00<00:14, 29.65it/s, now=None]\u001b[A\n",
      "chunk:  53%|█████████████████████████████████▋                             | 385/721 [00:00<00:08, 41.70it/s, now=None]\u001b[A\n",
      "chunk:  66%|█████████████████████████████████████████▋                     | 477/721 [00:00<00:04, 58.44it/s, now=None]\u001b[A\n",
      "chunk:  77%|████████████████████████████████████████████████▎              | 553/721 [00:00<00:02, 80.43it/s, now=None]\u001b[A\n",
      "chunk:  87%|██████████████████████████████████████████████████████        | 629/721 [00:00<00:00, 109.90it/s, now=None]\u001b[A\n",
      "chunk:  99%|█████████████████████████████████████████████████████████████▍| 715/721 [00:01<00:00, 148.42it/s, now=None]\u001b[A\n",
      "chunk:   6%|███▉                                                            | 25/408 [10:10<00:19, 19.28it/s, now=None]\u001b[A"
     ]
    },
    {
     "name": "stdout",
     "output_type": "stream",
     "text": [
      "MoviePy - Done.\n"
     ]
    },
    {
     "name": "stderr",
     "output_type": "stream",
     "text": [
      "chunk:   6%|███▉                                                            | 25/408 [10:10<00:19, 19.28it/s, now=None]\n",
      "chunk:   0%|                                                                         | 0/530 [00:00<?, ?it/s, now=None]\u001b[A\n"
     ]
    },
    {
     "name": "stdout",
     "output_type": "stream",
     "text": [
      "MoviePy - Writing audio in ./data/audio/trial_truth_audio_054.wav\n"
     ]
    },
    {
     "name": "stderr",
     "output_type": "stream",
     "text": [
      "chunk:   1%|▎                                                                | 3/530 [00:00<00:22, 22.97it/s, now=None]\u001b[A\n",
      "chunk:  19%|███████████▉                                                    | 99/530 [00:00<00:13, 32.48it/s, now=None]\u001b[A\n",
      "chunk:  29%|██████████████████▏                                            | 153/530 [00:00<00:08, 45.20it/s, now=None]\u001b[A\n",
      "chunk:  48%|█████████████████████████████▉                                 | 252/530 [00:00<00:04, 63.32it/s, now=None]\u001b[A\n",
      "chunk:  59%|████████████████████████████████████▉                          | 311/530 [00:00<00:02, 86.47it/s, now=None]\u001b[A\n",
      "chunk:  71%|████████████████████████████████████████████                  | 377/530 [00:00<00:01, 116.83it/s, now=None]\u001b[A\n",
      "chunk:  82%|███████████████████████████████████████████████████           | 436/530 [00:00<00:00, 153.14it/s, now=None]\u001b[A\n",
      "chunk:  93%|█████████████████████████████████████████████████████████▉    | 495/530 [00:00<00:00, 194.97it/s, now=None]\u001b[A\n",
      "chunk:   6%|███▉                                                            | 25/408 [10:11<00:19, 19.28it/s, now=None]\u001b[A\n",
      "chunk:   0%|                                                                         | 0/577 [00:00<?, ?it/s, now=None]\u001b[A"
     ]
    },
    {
     "name": "stdout",
     "output_type": "stream",
     "text": [
      "MoviePy - Done.\n",
      "MoviePy - Writing audio in ./data/myprosody/dataset/audioFiles/trial_truth_audio_054.wav\n"
     ]
    },
    {
     "name": "stderr",
     "output_type": "stream",
     "text": [
      "\n",
      "chunk:   0%|▏                                                                | 2/577 [00:00<01:00,  9.54it/s, now=None]\u001b[A\n",
      "chunk:  16%|██████████▍                                                     | 94/577 [00:00<00:35, 13.57it/s, now=None]\u001b[A\n",
      "chunk:  31%|███████████████████▏                                           | 176/577 [00:00<00:20, 19.24it/s, now=None]\u001b[A\n",
      "chunk:  43%|███████████████████████████                                    | 248/577 [00:00<00:12, 27.17it/s, now=None]\u001b[A\n",
      "chunk:  54%|█████████████████████████████████▊                             | 310/577 [00:00<00:07, 38.08it/s, now=None]\u001b[A\n",
      "chunk:  67%|██████████████████████████████████████████                     | 385/577 [00:00<00:03, 53.10it/s, now=None]\u001b[A\n",
      "chunk:  83%|████████████████████████████████████████████████████▍          | 480/577 [00:00<00:01, 74.02it/s, now=None]\u001b[A\n",
      "chunk:  95%|███████████████████████████████████████████████████████████   | 550/577 [00:00<00:00, 101.02it/s, now=None]\u001b[A\n",
      "chunk:   6%|███▉                                                            | 25/408 [10:13<00:19, 19.28it/s, now=None]\u001b[A"
     ]
    },
    {
     "name": "stdout",
     "output_type": "stream",
     "text": [
      "MoviePy - Done.\n"
     ]
    },
    {
     "name": "stderr",
     "output_type": "stream",
     "text": [
      "chunk:   6%|███▉                                                            | 25/408 [10:14<00:19, 19.28it/s, now=None]\n",
      "chunk:   0%|                                                                         | 0/641 [00:00<?, ?it/s, now=None]\u001b[A"
     ]
    },
    {
     "name": "stdout",
     "output_type": "stream",
     "text": [
      "MoviePy - Writing audio in ./data/audio/trial_truth_audio_055.wav\n"
     ]
    },
    {
     "name": "stderr",
     "output_type": "stream",
     "text": [
      "\n",
      "chunk:   0%|▎                                                                | 3/641 [00:00<00:46, 13.81it/s, now=None]\u001b[A\n",
      "chunk:  14%|████████▊                                                       | 88/641 [00:00<00:28, 19.59it/s, now=None]\u001b[A\n",
      "chunk:  24%|███████████████                                                | 153/641 [00:00<00:17, 27.62it/s, now=None]\u001b[A\n",
      "chunk:  40%|█████████████████████████                                      | 255/641 [00:00<00:09, 38.97it/s, now=None]\u001b[A\n",
      "chunk:  58%|████████████████████████████████████▎                          | 369/641 [00:00<00:04, 54.85it/s, now=None]\u001b[A\n",
      "chunk:  73%|██████████████████████████████████████████████▏                | 470/641 [00:00<00:02, 76.57it/s, now=None]\u001b[A\n",
      "chunk:  90%|███████████████████████████████████████████████████████▉      | 578/641 [00:00<00:00, 106.09it/s, now=None]\u001b[A\n",
      "chunk:   6%|███▉                                                            | 25/408 [10:15<00:19, 19.28it/s, now=None]\u001b[A\n",
      "chunk:   0%|                                                                         | 0/697 [00:00<?, ?it/s, now=None]\u001b[A"
     ]
    },
    {
     "name": "stdout",
     "output_type": "stream",
     "text": [
      "MoviePy - Done.\n",
      "MoviePy - Writing audio in ./data/myprosody/dataset/audioFiles/trial_truth_audio_055.wav\n"
     ]
    },
    {
     "name": "stderr",
     "output_type": "stream",
     "text": [
      "\n",
      "chunk:   0%|▏                                                                | 2/697 [00:00<01:13,  9.41it/s, now=None]\u001b[A\n",
      "chunk:  16%|█████████▉                                                     | 110/697 [00:00<00:43, 13.39it/s, now=None]\u001b[A\n",
      "chunk:  30%|██████████████████▊                                            | 208/697 [00:00<00:25, 19.01it/s, now=None]\u001b[A\n",
      "chunk:  42%|██████████████████████████▏                                    | 290/697 [00:00<00:15, 26.89it/s, now=None]\u001b[A\n",
      "chunk:  55%|██████████████████████████████████▊                            | 385/697 [00:00<00:08, 37.92it/s, now=None]\u001b[A\n",
      "chunk:  71%|████████████████████████████████████████████▋                  | 494/697 [00:00<00:03, 53.37it/s, now=None]\u001b[A\n",
      "chunk:  85%|█████████████████████████████████████████████████████▏         | 589/697 [00:00<00:01, 74.41it/s, now=None]\u001b[A\n",
      "chunk:  97%|████████████████████████████████████████████████████████████▍ | 679/697 [00:00<00:00, 102.57it/s, now=None]\u001b[A\n",
      "chunk:   6%|███▉                                                            | 25/408 [10:16<00:19, 19.28it/s, now=None]\u001b[A"
     ]
    },
    {
     "name": "stdout",
     "output_type": "stream",
     "text": [
      "MoviePy - Done.\n"
     ]
    },
    {
     "name": "stderr",
     "output_type": "stream",
     "text": [
      "chunk:   6%|███▉                                                            | 25/408 [10:17<00:19, 19.28it/s, now=None]\n",
      "chunk:   0%|                                                                         | 0/751 [00:00<?, ?it/s, now=None]\u001b[A\n",
      "chunk:   0%|▎                                                                | 3/751 [00:00<00:31, 23.57it/s, now=None]\u001b[A"
     ]
    },
    {
     "name": "stdout",
     "output_type": "stream",
     "text": [
      "MoviePy - Writing audio in ./data/audio/trial_truth_audio_056.wav\n"
     ]
    },
    {
     "name": "stderr",
     "output_type": "stream",
     "text": [
      "\n",
      "chunk:  14%|████████▌                                                      | 102/751 [00:00<00:19, 33.30it/s, now=None]\u001b[A\n",
      "chunk:  28%|█████████████████▊                                             | 213/751 [00:00<00:11, 46.97it/s, now=None]\u001b[A\n",
      "chunk:  38%|████████████████████████▏                                      | 288/751 [00:00<00:07, 65.34it/s, now=None]\u001b[A\n",
      "chunk:  51%|███████████████████████████████▉                               | 380/751 [00:00<00:04, 90.53it/s, now=None]\u001b[A\n",
      "chunk:  60%|█████████████████████████████████████▏                        | 451/751 [00:00<00:02, 122.33it/s, now=None]\u001b[A\n",
      "chunk:  70%|███████████████████████████████████████████▏                  | 523/751 [00:00<00:01, 160.48it/s, now=None]\u001b[A\n",
      "chunk:  80%|█████████████████████████████████████████████████▎            | 598/751 [00:00<00:00, 209.89it/s, now=None]\u001b[A\n",
      "chunk:  95%|██████████████████████████████████████████████████████████▉   | 714/751 [00:00<00:00, 275.21it/s, now=None]\u001b[A\n",
      "chunk:   6%|███▉                                                            | 25/408 [10:18<00:19, 19.28it/s, now=None]\u001b[A\n",
      "chunk:   0%|                                                                         | 0/817 [00:00<?, ?it/s, now=None]\u001b[A"
     ]
    },
    {
     "name": "stdout",
     "output_type": "stream",
     "text": [
      "MoviePy - Done.\n",
      "MoviePy - Writing audio in ./data/myprosody/dataset/audioFiles/trial_truth_audio_056.wav\n"
     ]
    },
    {
     "name": "stderr",
     "output_type": "stream",
     "text": [
      "\n",
      "chunk:   0%|▏                                                                | 2/817 [00:00<01:26,  9.40it/s, now=None]\u001b[A\n",
      "chunk:  13%|████████▍                                                      | 110/817 [00:00<00:52, 13.38it/s, now=None]\u001b[A\n",
      "chunk:  27%|████████████████▉                                              | 220/817 [00:00<00:31, 19.00it/s, now=None]\u001b[A\n",
      "chunk:  40%|█████████████████████████▍                                     | 330/817 [00:00<00:18, 26.92it/s, now=None]\u001b[A\n",
      "chunk:  54%|█████████████████████████████████▉                             | 440/817 [00:00<00:09, 37.99it/s, now=None]\u001b[A\n",
      "chunk:  67%|██████████████████████████████████████████▍                    | 550/817 [00:00<00:05, 53.38it/s, now=None]\u001b[A\n",
      "chunk:  80%|██████████████████████████████████████████████████▌            | 656/817 [00:00<00:02, 74.63it/s, now=None]\u001b[A\n",
      "chunk:  92%|████████████████████████████████████████████████████████▉     | 750/817 [00:00<00:00, 103.02it/s, now=None]\u001b[A\n",
      "chunk:   6%|███▉                                                            | 25/408 [10:19<00:19, 19.28it/s, now=None]\u001b[A"
     ]
    },
    {
     "name": "stdout",
     "output_type": "stream",
     "text": [
      "MoviePy - Done.\n"
     ]
    },
    {
     "name": "stderr",
     "output_type": "stream",
     "text": [
      "chunk:   6%|███▉                                                            | 25/408 [10:20<00:19, 19.28it/s, now=None]\n",
      "chunk:   0%|                                                                         | 0/839 [00:00<?, ?it/s, now=None]\u001b[A\n",
      "chunk:   0%|▏                                                                | 3/839 [00:00<00:36, 22.90it/s, now=None]\u001b[A"
     ]
    },
    {
     "name": "stdout",
     "output_type": "stream",
     "text": [
      "MoviePy - Writing audio in ./data/audio/trial_truth_audio_057.wav\n"
     ]
    },
    {
     "name": "stderr",
     "output_type": "stream",
     "text": [
      "\n",
      "chunk:  13%|████████▏                                                      | 109/839 [00:00<00:22, 32.41it/s, now=None]\u001b[A\n",
      "chunk:  25%|███████████████▉                                               | 212/839 [00:00<00:13, 45.68it/s, now=None]\u001b[A\n",
      "chunk:  39%|████████████████████████▊                                      | 330/839 [00:00<00:07, 64.19it/s, now=None]\u001b[A\n",
      "chunk:  52%|████████████████████████████████▋                              | 435/839 [00:00<00:04, 89.28it/s, now=None]\u001b[A\n",
      "chunk:  66%|█████████████████████████████████████████▏                    | 557/839 [00:00<00:02, 123.52it/s, now=None]\u001b[A\n",
      "chunk:  79%|████████████████████████████████████████████████▉             | 663/839 [00:00<00:01, 167.95it/s, now=None]\u001b[A\n",
      "chunk:  92%|█████████████████████████████████████████████████████████▏    | 774/839 [00:00<00:00, 225.28it/s, now=None]\u001b[A\n",
      "chunk:   6%|███▉                                                            | 25/408 [10:21<00:19, 19.28it/s, now=None]\u001b[A\n",
      "chunk:   0%|                                                                         | 0/913 [00:00<?, ?it/s, now=None]\u001b[A"
     ]
    },
    {
     "name": "stdout",
     "output_type": "stream",
     "text": [
      "MoviePy - Done.\n",
      "MoviePy - Writing audio in ./data/myprosody/dataset/audioFiles/trial_truth_audio_057.wav\n"
     ]
    },
    {
     "name": "stderr",
     "output_type": "stream",
     "text": [
      "\n",
      "chunk:   0%|▏                                                                | 2/913 [00:00<01:29, 10.16it/s, now=None]\u001b[A\n",
      "chunk:  13%|████████                                                       | 116/913 [00:00<00:55, 14.46it/s, now=None]\u001b[A\n",
      "chunk:  24%|███████████████▏                                               | 220/913 [00:00<00:33, 20.53it/s, now=None]\u001b[A\n",
      "chunk:  36%|██████████████████████▊                                        | 330/913 [00:00<00:20, 29.07it/s, now=None]\u001b[A\n",
      "chunk:  48%|██████████████████████████████▎                                | 440/913 [00:00<00:11, 41.02it/s, now=None]\u001b[A\n",
      "chunk:  60%|█████████████████████████████████████▉                         | 550/913 [00:00<00:06, 57.63it/s, now=None]\u001b[A\n",
      "chunk:  72%|█████████████████████████████████████████████▌                 | 660/913 [00:00<00:03, 80.20it/s, now=None]\u001b[A\n",
      "chunk:  82%|██████████████████████████████████████████████████▊           | 748/913 [00:00<00:01, 110.23it/s, now=None]\u001b[A\n",
      "chunk:  92%|████████████████████████████████████████████████████████▉     | 839/913 [00:01<00:00, 149.02it/s, now=None]\u001b[A\n",
      "chunk:   6%|███▉                                                            | 25/408 [10:22<00:19, 19.28it/s, now=None]\u001b[A"
     ]
    },
    {
     "name": "stdout",
     "output_type": "stream",
     "text": [
      "MoviePy - Done.\n"
     ]
    },
    {
     "name": "stderr",
     "output_type": "stream",
     "text": [
      "chunk:   6%|███▉                                                            | 25/408 [10:23<00:19, 19.28it/s, now=None]\n",
      "chunk:   0%|                                                                         | 0/464 [00:00<?, ?it/s, now=None]\u001b[A\n",
      "chunk:   1%|▍                                                                | 3/464 [00:00<00:20, 22.17it/s, now=None]\u001b[A"
     ]
    },
    {
     "name": "stdout",
     "output_type": "stream",
     "text": [
      "MoviePy - Writing audio in ./data/audio/trial_truth_audio_058.wav\n"
     ]
    },
    {
     "name": "stderr",
     "output_type": "stream",
     "text": [
      "\n",
      "chunk:  23%|██████████████▎                                                | 105/464 [00:00<00:11, 31.37it/s, now=None]\u001b[A\n",
      "chunk:  45%|████████████████████████████                                   | 207/464 [00:00<00:05, 44.23it/s, now=None]\u001b[A\n",
      "chunk:  68%|███████████████████████████████████████████                    | 317/464 [00:00<00:02, 62.08it/s, now=None]\u001b[A\n",
      "chunk:  91%|█████████████████████████████████████████████████████████      | 420/464 [00:00<00:00, 86.45it/s, now=None]\u001b[A\n",
      "chunk:   6%|███▉                                                            | 25/408 [10:24<00:19, 19.28it/s, now=None]\u001b[A\n",
      "chunk:   0%|                                                                         | 0/505 [00:00<?, ?it/s, now=None]\u001b[A"
     ]
    },
    {
     "name": "stdout",
     "output_type": "stream",
     "text": [
      "MoviePy - Done.\n",
      "MoviePy - Writing audio in ./data/myprosody/dataset/audioFiles/trial_truth_audio_058.wav\n"
     ]
    },
    {
     "name": "stderr",
     "output_type": "stream",
     "text": [
      "\n",
      "chunk:   0%|▎                                                                | 2/505 [00:00<00:48, 10.46it/s, now=None]\u001b[A\n",
      "chunk:  17%|██████████▉                                                     | 86/505 [00:00<00:28, 14.86it/s, now=None]\u001b[A\n",
      "chunk:  32%|████████████████████▏                                          | 162/505 [00:00<00:16, 21.05it/s, now=None]\u001b[A\n",
      "chunk:  49%|██████████████████████████████▋                                | 246/505 [00:00<00:08, 29.75it/s, now=None]\u001b[A\n",
      "chunk:  68%|██████████████████████████████████████████▋                    | 342/505 [00:00<00:03, 41.93it/s, now=None]\u001b[A\n",
      "chunk:  87%|██████████████████████████████████████████████████████▋        | 438/505 [00:00<00:01, 58.79it/s, now=None]\u001b[A\n",
      "chunk:   6%|███▉                                                            | 25/408 [10:24<00:19, 19.28it/s, now=None]\u001b[A"
     ]
    },
    {
     "name": "stdout",
     "output_type": "stream",
     "text": [
      "MoviePy - Done.\n"
     ]
    },
    {
     "name": "stderr",
     "output_type": "stream",
     "text": [
      "chunk:   6%|███▉                                                            | 25/408 [10:25<00:19, 19.28it/s, now=None]\n",
      "chunk:   0%|                                                                         | 0/597 [00:00<?, ?it/s, now=None]\u001b[A\n"
     ]
    },
    {
     "name": "stdout",
     "output_type": "stream",
     "text": [
      "MoviePy - Writing audio in ./data/audio/trial_truth_audio_059.wav\n"
     ]
    },
    {
     "name": "stderr",
     "output_type": "stream",
     "text": [
      "chunk:   1%|▎                                                                | 3/597 [00:00<00:26, 22.42it/s, now=None]\u001b[A\n",
      "chunk:  22%|█████████████▌                                                 | 129/597 [00:00<00:14, 31.78it/s, now=None]\u001b[A\n",
      "chunk:  40%|█████████████████████████▏                                     | 239/597 [00:00<00:07, 44.83it/s, now=None]\u001b[A\n",
      "chunk:  58%|████████████████████████████████████▋                          | 348/597 [00:00<00:03, 62.92it/s, now=None]\u001b[A\n",
      "chunk:  77%|████████████████████████████████████████████████▏              | 457/597 [00:00<00:01, 87.65it/s, now=None]\u001b[A\n",
      "chunk:  94%|██████████████████████████████████████████████████████████▎   | 561/597 [00:00<00:00, 120.27it/s, now=None]\u001b[A\n",
      "chunk:   6%|███▉                                                            | 25/408 [10:26<00:19, 19.28it/s, now=None]\u001b[A\n",
      "chunk:   0%|                                                                         | 0/649 [00:00<?, ?it/s, now=None]\u001b[A"
     ]
    },
    {
     "name": "stdout",
     "output_type": "stream",
     "text": [
      "MoviePy - Done.\n",
      "MoviePy - Writing audio in ./data/myprosody/dataset/audioFiles/trial_truth_audio_059.wav\n"
     ]
    },
    {
     "name": "stderr",
     "output_type": "stream",
     "text": [
      "\n",
      "chunk:   0%|▏                                                                | 2/649 [00:00<01:08,  9.40it/s, now=None]\u001b[A\n",
      "chunk:  17%|██████████▋                                                    | 110/649 [00:00<00:40, 13.38it/s, now=None]\u001b[A\n",
      "chunk:  34%|█████████████████████▎                                         | 220/649 [00:00<00:22, 19.00it/s, now=None]\u001b[A\n",
      "chunk:  51%|████████████████████████████████                               | 330/649 [00:00<00:11, 26.92it/s, now=None]\u001b[A\n",
      "chunk:  63%|███████████████████████████████████████▍                       | 406/649 [00:00<00:06, 37.88it/s, now=None]\u001b[A\n",
      "chunk:  77%|████████████████████████████████████████████████▏              | 497/649 [00:00<00:02, 53.14it/s, now=None]\u001b[A\n",
      "chunk:  92%|██████████████████████████████████████████████████████████▏    | 600/649 [00:00<00:00, 74.27it/s, now=None]\u001b[A\n",
      "chunk:   6%|███▉                                                            | 25/408 [10:27<00:19, 19.28it/s, now=None]\u001b[A"
     ]
    },
    {
     "name": "stdout",
     "output_type": "stream",
     "text": [
      "MoviePy - Done.\n"
     ]
    },
    {
     "name": "stderr",
     "output_type": "stream",
     "text": [
      "chunk:   6%|███▉                                                            | 25/408 [10:28<00:19, 19.28it/s, now=None]\n",
      "chunk:   0%|                                                                         | 0/442 [00:00<?, ?it/s, now=None]\u001b[A\n",
      "chunk:   1%|▍                                                                | 3/442 [00:00<00:19, 22.73it/s, now=None]"
     ]
    },
    {
     "name": "stdout",
     "output_type": "stream",
     "text": [
      "MoviePy - Writing audio in ./data/audio/trial_truth_audio_060.wav\n"
     ]
    },
    {
     "name": "stderr",
     "output_type": "stream",
     "text": [
      "\u001b[A\n",
      "chunk:  24%|███████████████▍                                               | 108/442 [00:00<00:10, 32.17it/s, now=None]\u001b[A\n",
      "chunk:  46%|█████████████████████████████                                  | 204/442 [00:00<00:05, 45.30it/s, now=None]\u001b[A\n",
      "chunk:  72%|█████████████████████████████████████████████▌                 | 320/442 [00:00<00:01, 63.61it/s, now=None]\u001b[A\n",
      "chunk:  97%|████████████████████████████████████████████████████████████▊  | 427/442 [00:00<00:00, 88.58it/s, now=None]\u001b[A\n",
      "chunk:   6%|███▉                                                            | 25/408 [10:29<00:19, 19.28it/s, now=None]\u001b[A\n",
      "chunk:   0%|                                                                         | 0/481 [00:00<?, ?it/s, now=None]\u001b[A"
     ]
    },
    {
     "name": "stdout",
     "output_type": "stream",
     "text": [
      "MoviePy - Done.\n",
      "MoviePy - Writing audio in ./data/myprosody/dataset/audioFiles/trial_truth_audio_060.wav\n"
     ]
    },
    {
     "name": "stderr",
     "output_type": "stream",
     "text": [
      "\n",
      "chunk:   0%|▎                                                                | 2/481 [00:00<01:19,  6.04it/s, now=None]\u001b[A\n",
      "chunk:  14%|█████████                                                       | 68/481 [00:00<00:48,  8.59it/s, now=None]\u001b[A\n",
      "chunk:  27%|████████████████▊                                              | 128/481 [00:00<00:28, 12.20it/s, now=None]\u001b[A\n",
      "chunk:  42%|██████████████████████████▌                                    | 203/481 [00:00<00:16, 17.30it/s, now=None]\u001b[A\n",
      "chunk:  60%|█████████████████████████████████████▌                         | 287/481 [00:00<00:07, 24.50it/s, now=None]\u001b[A\n",
      "chunk:  80%|██████████████████████████████████████████████████▍            | 385/481 [00:00<00:02, 34.61it/s, now=None]\u001b[A\n",
      "chunk:   6%|███▉                                                            | 25/408 [10:30<00:19, 19.28it/s, now=None]\u001b[A"
     ]
    },
    {
     "name": "stdout",
     "output_type": "stream",
     "text": [
      "MoviePy - Done.\n"
     ]
    }
   ],
   "source": [
    "#Uses MoviePy to convert mp4 video clips into required wav format to extract features.\n",
    "\n",
    "#This is the sub-directory to save the audio files\n",
    "target_directory = './data/audio/'\n",
    "alt_target_directory = './data/myprosody/dataset/audioFiles/'\n",
    "\n",
    "for i,video in enumerate(videos):   \n",
    "    if \"lie\" in video:\n",
    "        main_clip = VideoFileClip(videos[i])\n",
    "        audioclip = main_clip.audio \n",
    "        video_identifier_lie = re.sub(\"(\\D\\D\\D)\",\"\",video)\n",
    "        file_name = str(target_directory + 'trial_lie_audio_' + str(video_identifier_lie[0:3]) + '.wav')\n",
    "        audioclip.write_audiofile(file_name,codec='pcm_s16le',fps=44100)\n",
    "\n",
    "        alt_file_name = str(alt_target_directory + 'trial_lie_audio_' + str(video_identifier_lie[0:3]) + '.wav')\n",
    "        audioclip.write_audiofile(alt_file_name, nbytes=4, codec='pcm_s16le',fps=48000)\n",
    "\n",
    "    elif \"truth\" in video:\n",
    "        main_clip = VideoFileClip(videos[i])\n",
    "        audioclip = main_clip.audio \n",
    "        video_identifier_truth = re.sub(\"\\D\\D\\D{0,2}\",\"\",video)\n",
    "        file_name = str(target_directory + 'trial_truth_audio_' + str(video_identifier_truth[0:3]) + '.wav')\n",
    "        audioclip.write_audiofile(file_name,codec='pcm_s16le',fps=44100)\n",
    "\n",
    "        alt_file_name = str(alt_target_directory + 'trial_truth_audio_' + str(video_identifier_truth[0:3]) + '.wav')\n",
    "        audioclip.write_audiofile(alt_file_name, nbytes=4, codec='pcm_s16le',fps=48000)"
   ]
  },
  {
   "cell_type": "markdown",
   "metadata": {},
   "source": [
    "### Pull in voice acoustic features\n",
    "This part using the myspsolution (my-voice-analysis) library (https://github.com/Shahabks/my-voice-analysis) to analyse the voice acoustic features of the audio that was extracted into wav form above. "
   ]
  },
  {
   "cell_type": "code",
   "execution_count": 3,
   "metadata": {},
   "outputs": [],
   "source": [
    "#Import the my voice analysis library (https://github.com/Shahabks/my-voice-analysis)\n",
    "#Note there is a known error in the install. Solved by creating a copy of the installed ..Anaconda3\\Lib\\site-packages\\my-voice-analysis\n",
    "#and renaming the copied folder to myspsolution (see https://github.com/Shahabks/my-voice-analysis/issues/5)\n",
    "import myspsolution as mysp\n",
    "\n",
    "# #myprosody package includes all my-voice-analysis' functions plus new functions \n",
    "# #which you might consider to use instead. The latest myproody update is available here, \n",
    "# #in Github as well as PYPI, the python library.\n",
    "# import myprosody as mypro"
   ]
  },
  {
   "cell_type": "code",
   "execution_count": 5,
   "metadata": {
    "scrolled": true
   },
   "outputs": [
    {
     "data": {
      "text/plain": [
       "['data/cleaned_audio\\\\trial_lie_audio_001.wav',\n",
       " 'data/cleaned_audio\\\\trial_lie_audio_002.wav',\n",
       " 'data/cleaned_audio\\\\trial_lie_audio_003.wav',\n",
       " 'data/cleaned_audio\\\\trial_lie_audio_004.wav',\n",
       " 'data/cleaned_audio\\\\trial_lie_audio_005.wav',\n",
       " 'data/cleaned_audio\\\\trial_lie_audio_006.wav',\n",
       " 'data/cleaned_audio\\\\trial_lie_audio_007.wav',\n",
       " 'data/cleaned_audio\\\\trial_lie_audio_008.wav',\n",
       " 'data/cleaned_audio\\\\trial_lie_audio_009.wav',\n",
       " 'data/cleaned_audio\\\\trial_lie_audio_010.wav',\n",
       " 'data/cleaned_audio\\\\trial_lie_audio_011.wav',\n",
       " 'data/cleaned_audio\\\\trial_lie_audio_012.wav',\n",
       " 'data/cleaned_audio\\\\trial_lie_audio_013.wav',\n",
       " 'data/cleaned_audio\\\\trial_lie_audio_014.wav',\n",
       " 'data/cleaned_audio\\\\trial_lie_audio_015.wav',\n",
       " 'data/cleaned_audio\\\\trial_lie_audio_016.wav',\n",
       " 'data/cleaned_audio\\\\trial_lie_audio_017.wav',\n",
       " 'data/cleaned_audio\\\\trial_lie_audio_018.wav',\n",
       " 'data/cleaned_audio\\\\trial_lie_audio_019.wav',\n",
       " 'data/cleaned_audio\\\\trial_lie_audio_020.wav',\n",
       " 'data/cleaned_audio\\\\trial_lie_audio_021.wav',\n",
       " 'data/cleaned_audio\\\\trial_lie_audio_022.wav',\n",
       " 'data/cleaned_audio\\\\trial_lie_audio_023.wav',\n",
       " 'data/cleaned_audio\\\\trial_lie_audio_024.wav',\n",
       " 'data/cleaned_audio\\\\trial_lie_audio_025.wav',\n",
       " 'data/cleaned_audio\\\\trial_lie_audio_026.wav',\n",
       " 'data/cleaned_audio\\\\trial_lie_audio_027.wav',\n",
       " 'data/cleaned_audio\\\\trial_lie_audio_028.wav',\n",
       " 'data/cleaned_audio\\\\trial_lie_audio_029.wav',\n",
       " 'data/cleaned_audio\\\\trial_lie_audio_030.wav',\n",
       " 'data/cleaned_audio\\\\trial_lie_audio_031.wav',\n",
       " 'data/cleaned_audio\\\\trial_lie_audio_032.wav',\n",
       " 'data/cleaned_audio\\\\trial_lie_audio_033.wav',\n",
       " 'data/cleaned_audio\\\\trial_lie_audio_034.wav',\n",
       " 'data/cleaned_audio\\\\trial_lie_audio_035.wav',\n",
       " 'data/cleaned_audio\\\\trial_lie_audio_036.wav',\n",
       " 'data/cleaned_audio\\\\trial_lie_audio_037.wav',\n",
       " 'data/cleaned_audio\\\\trial_lie_audio_038.wav',\n",
       " 'data/cleaned_audio\\\\trial_lie_audio_039.wav',\n",
       " 'data/cleaned_audio\\\\trial_lie_audio_040.wav',\n",
       " 'data/cleaned_audio\\\\trial_lie_audio_041.wav',\n",
       " 'data/cleaned_audio\\\\trial_lie_audio_042.wav',\n",
       " 'data/cleaned_audio\\\\trial_lie_audio_043.wav',\n",
       " 'data/cleaned_audio\\\\trial_lie_audio_044.wav',\n",
       " 'data/cleaned_audio\\\\trial_lie_audio_045.wav',\n",
       " 'data/cleaned_audio\\\\trial_lie_audio_046.wav',\n",
       " 'data/cleaned_audio\\\\trial_lie_audio_047.wav',\n",
       " 'data/cleaned_audio\\\\trial_lie_audio_048.wav',\n",
       " 'data/cleaned_audio\\\\trial_lie_audio_049.wav',\n",
       " 'data/cleaned_audio\\\\trial_lie_audio_050.wav',\n",
       " 'data/cleaned_audio\\\\trial_lie_audio_051.wav',\n",
       " 'data/cleaned_audio\\\\trial_lie_audio_052.wav',\n",
       " 'data/cleaned_audio\\\\trial_lie_audio_053.wav',\n",
       " 'data/cleaned_audio\\\\trial_lie_audio_054.wav',\n",
       " 'data/cleaned_audio\\\\trial_lie_audio_055.wav',\n",
       " 'data/cleaned_audio\\\\trial_lie_audio_056.wav',\n",
       " 'data/cleaned_audio\\\\trial_lie_audio_057.wav',\n",
       " 'data/cleaned_audio\\\\trial_lie_audio_058.wav',\n",
       " 'data/cleaned_audio\\\\trial_lie_audio_059.wav',\n",
       " 'data/cleaned_audio\\\\trial_lie_audio_060.wav',\n",
       " 'data/cleaned_audio\\\\trial_lie_audio_061.wav',\n",
       " 'data/cleaned_audio\\\\trial_truth_audio_001.wav',\n",
       " 'data/cleaned_audio\\\\trial_truth_audio_002.wav',\n",
       " 'data/cleaned_audio\\\\trial_truth_audio_003.wav',\n",
       " 'data/cleaned_audio\\\\trial_truth_audio_004.wav',\n",
       " 'data/cleaned_audio\\\\trial_truth_audio_005.wav',\n",
       " 'data/cleaned_audio\\\\trial_truth_audio_006.wav',\n",
       " 'data/cleaned_audio\\\\trial_truth_audio_007.wav',\n",
       " 'data/cleaned_audio\\\\trial_truth_audio_008.wav',\n",
       " 'data/cleaned_audio\\\\trial_truth_audio_009.wav',\n",
       " 'data/cleaned_audio\\\\trial_truth_audio_010.wav',\n",
       " 'data/cleaned_audio\\\\trial_truth_audio_011.wav',\n",
       " 'data/cleaned_audio\\\\trial_truth_audio_012.wav',\n",
       " 'data/cleaned_audio\\\\trial_truth_audio_013.wav',\n",
       " 'data/cleaned_audio\\\\trial_truth_audio_014.wav',\n",
       " 'data/cleaned_audio\\\\trial_truth_audio_015.wav',\n",
       " 'data/cleaned_audio\\\\trial_truth_audio_016.wav',\n",
       " 'data/cleaned_audio\\\\trial_truth_audio_017.wav',\n",
       " 'data/cleaned_audio\\\\trial_truth_audio_018.wav',\n",
       " 'data/cleaned_audio\\\\trial_truth_audio_019.wav',\n",
       " 'data/cleaned_audio\\\\trial_truth_audio_020.wav',\n",
       " 'data/cleaned_audio\\\\trial_truth_audio_021.wav',\n",
       " 'data/cleaned_audio\\\\trial_truth_audio_022.wav',\n",
       " 'data/cleaned_audio\\\\trial_truth_audio_023.wav',\n",
       " 'data/cleaned_audio\\\\trial_truth_audio_024.wav',\n",
       " 'data/cleaned_audio\\\\trial_truth_audio_025.wav',\n",
       " 'data/cleaned_audio\\\\trial_truth_audio_026.wav',\n",
       " 'data/cleaned_audio\\\\trial_truth_audio_027.wav',\n",
       " 'data/cleaned_audio\\\\trial_truth_audio_028.wav',\n",
       " 'data/cleaned_audio\\\\trial_truth_audio_029.wav',\n",
       " 'data/cleaned_audio\\\\trial_truth_audio_030.wav',\n",
       " 'data/cleaned_audio\\\\trial_truth_audio_031.wav',\n",
       " 'data/cleaned_audio\\\\trial_truth_audio_032.wav',\n",
       " 'data/cleaned_audio\\\\trial_truth_audio_033.wav',\n",
       " 'data/cleaned_audio\\\\trial_truth_audio_034.wav',\n",
       " 'data/cleaned_audio\\\\trial_truth_audio_035.wav',\n",
       " 'data/cleaned_audio\\\\trial_truth_audio_036.wav',\n",
       " 'data/cleaned_audio\\\\trial_truth_audio_037.wav',\n",
       " 'data/cleaned_audio\\\\trial_truth_audio_038.wav',\n",
       " 'data/cleaned_audio\\\\trial_truth_audio_039.wav',\n",
       " 'data/cleaned_audio\\\\trial_truth_audio_040.wav',\n",
       " 'data/cleaned_audio\\\\trial_truth_audio_041.wav',\n",
       " 'data/cleaned_audio\\\\trial_truth_audio_042.wav',\n",
       " 'data/cleaned_audio\\\\trial_truth_audio_043.wav',\n",
       " 'data/cleaned_audio\\\\trial_truth_audio_044.wav',\n",
       " 'data/cleaned_audio\\\\trial_truth_audio_045.wav',\n",
       " 'data/cleaned_audio\\\\trial_truth_audio_046.wav',\n",
       " 'data/cleaned_audio\\\\trial_truth_audio_047.wav',\n",
       " 'data/cleaned_audio\\\\trial_truth_audio_048.wav',\n",
       " 'data/cleaned_audio\\\\trial_truth_audio_049.wav',\n",
       " 'data/cleaned_audio\\\\trial_truth_audio_050.wav',\n",
       " 'data/cleaned_audio\\\\trial_truth_audio_051.wav',\n",
       " 'data/cleaned_audio\\\\trial_truth_audio_052.wav',\n",
       " 'data/cleaned_audio\\\\trial_truth_audio_053.wav',\n",
       " 'data/cleaned_audio\\\\trial_truth_audio_054.wav',\n",
       " 'data/cleaned_audio\\\\trial_truth_audio_055.wav',\n",
       " 'data/cleaned_audio\\\\trial_truth_audio_056.wav',\n",
       " 'data/cleaned_audio\\\\trial_truth_audio_057.wav',\n",
       " 'data/cleaned_audio\\\\trial_truth_audio_058.wav',\n",
       " 'data/cleaned_audio\\\\trial_truth_audio_059.wav',\n",
       " 'data/cleaned_audio\\\\trial_truth_audio_060.wav']"
      ]
     },
     "execution_count": 5,
     "metadata": {},
     "output_type": "execute_result"
    }
   ],
   "source": [
    "#Create a list of the audio file names for analysis using the glob library\n",
    "audios=glob('data/cleaned_audio/*.wav')\n",
    "audios"
   ]
  },
  {
   "cell_type": "code",
   "execution_count": 6,
   "metadata": {},
   "outputs": [],
   "source": [
    "#As the output of myspsolution is to stdout, the information is not immediately avaliable to extract.\n",
    "#Therefore, I needed a way of capturing the stdout output so that it can be extracted and put into a dataframe.\n",
    "#This class (https://stackoverflow.com/questions/16571150/how-to-capture-stdout-output-from-a-python-function-call),\n",
    "#therefore, helps with extracting this information by returning output to a list\n",
    "\n",
    "class Capturing(list):\n",
    "    #Takes the python library and relevant information\n",
    "    #runs the function and adds the stdout infomation to a list\n",
    "    #and returns the list.\n",
    "    def __enter__(self):\n",
    "        self._stdout = sys.stdout\n",
    "        sys.stdout = self._stringio = StringIO()\n",
    "        return self\n",
    "    def __exit__(self, *args):\n",
    "        self.extend(self._stringio.getvalue().splitlines())\n",
    "        del self._stringio    # free up some memory\n",
    "        sys.stdout = self._stdout"
   ]
  },
  {
   "cell_type": "code",
   "execution_count": 8,
   "metadata": {},
   "outputs": [
    {
     "name": "stdout",
     "output_type": "stream",
     "text": [
      "Analysing data/cleaned_audio\\trial_truth_audio_060.wav\n",
      "trial_truth_audio_060\n",
      "..\\Part 3\\data\\cleaned_audio\n"
     ]
    }
   ],
   "source": [
    "#This iterates through each file and pulls out the acoustic features of each audio file.\n",
    "audio_feature_list = {}\n",
    "for x in audios:\n",
    "    clear_output(wait=True)\n",
    "    print(\"Analysing\", x) #<-- Print out to screen to see audio currently being printed\n",
    "    audio_file_name = x.split('\\\\')[-1].split(\".\")[0] #<-- captures the unique name of file to be used in the processing\n",
    "    print(audio_file_name)\n",
    "    audio_path = r\"..\\Part 3\\data\\cleaned_audio\" #<--folder pathway to audio files\n",
    "    print(audio_path)\n",
    "    \n",
    "    #Gender recognition and mood of speech\n",
    "    with Capturing() as gender_emotion:\n",
    "        mysp.myspgend(audio_file_name,audio_path)\n",
    "    #Pronunciation posteriori probability score percentage\n",
    "    with Capturing() as Pronunciation_posteriori:\n",
    "        mysp.mysppron(audio_file_name,audio_path)\n",
    "    #Detect and count number of syllables\n",
    "    with Capturing() as syllable_count:\n",
    "        mysp.myspsyl(audio_file_name,audio_path)\n",
    "    #Detect and count number of fillers and pauses\n",
    "    with Capturing() as fill_pause_count:\n",
    "        mysp.mysppaus(audio_file_name,audio_path) \n",
    "    #Measure the rate of speech (speed)\n",
    "    with Capturing() as speech_speed:\n",
    "        mysp.myspsr(audio_file_name,audio_path)\n",
    "    #Measure speaking time (excl. fillers and pause):\n",
    "    with Capturing() as speaking_time:\n",
    "        mysp.myspst(audio_file_name,audio_path)\n",
    "    #Measure total speaking duration (inc. fillers and pauses)\n",
    "    with Capturing() as duration:\n",
    "        mysp.myspod(audio_file_name,audio_path)\n",
    "    #Measure ratio between speaking duration and total speaking duration\n",
    "    with Capturing() as ratio_speaking_duration:\n",
    "        mysp.myspbala(audio_file_name,audio_path)\n",
    "    #Measure fundamental frequency distribution mean\n",
    "    with Capturing() as fundamental_frequency:\n",
    "        mysp.myspf0mean(audio_file_name,audio_path)\n",
    "    #Measure fundamental frequency distribution SD\n",
    "    with Capturing() as SD_fundamental_frequency:\n",
    "        mysp.myspf0sd(audio_file_name,audio_path)\n",
    "    #Measure fundamental frequency distribution median\n",
    "    with Capturing() as Median_fundamental_frequency:\n",
    "        mysp.myspf0med(audio_file_name,audio_path)\n",
    "    #Measure fundamental frequency distribution minimum\n",
    "    with Capturing() as Minumum_fundamental_frequency:\n",
    "        mysp.myspf0min(audio_file_name,audio_path)\n",
    "    #Measure fundamental frequency distribution maximum\n",
    "    with Capturing() as Maximum_fundamental_frequency:\n",
    "        mysp.myspf0max(audio_file_name,audio_path)\n",
    "    #Measure 25th quantile fundamental frequency distribution\n",
    "    with Capturing() as quantile_25_fundamental_frequency:\n",
    "        mysp.myspf0q25(audio_file_name,audio_path)\n",
    "    #Measure 75th quantile fundamental frequency distribution\n",
    "    with Capturing() as quantile_75_fundamental_frequency:\n",
    "        mysp.myspf0q75(audio_file_name,audio_path)\n",
    "    \n",
    "    #As in some cases, the extraction of vocal information from the myspsolution \n",
    "    #fails to detect the appropriate information, the following try and except \n",
    "    #commands attempt to first extract the desired information and if fails\n",
    "    #returns an appropriate response to include instead in the dictionary\n",
    "    try:\n",
    "        gender = str(gender_emotion[1].split(\",\")[0])\n",
    "    except:\n",
    "        gender = ''\n",
    "    try:\n",
    "        Pronunciation_posteriori = float(Pronunciation_posteriori[1].split(\":\")[1])\n",
    "    except:\n",
    "        Pronunciation_posteriori = np.nan  \n",
    "    try:\n",
    "        mood_from_mva = str(gender_emotion[1].split(\",\")[1].split(\": \")[1])\n",
    "    except:\n",
    "        mood_from_mva = ''    \n",
    "    try:\n",
    "        syllables = int(syllable_count[1].split(\"= \")[1])\n",
    "    except:\n",
    "        syllables = None  \n",
    "    try:\n",
    "        fillers = int(fill_pause_count[1].split(\"= \")[1])\n",
    "    except:\n",
    "        fillers = None \n",
    "    try:\n",
    "        rate = float(speech_speed[1].split(\"= \")[1].split(\" #\")[0])\n",
    "    except:\n",
    "        rate = np.nan\n",
    "    try:\n",
    "        speaking = float(speaking_time[1].split(\"= \")[1].split(\" #\")[0])\n",
    "    except:\n",
    "        speaking = np.nan\n",
    "    try:\n",
    "        duration = float(duration[1].split(\"= \")[1].split(\" #\")[0])\n",
    "    except:\n",
    "        duration = np.nan\n",
    "    try:\n",
    "        ratio = float(ratio_speaking_duration[1].split(\"= \")[1].split(\" #\")[0])\n",
    "    except:\n",
    "        ratio = np.nan \n",
    "    try:\n",
    "        ff = float(fundamental_frequency[1].split(\"= \")[1].split(\" #\")[0])\n",
    "    except:\n",
    "        ff = np.nan\n",
    "    try:\n",
    "        sd_ff = float(SD_fundamental_frequency[1].split(\"= \")[1].split(\" #\")[0])\n",
    "    except:\n",
    "        sd_ff = np.nan\n",
    "    try:\n",
    "        median_ff = float(Median_fundamental_frequency[1].split(\"= \")[1].split(\" #\")[0])\n",
    "    except:\n",
    "        median_ff = np.nan\n",
    "    try:\n",
    "        min_ff = float(Minumum_fundamental_frequency[1].split(\"= \")[1].split(\" #\")[0])\n",
    "    except:\n",
    "        min_ff = np.nan\n",
    "    try:\n",
    "        max_ff = float(Maximum_fundamental_frequency[1].split(\"= \")[1].split(\" #\")[0])\n",
    "    except:\n",
    "        max_ff = np.nan   \n",
    "    try:\n",
    "        qua25_ff = float(quantile_25_fundamental_frequency[1].split(\"= \")[1].split(\" #\")[0])\n",
    "    except:\n",
    "        qua25_ff = np.nan\n",
    "    try:\n",
    "        qua75_ff = float(quantile_75_fundamental_frequency[1].split(\"= \")[1].split(\" #\")[0])\n",
    "    except:\n",
    "        qua75_ff = np.nan\n",
    "    \n",
    "    #Updates the audio_feature_list dictionary with all information extracted from the audio files\n",
    "    audio_feature_list.update({audio_file_name: {'Pronunciation_posteriori': Pronunciation_posteriori,\n",
    "                                        'Gender':gender,\n",
    "                                        'Mood_from_mva': mood_from_mva,\n",
    "                                        'Count of Syllables': syllables,\n",
    "                                        'Count of filler and pauses': fillers,\n",
    "                                        'Rate of speech - syb per sec': rate,\n",
    "                                        'Speaking time secs w/o pauses': speaking,\n",
    "                                        'Duration time secs w pauses': duration,\n",
    "                                        'Ratio speaking to duration': ratio,\n",
    "                                        'Fundamental frequency_f0 Hz': ff,\n",
    "                                        'SD Fundamental frequency_f0 Hz': sd_ff,\n",
    "                                        'Median Fundamental frequency_f0 Hz': median_ff,\n",
    "                                        'Minimum Fundamental frequency_f0 Hz': min_ff,\n",
    "                                        'Maximum Fundamental frequency_f0 Hz' : max_ff,\n",
    "                                        '25th Quantile Fundamental frequency_f0 Hz': qua25_ff,\n",
    "                                        '75th Quantile Fundamental frequency_f0 Hz': qua75_ff\n",
    "                                        }})\n"
   ]
  },
  {
   "cell_type": "code",
   "execution_count": 9,
   "metadata": {},
   "outputs": [
    {
     "data": {
      "text/plain": [
       "{'trial_lie_audio_001': {'Pronunciation_posteriori': 85.06,\n",
       "  'Gender': 'a female',\n",
       "  'Mood_from_mva': 'Showing no emotion',\n",
       "  'Count of Syllables': 52,\n",
       "  'Count of filler and pauses': 9,\n",
       "  'Rate of speech - syb per sec': 3.0,\n",
       "  'Speaking time secs w/o pauses': 11.6,\n",
       "  'Duration time secs w pauses': 17.0,\n",
       "  'Ratio speaking to duration': 0.7,\n",
       "  'Fundamental frequency_f0 Hz': 164.97,\n",
       "  'SD Fundamental frequency_f0 Hz': 59.18,\n",
       "  'Median Fundamental frequency_f0 Hz': 155.0,\n",
       "  'Minimum Fundamental frequency_f0 Hz': 73.0,\n",
       "  'Maximum Fundamental frequency_f0 Hz': 396.0,\n",
       "  '25th Quantile Fundamental frequency_f0 Hz': 118.0,\n",
       "  '75th Quantile Fundamental frequency_f0 Hz': 196.0},\n",
       " 'trial_lie_audio_002': {'Pronunciation_posteriori': 100.0,\n",
       "  'Gender': 'a female',\n",
       "  'Mood_from_mva': 'Showing no emotion',\n",
       "  'Count of Syllables': 246,\n",
       "  'Count of filler and pauses': 17,\n",
       "  'Rate of speech - syb per sec': 4.0,\n",
       "  'Speaking time secs w/o pauses': 53.7,\n",
       "  'Duration time secs w pauses': 62.5,\n",
       "  'Ratio speaking to duration': 0.9,\n",
       "  'Fundamental frequency_f0 Hz': 183.72,\n",
       "  'SD Fundamental frequency_f0 Hz': 39.43,\n",
       "  'Median Fundamental frequency_f0 Hz': 193.9,\n",
       "  'Minimum Fundamental frequency_f0 Hz': 73.0,\n",
       "  'Maximum Fundamental frequency_f0 Hz': 364.0,\n",
       "  '25th Quantile Fundamental frequency_f0 Hz': 182.0,\n",
       "  '75th Quantile Fundamental frequency_f0 Hz': 203.0},\n",
       " 'trial_lie_audio_003': {'Pronunciation_posteriori': 60.0,\n",
       "  'Gender': 'a Male',\n",
       "  'Mood_from_mva': 'Reading',\n",
       "  'Count of Syllables': 5,\n",
       "  'Count of filler and pauses': 0,\n",
       "  'Rate of speech - syb per sec': 2.0,\n",
       "  'Speaking time secs w/o pauses': 2.1,\n",
       "  'Duration time secs w pauses': 2.4,\n",
       "  'Ratio speaking to duration': 0.9,\n",
       "  'Fundamental frequency_f0 Hz': 117.08,\n",
       "  'SD Fundamental frequency_f0 Hz': 48.0,\n",
       "  'Median Fundamental frequency_f0 Hz': 91.1,\n",
       "  'Minimum Fundamental frequency_f0 Hz': 82.0,\n",
       "  'Maximum Fundamental frequency_f0 Hz': 220.0,\n",
       "  '25th Quantile Fundamental frequency_f0 Hz': 88.0,\n",
       "  '75th Quantile Fundamental frequency_f0 Hz': 166.0},\n",
       " 'trial_lie_audio_004': {'Pronunciation_posteriori': 90.05,\n",
       "  'Gender': 'a female',\n",
       "  'Mood_from_mva': 'Showing no emotion',\n",
       "  'Count of Syllables': 39,\n",
       "  'Count of filler and pauses': 4,\n",
       "  'Rate of speech - syb per sec': 3.0,\n",
       "  'Speaking time secs w/o pauses': 9.8,\n",
       "  'Duration time secs w pauses': 11.6,\n",
       "  'Ratio speaking to duration': 0.8,\n",
       "  'Fundamental frequency_f0 Hz': 184.46,\n",
       "  'SD Fundamental frequency_f0 Hz': 51.64,\n",
       "  'Median Fundamental frequency_f0 Hz': nan,\n",
       "  'Minimum Fundamental frequency_f0 Hz': 77.0,\n",
       "  'Maximum Fundamental frequency_f0 Hz': 277.0,\n",
       "  '25th Quantile Fundamental frequency_f0 Hz': 173.0,\n",
       "  '75th Quantile Fundamental frequency_f0 Hz': nan},\n",
       " 'trial_lie_audio_005': {'Pronunciation_posteriori': 100.0,\n",
       "  'Gender': 'a female',\n",
       "  'Mood_from_mva': 'Showing no emotion',\n",
       "  'Count of Syllables': 209,\n",
       "  'Count of filler and pauses': 16,\n",
       "  'Rate of speech - syb per sec': 4.0,\n",
       "  'Speaking time secs w/o pauses': 43.1,\n",
       "  'Duration time secs w pauses': 53.4,\n",
       "  'Ratio speaking to duration': 0.8,\n",
       "  'Fundamental frequency_f0 Hz': 180.14,\n",
       "  'SD Fundamental frequency_f0 Hz': 43.52,\n",
       "  'Median Fundamental frequency_f0 Hz': 195.6,\n",
       "  'Minimum Fundamental frequency_f0 Hz': 77.0,\n",
       "  'Maximum Fundamental frequency_f0 Hz': 289.0,\n",
       "  '25th Quantile Fundamental frequency_f0 Hz': 182.0,\n",
       "  '75th Quantile Fundamental frequency_f0 Hz': 205.0},\n",
       " 'trial_lie_audio_006': {'Pronunciation_posteriori': 100.0,\n",
       "  'Gender': 'Voice not recognized',\n",
       "  'Mood_from_mva': '',\n",
       "  'Count of Syllables': 67,\n",
       "  'Count of filler and pauses': 3,\n",
       "  'Rate of speech - syb per sec': 4.0,\n",
       "  'Speaking time secs w/o pauses': 11.9,\n",
       "  'Duration time secs w pauses': 15.7,\n",
       "  'Ratio speaking to duration': 0.8,\n",
       "  'Fundamental frequency_f0 Hz': 245.04,\n",
       "  'SD Fundamental frequency_f0 Hz': 49.29,\n",
       "  'Median Fundamental frequency_f0 Hz': 249.5,\n",
       "  'Minimum Fundamental frequency_f0 Hz': 89.0,\n",
       "  'Maximum Fundamental frequency_f0 Hz': 397.0,\n",
       "  '25th Quantile Fundamental frequency_f0 Hz': 230.0,\n",
       "  '75th Quantile Fundamental frequency_f0 Hz': 271.0},\n",
       " 'trial_lie_audio_007': {'Pronunciation_posteriori': 100.0,\n",
       "  'Gender': 'a female',\n",
       "  'Mood_from_mva': 'Showing no emotion',\n",
       "  'Count of Syllables': 168,\n",
       "  'Count of filler and pauses': 15,\n",
       "  'Rate of speech - syb per sec': 4.0,\n",
       "  'Speaking time secs w/o pauses': 36.2,\n",
       "  'Duration time secs w pauses': 45.3,\n",
       "  'Ratio speaking to duration': 0.8,\n",
       "  'Fundamental frequency_f0 Hz': 178.25,\n",
       "  'SD Fundamental frequency_f0 Hz': 38.82,\n",
       "  'Median Fundamental frequency_f0 Hz': 185.2,\n",
       "  'Minimum Fundamental frequency_f0 Hz': 77.0,\n",
       "  'Maximum Fundamental frequency_f0 Hz': 278.0,\n",
       "  '25th Quantile Fundamental frequency_f0 Hz': 176.0,\n",
       "  '75th Quantile Fundamental frequency_f0 Hz': 198.0},\n",
       " 'trial_lie_audio_008': {'Pronunciation_posteriori': 100.0,\n",
       "  'Gender': 'a Male',\n",
       "  'Mood_from_mva': 'speaking passionately',\n",
       "  'Count of Syllables': 34,\n",
       "  'Count of filler and pauses': 1,\n",
       "  'Rate of speech - syb per sec': 5.0,\n",
       "  'Speaking time secs w/o pauses': 6.9,\n",
       "  'Duration time secs w pauses': 7.3,\n",
       "  'Ratio speaking to duration': 0.9,\n",
       "  'Fundamental frequency_f0 Hz': 155.74,\n",
       "  'SD Fundamental frequency_f0 Hz': 44.38,\n",
       "  'Median Fundamental frequency_f0 Hz': 180.2,\n",
       "  'Minimum Fundamental frequency_f0 Hz': 78.0,\n",
       "  'Maximum Fundamental frequency_f0 Hz': 249.0,\n",
       "  '25th Quantile Fundamental frequency_f0 Hz': 98.0,\n",
       "  '75th Quantile Fundamental frequency_f0 Hz': 187.0},\n",
       " 'trial_lie_audio_009': {'Pronunciation_posteriori': 89.9,\n",
       "  'Gender': 'a female',\n",
       "  'Mood_from_mva': 'Showing no emotion',\n",
       "  'Count of Syllables': 58,\n",
       "  'Count of filler and pauses': 5,\n",
       "  'Rate of speech - syb per sec': 3.0,\n",
       "  'Speaking time secs w/o pauses': 12.9,\n",
       "  'Duration time secs w pauses': 18.4,\n",
       "  'Ratio speaking to duration': 0.7,\n",
       "  'Fundamental frequency_f0 Hz': 169.94,\n",
       "  'SD Fundamental frequency_f0 Hz': 48.84,\n",
       "  'Median Fundamental frequency_f0 Hz': 186.8,\n",
       "  'Minimum Fundamental frequency_f0 Hz': 81.0,\n",
       "  'Maximum Fundamental frequency_f0 Hz': 272.0,\n",
       "  '25th Quantile Fundamental frequency_f0 Hz': 102.0,\n",
       "  '75th Quantile Fundamental frequency_f0 Hz': 201.0},\n",
       " 'trial_lie_audio_010': {'Pronunciation_posteriori': 90.03,\n",
       "  'Gender': 'a female',\n",
       "  'Mood_from_mva': 'Showing no emotion',\n",
       "  'Count of Syllables': 73,\n",
       "  'Count of filler and pauses': 7,\n",
       "  'Rate of speech - syb per sec': 3.0,\n",
       "  'Speaking time secs w/o pauses': 15.3,\n",
       "  'Duration time secs w pauses': 24.8,\n",
       "  'Ratio speaking to duration': 0.6,\n",
       "  'Fundamental frequency_f0 Hz': 163.42,\n",
       "  'SD Fundamental frequency_f0 Hz': 45.26,\n",
       "  'Median Fundamental frequency_f0 Hz': 184.5,\n",
       "  'Minimum Fundamental frequency_f0 Hz': 76.0,\n",
       "  'Maximum Fundamental frequency_f0 Hz': 260.0,\n",
       "  '25th Quantile Fundamental frequency_f0 Hz': 96.0,\n",
       "  '75th Quantile Fundamental frequency_f0 Hz': 192.0},\n",
       " 'trial_lie_audio_011': {'Pronunciation_posteriori': 80.34,\n",
       "  'Gender': 'a female',\n",
       "  'Mood_from_mva': 'Reading',\n",
       "  'Count of Syllables': 89,\n",
       "  'Count of filler and pauses': 9,\n",
       "  'Rate of speech - syb per sec': 3.0,\n",
       "  'Speaking time secs w/o pauses': 16.1,\n",
       "  'Duration time secs w pauses': 33.7,\n",
       "  'Ratio speaking to duration': 0.5,\n",
       "  'Fundamental frequency_f0 Hz': 200.59,\n",
       "  'SD Fundamental frequency_f0 Hz': 40.27,\n",
       "  'Median Fundamental frequency_f0 Hz': 198.3,\n",
       "  'Minimum Fundamental frequency_f0 Hz': 81.0,\n",
       "  'Maximum Fundamental frequency_f0 Hz': 382.0,\n",
       "  '25th Quantile Fundamental frequency_f0 Hz': 186.0,\n",
       "  '75th Quantile Fundamental frequency_f0 Hz': 220.0},\n",
       " 'trial_lie_audio_012': {'Pronunciation_posteriori': 100.0,\n",
       "  'Gender': 'a female',\n",
       "  'Mood_from_mva': 'Showing no emotion',\n",
       "  'Count of Syllables': 29,\n",
       "  'Count of filler and pauses': 1,\n",
       "  'Rate of speech - syb per sec': 4.0,\n",
       "  'Speaking time secs w/o pauses': 5.6,\n",
       "  'Duration time secs w pauses': 7.8,\n",
       "  'Ratio speaking to duration': 0.7,\n",
       "  'Fundamental frequency_f0 Hz': 188.51,\n",
       "  'SD Fundamental frequency_f0 Hz': 30.16,\n",
       "  'Median Fundamental frequency_f0 Hz': 195.5,\n",
       "  'Minimum Fundamental frequency_f0 Hz': 89.0,\n",
       "  'Maximum Fundamental frequency_f0 Hz': 265.0,\n",
       "  '25th Quantile Fundamental frequency_f0 Hz': 183.0,\n",
       "  '75th Quantile Fundamental frequency_f0 Hz': 206.0},\n",
       " 'trial_lie_audio_013': {'Pronunciation_posteriori': 100.0,\n",
       "  'Gender': 'a female',\n",
       "  'Mood_from_mva': 'Showing no emotion',\n",
       "  'Count of Syllables': 67,\n",
       "  'Count of filler and pauses': 4,\n",
       "  'Rate of speech - syb per sec': 4.0,\n",
       "  'Speaking time secs w/o pauses': 13.5,\n",
       "  'Duration time secs w pauses': 16.6,\n",
       "  'Ratio speaking to duration': 0.8,\n",
       "  'Fundamental frequency_f0 Hz': 184.68,\n",
       "  'SD Fundamental frequency_f0 Hz': 32.43,\n",
       "  'Median Fundamental frequency_f0 Hz': 188.6,\n",
       "  'Minimum Fundamental frequency_f0 Hz': 79.0,\n",
       "  'Maximum Fundamental frequency_f0 Hz': 258.0,\n",
       "  '25th Quantile Fundamental frequency_f0 Hz': 179.0,\n",
       "  '75th Quantile Fundamental frequency_f0 Hz': 202.0},\n",
       " 'trial_lie_audio_014': {'Pronunciation_posteriori': 95.02,\n",
       "  'Gender': 'a female',\n",
       "  'Mood_from_mva': 'Reading',\n",
       "  'Count of Syllables': 65,\n",
       "  'Count of filler and pauses': 1,\n",
       "  'Rate of speech - syb per sec': 5.0,\n",
       "  'Speaking time secs w/o pauses': 12.0,\n",
       "  'Duration time secs w pauses': 13.8,\n",
       "  'Ratio speaking to duration': 0.9,\n",
       "  'Fundamental frequency_f0 Hz': 208.0,\n",
       "  'SD Fundamental frequency_f0 Hz': 36.74,\n",
       "  'Median Fundamental frequency_f0 Hz': 211.4,\n",
       "  'Minimum Fundamental frequency_f0 Hz': 81.0,\n",
       "  'Maximum Fundamental frequency_f0 Hz': 383.0,\n",
       "  '25th Quantile Fundamental frequency_f0 Hz': 194.0,\n",
       "  '75th Quantile Fundamental frequency_f0 Hz': 226.0},\n",
       " 'trial_lie_audio_015': {'Pronunciation_posteriori': 90.07,\n",
       "  'Gender': 'a female',\n",
       "  'Mood_from_mva': 'Showing no emotion',\n",
       "  'Count of Syllables': 106,\n",
       "  'Count of filler and pauses': 16,\n",
       "  'Rate of speech - syb per sec': 3.0,\n",
       "  'Speaking time secs w/o pauses': 20.4,\n",
       "  'Duration time secs w pauses': 34.4,\n",
       "  'Ratio speaking to duration': 0.6,\n",
       "  'Fundamental frequency_f0 Hz': 187.87,\n",
       "  'SD Fundamental frequency_f0 Hz': 33.92,\n",
       "  'Median Fundamental frequency_f0 Hz': 186.0,\n",
       "  'Minimum Fundamental frequency_f0 Hz': 74.0,\n",
       "  'Maximum Fundamental frequency_f0 Hz': 363.0,\n",
       "  '25th Quantile Fundamental frequency_f0 Hz': 178.0,\n",
       "  '75th Quantile Fundamental frequency_f0 Hz': 198.0},\n",
       " 'trial_lie_audio_016': {'Pronunciation_posteriori': 94.99,\n",
       "  'Gender': 'a female',\n",
       "  'Mood_from_mva': 'Showing no emotion',\n",
       "  'Count of Syllables': 140,\n",
       "  'Count of filler and pauses': 13,\n",
       "  'Rate of speech - syb per sec': 4.0,\n",
       "  'Speaking time secs w/o pauses': 26.5,\n",
       "  'Duration time secs w pauses': 37.0,\n",
       "  'Ratio speaking to duration': 0.7,\n",
       "  'Fundamental frequency_f0 Hz': 184.18,\n",
       "  'SD Fundamental frequency_f0 Hz': 31.86,\n",
       "  'Median Fundamental frequency_f0 Hz': 180.5,\n",
       "  'Minimum Fundamental frequency_f0 Hz': 75.0,\n",
       "  'Maximum Fundamental frequency_f0 Hz': 378.0,\n",
       "  '25th Quantile Fundamental frequency_f0 Hz': 173.0,\n",
       "  '75th Quantile Fundamental frequency_f0 Hz': 193.0},\n",
       " 'trial_lie_audio_017': {'Pronunciation_posteriori': 100.0,\n",
       "  'Gender': 'a female',\n",
       "  'Mood_from_mva': 'Showing no emotion',\n",
       "  'Count of Syllables': 166,\n",
       "  'Count of filler and pauses': 13,\n",
       "  'Rate of speech - syb per sec': 4.0,\n",
       "  'Speaking time secs w/o pauses': 32.1,\n",
       "  'Duration time secs w pauses': 43.9,\n",
       "  'Ratio speaking to duration': 0.7,\n",
       "  'Fundamental frequency_f0 Hz': 180.08,\n",
       "  'SD Fundamental frequency_f0 Hz': 30.67,\n",
       "  'Median Fundamental frequency_f0 Hz': 179.9,\n",
       "  'Minimum Fundamental frequency_f0 Hz': 78.0,\n",
       "  'Maximum Fundamental frequency_f0 Hz': 384.0,\n",
       "  '25th Quantile Fundamental frequency_f0 Hz': 173.0,\n",
       "  '75th Quantile Fundamental frequency_f0 Hz': 191.0},\n",
       " 'trial_lie_audio_018': {'Pronunciation_posteriori': 100.0,\n",
       "  'Gender': 'a female',\n",
       "  'Mood_from_mva': 'Showing no emotion',\n",
       "  'Count of Syllables': 146,\n",
       "  'Count of filler and pauses': 10,\n",
       "  'Rate of speech - syb per sec': 4.0,\n",
       "  'Speaking time secs w/o pauses': 27.0,\n",
       "  'Duration time secs w pauses': 34.5,\n",
       "  'Ratio speaking to duration': 0.8,\n",
       "  'Fundamental frequency_f0 Hz': 184.31,\n",
       "  'SD Fundamental frequency_f0 Hz': 33.33,\n",
       "  'Median Fundamental frequency_f0 Hz': 184.4,\n",
       "  'Minimum Fundamental frequency_f0 Hz': 80.0,\n",
       "  'Maximum Fundamental frequency_f0 Hz': 387.0,\n",
       "  '25th Quantile Fundamental frequency_f0 Hz': 175.0,\n",
       "  '75th Quantile Fundamental frequency_f0 Hz': 199.0},\n",
       " 'trial_lie_audio_019': {'Pronunciation_posteriori': 95.01,\n",
       "  'Gender': 'a female',\n",
       "  'Mood_from_mva': 'Showing no emotion',\n",
       "  'Count of Syllables': 148,\n",
       "  'Count of filler and pauses': 13,\n",
       "  'Rate of speech - syb per sec': 4.0,\n",
       "  'Speaking time secs w/o pauses': 27.9,\n",
       "  'Duration time secs w pauses': 36.8,\n",
       "  'Ratio speaking to duration': 0.8,\n",
       "  'Fundamental frequency_f0 Hz': 181.32,\n",
       "  'SD Fundamental frequency_f0 Hz': 33.38,\n",
       "  'Median Fundamental frequency_f0 Hz': 178.2,\n",
       "  'Minimum Fundamental frequency_f0 Hz': 72.0,\n",
       "  'Maximum Fundamental frequency_f0 Hz': 385.0,\n",
       "  '25th Quantile Fundamental frequency_f0 Hz': 171.0,\n",
       "  '75th Quantile Fundamental frequency_f0 Hz': 192.0},\n",
       " 'trial_lie_audio_020': {'Pronunciation_posteriori': 90.01,\n",
       "  'Gender': 'a female',\n",
       "  'Mood_from_mva': 'Showing no emotion',\n",
       "  'Count of Syllables': 35,\n",
       "  'Count of filler and pauses': 4,\n",
       "  'Rate of speech - syb per sec': 3.0,\n",
       "  'Speaking time secs w/o pauses': 6.7,\n",
       "  'Duration time secs w pauses': 11.2,\n",
       "  'Ratio speaking to duration': 0.6,\n",
       "  'Fundamental frequency_f0 Hz': 188.98,\n",
       "  'SD Fundamental frequency_f0 Hz': 24.86,\n",
       "  'Median Fundamental frequency_f0 Hz': 187.9,\n",
       "  'Minimum Fundamental frequency_f0 Hz': 84.0,\n",
       "  'Maximum Fundamental frequency_f0 Hz': 303.0,\n",
       "  '25th Quantile Fundamental frequency_f0 Hz': 175.0,\n",
       "  '75th Quantile Fundamental frequency_f0 Hz': 201.0},\n",
       " 'trial_lie_audio_021': {'Pronunciation_posteriori': 70.07,\n",
       "  'Gender': 'a female',\n",
       "  'Mood_from_mva': 'Showing no emotion',\n",
       "  'Count of Syllables': 47,\n",
       "  'Count of filler and pauses': 7,\n",
       "  'Rate of speech - syb per sec': 3.0,\n",
       "  'Speaking time secs w/o pauses': 10.0,\n",
       "  'Duration time secs w pauses': 18.2,\n",
       "  'Ratio speaking to duration': 0.5,\n",
       "  'Fundamental frequency_f0 Hz': 189.04,\n",
       "  'SD Fundamental frequency_f0 Hz': 26.52,\n",
       "  'Median Fundamental frequency_f0 Hz': 190.8,\n",
       "  'Minimum Fundamental frequency_f0 Hz': 81.0,\n",
       "  'Maximum Fundamental frequency_f0 Hz': 250.0,\n",
       "  '25th Quantile Fundamental frequency_f0 Hz': 179.0,\n",
       "  '75th Quantile Fundamental frequency_f0 Hz': 202.0},\n",
       " 'trial_lie_audio_022': {'Pronunciation_posteriori': 84.97,\n",
       "  'Gender': 'a female',\n",
       "  'Mood_from_mva': 'Showing no emotion',\n",
       "  'Count of Syllables': 140,\n",
       "  'Count of filler and pauses': 17,\n",
       "  'Rate of speech - syb per sec': 3.0,\n",
       "  'Speaking time secs w/o pauses': 26.1,\n",
       "  'Duration time secs w pauses': 41.5,\n",
       "  'Ratio speaking to duration': 0.6,\n",
       "  'Fundamental frequency_f0 Hz': 192.67,\n",
       "  'SD Fundamental frequency_f0 Hz': 40.3,\n",
       "  'Median Fundamental frequency_f0 Hz': 183.1,\n",
       "  'Minimum Fundamental frequency_f0 Hz': 70.0,\n",
       "  'Maximum Fundamental frequency_f0 Hz': 374.0,\n",
       "  '25th Quantile Fundamental frequency_f0 Hz': 174.0,\n",
       "  '75th Quantile Fundamental frequency_f0 Hz': 203.0},\n",
       " 'trial_lie_audio_023': {'Pronunciation_posteriori': 95.13,\n",
       "  'Gender': 'a female',\n",
       "  'Mood_from_mva': 'Showing no emotion',\n",
       "  'Count of Syllables': 163,\n",
       "  'Count of filler and pauses': 17,\n",
       "  'Rate of speech - syb per sec': 4.0,\n",
       "  'Speaking time secs w/o pauses': 30.6,\n",
       "  'Duration time secs w pauses': 43.3,\n",
       "  'Ratio speaking to duration': 0.7,\n",
       "  'Fundamental frequency_f0 Hz': 175.72,\n",
       "  'SD Fundamental frequency_f0 Hz': 35.97,\n",
       "  'Median Fundamental frequency_f0 Hz': 177.4,\n",
       "  'Minimum Fundamental frequency_f0 Hz': 71.0,\n",
       "  'Maximum Fundamental frequency_f0 Hz': 392.0,\n",
       "  '25th Quantile Fundamental frequency_f0 Hz': 168.0,\n",
       "  '75th Quantile Fundamental frequency_f0 Hz': 187.0},\n",
       " 'trial_lie_audio_024': {'Pronunciation_posteriori': 100.0,\n",
       "  'Gender': 'a female',\n",
       "  'Mood_from_mva': 'Showing no emotion',\n",
       "  'Count of Syllables': 104,\n",
       "  'Count of filler and pauses': 5,\n",
       "  'Rate of speech - syb per sec': 4.0,\n",
       "  'Speaking time secs w/o pauses': 21.9,\n",
       "  'Duration time secs w pauses': 24.6,\n",
       "  'Ratio speaking to duration': 0.9,\n",
       "  'Fundamental frequency_f0 Hz': 191.76,\n",
       "  'SD Fundamental frequency_f0 Hz': 41.13,\n",
       "  'Median Fundamental frequency_f0 Hz': 186.0,\n",
       "  'Minimum Fundamental frequency_f0 Hz': 77.0,\n",
       "  'Maximum Fundamental frequency_f0 Hz': 389.0,\n",
       "  '25th Quantile Fundamental frequency_f0 Hz': 176.0,\n",
       "  '75th Quantile Fundamental frequency_f0 Hz': 199.0},\n",
       " 'trial_lie_audio_025': {'Pronunciation_posteriori': 94.93,\n",
       "  'Gender': 'a female',\n",
       "  'Mood_from_mva': 'Showing no emotion',\n",
       "  'Count of Syllables': 138,\n",
       "  'Count of filler and pauses': 6,\n",
       "  'Rate of speech - syb per sec': 5.0,\n",
       "  'Speaking time secs w/o pauses': 25.2,\n",
       "  'Duration time secs w pauses': 29.5,\n",
       "  'Ratio speaking to duration': 0.9,\n",
       "  'Fundamental frequency_f0 Hz': 186.33,\n",
       "  'SD Fundamental frequency_f0 Hz': 21.17,\n",
       "  'Median Fundamental frequency_f0 Hz': 186.3,\n",
       "  'Minimum Fundamental frequency_f0 Hz': 73.0,\n",
       "  'Maximum Fundamental frequency_f0 Hz': 335.0,\n",
       "  '25th Quantile Fundamental frequency_f0 Hz': 176.0,\n",
       "  '75th Quantile Fundamental frequency_f0 Hz': 198.0},\n",
       " 'trial_lie_audio_026': {'Pronunciation_posteriori': 90.05,\n",
       "  'Gender': 'a female',\n",
       "  'Mood_from_mva': 'Showing no emotion',\n",
       "  'Count of Syllables': 87,\n",
       "  'Count of filler and pauses': 13,\n",
       "  'Rate of speech - syb per sec': 3.0,\n",
       "  'Speaking time secs w/o pauses': 18.1,\n",
       "  'Duration time secs w pauses': 28.5,\n",
       "  'Ratio speaking to duration': 0.6,\n",
       "  'Fundamental frequency_f0 Hz': 184.0,\n",
       "  'SD Fundamental frequency_f0 Hz': 29.79,\n",
       "  'Median Fundamental frequency_f0 Hz': 185.7,\n",
       "  'Minimum Fundamental frequency_f0 Hz': 74.0,\n",
       "  'Maximum Fundamental frequency_f0 Hz': 329.0,\n",
       "  '25th Quantile Fundamental frequency_f0 Hz': 176.0,\n",
       "  '75th Quantile Fundamental frequency_f0 Hz': 198.0},\n",
       " 'trial_lie_audio_027': {'Pronunciation_posteriori': 90.25,\n",
       "  'Gender': 'a female',\n",
       "  'Mood_from_mva': 'Showing no emotion',\n",
       "  'Count of Syllables': 81,\n",
       "  'Count of filler and pauses': 8,\n",
       "  'Rate of speech - syb per sec': 3.0,\n",
       "  'Speaking time secs w/o pauses': 17.1,\n",
       "  'Duration time secs w pauses': 27.0,\n",
       "  'Ratio speaking to duration': 0.6,\n",
       "  'Fundamental frequency_f0 Hz': 188.92,\n",
       "  'SD Fundamental frequency_f0 Hz': 34.89,\n",
       "  'Median Fundamental frequency_f0 Hz': 187.1,\n",
       "  'Minimum Fundamental frequency_f0 Hz': 72.0,\n",
       "  'Maximum Fundamental frequency_f0 Hz': 355.0,\n",
       "  '25th Quantile Fundamental frequency_f0 Hz': 175.0,\n",
       "  '75th Quantile Fundamental frequency_f0 Hz': 200.0},\n",
       " 'trial_lie_audio_028': {'Pronunciation_posteriori': 89.91,\n",
       "  'Gender': 'a female',\n",
       "  'Mood_from_mva': 'Showing no emotion',\n",
       "  'Count of Syllables': 80,\n",
       "  'Count of filler and pauses': 10,\n",
       "  'Rate of speech - syb per sec': 3.0,\n",
       "  'Speaking time secs w/o pauses': 14.8,\n",
       "  'Duration time secs w pauses': 24.3,\n",
       "  'Ratio speaking to duration': 0.6,\n",
       "  'Fundamental frequency_f0 Hz': 191.12,\n",
       "  'SD Fundamental frequency_f0 Hz': 46.25,\n",
       "  'Median Fundamental frequency_f0 Hz': 190.3,\n",
       "  'Minimum Fundamental frequency_f0 Hz': 74.0,\n",
       "  'Maximum Fundamental frequency_f0 Hz': 385.0,\n",
       "  '25th Quantile Fundamental frequency_f0 Hz': 175.0,\n",
       "  '75th Quantile Fundamental frequency_f0 Hz': 210.0},\n",
       " 'trial_lie_audio_029': {'Pronunciation_posteriori': 85.07,\n",
       "  'Gender': 'a female',\n",
       "  'Mood_from_mva': 'Showing no emotion',\n",
       "  'Count of Syllables': 61,\n",
       "  'Count of filler and pauses': 6,\n",
       "  'Rate of speech - syb per sec': 3.0,\n",
       "  'Speaking time secs w/o pauses': 11.6,\n",
       "  'Duration time secs w pauses': 18.0,\n",
       "  'Ratio speaking to duration': 0.6,\n",
       "  'Fundamental frequency_f0 Hz': 175.14,\n",
       "  'SD Fundamental frequency_f0 Hz': 38.62,\n",
       "  'Median Fundamental frequency_f0 Hz': 171.8,\n",
       "  'Minimum Fundamental frequency_f0 Hz': 73.0,\n",
       "  'Maximum Fundamental frequency_f0 Hz': 371.0,\n",
       "  '25th Quantile Fundamental frequency_f0 Hz': 166.0,\n",
       "  '75th Quantile Fundamental frequency_f0 Hz': 183.0},\n",
       " 'trial_lie_audio_030': {'Pronunciation_posteriori': 84.97,\n",
       "  'Gender': 'a female',\n",
       "  'Mood_from_mva': 'Showing no emotion',\n",
       "  'Count of Syllables': 109,\n",
       "  'Count of filler and pauses': 10,\n",
       "  'Rate of speech - syb per sec': 3.0,\n",
       "  'Speaking time secs w/o pauses': 19.6,\n",
       "  'Duration time secs w pauses': 32.1,\n",
       "  'Ratio speaking to duration': 0.6,\n",
       "  'Fundamental frequency_f0 Hz': 184.47,\n",
       "  'SD Fundamental frequency_f0 Hz': 40.85,\n",
       "  'Median Fundamental frequency_f0 Hz': 188.9,\n",
       "  'Minimum Fundamental frequency_f0 Hz': 71.0,\n",
       "  'Maximum Fundamental frequency_f0 Hz': 379.0,\n",
       "  '25th Quantile Fundamental frequency_f0 Hz': 173.0,\n",
       "  '75th Quantile Fundamental frequency_f0 Hz': 207.0},\n",
       " 'trial_lie_audio_031': {'Pronunciation_posteriori': 60.27,\n",
       "  'Gender': 'a female',\n",
       "  'Mood_from_mva': 'Showing no emotion',\n",
       "  'Count of Syllables': 55,\n",
       "  'Count of filler and pauses': 8,\n",
       "  'Rate of speech - syb per sec': 2.0,\n",
       "  'Speaking time secs w/o pauses': 9.4,\n",
       "  'Duration time secs w pauses': 25.9,\n",
       "  'Ratio speaking to duration': 0.4,\n",
       "  'Fundamental frequency_f0 Hz': 187.58,\n",
       "  'SD Fundamental frequency_f0 Hz': 36.17,\n",
       "  'Median Fundamental frequency_f0 Hz': 186.2,\n",
       "  'Minimum Fundamental frequency_f0 Hz': 79.0,\n",
       "  'Maximum Fundamental frequency_f0 Hz': 396.0,\n",
       "  '25th Quantile Fundamental frequency_f0 Hz': 180.0,\n",
       "  '75th Quantile Fundamental frequency_f0 Hz': 197.0},\n",
       " 'trial_lie_audio_032': {'Pronunciation_posteriori': 80.17,\n",
       "  'Gender': 'a female',\n",
       "  'Mood_from_mva': 'Reading',\n",
       "  'Count of Syllables': 76,\n",
       "  'Count of filler and pauses': 14,\n",
       "  'Rate of speech - syb per sec': 3.0,\n",
       "  'Speaking time secs w/o pauses': 16.0,\n",
       "  'Duration time secs w pauses': 28.0,\n",
       "  'Ratio speaking to duration': 0.6,\n",
       "  'Fundamental frequency_f0 Hz': 208.47,\n",
       "  'SD Fundamental frequency_f0 Hz': 40.34,\n",
       "  'Median Fundamental frequency_f0 Hz': 201.0,\n",
       "  'Minimum Fundamental frequency_f0 Hz': 111.0,\n",
       "  'Maximum Fundamental frequency_f0 Hz': 311.0,\n",
       "  '25th Quantile Fundamental frequency_f0 Hz': 175.0,\n",
       "  '75th Quantile Fundamental frequency_f0 Hz': 238.0},\n",
       " 'trial_lie_audio_033': {'Pronunciation_posteriori': 100.0,\n",
       "  'Gender': 'a female',\n",
       "  'Mood_from_mva': 'Showing no emotion',\n",
       "  'Count of Syllables': 181,\n",
       "  'Count of filler and pauses': 13,\n",
       "  'Rate of speech - syb per sec': 4.0,\n",
       "  'Speaking time secs w/o pauses': 34.1,\n",
       "  'Duration time secs w pauses': 45.0,\n",
       "  'Ratio speaking to duration': 0.8,\n",
       "  'Fundamental frequency_f0 Hz': 176.95,\n",
       "  'SD Fundamental frequency_f0 Hz': 53.63,\n",
       "  'Median Fundamental frequency_f0 Hz': 168.3,\n",
       "  'Minimum Fundamental frequency_f0 Hz': 75.0,\n",
       "  'Maximum Fundamental frequency_f0 Hz': 365.0,\n",
       "  '25th Quantile Fundamental frequency_f0 Hz': 132.0,\n",
       "  '75th Quantile Fundamental frequency_f0 Hz': 218.0},\n",
       " 'trial_lie_audio_034': {'Pronunciation_posteriori': 100.0,\n",
       "  'Gender': 'a Male',\n",
       "  'Mood_from_mva': 'speaking passionately',\n",
       "  'Count of Syllables': 93,\n",
       "  'Count of filler and pauses': 10,\n",
       "  'Rate of speech - syb per sec': 3.0,\n",
       "  'Speaking time secs w/o pauses': 17.7,\n",
       "  'Duration time secs w pauses': 26.9,\n",
       "  'Ratio speaking to duration': 0.7,\n",
       "  'Fundamental frequency_f0 Hz': 142.87,\n",
       "  'SD Fundamental frequency_f0 Hz': 32.32,\n",
       "  'Median Fundamental frequency_f0 Hz': 144.5,\n",
       "  'Minimum Fundamental frequency_f0 Hz': 77.0,\n",
       "  'Maximum Fundamental frequency_f0 Hz': 251.0,\n",
       "  '25th Quantile Fundamental frequency_f0 Hz': 118.0,\n",
       "  '75th Quantile Fundamental frequency_f0 Hz': 161.0},\n",
       " 'trial_lie_audio_035': {'Pronunciation_posteriori': 95.01,\n",
       "  'Gender': 'a female',\n",
       "  'Mood_from_mva': 'Showing no emotion',\n",
       "  'Count of Syllables': 123,\n",
       "  'Count of filler and pauses': 11,\n",
       "  'Rate of speech - syb per sec': 4.0,\n",
       "  'Speaking time secs w/o pauses': 24.8,\n",
       "  'Duration time secs w pauses': 35.0,\n",
       "  'Ratio speaking to duration': 0.7,\n",
       "  'Fundamental frequency_f0 Hz': 195.65,\n",
       "  'SD Fundamental frequency_f0 Hz': 39.27,\n",
       "  'Median Fundamental frequency_f0 Hz': 195.2,\n",
       "  'Minimum Fundamental frequency_f0 Hz': 81.0,\n",
       "  'Maximum Fundamental frequency_f0 Hz': 382.0,\n",
       "  '25th Quantile Fundamental frequency_f0 Hz': 170.0,\n",
       "  '75th Quantile Fundamental frequency_f0 Hz': 218.0},\n",
       " 'trial_lie_audio_036': {'Pronunciation_posteriori': 70.06,\n",
       "  'Gender': 'Voice not recognized',\n",
       "  'Mood_from_mva': '',\n",
       "  'Count of Syllables': 100,\n",
       "  'Count of filler and pauses': 16,\n",
       "  'Rate of speech - syb per sec': 3.0,\n",
       "  'Speaking time secs w/o pauses': 19.2,\n",
       "  'Duration time secs w pauses': 39.0,\n",
       "  'Ratio speaking to duration': 0.5,\n",
       "  'Fundamental frequency_f0 Hz': 273.76,\n",
       "  'SD Fundamental frequency_f0 Hz': 71.35,\n",
       "  'Median Fundamental frequency_f0 Hz': 288.1,\n",
       "  'Minimum Fundamental frequency_f0 Hz': 79.0,\n",
       "  'Maximum Fundamental frequency_f0 Hz': 400.0,\n",
       "  '25th Quantile Fundamental frequency_f0 Hz': 230.0,\n",
       "  '75th Quantile Fundamental frequency_f0 Hz': 322.0},\n",
       " 'trial_lie_audio_037': {'Pronunciation_posteriori': 90.05,\n",
       "  'Gender': 'a female',\n",
       "  'Mood_from_mva': 'Showing no emotion',\n",
       "  'Count of Syllables': 67,\n",
       "  'Count of filler and pauses': 6,\n",
       "  'Rate of speech - syb per sec': 3.0,\n",
       "  'Speaking time secs w/o pauses': 14.3,\n",
       "  'Duration time secs w pauses': 22.4,\n",
       "  'Ratio speaking to duration': 0.6,\n",
       "  'Fundamental frequency_f0 Hz': 183.07,\n",
       "  'SD Fundamental frequency_f0 Hz': 32.49,\n",
       "  'Median Fundamental frequency_f0 Hz': 179.9,\n",
       "  'Minimum Fundamental frequency_f0 Hz': 75.0,\n",
       "  'Maximum Fundamental frequency_f0 Hz': 367.0,\n",
       "  '25th Quantile Fundamental frequency_f0 Hz': 173.0,\n",
       "  '75th Quantile Fundamental frequency_f0 Hz': 195.0},\n",
       " 'trial_lie_audio_038': {'Pronunciation_posteriori': 100.0,\n",
       "  'Gender': 'a female',\n",
       "  'Mood_from_mva': 'Showing no emotion',\n",
       "  'Count of Syllables': 54,\n",
       "  'Count of filler and pauses': 2,\n",
       "  'Rate of speech - syb per sec': 4.0,\n",
       "  'Speaking time secs w/o pauses': 10.2,\n",
       "  'Duration time secs w pauses': 14.2,\n",
       "  'Ratio speaking to duration': 0.7,\n",
       "  'Fundamental frequency_f0 Hz': 186.02,\n",
       "  'SD Fundamental frequency_f0 Hz': 35.48,\n",
       "  'Median Fundamental frequency_f0 Hz': 179.6,\n",
       "  'Minimum Fundamental frequency_f0 Hz': 74.0,\n",
       "  'Maximum Fundamental frequency_f0 Hz': 375.0,\n",
       "  '25th Quantile Fundamental frequency_f0 Hz': 171.0,\n",
       "  '75th Quantile Fundamental frequency_f0 Hz': 193.0},\n",
       " 'trial_lie_audio_039': {'Pronunciation_posteriori': 90.2,\n",
       "  'Gender': 'a female',\n",
       "  'Mood_from_mva': 'Showing no emotion',\n",
       "  'Count of Syllables': 60,\n",
       "  'Count of filler and pauses': 5,\n",
       "  'Rate of speech - syb per sec': 3.0,\n",
       "  'Speaking time secs w/o pauses': 13.0,\n",
       "  'Duration time secs w pauses': 19.2,\n",
       "  'Ratio speaking to duration': 0.7,\n",
       "  'Fundamental frequency_f0 Hz': 191.7,\n",
       "  'SD Fundamental frequency_f0 Hz': 48.43,\n",
       "  'Median Fundamental frequency_f0 Hz': 182.2,\n",
       "  'Minimum Fundamental frequency_f0 Hz': 73.0,\n",
       "  'Maximum Fundamental frequency_f0 Hz': 358.0,\n",
       "  '25th Quantile Fundamental frequency_f0 Hz': 168.0,\n",
       "  '75th Quantile Fundamental frequency_f0 Hz': 210.0},\n",
       " 'trial_lie_audio_040': {'Pronunciation_posteriori': 94.99,\n",
       "  'Gender': 'a female',\n",
       "  'Mood_from_mva': 'Showing no emotion',\n",
       "  'Count of Syllables': 71,\n",
       "  'Count of filler and pauses': 5,\n",
       "  'Rate of speech - syb per sec': 4.0,\n",
       "  'Speaking time secs w/o pauses': 13.4,\n",
       "  'Duration time secs w pauses': 17.4,\n",
       "  'Ratio speaking to duration': 0.8,\n",
       "  'Fundamental frequency_f0 Hz': 177.05,\n",
       "  'SD Fundamental frequency_f0 Hz': 38.49,\n",
       "  'Median Fundamental frequency_f0 Hz': 173.6,\n",
       "  'Minimum Fundamental frequency_f0 Hz': 73.0,\n",
       "  'Maximum Fundamental frequency_f0 Hz': 391.0,\n",
       "  '25th Quantile Fundamental frequency_f0 Hz': 168.0,\n",
       "  '75th Quantile Fundamental frequency_f0 Hz': 188.0},\n",
       " 'trial_lie_audio_041': {'Pronunciation_posteriori': 94.95,\n",
       "  'Gender': 'a Male',\n",
       "  'Mood_from_mva': 'Reading',\n",
       "  'Count of Syllables': 83,\n",
       "  'Count of filler and pauses': 4,\n",
       "  'Rate of speech - syb per sec': 4.0,\n",
       "  'Speaking time secs w/o pauses': 18.8,\n",
       "  'Duration time secs w pauses': 20.1,\n",
       "  'Ratio speaking to duration': 0.9,\n",
       "  'Fundamental frequency_f0 Hz': 121.99,\n",
       "  'SD Fundamental frequency_f0 Hz': 24.33,\n",
       "  'Median Fundamental frequency_f0 Hz': 117.0,\n",
       "  'Minimum Fundamental frequency_f0 Hz': 82.0,\n",
       "  'Maximum Fundamental frequency_f0 Hz': 380.0,\n",
       "  '25th Quantile Fundamental frequency_f0 Hz': 107.0,\n",
       "  '75th Quantile Fundamental frequency_f0 Hz': 132.0},\n",
       " 'trial_lie_audio_042': {'Pronunciation_posteriori': 100.0,\n",
       "  'Gender': 'a Male',\n",
       "  'Mood_from_mva': 'Reading',\n",
       "  'Count of Syllables': 76,\n",
       "  'Count of filler and pauses': 6,\n",
       "  'Rate of speech - syb per sec': 4.0,\n",
       "  'Speaking time secs w/o pauses': 17.5,\n",
       "  'Duration time secs w pauses': 20.9,\n",
       "  'Ratio speaking to duration': 0.8,\n",
       "  'Fundamental frequency_f0 Hz': 117.09,\n",
       "  'SD Fundamental frequency_f0 Hz': 17.53,\n",
       "  'Median Fundamental frequency_f0 Hz': 115.7,\n",
       "  'Minimum Fundamental frequency_f0 Hz': 81.0,\n",
       "  'Maximum Fundamental frequency_f0 Hz': 358.0,\n",
       "  '25th Quantile Fundamental frequency_f0 Hz': 110.0,\n",
       "  '75th Quantile Fundamental frequency_f0 Hz': 122.0},\n",
       " 'trial_lie_audio_043': {'Pronunciation_posteriori': 94.95,\n",
       "  'Gender': 'Voice not recognized',\n",
       "  'Mood_from_mva': '',\n",
       "  'Count of Syllables': 46,\n",
       "  'Count of filler and pauses': 2,\n",
       "  'Rate of speech - syb per sec': 4.0,\n",
       "  'Speaking time secs w/o pauses': 9.9,\n",
       "  'Duration time secs w pauses': 11.7,\n",
       "  'Ratio speaking to duration': 0.8,\n",
       "  'Fundamental frequency_f0 Hz': 95.94,\n",
       "  'SD Fundamental frequency_f0 Hz': 29.96,\n",
       "  'Median Fundamental frequency_f0 Hz': 87.9,\n",
       "  'Minimum Fundamental frequency_f0 Hz': 79.0,\n",
       "  'Maximum Fundamental frequency_f0 Hz': 296.0,\n",
       "  '25th Quantile Fundamental frequency_f0 Hz': 84.0,\n",
       "  '75th Quantile Fundamental frequency_f0 Hz': 93.0},\n",
       " 'trial_lie_audio_044': {'Pronunciation_posteriori': 95.03,\n",
       "  'Gender': 'a Male',\n",
       "  'Mood_from_mva': 'Showing no emotion',\n",
       "  'Count of Syllables': 34,\n",
       "  'Count of filler and pauses': 3,\n",
       "  'Rate of speech - syb per sec': 4.0,\n",
       "  'Speaking time secs w/o pauses': 7.1,\n",
       "  'Duration time secs w pauses': 8.1,\n",
       "  'Ratio speaking to duration': 0.9,\n",
       "  'Fundamental frequency_f0 Hz': 98.18,\n",
       "  'SD Fundamental frequency_f0 Hz': 12.77,\n",
       "  'Median Fundamental frequency_f0 Hz': 94.8,\n",
       "  'Minimum Fundamental frequency_f0 Hz': 78.0,\n",
       "  'Maximum Fundamental frequency_f0 Hz': 153.0,\n",
       "  '25th Quantile Fundamental frequency_f0 Hz': 90.0,\n",
       "  '75th Quantile Fundamental frequency_f0 Hz': 103.0},\n",
       " 'trial_lie_audio_045': {'Pronunciation_posteriori': 100.0,\n",
       "  'Gender': 'a female',\n",
       "  'Mood_from_mva': 'Reading',\n",
       "  'Count of Syllables': 79,\n",
       "  'Count of filler and pauses': 3,\n",
       "  'Rate of speech - syb per sec': 4.0,\n",
       "  'Speaking time secs w/o pauses': 15.7,\n",
       "  'Duration time secs w pauses': 19.1,\n",
       "  'Ratio speaking to duration': 0.8,\n",
       "  'Fundamental frequency_f0 Hz': 226.0,\n",
       "  'SD Fundamental frequency_f0 Hz': 39.5,\n",
       "  'Median Fundamental frequency_f0 Hz': 222.2,\n",
       "  'Minimum Fundamental frequency_f0 Hz': 82.0,\n",
       "  'Maximum Fundamental frequency_f0 Hz': 394.0,\n",
       "  '25th Quantile Fundamental frequency_f0 Hz': 203.0,\n",
       "  '75th Quantile Fundamental frequency_f0 Hz': 242.0},\n",
       " 'trial_lie_audio_046': {'Pronunciation_posteriori': 100.0,\n",
       "  'Gender': 'a female',\n",
       "  'Mood_from_mva': 'Showing no emotion',\n",
       "  'Count of Syllables': 114,\n",
       "  'Count of filler and pauses': 9,\n",
       "  'Rate of speech - syb per sec': 3.0,\n",
       "  'Speaking time secs w/o pauses': 24.9,\n",
       "  'Duration time secs w pauses': 33.0,\n",
       "  'Ratio speaking to duration': 0.8,\n",
       "  'Fundamental frequency_f0 Hz': 191.66,\n",
       "  'SD Fundamental frequency_f0 Hz': 33.64,\n",
       "  'Median Fundamental frequency_f0 Hz': 190.6,\n",
       "  'Minimum Fundamental frequency_f0 Hz': 78.0,\n",
       "  'Maximum Fundamental frequency_f0 Hz': 390.0,\n",
       "  '25th Quantile Fundamental frequency_f0 Hz': 175.0,\n",
       "  '75th Quantile Fundamental frequency_f0 Hz': 206.0},\n",
       " 'trial_lie_audio_047': {'Pronunciation_posteriori': 80.08,\n",
       "  'Gender': 'a female',\n",
       "  'Mood_from_mva': 'Showing no emotion',\n",
       "  'Count of Syllables': 28,\n",
       "  'Count of filler and pauses': 1,\n",
       "  'Rate of speech - syb per sec': 3.0,\n",
       "  'Speaking time secs w/o pauses': 6.4,\n",
       "  'Duration time secs w pauses': 10.6,\n",
       "  'Ratio speaking to duration': 0.6,\n",
       "  'Fundamental frequency_f0 Hz': 169.32,\n",
       "  'SD Fundamental frequency_f0 Hz': 44.03,\n",
       "  'Median Fundamental frequency_f0 Hz': 163.2,\n",
       "  'Minimum Fundamental frequency_f0 Hz': 84.0,\n",
       "  'Maximum Fundamental frequency_f0 Hz': 371.0,\n",
       "  '25th Quantile Fundamental frequency_f0 Hz': 152.0,\n",
       "  '75th Quantile Fundamental frequency_f0 Hz': 177.0},\n",
       " 'trial_lie_audio_048': {'Pronunciation_posteriori': 89.96,\n",
       "  'Gender': 'a Male',\n",
       "  'Mood_from_mva': 'speaking passionately',\n",
       "  'Count of Syllables': 37,\n",
       "  'Count of filler and pauses': 3,\n",
       "  'Rate of speech - syb per sec': 3.0,\n",
       "  'Speaking time secs w/o pauses': 8.8,\n",
       "  'Duration time secs w pauses': 11.5,\n",
       "  'Ratio speaking to duration': 0.8,\n",
       "  'Fundamental frequency_f0 Hz': 153.82,\n",
       "  'SD Fundamental frequency_f0 Hz': 50.94,\n",
       "  'Median Fundamental frequency_f0 Hz': 144.0,\n",
       "  'Minimum Fundamental frequency_f0 Hz': 86.0,\n",
       "  'Maximum Fundamental frequency_f0 Hz': 382.0,\n",
       "  '25th Quantile Fundamental frequency_f0 Hz': 123.0,\n",
       "  '75th Quantile Fundamental frequency_f0 Hz': 158.0},\n",
       " 'trial_lie_audio_049': {'Pronunciation_posteriori': 100.0,\n",
       "  'Gender': 'a Male',\n",
       "  'Mood_from_mva': 'speaking passionately',\n",
       "  'Count of Syllables': 46,\n",
       "  'Count of filler and pauses': 2,\n",
       "  'Rate of speech - syb per sec': 4.0,\n",
       "  'Speaking time secs w/o pauses': 10.5,\n",
       "  'Duration time secs w pauses': 11.6,\n",
       "  'Ratio speaking to duration': 0.9,\n",
       "  'Fundamental frequency_f0 Hz': 147.23,\n",
       "  'SD Fundamental frequency_f0 Hz': 42.9,\n",
       "  'Median Fundamental frequency_f0 Hz': 139.3,\n",
       "  'Minimum Fundamental frequency_f0 Hz': 87.0,\n",
       "  'Maximum Fundamental frequency_f0 Hz': 389.0,\n",
       "  '25th Quantile Fundamental frequency_f0 Hz': 123.0,\n",
       "  '75th Quantile Fundamental frequency_f0 Hz': 154.0},\n",
       " 'trial_lie_audio_050': {'Pronunciation_posteriori': 100.0,\n",
       "  'Gender': 'a female',\n",
       "  'Mood_from_mva': 'Showing no emotion',\n",
       "  'Count of Syllables': 52,\n",
       "  'Count of filler and pauses': 6,\n",
       "  'Rate of speech - syb per sec': 4.0,\n",
       "  'Speaking time secs w/o pauses': 9.4,\n",
       "  'Duration time secs w pauses': 12.3,\n",
       "  'Ratio speaking to duration': 0.8,\n",
       "  'Fundamental frequency_f0 Hz': 193.83,\n",
       "  'SD Fundamental frequency_f0 Hz': 67.73,\n",
       "  'Median Fundamental frequency_f0 Hz': 184.6,\n",
       "  'Minimum Fundamental frequency_f0 Hz': 78.0,\n",
       "  'Maximum Fundamental frequency_f0 Hz': 368.0,\n",
       "  '25th Quantile Fundamental frequency_f0 Hz': 175.0,\n",
       "  '75th Quantile Fundamental frequency_f0 Hz': 214.0},\n",
       " 'trial_lie_audio_051': {'Pronunciation_posteriori': 100.0,\n",
       "  'Gender': 'a female',\n",
       "  'Mood_from_mva': 'Reading',\n",
       "  'Count of Syllables': 25,\n",
       "  'Count of filler and pauses': 2,\n",
       "  'Rate of speech - syb per sec': 4.0,\n",
       "  'Speaking time secs w/o pauses': 4.7,\n",
       "  'Duration time secs w pauses': 5.9,\n",
       "  'Ratio speaking to duration': 0.8,\n",
       "  'Fundamental frequency_f0 Hz': 205.56,\n",
       "  'SD Fundamental frequency_f0 Hz': 83.94,\n",
       "  'Median Fundamental frequency_f0 Hz': 191.7,\n",
       "  'Minimum Fundamental frequency_f0 Hz': 81.0,\n",
       "  'Maximum Fundamental frequency_f0 Hz': 356.0,\n",
       "  '25th Quantile Fundamental frequency_f0 Hz': 128.0,\n",
       "  '75th Quantile Fundamental frequency_f0 Hz': 294.0},\n",
       " 'trial_lie_audio_052': {'Pronunciation_posteriori': 89.89,\n",
       "  'Gender': 'a Male',\n",
       "  'Mood_from_mva': 'Reading',\n",
       "  'Count of Syllables': 95,\n",
       "  'Count of filler and pauses': 10,\n",
       "  'Rate of speech - syb per sec': 3.0,\n",
       "  'Speaking time secs w/o pauses': 20.5,\n",
       "  'Duration time secs w pauses': 28.4,\n",
       "  'Ratio speaking to duration': 0.7,\n",
       "  'Fundamental frequency_f0 Hz': 117.93,\n",
       "  'SD Fundamental frequency_f0 Hz': 20.74,\n",
       "  'Median Fundamental frequency_f0 Hz': 111.4,\n",
       "  'Minimum Fundamental frequency_f0 Hz': 82.0,\n",
       "  'Maximum Fundamental frequency_f0 Hz': 219.0,\n",
       "  '25th Quantile Fundamental frequency_f0 Hz': 104.0,\n",
       "  '75th Quantile Fundamental frequency_f0 Hz': 125.0},\n",
       " 'trial_lie_audio_053': {'Pronunciation_posteriori': 100.0,\n",
       "  'Gender': 'a Male',\n",
       "  'Mood_from_mva': 'Showing no emotion',\n",
       "  'Count of Syllables': 76,\n",
       "  'Count of filler and pauses': 4,\n",
       "  'Rate of speech - syb per sec': 4.0,\n",
       "  'Speaking time secs w/o pauses': 16.5,\n",
       "  'Duration time secs w pauses': 18.6,\n",
       "  'Ratio speaking to duration': 0.9,\n",
       "  'Fundamental frequency_f0 Hz': 110.97,\n",
       "  'SD Fundamental frequency_f0 Hz': 29.35,\n",
       "  'Median Fundamental frequency_f0 Hz': 102.4,\n",
       "  'Minimum Fundamental frequency_f0 Hz': 81.0,\n",
       "  'Maximum Fundamental frequency_f0 Hz': 294.0,\n",
       "  '25th Quantile Fundamental frequency_f0 Hz': 94.0,\n",
       "  '75th Quantile Fundamental frequency_f0 Hz': 114.0},\n",
       " 'trial_lie_audio_054': {'Pronunciation_posteriori': 94.93,\n",
       "  'Gender': 'a female',\n",
       "  'Mood_from_mva': 'Showing no emotion',\n",
       "  'Count of Syllables': 26,\n",
       "  'Count of filler and pauses': 0,\n",
       "  'Rate of speech - syb per sec': 4.0,\n",
       "  'Speaking time secs w/o pauses': 5.4,\n",
       "  'Duration time secs w pauses': 5.9,\n",
       "  'Ratio speaking to duration': 0.9,\n",
       "  'Fundamental frequency_f0 Hz': 175.83,\n",
       "  'SD Fundamental frequency_f0 Hz': 23.8,\n",
       "  'Median Fundamental frequency_f0 Hz': 176.8,\n",
       "  'Minimum Fundamental frequency_f0 Hz': 80.0,\n",
       "  'Maximum Fundamental frequency_f0 Hz': 280.0,\n",
       "  '25th Quantile Fundamental frequency_f0 Hz': 170.0,\n",
       "  '75th Quantile Fundamental frequency_f0 Hz': 187.0},\n",
       " 'trial_lie_audio_055': {'Pronunciation_posteriori': 89.9,\n",
       "  'Gender': 'a female',\n",
       "  'Mood_from_mva': 'Showing no emotion',\n",
       "  'Count of Syllables': 101,\n",
       "  'Count of filler and pauses': 11,\n",
       "  'Rate of speech - syb per sec': 3.0,\n",
       "  'Speaking time secs w/o pauses': 25.4,\n",
       "  'Duration time secs w pauses': 31.3,\n",
       "  'Ratio speaking to duration': 0.8,\n",
       "  'Fundamental frequency_f0 Hz': 172.2,\n",
       "  'SD Fundamental frequency_f0 Hz': 28.84,\n",
       "  'Median Fundamental frequency_f0 Hz': 170.0,\n",
       "  'Minimum Fundamental frequency_f0 Hz': 80.0,\n",
       "  'Maximum Fundamental frequency_f0 Hz': 372.0,\n",
       "  '25th Quantile Fundamental frequency_f0 Hz': 154.0,\n",
       "  '75th Quantile Fundamental frequency_f0 Hz': 186.0},\n",
       " 'trial_lie_audio_056': {'Pronunciation_posteriori': 89.78,\n",
       "  'Gender': 'a female',\n",
       "  'Mood_from_mva': 'Showing no emotion',\n",
       "  'Count of Syllables': 62,\n",
       "  'Count of filler and pauses': 7,\n",
       "  'Rate of speech - syb per sec': 3.0,\n",
       "  'Speaking time secs w/o pauses': 12.5,\n",
       "  'Duration time secs w pauses': 18.4,\n",
       "  'Ratio speaking to duration': 0.7,\n",
       "  'Fundamental frequency_f0 Hz': 185.29,\n",
       "  'SD Fundamental frequency_f0 Hz': 22.65,\n",
       "  'Median Fundamental frequency_f0 Hz': 182.9,\n",
       "  'Minimum Fundamental frequency_f0 Hz': 80.0,\n",
       "  'Maximum Fundamental frequency_f0 Hz': 254.0,\n",
       "  '25th Quantile Fundamental frequency_f0 Hz': 171.0,\n",
       "  '75th Quantile Fundamental frequency_f0 Hz': 197.0},\n",
       " 'trial_lie_audio_057': {'Pronunciation_posteriori': 100.0,\n",
       "  'Gender': 'a female',\n",
       "  'Mood_from_mva': 'Showing no emotion',\n",
       "  'Count of Syllables': 73,\n",
       "  'Count of filler and pauses': 1,\n",
       "  'Rate of speech - syb per sec': 5.0,\n",
       "  'Speaking time secs w/o pauses': 14.8,\n",
       "  'Duration time secs w pauses': 15.2,\n",
       "  'Ratio speaking to duration': 1.0,\n",
       "  'Fundamental frequency_f0 Hz': 185.3,\n",
       "  'SD Fundamental frequency_f0 Hz': 26.41,\n",
       "  'Median Fundamental frequency_f0 Hz': 187.0,\n",
       "  'Minimum Fundamental frequency_f0 Hz': 85.0,\n",
       "  'Maximum Fundamental frequency_f0 Hz': 283.0,\n",
       "  '25th Quantile Fundamental frequency_f0 Hz': 178.0,\n",
       "  '75th Quantile Fundamental frequency_f0 Hz': 197.0},\n",
       " 'trial_lie_audio_058': {'Pronunciation_posteriori': 84.83,\n",
       "  'Gender': 'a Male',\n",
       "  'Mood_from_mva': 'speaking passionately',\n",
       "  'Count of Syllables': 32,\n",
       "  'Count of filler and pauses': 4,\n",
       "  'Rate of speech - syb per sec': 3.0,\n",
       "  'Speaking time secs w/o pauses': 6.1,\n",
       "  'Duration time secs w pauses': 9.5,\n",
       "  'Ratio speaking to duration': 0.6,\n",
       "  'Fundamental frequency_f0 Hz': 162.59,\n",
       "  'SD Fundamental frequency_f0 Hz': 107.13,\n",
       "  'Median Fundamental frequency_f0 Hz': 103.5,\n",
       "  'Minimum Fundamental frequency_f0 Hz': 82.0,\n",
       "  'Maximum Fundamental frequency_f0 Hz': 402.0,\n",
       "  '25th Quantile Fundamental frequency_f0 Hz': 97.0,\n",
       "  '75th Quantile Fundamental frequency_f0 Hz': 256.0},\n",
       " 'trial_lie_audio_059': {'Pronunciation_posteriori': 100.0,\n",
       "  'Gender': 'a Male',\n",
       "  'Mood_from_mva': 'speaking passionately',\n",
       "  'Count of Syllables': 145,\n",
       "  'Count of filler and pauses': 14,\n",
       "  'Rate of speech - syb per sec': 4.0,\n",
       "  'Speaking time secs w/o pauses': 31.3,\n",
       "  'Duration time secs w pauses': 40.0,\n",
       "  'Ratio speaking to duration': 0.8,\n",
       "  'Fundamental frequency_f0 Hz': 142.65,\n",
       "  'SD Fundamental frequency_f0 Hz': 24.49,\n",
       "  'Median Fundamental frequency_f0 Hz': 135.1,\n",
       "  'Minimum Fundamental frequency_f0 Hz': 81.0,\n",
       "  'Maximum Fundamental frequency_f0 Hz': 364.0,\n",
       "  '25th Quantile Fundamental frequency_f0 Hz': 129.0,\n",
       "  '75th Quantile Fundamental frequency_f0 Hz': 151.0},\n",
       " 'trial_lie_audio_060': {'Pronunciation_posteriori': 95.13,\n",
       "  'Gender': 'a Male',\n",
       "  'Mood_from_mva': 'speaking passionately',\n",
       "  'Count of Syllables': 75,\n",
       "  'Count of filler and pauses': 7,\n",
       "  'Rate of speech - syb per sec': 4.0,\n",
       "  'Speaking time secs w/o pauses': 15.3,\n",
       "  'Duration time secs w pauses': 20.2,\n",
       "  'Ratio speaking to duration': 0.8,\n",
       "  'Fundamental frequency_f0 Hz': 156.53,\n",
       "  'SD Fundamental frequency_f0 Hz': 71.91,\n",
       "  'Median Fundamental frequency_f0 Hz': 131.7,\n",
       "  'Minimum Fundamental frequency_f0 Hz': 79.0,\n",
       "  'Maximum Fundamental frequency_f0 Hz': 413.0,\n",
       "  '25th Quantile Fundamental frequency_f0 Hz': 114.0,\n",
       "  '75th Quantile Fundamental frequency_f0 Hz': 163.0},\n",
       " 'trial_lie_audio_061': {'Pronunciation_posteriori': 100.0,\n",
       "  'Gender': 'a Male',\n",
       "  'Mood_from_mva': 'speaking passionately',\n",
       "  'Count of Syllables': 59,\n",
       "  'Count of filler and pauses': 6,\n",
       "  'Rate of speech - syb per sec': 4.0,\n",
       "  'Speaking time secs w/o pauses': 11.5,\n",
       "  'Duration time secs w pauses': 16.6,\n",
       "  'Ratio speaking to duration': 0.7,\n",
       "  'Fundamental frequency_f0 Hz': 137.51,\n",
       "  'SD Fundamental frequency_f0 Hz': 32.81,\n",
       "  'Median Fundamental frequency_f0 Hz': 127.9,\n",
       "  'Minimum Fundamental frequency_f0 Hz': 75.0,\n",
       "  'Maximum Fundamental frequency_f0 Hz': 376.0,\n",
       "  '25th Quantile Fundamental frequency_f0 Hz': 115.0,\n",
       "  '75th Quantile Fundamental frequency_f0 Hz': 156.0},\n",
       " 'trial_truth_audio_001': {'Pronunciation_posteriori': 94.96,\n",
       "  'Gender': 'a female',\n",
       "  'Mood_from_mva': 'Showing no emotion',\n",
       "  'Count of Syllables': 57,\n",
       "  'Count of filler and pauses': 4,\n",
       "  'Rate of speech - syb per sec': 4.0,\n",
       "  'Speaking time secs w/o pauses': 12.1,\n",
       "  'Duration time secs w pauses': 13.7,\n",
       "  'Ratio speaking to duration': 0.9,\n",
       "  'Fundamental frequency_f0 Hz': 188.13,\n",
       "  'SD Fundamental frequency_f0 Hz': 38.17,\n",
       "  'Median Fundamental frequency_f0 Hz': 181.7,\n",
       "  'Minimum Fundamental frequency_f0 Hz': 73.0,\n",
       "  'Maximum Fundamental frequency_f0 Hz': 361.0,\n",
       "  '25th Quantile Fundamental frequency_f0 Hz': 163.0,\n",
       "  '75th Quantile Fundamental frequency_f0 Hz': 210.0},\n",
       " 'trial_truth_audio_002': {'Pronunciation_posteriori': 100.0,\n",
       "  'Gender': 'a female',\n",
       "  'Mood_from_mva': 'Showing no emotion',\n",
       "  'Count of Syllables': 71,\n",
       "  'Count of filler and pauses': 9,\n",
       "  'Rate of speech - syb per sec': 4.0,\n",
       "  'Speaking time secs w/o pauses': 15.6,\n",
       "  'Duration time secs w pauses': 19.8,\n",
       "  'Ratio speaking to duration': 0.8,\n",
       "  'Fundamental frequency_f0 Hz': 180.89,\n",
       "  'SD Fundamental frequency_f0 Hz': 22.72,\n",
       "  'Median Fundamental frequency_f0 Hz': 182.2,\n",
       "  'Minimum Fundamental frequency_f0 Hz': 73.0,\n",
       "  'Maximum Fundamental frequency_f0 Hz': 239.0,\n",
       "  '25th Quantile Fundamental frequency_f0 Hz': 171.0,\n",
       "  '75th Quantile Fundamental frequency_f0 Hz': 194.0},\n",
       " 'trial_truth_audio_003': {'Pronunciation_posteriori': 6.92,\n",
       "  'Gender': 'a female',\n",
       "  'Mood_from_mva': 'Showing no emotion',\n",
       "  'Count of Syllables': 15,\n",
       "  'Count of filler and pauses': 3,\n",
       "  'Rate of speech - syb per sec': 2.0,\n",
       "  'Speaking time secs w/o pauses': 3.8,\n",
       "  'Duration time secs w pauses': 7.0,\n",
       "  'Ratio speaking to duration': 0.5,\n",
       "  'Fundamental frequency_f0 Hz': 168.62,\n",
       "  'SD Fundamental frequency_f0 Hz': 51.5,\n",
       "  'Median Fundamental frequency_f0 Hz': 192.5,\n",
       "  'Minimum Fundamental frequency_f0 Hz': 88.0,\n",
       "  'Maximum Fundamental frequency_f0 Hz': 254.0,\n",
       "  '25th Quantile Fundamental frequency_f0 Hz': 104.0,\n",
       "  '75th Quantile Fundamental frequency_f0 Hz': 206.0},\n",
       " 'trial_truth_audio_004': {'Pronunciation_posteriori': 90.05,\n",
       "  'Gender': 'a female',\n",
       "  'Mood_from_mva': 'Showing no emotion',\n",
       "  'Count of Syllables': 256,\n",
       "  'Count of filler and pauses': 20,\n",
       "  'Rate of speech - syb per sec': 3.0,\n",
       "  'Speaking time secs w/o pauses': 55.9,\n",
       "  'Duration time secs w pauses': 78.0,\n",
       "  'Ratio speaking to duration': 0.7,\n",
       "  'Fundamental frequency_f0 Hz': 173.56,\n",
       "  'SD Fundamental frequency_f0 Hz': 42.97,\n",
       "  'Median Fundamental frequency_f0 Hz': 188.4,\n",
       "  'Minimum Fundamental frequency_f0 Hz': 80.0,\n",
       "  'Maximum Fundamental frequency_f0 Hz': 266.0,\n",
       "  '25th Quantile Fundamental frequency_f0 Hz': 178.0,\n",
       "  '75th Quantile Fundamental frequency_f0 Hz': 200.0},\n",
       " 'trial_truth_audio_005': {'Pronunciation_posteriori': 100.0,\n",
       "  'Gender': 'a female',\n",
       "  'Mood_from_mva': 'Reading',\n",
       "  'Count of Syllables': 135,\n",
       "  'Count of filler and pauses': 10,\n",
       "  'Rate of speech - syb per sec': 4.0,\n",
       "  'Speaking time secs w/o pauses': 26.3,\n",
       "  'Duration time secs w pauses': 34.8,\n",
       "  'Ratio speaking to duration': 0.8,\n",
       "  'Fundamental frequency_f0 Hz': 199.55,\n",
       "  'SD Fundamental frequency_f0 Hz': 42.58,\n",
       "  'Median Fundamental frequency_f0 Hz': 202.3,\n",
       "  'Minimum Fundamental frequency_f0 Hz': 76.0,\n",
       "  'Maximum Fundamental frequency_f0 Hz': 332.0,\n",
       "  '25th Quantile Fundamental frequency_f0 Hz': 185.0,\n",
       "  '75th Quantile Fundamental frequency_f0 Hz': 223.0},\n",
       " 'trial_truth_audio_006': {'Pronunciation_posteriori': 80.06,\n",
       "  'Gender': 'a female',\n",
       "  'Mood_from_mva': 'Showing no emotion',\n",
       "  'Count of Syllables': 66,\n",
       "  'Count of filler and pauses': 8,\n",
       "  'Rate of speech - syb per sec': 3.0,\n",
       "  'Speaking time secs w/o pauses': 13.1,\n",
       "  'Duration time secs w pauses': 22.9,\n",
       "  'Ratio speaking to duration': 0.6,\n",
       "  'Fundamental frequency_f0 Hz': 177.56,\n",
       "  'SD Fundamental frequency_f0 Hz': 40.67,\n",
       "  'Median Fundamental frequency_f0 Hz': 186.3,\n",
       "  'Minimum Fundamental frequency_f0 Hz': 78.0,\n",
       "  'Maximum Fundamental frequency_f0 Hz': 282.0,\n",
       "  '25th Quantile Fundamental frequency_f0 Hz': 175.0,\n",
       "  '75th Quantile Fundamental frequency_f0 Hz': 197.0},\n",
       " 'trial_truth_audio_007': {'Pronunciation_posteriori': 89.83,\n",
       "  'Gender': 'a female',\n",
       "  'Mood_from_mva': 'Showing no emotion',\n",
       "  'Count of Syllables': 209,\n",
       "  'Count of filler and pauses': 23,\n",
       "  'Rate of speech - syb per sec': 3.0,\n",
       "  'Speaking time secs w/o pauses': 39.0,\n",
       "  'Duration time secs w pauses': 60.7,\n",
       "  'Ratio speaking to duration': 0.6,\n",
       "  'Fundamental frequency_f0 Hz': 182.4,\n",
       "  'SD Fundamental frequency_f0 Hz': 35.92,\n",
       "  'Median Fundamental frequency_f0 Hz': 186.6,\n",
       "  'Minimum Fundamental frequency_f0 Hz': 72.0,\n",
       "  'Maximum Fundamental frequency_f0 Hz': 294.0,\n",
       "  '25th Quantile Fundamental frequency_f0 Hz': 176.0,\n",
       "  '75th Quantile Fundamental frequency_f0 Hz': 200.0},\n",
       " 'trial_truth_audio_008': {'Pronunciation_posteriori': 100.0,\n",
       "  'Gender': 'a Male',\n",
       "  'Mood_from_mva': 'Reading',\n",
       "  'Count of Syllables': 163,\n",
       "  'Count of filler and pauses': 12,\n",
       "  'Rate of speech - syb per sec': 4.0,\n",
       "  'Speaking time secs w/o pauses': 34.2,\n",
       "  'Duration time secs w pauses': 40.3,\n",
       "  'Ratio speaking to duration': 0.9,\n",
       "  'Fundamental frequency_f0 Hz': 117.72,\n",
       "  'SD Fundamental frequency_f0 Hz': 26.02,\n",
       "  'Median Fundamental frequency_f0 Hz': 110.2,\n",
       "  'Minimum Fundamental frequency_f0 Hz': 80.0,\n",
       "  'Maximum Fundamental frequency_f0 Hz': 364.0,\n",
       "  '25th Quantile Fundamental frequency_f0 Hz': 102.0,\n",
       "  '75th Quantile Fundamental frequency_f0 Hz': 124.0},\n",
       " 'trial_truth_audio_009': {'Pronunciation_posteriori': 100.0,\n",
       "  'Gender': 'a Male',\n",
       "  'Mood_from_mva': 'Showing no emotion',\n",
       "  'Count of Syllables': 106,\n",
       "  'Count of filler and pauses': 3,\n",
       "  'Rate of speech - syb per sec': 5.0,\n",
       "  'Speaking time secs w/o pauses': 21.2,\n",
       "  'Duration time secs w pauses': 22.6,\n",
       "  'Ratio speaking to duration': 0.9,\n",
       "  'Fundamental frequency_f0 Hz': 108.79,\n",
       "  'SD Fundamental frequency_f0 Hz': 17.25,\n",
       "  'Median Fundamental frequency_f0 Hz': 103.7,\n",
       "  'Minimum Fundamental frequency_f0 Hz': 76.0,\n",
       "  'Maximum Fundamental frequency_f0 Hz': 285.0,\n",
       "  '25th Quantile Fundamental frequency_f0 Hz': 99.0,\n",
       "  '75th Quantile Fundamental frequency_f0 Hz': 114.0},\n",
       " 'trial_truth_audio_010': {'Pronunciation_posteriori': 95.0,\n",
       "  'Gender': 'a Male',\n",
       "  'Mood_from_mva': 'Showing no emotion',\n",
       "  'Count of Syllables': 133,\n",
       "  'Count of filler and pauses': 11,\n",
       "  'Rate of speech - syb per sec': 4.0,\n",
       "  'Speaking time secs w/o pauses': 30.3,\n",
       "  'Duration time secs w pauses': 37.0,\n",
       "  'Ratio speaking to duration': 0.8,\n",
       "  'Fundamental frequency_f0 Hz': 110.2,\n",
       "  'SD Fundamental frequency_f0 Hz': 17.34,\n",
       "  'Median Fundamental frequency_f0 Hz': 106.8,\n",
       "  'Minimum Fundamental frequency_f0 Hz': 76.0,\n",
       "  'Maximum Fundamental frequency_f0 Hz': 293.0,\n",
       "  '25th Quantile Fundamental frequency_f0 Hz': 100.0,\n",
       "  '75th Quantile Fundamental frequency_f0 Hz': 116.0},\n",
       " 'trial_truth_audio_011': {'Pronunciation_posteriori': 100.0,\n",
       "  'Gender': 'a Male',\n",
       "  'Mood_from_mva': 'Showing no emotion',\n",
       "  'Count of Syllables': 152,\n",
       "  'Count of filler and pauses': 5,\n",
       "  'Rate of speech - syb per sec': 5.0,\n",
       "  'Speaking time secs w/o pauses': 30.4,\n",
       "  'Duration time secs w pauses': 33.4,\n",
       "  'Ratio speaking to duration': 0.9,\n",
       "  'Fundamental frequency_f0 Hz': 109.73,\n",
       "  'SD Fundamental frequency_f0 Hz': 20.32,\n",
       "  'Median Fundamental frequency_f0 Hz': 105.0,\n",
       "  'Minimum Fundamental frequency_f0 Hz': 78.0,\n",
       "  'Maximum Fundamental frequency_f0 Hz': 338.0,\n",
       "  '25th Quantile Fundamental frequency_f0 Hz': 99.0,\n",
       "  '75th Quantile Fundamental frequency_f0 Hz': 113.0},\n",
       " 'trial_truth_audio_012': {'Pronunciation_posteriori': 100.0,\n",
       "  'Gender': 'a Male',\n",
       "  'Mood_from_mva': 'Showing no emotion',\n",
       "  'Count of Syllables': 99,\n",
       "  'Count of filler and pauses': 6,\n",
       "  'Rate of speech - syb per sec': 4.0,\n",
       "  'Speaking time secs w/o pauses': 18.0,\n",
       "  'Duration time secs w pauses': 22.2,\n",
       "  'Ratio speaking to duration': 0.8,\n",
       "  'Fundamental frequency_f0 Hz': 111.65,\n",
       "  'SD Fundamental frequency_f0 Hz': 29.61,\n",
       "  'Median Fundamental frequency_f0 Hz': 106.6,\n",
       "  'Minimum Fundamental frequency_f0 Hz': 80.0,\n",
       "  'Maximum Fundamental frequency_f0 Hz': 295.0,\n",
       "  '25th Quantile Fundamental frequency_f0 Hz': 99.0,\n",
       "  '75th Quantile Fundamental frequency_f0 Hz': 113.0},\n",
       " 'trial_truth_audio_013': {'Pronunciation_posteriori': 90.06,\n",
       "  'Gender': 'a Male',\n",
       "  'Mood_from_mva': 'Reading',\n",
       "  'Count of Syllables': 59,\n",
       "  'Count of filler and pauses': 5,\n",
       "  'Rate of speech - syb per sec': 3.0,\n",
       "  'Speaking time secs w/o pauses': 13.6,\n",
       "  'Duration time secs w pauses': 17.9,\n",
       "  'Ratio speaking to duration': 0.8,\n",
       "  'Fundamental frequency_f0 Hz': 114.08,\n",
       "  'SD Fundamental frequency_f0 Hz': 35.21,\n",
       "  'Median Fundamental frequency_f0 Hz': 103.9,\n",
       "  'Minimum Fundamental frequency_f0 Hz': 80.0,\n",
       "  'Maximum Fundamental frequency_f0 Hz': 292.0,\n",
       "  '25th Quantile Fundamental frequency_f0 Hz': 96.0,\n",
       "  '75th Quantile Fundamental frequency_f0 Hz': 120.0},\n",
       " 'trial_truth_audio_014': {'Pronunciation_posteriori': 90.0,\n",
       "  'Gender': 'a Male',\n",
       "  'Mood_from_mva': 'Showing no emotion',\n",
       "  'Count of Syllables': 43,\n",
       "  'Count of filler and pauses': 2,\n",
       "  'Rate of speech - syb per sec': 3.0,\n",
       "  'Speaking time secs w/o pauses': 9.4,\n",
       "  'Duration time secs w pauses': 12.7,\n",
       "  'Ratio speaking to duration': 0.7,\n",
       "  'Fundamental frequency_f0 Hz': 111.86,\n",
       "  'SD Fundamental frequency_f0 Hz': 28.66,\n",
       "  'Median Fundamental frequency_f0 Hz': 105.1,\n",
       "  'Minimum Fundamental frequency_f0 Hz': 81.0,\n",
       "  'Maximum Fundamental frequency_f0 Hz': 265.0,\n",
       "  '25th Quantile Fundamental frequency_f0 Hz': 99.0,\n",
       "  '75th Quantile Fundamental frequency_f0 Hz': 114.0},\n",
       " 'trial_truth_audio_015': {'Pronunciation_posteriori': 100.0,\n",
       "  'Gender': 'a Male',\n",
       "  'Mood_from_mva': 'Reading',\n",
       "  'Count of Syllables': 117,\n",
       "  'Count of filler and pauses': 10,\n",
       "  'Rate of speech - syb per sec': 4.0,\n",
       "  'Speaking time secs w/o pauses': 24.9,\n",
       "  'Duration time secs w pauses': 33.0,\n",
       "  'Ratio speaking to duration': 0.8,\n",
       "  'Fundamental frequency_f0 Hz': 120.49,\n",
       "  'SD Fundamental frequency_f0 Hz': 25.6,\n",
       "  'Median Fundamental frequency_f0 Hz': 116.5,\n",
       "  'Minimum Fundamental frequency_f0 Hz': 78.0,\n",
       "  'Maximum Fundamental frequency_f0 Hz': 375.0,\n",
       "  '25th Quantile Fundamental frequency_f0 Hz': 109.0,\n",
       "  '75th Quantile Fundamental frequency_f0 Hz': 126.0},\n",
       " 'trial_truth_audio_016': {'Pronunciation_posteriori': 100.0,\n",
       "  'Gender': 'a female',\n",
       "  'Mood_from_mva': 'Reading',\n",
       "  'Count of Syllables': 28,\n",
       "  'Count of filler and pauses': 2,\n",
       "  'Rate of speech - syb per sec': 4.0,\n",
       "  'Speaking time secs w/o pauses': 5.9,\n",
       "  'Duration time secs w pauses': 7.5,\n",
       "  'Ratio speaking to duration': 0.8,\n",
       "  'Fundamental frequency_f0 Hz': 197.81,\n",
       "  'SD Fundamental frequency_f0 Hz': 53.56,\n",
       "  'Median Fundamental frequency_f0 Hz': 193.6,\n",
       "  'Minimum Fundamental frequency_f0 Hz': 87.0,\n",
       "  'Maximum Fundamental frequency_f0 Hz': 318.0,\n",
       "  '25th Quantile Fundamental frequency_f0 Hz': 156.0,\n",
       "  '75th Quantile Fundamental frequency_f0 Hz': 243.0},\n",
       " 'trial_truth_audio_017': {'Pronunciation_posteriori': 80.03,\n",
       "  'Gender': 'a Male',\n",
       "  'Mood_from_mva': 'speaking passionately',\n",
       "  'Count of Syllables': 13,\n",
       "  'Count of filler and pauses': 1,\n",
       "  'Rate of speech - syb per sec': 3.0,\n",
       "  'Speaking time secs w/o pauses': 2.6,\n",
       "  'Duration time secs w pauses': 4.5,\n",
       "  'Ratio speaking to duration': 0.6,\n",
       "  'Fundamental frequency_f0 Hz': 145.07,\n",
       "  'SD Fundamental frequency_f0 Hz': 23.38,\n",
       "  'Median Fundamental frequency_f0 Hz': 142.1,\n",
       "  'Minimum Fundamental frequency_f0 Hz': 90.0,\n",
       "  'Maximum Fundamental frequency_f0 Hz': 212.0,\n",
       "  '25th Quantile Fundamental frequency_f0 Hz': 131.0,\n",
       "  '75th Quantile Fundamental frequency_f0 Hz': 160.0},\n",
       " 'trial_truth_audio_018': {'Pronunciation_posteriori': 60.0,\n",
       "  'Gender': 'a Male',\n",
       "  'Mood_from_mva': 'Showing no emotion',\n",
       "  'Count of Syllables': 16,\n",
       "  'Count of filler and pauses': 2,\n",
       "  'Rate of speech - syb per sec': 2.0,\n",
       "  'Speaking time secs w/o pauses': 4.5,\n",
       "  'Duration time secs w pauses': 7.0,\n",
       "  'Ratio speaking to duration': 0.6,\n",
       "  'Fundamental frequency_f0 Hz': 112.61,\n",
       "  'SD Fundamental frequency_f0 Hz': 16.58,\n",
       "  'Median Fundamental frequency_f0 Hz': 109.5,\n",
       "  'Minimum Fundamental frequency_f0 Hz': 85.0,\n",
       "  'Maximum Fundamental frequency_f0 Hz': 199.0,\n",
       "  '25th Quantile Fundamental frequency_f0 Hz': 104.0,\n",
       "  '75th Quantile Fundamental frequency_f0 Hz': 116.0},\n",
       " 'trial_truth_audio_019': {'Pronunciation_posteriori': 90.04,\n",
       "  'Gender': 'a Male',\n",
       "  'Mood_from_mva': 'Showing no emotion',\n",
       "  'Count of Syllables': 37,\n",
       "  'Count of filler and pauses': 5,\n",
       "  'Rate of speech - syb per sec': 3.0,\n",
       "  'Speaking time secs w/o pauses': 8.2,\n",
       "  'Duration time secs w pauses': 12.7,\n",
       "  'Ratio speaking to duration': 0.6,\n",
       "  'Fundamental frequency_f0 Hz': 100.73,\n",
       "  'SD Fundamental frequency_f0 Hz': 8.65,\n",
       "  'Median Fundamental frequency_f0 Hz': 99.0,\n",
       "  'Minimum Fundamental frequency_f0 Hz': 80.0,\n",
       "  'Maximum Fundamental frequency_f0 Hz': 150.0,\n",
       "  '25th Quantile Fundamental frequency_f0 Hz': 95.0,\n",
       "  '75th Quantile Fundamental frequency_f0 Hz': 104.0},\n",
       " 'trial_truth_audio_020': {'Pronunciation_posteriori': 85.05,\n",
       "  'Gender': 'a Male',\n",
       "  'Mood_from_mva': 'Showing no emotion',\n",
       "  'Count of Syllables': 20,\n",
       "  'Count of filler and pauses': 1,\n",
       "  'Rate of speech - syb per sec': 3.0,\n",
       "  'Speaking time secs w/o pauses': 5.6,\n",
       "  'Duration time secs w pauses': 6.0,\n",
       "  'Ratio speaking to duration': 0.9,\n",
       "  'Fundamental frequency_f0 Hz': 100.31,\n",
       "  'SD Fundamental frequency_f0 Hz': 8.72,\n",
       "  'Median Fundamental frequency_f0 Hz': 97.9,\n",
       "  'Minimum Fundamental frequency_f0 Hz': 81.0,\n",
       "  'Maximum Fundamental frequency_f0 Hz': 144.0,\n",
       "  '25th Quantile Fundamental frequency_f0 Hz': 94.0,\n",
       "  '75th Quantile Fundamental frequency_f0 Hz': 105.0},\n",
       " 'trial_truth_audio_021': {'Pronunciation_posteriori': 6.95,\n",
       "  'Gender': 'a Male',\n",
       "  'Mood_from_mva': 'Reading',\n",
       "  'Count of Syllables': 24,\n",
       "  'Count of filler and pauses': 6,\n",
       "  'Rate of speech - syb per sec': 2.0,\n",
       "  'Speaking time secs w/o pauses': 6.1,\n",
       "  'Duration time secs w pauses': 10.9,\n",
       "  'Ratio speaking to duration': 0.6,\n",
       "  'Fundamental frequency_f0 Hz': 118.31,\n",
       "  'SD Fundamental frequency_f0 Hz': 46.1,\n",
       "  'Median Fundamental frequency_f0 Hz': 106.8,\n",
       "  'Minimum Fundamental frequency_f0 Hz': 79.0,\n",
       "  'Maximum Fundamental frequency_f0 Hz': 357.0,\n",
       "  '25th Quantile Fundamental frequency_f0 Hz': 98.0,\n",
       "  '75th Quantile Fundamental frequency_f0 Hz': 120.0},\n",
       " 'trial_truth_audio_022': {'Pronunciation_posteriori': 90.17,\n",
       "  'Gender': 'a Male',\n",
       "  'Mood_from_mva': 'Showing no emotion',\n",
       "  'Count of Syllables': 83,\n",
       "  'Count of filler and pauses': 9,\n",
       "  'Rate of speech - syb per sec': 3.0,\n",
       "  'Speaking time secs w/o pauses': 20.8,\n",
       "  'Duration time secs w pauses': 28.5,\n",
       "  'Ratio speaking to duration': 0.7,\n",
       "  'Fundamental frequency_f0 Hz': 106.51,\n",
       "  'SD Fundamental frequency_f0 Hz': 55.59,\n",
       "  'Median Fundamental frequency_f0 Hz': 88.3,\n",
       "  'Minimum Fundamental frequency_f0 Hz': 74.0,\n",
       "  'Maximum Fundamental frequency_f0 Hz': 395.0,\n",
       "  '25th Quantile Fundamental frequency_f0 Hz': 84.0,\n",
       "  '75th Quantile Fundamental frequency_f0 Hz': 99.0},\n",
       " 'trial_truth_audio_023': {'Pronunciation_posteriori': 100.0,\n",
       "  'Gender': 'a Male',\n",
       "  'Mood_from_mva': 'speaking passionately',\n",
       "  'Count of Syllables': 85,\n",
       "  'Count of filler and pauses': 6,\n",
       "  'Rate of speech - syb per sec': 4.0,\n",
       "  'Speaking time secs w/o pauses': 19.2,\n",
       "  'Duration time secs w pauses': 22.6,\n",
       "  'Ratio speaking to duration': 0.9,\n",
       "  'Fundamental frequency_f0 Hz': 161.82,\n",
       "  'SD Fundamental frequency_f0 Hz': 18.88,\n",
       "  'Median Fundamental frequency_f0 Hz': 162.3,\n",
       "  'Minimum Fundamental frequency_f0 Hz': 97.0,\n",
       "  'Maximum Fundamental frequency_f0 Hz': 227.0,\n",
       "  '25th Quantile Fundamental frequency_f0 Hz': 150.0,\n",
       "  '75th Quantile Fundamental frequency_f0 Hz': 173.0},\n",
       " 'trial_truth_audio_024': {'Pronunciation_posteriori': 89.97,\n",
       "  'Gender': 'Voice not recognized',\n",
       "  'Mood_from_mva': '',\n",
       "  'Count of Syllables': 74,\n",
       "  'Count of filler and pauses': 6,\n",
       "  'Rate of speech - syb per sec': 3.0,\n",
       "  'Speaking time secs w/o pauses': 16.2,\n",
       "  'Duration time secs w pauses': 22.4,\n",
       "  'Ratio speaking to duration': 0.7,\n",
       "  'Fundamental frequency_f0 Hz': 88.83,\n",
       "  'SD Fundamental frequency_f0 Hz': 15.86,\n",
       "  'Median Fundamental frequency_f0 Hz': 84.4,\n",
       "  'Minimum Fundamental frequency_f0 Hz': 72.0,\n",
       "  'Maximum Fundamental frequency_f0 Hz': 181.0,\n",
       "  '25th Quantile Fundamental frequency_f0 Hz': 82.0,\n",
       "  '75th Quantile Fundamental frequency_f0 Hz': 90.0},\n",
       " 'trial_truth_audio_025': {'Pronunciation_posteriori': 80.08,\n",
       "  'Gender': 'Voice not recognized',\n",
       "  'Mood_from_mva': '',\n",
       "  'Count of Syllables': 67,\n",
       "  'Count of filler and pauses': 11,\n",
       "  'Rate of speech - syb per sec': 3.0,\n",
       "  'Speaking time secs w/o pauses': 13.6,\n",
       "  'Duration time secs w pauses': 25.2,\n",
       "  'Ratio speaking to duration': 0.5,\n",
       "  'Fundamental frequency_f0 Hz': 93.88,\n",
       "  'SD Fundamental frequency_f0 Hz': 11.32,\n",
       "  'Median Fundamental frequency_f0 Hz': 91.2,\n",
       "  'Minimum Fundamental frequency_f0 Hz': 80.0,\n",
       "  'Maximum Fundamental frequency_f0 Hz': 189.0,\n",
       "  '25th Quantile Fundamental frequency_f0 Hz': 86.0,\n",
       "  '75th Quantile Fundamental frequency_f0 Hz': 99.0},\n",
       " 'trial_truth_audio_026': {'Pronunciation_posteriori': 79.98,\n",
       "  'Gender': 'a Male',\n",
       "  'Mood_from_mva': 'speaking passionately',\n",
       "  'Count of Syllables': 178,\n",
       "  'Count of filler and pauses': 24,\n",
       "  'Rate of speech - syb per sec': 3.0,\n",
       "  'Speaking time secs w/o pauses': 44.0,\n",
       "  'Duration time secs w pauses': 64.1,\n",
       "  'Ratio speaking to duration': 0.7,\n",
       "  'Fundamental frequency_f0 Hz': 162.57,\n",
       "  'SD Fundamental frequency_f0 Hz': 26.73,\n",
       "  'Median Fundamental frequency_f0 Hz': 161.3,\n",
       "  'Minimum Fundamental frequency_f0 Hz': 80.0,\n",
       "  'Maximum Fundamental frequency_f0 Hz': 362.0,\n",
       "  '25th Quantile Fundamental frequency_f0 Hz': 152.0,\n",
       "  '75th Quantile Fundamental frequency_f0 Hz': 172.0},\n",
       " 'trial_truth_audio_027': {'Pronunciation_posteriori': 90.02,\n",
       "  'Gender': 'a female',\n",
       "  'Mood_from_mva': 'Showing no emotion',\n",
       "  'Count of Syllables': 83,\n",
       "  'Count of filler and pauses': 6,\n",
       "  'Rate of speech - syb per sec': 3.0,\n",
       "  'Speaking time secs w/o pauses': 19.5,\n",
       "  'Duration time secs w pauses': 24.2,\n",
       "  'Ratio speaking to duration': 0.8,\n",
       "  'Fundamental frequency_f0 Hz': 174.13,\n",
       "  'SD Fundamental frequency_f0 Hz': 43.2,\n",
       "  'Median Fundamental frequency_f0 Hz': 185.0,\n",
       "  'Minimum Fundamental frequency_f0 Hz': 75.0,\n",
       "  'Maximum Fundamental frequency_f0 Hz': 352.0,\n",
       "  '25th Quantile Fundamental frequency_f0 Hz': 175.0,\n",
       "  '75th Quantile Fundamental frequency_f0 Hz': 194.0},\n",
       " 'trial_truth_audio_028': {'Pronunciation_posteriori': 90.01,\n",
       "  'Gender': 'a Male',\n",
       "  'Mood_from_mva': 'Reading',\n",
       "  'Count of Syllables': 55,\n",
       "  'Count of filler and pauses': 6,\n",
       "  'Rate of speech - syb per sec': 3.0,\n",
       "  'Speaking time secs w/o pauses': 11.1,\n",
       "  'Duration time secs w pauses': 18.0,\n",
       "  'Ratio speaking to duration': 0.6,\n",
       "  'Fundamental frequency_f0 Hz': 115.3,\n",
       "  'SD Fundamental frequency_f0 Hz': 51.09,\n",
       "  'Median Fundamental frequency_f0 Hz': 103.1,\n",
       "  'Minimum Fundamental frequency_f0 Hz': 82.0,\n",
       "  'Maximum Fundamental frequency_f0 Hz': 398.0,\n",
       "  '25th Quantile Fundamental frequency_f0 Hz': 97.0,\n",
       "  '75th Quantile Fundamental frequency_f0 Hz': 111.0},\n",
       " 'trial_truth_audio_029': {'Pronunciation_posteriori': 100.0,\n",
       "  'Gender': 'a female',\n",
       "  'Mood_from_mva': 'Showing no emotion',\n",
       "  'Count of Syllables': 65,\n",
       "  'Count of filler and pauses': 4,\n",
       "  'Rate of speech - syb per sec': 4.0,\n",
       "  'Speaking time secs w/o pauses': 13.3,\n",
       "  'Duration time secs w pauses': 16.3,\n",
       "  'Ratio speaking to duration': 0.8,\n",
       "  'Fundamental frequency_f0 Hz': 167.68,\n",
       "  'SD Fundamental frequency_f0 Hz': 27.96,\n",
       "  'Median Fundamental frequency_f0 Hz': 174.5,\n",
       "  'Minimum Fundamental frequency_f0 Hz': 71.0,\n",
       "  'Maximum Fundamental frequency_f0 Hz': 261.0,\n",
       "  '25th Quantile Fundamental frequency_f0 Hz': 165.0,\n",
       "  '75th Quantile Fundamental frequency_f0 Hz': 182.0},\n",
       " 'trial_truth_audio_030': {'Pronunciation_posteriori': 90.0,\n",
       "  'Gender': 'a Male',\n",
       "  'Mood_from_mva': 'Showing no emotion',\n",
       "  'Count of Syllables': 173,\n",
       "  'Count of filler and pauses': 13,\n",
       "  'Rate of speech - syb per sec': 3.0,\n",
       "  'Speaking time secs w/o pauses': 47.1,\n",
       "  'Duration time secs w pauses': 54.6,\n",
       "  'Ratio speaking to duration': 0.9,\n",
       "  'Fundamental frequency_f0 Hz': 99.87,\n",
       "  'SD Fundamental frequency_f0 Hz': 17.03,\n",
       "  'Median Fundamental frequency_f0 Hz': 95.6,\n",
       "  'Minimum Fundamental frequency_f0 Hz': 80.0,\n",
       "  'Maximum Fundamental frequency_f0 Hz': 237.0,\n",
       "  '25th Quantile Fundamental frequency_f0 Hz': 91.0,\n",
       "  '75th Quantile Fundamental frequency_f0 Hz': 105.0},\n",
       " 'trial_truth_audio_031': {'Pronunciation_posteriori': 100.0,\n",
       "  'Gender': 'a female',\n",
       "  'Mood_from_mva': 'Showing no emotion',\n",
       "  'Count of Syllables': 66,\n",
       "  'Count of filler and pauses': 2,\n",
       "  'Rate of speech - syb per sec': 4.0,\n",
       "  'Speaking time secs w/o pauses': 14.5,\n",
       "  'Duration time secs w pauses': 16.3,\n",
       "  'Ratio speaking to duration': 0.9,\n",
       "  'Fundamental frequency_f0 Hz': 166.61,\n",
       "  'SD Fundamental frequency_f0 Hz': 34.47,\n",
       "  'Median Fundamental frequency_f0 Hz': 172.8,\n",
       "  'Minimum Fundamental frequency_f0 Hz': 75.0,\n",
       "  'Maximum Fundamental frequency_f0 Hz': 270.0,\n",
       "  '25th Quantile Fundamental frequency_f0 Hz': 163.0,\n",
       "  '75th Quantile Fundamental frequency_f0 Hz': 182.0},\n",
       " 'trial_truth_audio_032': {'Pronunciation_posteriori': 100.0,\n",
       "  'Gender': 'a Male',\n",
       "  'Mood_from_mva': 'Showing no emotion',\n",
       "  'Count of Syllables': 96,\n",
       "  'Count of filler and pauses': 3,\n",
       "  'Rate of speech - syb per sec': 4.0,\n",
       "  'Speaking time secs w/o pauses': 26.0,\n",
       "  'Duration time secs w pauses': 27.1,\n",
       "  'Ratio speaking to duration': 1.0,\n",
       "  'Fundamental frequency_f0 Hz': 101.25,\n",
       "  'SD Fundamental frequency_f0 Hz': 27.36,\n",
       "  'Median Fundamental frequency_f0 Hz': 95.0,\n",
       "  'Minimum Fundamental frequency_f0 Hz': 79.0,\n",
       "  'Maximum Fundamental frequency_f0 Hz': 397.0,\n",
       "  '25th Quantile Fundamental frequency_f0 Hz': 91.0,\n",
       "  '75th Quantile Fundamental frequency_f0 Hz': 102.0},\n",
       " 'trial_truth_audio_033': {'Pronunciation_posteriori': 100.0,\n",
       "  'Gender': 'a Male',\n",
       "  'Mood_from_mva': 'speaking passionately',\n",
       "  'Count of Syllables': 53,\n",
       "  'Count of filler and pauses': 1,\n",
       "  'Rate of speech - syb per sec': 4.0,\n",
       "  'Speaking time secs w/o pauses': 12.1,\n",
       "  'Duration time secs w pauses': 12.5,\n",
       "  'Ratio speaking to duration': 1.0,\n",
       "  'Fundamental frequency_f0 Hz': 158.08,\n",
       "  'SD Fundamental frequency_f0 Hz': 42.53,\n",
       "  'Median Fundamental frequency_f0 Hz': 167.0,\n",
       "  'Minimum Fundamental frequency_f0 Hz': 80.0,\n",
       "  'Maximum Fundamental frequency_f0 Hz': 400.0,\n",
       "  '25th Quantile Fundamental frequency_f0 Hz': 153.0,\n",
       "  '75th Quantile Fundamental frequency_f0 Hz': 176.0},\n",
       " 'trial_truth_audio_034': {'Pronunciation_posteriori': 90.01,\n",
       "  'Gender': 'a Male',\n",
       "  'Mood_from_mva': 'speaking passionately',\n",
       "  'Count of Syllables': 91,\n",
       "  'Count of filler and pauses': 1,\n",
       "  'Rate of speech - syb per sec': 3.0,\n",
       "  'Speaking time secs w/o pauses': 30.2,\n",
       "  'Duration time secs w pauses': 31.0,\n",
       "  'Ratio speaking to duration': 1.0,\n",
       "  'Fundamental frequency_f0 Hz': 154.87,\n",
       "  'SD Fundamental frequency_f0 Hz': 32.09,\n",
       "  'Median Fundamental frequency_f0 Hz': 165.2,\n",
       "  'Minimum Fundamental frequency_f0 Hz': 72.0,\n",
       "  'Maximum Fundamental frequency_f0 Hz': 392.0,\n",
       "  '25th Quantile Fundamental frequency_f0 Hz': 146.0,\n",
       "  '75th Quantile Fundamental frequency_f0 Hz': 172.0},\n",
       " 'trial_truth_audio_035': {'Pronunciation_posteriori': 80.25,\n",
       "  'Gender': 'Voice not recognized',\n",
       "  'Mood_from_mva': '',\n",
       "  'Count of Syllables': 55,\n",
       "  'Count of filler and pauses': 4,\n",
       "  'Rate of speech - syb per sec': 3.0,\n",
       "  'Speaking time secs w/o pauses': 14.8,\n",
       "  'Duration time secs w pauses': 20.5,\n",
       "  'Ratio speaking to duration': 0.7,\n",
       "  'Fundamental frequency_f0 Hz': 87.8,\n",
       "  'SD Fundamental frequency_f0 Hz': 6.61,\n",
       "  'Median Fundamental frequency_f0 Hz': 86.3,\n",
       "  'Minimum Fundamental frequency_f0 Hz': 80.0,\n",
       "  'Maximum Fundamental frequency_f0 Hz': 112.0,\n",
       "  '25th Quantile Fundamental frequency_f0 Hz': 83.0,\n",
       "  '75th Quantile Fundamental frequency_f0 Hz': 90.0},\n",
       " 'trial_truth_audio_036': {'Pronunciation_posteriori': 90.01,\n",
       "  'Gender': 'Voice not recognized',\n",
       "  'Mood_from_mva': '',\n",
       "  'Count of Syllables': 110,\n",
       "  'Count of filler and pauses': 12,\n",
       "  'Rate of speech - syb per sec': 3.0,\n",
       "  'Speaking time secs w/o pauses': 26.0,\n",
       "  'Duration time secs w pauses': 34.3,\n",
       "  'Ratio speaking to duration': 0.8,\n",
       "  'Fundamental frequency_f0 Hz': 90.04,\n",
       "  'SD Fundamental frequency_f0 Hz': 34.64,\n",
       "  'Median Fundamental frequency_f0 Hz': 84.5,\n",
       "  'Minimum Fundamental frequency_f0 Hz': 79.0,\n",
       "  'Maximum Fundamental frequency_f0 Hz': 386.0,\n",
       "  '25th Quantile Fundamental frequency_f0 Hz': 82.0,\n",
       "  '75th Quantile Fundamental frequency_f0 Hz': 89.0},\n",
       " 'trial_truth_audio_037': {'Pronunciation_posteriori': 94.91,\n",
       "  'Gender': 'a Male',\n",
       "  'Mood_from_mva': 'speaking passionately',\n",
       "  'Count of Syllables': 67,\n",
       "  'Count of filler and pauses': 4,\n",
       "  'Rate of speech - syb per sec': 3.0,\n",
       "  'Speaking time secs w/o pauses': 15.3,\n",
       "  'Duration time secs w pauses': 19.2,\n",
       "  'Ratio speaking to duration': 0.8,\n",
       "  'Fundamental frequency_f0 Hz': 155.37,\n",
       "  'SD Fundamental frequency_f0 Hz': 26.28,\n",
       "  'Median Fundamental frequency_f0 Hz': 152.5,\n",
       "  'Minimum Fundamental frequency_f0 Hz': 75.0,\n",
       "  'Maximum Fundamental frequency_f0 Hz': 307.0,\n",
       "  '25th Quantile Fundamental frequency_f0 Hz': 145.0,\n",
       "  '75th Quantile Fundamental frequency_f0 Hz': 160.0},\n",
       " 'trial_truth_audio_038': {'Pronunciation_posteriori': 80.1,\n",
       "  'Gender': 'a Male',\n",
       "  'Mood_from_mva': 'Showing no emotion',\n",
       "  'Count of Syllables': 41,\n",
       "  'Count of filler and pauses': 3,\n",
       "  'Rate of speech - syb per sec': 3.0,\n",
       "  'Speaking time secs w/o pauses': 10.8,\n",
       "  'Duration time secs w pauses': 14.8,\n",
       "  'Ratio speaking to duration': 0.7,\n",
       "  'Fundamental frequency_f0 Hz': 109.07,\n",
       "  'SD Fundamental frequency_f0 Hz': 41.35,\n",
       "  'Median Fundamental frequency_f0 Hz': 101.0,\n",
       "  'Minimum Fundamental frequency_f0 Hz': 82.0,\n",
       "  'Maximum Fundamental frequency_f0 Hz': 396.0,\n",
       "  '25th Quantile Fundamental frequency_f0 Hz': 96.0,\n",
       "  '75th Quantile Fundamental frequency_f0 Hz': 108.0},\n",
       " 'trial_truth_audio_039': {'Pronunciation_posteriori': 90.03,\n",
       "  'Gender': 'a female',\n",
       "  'Mood_from_mva': 'Showing no emotion',\n",
       "  'Count of Syllables': 107,\n",
       "  'Count of filler and pauses': 12,\n",
       "  'Rate of speech - syb per sec': 3.0,\n",
       "  'Speaking time secs w/o pauses': 21.5,\n",
       "  'Duration time secs w pauses': 32.0,\n",
       "  'Ratio speaking to duration': 0.7,\n",
       "  'Fundamental frequency_f0 Hz': 185.43,\n",
       "  'SD Fundamental frequency_f0 Hz': 18.73,\n",
       "  'Median Fundamental frequency_f0 Hz': 185.0,\n",
       "  'Minimum Fundamental frequency_f0 Hz': 80.0,\n",
       "  'Maximum Fundamental frequency_f0 Hz': 255.0,\n",
       "  '25th Quantile Fundamental frequency_f0 Hz': 175.0,\n",
       "  '75th Quantile Fundamental frequency_f0 Hz': 196.0},\n",
       " 'trial_truth_audio_040': {'Pronunciation_posteriori': 50.06,\n",
       "  'Gender': 'a female',\n",
       "  'Mood_from_mva': 'Showing no emotion',\n",
       "  'Count of Syllables': 49,\n",
       "  'Count of filler and pauses': 7,\n",
       "  'Rate of speech - syb per sec': 2.0,\n",
       "  'Speaking time secs w/o pauses': 7.8,\n",
       "  'Duration time secs w pauses': 27.5,\n",
       "  'Ratio speaking to duration': 0.3,\n",
       "  'Fundamental frequency_f0 Hz': 170.7,\n",
       "  'SD Fundamental frequency_f0 Hz': 68.97,\n",
       "  'Median Fundamental frequency_f0 Hz': 133.1,\n",
       "  'Minimum Fundamental frequency_f0 Hz': 70.0,\n",
       "  'Maximum Fundamental frequency_f0 Hz': 390.0,\n",
       "  '25th Quantile Fundamental frequency_f0 Hz': 117.0,\n",
       "  '75th Quantile Fundamental frequency_f0 Hz': 248.0},\n",
       " 'trial_truth_audio_041': {'Pronunciation_posteriori': 100.0,\n",
       "  'Gender': 'a Male',\n",
       "  'Mood_from_mva': 'Showing no emotion',\n",
       "  'Count of Syllables': 130,\n",
       "  'Count of filler and pauses': 9,\n",
       "  'Rate of speech - syb per sec': 4.0,\n",
       "  'Speaking time secs w/o pauses': 26.9,\n",
       "  'Duration time secs w pauses': 33.2,\n",
       "  'Ratio speaking to duration': 0.8,\n",
       "  'Fundamental frequency_f0 Hz': 110.65,\n",
       "  'SD Fundamental frequency_f0 Hz': 27.83,\n",
       "  'Median Fundamental frequency_f0 Hz': 103.9,\n",
       "  'Minimum Fundamental frequency_f0 Hz': 73.0,\n",
       "  'Maximum Fundamental frequency_f0 Hz': 240.0,\n",
       "  '25th Quantile Fundamental frequency_f0 Hz': 97.0,\n",
       "  '75th Quantile Fundamental frequency_f0 Hz': 113.0},\n",
       " 'trial_truth_audio_042': {'Pronunciation_posteriori': 90.09,\n",
       "  'Gender': 'a Male',\n",
       "  'Mood_from_mva': 'Showing no emotion',\n",
       "  'Count of Syllables': 80,\n",
       "  'Count of filler and pauses': 10,\n",
       "  'Rate of speech - syb per sec': 3.0,\n",
       "  'Speaking time secs w/o pauses': 17.0,\n",
       "  'Duration time secs w pauses': 24.7,\n",
       "  'Ratio speaking to duration': 0.7,\n",
       "  'Fundamental frequency_f0 Hz': 107.39,\n",
       "  'SD Fundamental frequency_f0 Hz': 38.68,\n",
       "  'Median Fundamental frequency_f0 Hz': 97.9,\n",
       "  'Minimum Fundamental frequency_f0 Hz': 72.0,\n",
       "  'Maximum Fundamental frequency_f0 Hz': 393.0,\n",
       "  '25th Quantile Fundamental frequency_f0 Hz': 90.0,\n",
       "  '75th Quantile Fundamental frequency_f0 Hz': 106.0},\n",
       " 'trial_truth_audio_043': {'Pronunciation_posteriori': 94.94,\n",
       "  'Gender': 'Voice not recognized',\n",
       "  'Mood_from_mva': '',\n",
       "  'Count of Syllables': 83,\n",
       "  'Count of filler and pauses': 8,\n",
       "  'Rate of speech - syb per sec': 4.0,\n",
       "  'Speaking time secs w/o pauses': 16.7,\n",
       "  'Duration time secs w pauses': 22.0,\n",
       "  'Ratio speaking to duration': 0.8,\n",
       "  'Fundamental frequency_f0 Hz': 95.62,\n",
       "  'SD Fundamental frequency_f0 Hz': 23.11,\n",
       "  'Median Fundamental frequency_f0 Hz': 88.8,\n",
       "  'Minimum Fundamental frequency_f0 Hz': 72.0,\n",
       "  'Maximum Fundamental frequency_f0 Hz': 199.0,\n",
       "  '25th Quantile Fundamental frequency_f0 Hz': 85.0,\n",
       "  '75th Quantile Fundamental frequency_f0 Hz': 95.0},\n",
       " 'trial_truth_audio_044': {'Pronunciation_posteriori': 80.05,\n",
       "  'Gender': 'a Male',\n",
       "  'Mood_from_mva': 'Reading',\n",
       "  'Count of Syllables': 49,\n",
       "  'Count of filler and pauses': 4,\n",
       "  'Rate of speech - syb per sec': 3.0,\n",
       "  'Speaking time secs w/o pauses': 15.4,\n",
       "  'Duration time secs w pauses': 19.6,\n",
       "  'Ratio speaking to duration': 0.8,\n",
       "  'Fundamental frequency_f0 Hz': 133.64,\n",
       "  'SD Fundamental frequency_f0 Hz': 24.9,\n",
       "  'Median Fundamental frequency_f0 Hz': 129.7,\n",
       "  'Minimum Fundamental frequency_f0 Hz': 97.0,\n",
       "  'Maximum Fundamental frequency_f0 Hz': 387.0,\n",
       "  '25th Quantile Fundamental frequency_f0 Hz': 120.0,\n",
       "  '75th Quantile Fundamental frequency_f0 Hz': 140.0},\n",
       " 'trial_truth_audio_045': {'Pronunciation_posteriori': 100.0,\n",
       "  'Gender': 'a female',\n",
       "  'Mood_from_mva': 'Showing no emotion',\n",
       "  'Count of Syllables': 115,\n",
       "  'Count of filler and pauses': 9,\n",
       "  'Rate of speech - syb per sec': 3.0,\n",
       "  'Speaking time secs w/o pauses': 28.0,\n",
       "  'Duration time secs w pauses': 33.0,\n",
       "  'Ratio speaking to duration': 0.8,\n",
       "  'Fundamental frequency_f0 Hz': 173.76,\n",
       "  'SD Fundamental frequency_f0 Hz': 31.0,\n",
       "  'Median Fundamental frequency_f0 Hz': 171.4,\n",
       "  'Minimum Fundamental frequency_f0 Hz': 80.0,\n",
       "  'Maximum Fundamental frequency_f0 Hz': 389.0,\n",
       "  '25th Quantile Fundamental frequency_f0 Hz': 159.0,\n",
       "  '75th Quantile Fundamental frequency_f0 Hz': 185.0},\n",
       " 'trial_truth_audio_046': {'Pronunciation_posteriori': 79.79,\n",
       "  'Gender': 'a Male',\n",
       "  'Mood_from_mva': 'Reading',\n",
       "  'Count of Syllables': 90,\n",
       "  'Count of filler and pauses': 10,\n",
       "  'Rate of speech - syb per sec': 2.0,\n",
       "  'Speaking time secs w/o pauses': 28.8,\n",
       "  'Duration time secs w pauses': 37.0,\n",
       "  'Ratio speaking to duration': 0.8,\n",
       "  'Fundamental frequency_f0 Hz': 118.1,\n",
       "  'SD Fundamental frequency_f0 Hz': 21.96,\n",
       "  'Median Fundamental frequency_f0 Hz': 113.9,\n",
       "  'Minimum Fundamental frequency_f0 Hz': 80.0,\n",
       "  'Maximum Fundamental frequency_f0 Hz': 397.0,\n",
       "  '25th Quantile Fundamental frequency_f0 Hz': 107.0,\n",
       "  '75th Quantile Fundamental frequency_f0 Hz': 123.0},\n",
       " 'trial_truth_audio_047': {'Pronunciation_posteriori': 100.0,\n",
       "  'Gender': 'Voice not recognized',\n",
       "  'Mood_from_mva': '',\n",
       "  'Count of Syllables': 104,\n",
       "  'Count of filler and pauses': 5,\n",
       "  'Rate of speech - syb per sec': 4.0,\n",
       "  'Speaking time secs w/o pauses': 22.5,\n",
       "  'Duration time secs w pauses': 26.0,\n",
       "  'Ratio speaking to duration': 0.9,\n",
       "  'Fundamental frequency_f0 Hz': 96.0,\n",
       "  'SD Fundamental frequency_f0 Hz': 12.11,\n",
       "  'Median Fundamental frequency_f0 Hz': 93.1,\n",
       "  'Minimum Fundamental frequency_f0 Hz': 80.0,\n",
       "  'Maximum Fundamental frequency_f0 Hz': 164.0,\n",
       "  '25th Quantile Fundamental frequency_f0 Hz': 89.0,\n",
       "  '75th Quantile Fundamental frequency_f0 Hz': 99.0},\n",
       " 'trial_truth_audio_048': {'Pronunciation_posteriori': 89.9,\n",
       "  'Gender': 'a Male',\n",
       "  'Mood_from_mva': 'Showing no emotion',\n",
       "  'Count of Syllables': 64,\n",
       "  'Count of filler and pauses': 9,\n",
       "  'Rate of speech - syb per sec': 3.0,\n",
       "  'Speaking time secs w/o pauses': 15.0,\n",
       "  'Duration time secs w pauses': 21.0,\n",
       "  'Ratio speaking to duration': 0.7,\n",
       "  'Fundamental frequency_f0 Hz': 105.19,\n",
       "  'SD Fundamental frequency_f0 Hz': 8.24,\n",
       "  'Median Fundamental frequency_f0 Hz': 105.0,\n",
       "  'Minimum Fundamental frequency_f0 Hz': 80.0,\n",
       "  'Maximum Fundamental frequency_f0 Hz': 152.0,\n",
       "  '25th Quantile Fundamental frequency_f0 Hz': 100.0,\n",
       "  '75th Quantile Fundamental frequency_f0 Hz': 109.0},\n",
       " 'trial_truth_audio_049': {'Pronunciation_posteriori': 90.15,\n",
       "  'Gender': 'a Male',\n",
       "  'Mood_from_mva': 'Reading',\n",
       "  'Count of Syllables': 86,\n",
       "  'Count of filler and pauses': 9,\n",
       "  'Rate of speech - syb per sec': 3.0,\n",
       "  'Speaking time secs w/o pauses': 20.3,\n",
       "  'Duration time secs w pauses': 27.5,\n",
       "  'Ratio speaking to duration': 0.7,\n",
       "  'Fundamental frequency_f0 Hz': 114.76,\n",
       "  'SD Fundamental frequency_f0 Hz': 35.85,\n",
       "  'Median Fundamental frequency_f0 Hz': 106.2,\n",
       "  'Minimum Fundamental frequency_f0 Hz': 80.0,\n",
       "  'Maximum Fundamental frequency_f0 Hz': 399.0,\n",
       "  '25th Quantile Fundamental frequency_f0 Hz': 101.0,\n",
       "  '75th Quantile Fundamental frequency_f0 Hz': 115.0},\n",
       " 'trial_truth_audio_050': {'Pronunciation_posteriori': 84.91,\n",
       "  'Gender': 'a Male',\n",
       "  'Mood_from_mva': 'Showing no emotion',\n",
       "  'Count of Syllables': 78,\n",
       "  'Count of filler and pauses': 6,\n",
       "  'Rate of speech - syb per sec': 3.0,\n",
       "  'Speaking time secs w/o pauses': 17.9,\n",
       "  'Duration time secs w pauses': 23.0,\n",
       "  'Ratio speaking to duration': 0.8,\n",
       "  'Fundamental frequency_f0 Hz': 99.97,\n",
       "  'SD Fundamental frequency_f0 Hz': 17.36,\n",
       "  'Median Fundamental frequency_f0 Hz': 97.0,\n",
       "  'Minimum Fundamental frequency_f0 Hz': 75.0,\n",
       "  'Maximum Fundamental frequency_f0 Hz': 193.0,\n",
       "  '25th Quantile Fundamental frequency_f0 Hz': 90.0,\n",
       "  '75th Quantile Fundamental frequency_f0 Hz': 103.0},\n",
       " 'trial_truth_audio_051': {'Pronunciation_posteriori': 94.89,\n",
       "  'Gender': 'a female',\n",
       "  'Mood_from_mva': 'Showing no emotion',\n",
       "  'Count of Syllables': 114,\n",
       "  'Count of filler and pauses': 7,\n",
       "  'Rate of speech - syb per sec': 4.0,\n",
       "  'Speaking time secs w/o pauses': 24.0,\n",
       "  'Duration time secs w pauses': 29.0,\n",
       "  'Ratio speaking to duration': 0.8,\n",
       "  'Fundamental frequency_f0 Hz': 179.88,\n",
       "  'SD Fundamental frequency_f0 Hz': 68.21,\n",
       "  'Median Fundamental frequency_f0 Hz': 207.0,\n",
       "  'Minimum Fundamental frequency_f0 Hz': 78.0,\n",
       "  'Maximum Fundamental frequency_f0 Hz': 374.0,\n",
       "  '25th Quantile Fundamental frequency_f0 Hz': 108.0,\n",
       "  '75th Quantile Fundamental frequency_f0 Hz': 228.0},\n",
       " 'trial_truth_audio_052': {'Pronunciation_posteriori': 100.0,\n",
       "  'Gender': 'a female',\n",
       "  'Mood_from_mva': 'Reading',\n",
       "  'Count of Syllables': 114,\n",
       "  'Count of filler and pauses': 5,\n",
       "  'Rate of speech - syb per sec': 4.0,\n",
       "  'Speaking time secs w/o pauses': 26.8,\n",
       "  'Duration time secs w pauses': 29.0,\n",
       "  'Ratio speaking to duration': 0.9,\n",
       "  'Fundamental frequency_f0 Hz': 220.27,\n",
       "  'SD Fundamental frequency_f0 Hz': 45.43,\n",
       "  'Median Fundamental frequency_f0 Hz': 211.4,\n",
       "  'Minimum Fundamental frequency_f0 Hz': 76.0,\n",
       "  'Maximum Fundamental frequency_f0 Hz': 399.0,\n",
       "  '25th Quantile Fundamental frequency_f0 Hz': 195.0,\n",
       "  '75th Quantile Fundamental frequency_f0 Hz': 239.0},\n",
       " 'trial_truth_audio_053': {'Pronunciation_posteriori': 85.06,\n",
       "  'Gender': 'a female',\n",
       "  'Mood_from_mva': 'Showing no emotion',\n",
       "  'Count of Syllables': 101,\n",
       "  'Count of filler and pauses': 7,\n",
       "  'Rate of speech - syb per sec': 3.0,\n",
       "  'Speaking time secs w/o pauses': 20.1,\n",
       "  'Duration time secs w pauses': 30.0,\n",
       "  'Ratio speaking to duration': 0.7,\n",
       "  'Fundamental frequency_f0 Hz': 189.15,\n",
       "  'SD Fundamental frequency_f0 Hz': 41.84,\n",
       "  'Median Fundamental frequency_f0 Hz': 179.3,\n",
       "  'Minimum Fundamental frequency_f0 Hz': 77.0,\n",
       "  'Maximum Fundamental frequency_f0 Hz': 401.0,\n",
       "  '25th Quantile Fundamental frequency_f0 Hz': 172.0,\n",
       "  '75th Quantile Fundamental frequency_f0 Hz': 200.0},\n",
       " 'trial_truth_audio_054': {'Pronunciation_posteriori': 90.05,\n",
       "  'Gender': 'a female',\n",
       "  'Mood_from_mva': 'Showing no emotion',\n",
       "  'Count of Syllables': 81,\n",
       "  'Count of filler and pauses': 10,\n",
       "  'Rate of speech - syb per sec': 3.0,\n",
       "  'Speaking time secs w/o pauses': 15.0,\n",
       "  'Duration time secs w pauses': 24.0,\n",
       "  'Ratio speaking to duration': 0.6,\n",
       "  'Fundamental frequency_f0 Hz': 188.33,\n",
       "  'SD Fundamental frequency_f0 Hz': 51.79,\n",
       "  'Median Fundamental frequency_f0 Hz': 200.4,\n",
       "  'Minimum Fundamental frequency_f0 Hz': 76.0,\n",
       "  'Maximum Fundamental frequency_f0 Hz': 356.0,\n",
       "  '25th Quantile Fundamental frequency_f0 Hz': 185.0,\n",
       "  '75th Quantile Fundamental frequency_f0 Hz': 210.0},\n",
       " 'trial_truth_audio_055': {'Pronunciation_posteriori': 90.07,\n",
       "  'Gender': 'a female',\n",
       "  'Mood_from_mva': 'Showing no emotion',\n",
       "  'Count of Syllables': 89,\n",
       "  'Count of filler and pauses': 8,\n",
       "  'Rate of speech - syb per sec': 3.0,\n",
       "  'Speaking time secs w/o pauses': 18.4,\n",
       "  'Duration time secs w pauses': 28.8,\n",
       "  'Ratio speaking to duration': 0.6,\n",
       "  'Fundamental frequency_f0 Hz': 181.19,\n",
       "  'SD Fundamental frequency_f0 Hz': 55.03,\n",
       "  'Median Fundamental frequency_f0 Hz': 199.5,\n",
       "  'Minimum Fundamental frequency_f0 Hz': 73.0,\n",
       "  'Maximum Fundamental frequency_f0 Hz': 369.0,\n",
       "  '25th Quantile Fundamental frequency_f0 Hz': 109.0,\n",
       "  '75th Quantile Fundamental frequency_f0 Hz': 211.0},\n",
       " 'trial_truth_audio_056': {'Pronunciation_posteriori': 90.09,\n",
       "  'Gender': 'a female',\n",
       "  'Mood_from_mva': 'Showing no emotion',\n",
       "  'Count of Syllables': 111,\n",
       "  'Count of filler and pauses': 15,\n",
       "  'Rate of speech - syb per sec': 3.0,\n",
       "  'Speaking time secs w/o pauses': 20.9,\n",
       "  'Duration time secs w pauses': 34.0,\n",
       "  'Ratio speaking to duration': 0.6,\n",
       "  'Fundamental frequency_f0 Hz': 173.04,\n",
       "  'SD Fundamental frequency_f0 Hz': 57.98,\n",
       "  'Median Fundamental frequency_f0 Hz': 195.4,\n",
       "  'Minimum Fundamental frequency_f0 Hz': 80.0,\n",
       "  'Maximum Fundamental frequency_f0 Hz': 400.0,\n",
       "  '25th Quantile Fundamental frequency_f0 Hz': 104.0,\n",
       "  '75th Quantile Fundamental frequency_f0 Hz': 211.0},\n",
       " 'trial_truth_audio_057': {'Pronunciation_posteriori': 100.0,\n",
       "  'Gender': 'a female',\n",
       "  'Mood_from_mva': 'Reading',\n",
       "  'Count of Syllables': 135,\n",
       "  'Count of filler and pauses': 10,\n",
       "  'Rate of speech - syb per sec': 4.0,\n",
       "  'Speaking time secs w/o pauses': 31.3,\n",
       "  'Duration time secs w pauses': 38.0,\n",
       "  'Ratio speaking to duration': 0.8,\n",
       "  'Fundamental frequency_f0 Hz': 198.85,\n",
       "  'SD Fundamental frequency_f0 Hz': 37.68,\n",
       "  'Median Fundamental frequency_f0 Hz': 200.6,\n",
       "  'Minimum Fundamental frequency_f0 Hz': 77.0,\n",
       "  'Maximum Fundamental frequency_f0 Hz': 373.0,\n",
       "  '25th Quantile Fundamental frequency_f0 Hz': 192.0,\n",
       "  '75th Quantile Fundamental frequency_f0 Hz': 214.0},\n",
       " 'trial_truth_audio_058': {'Pronunciation_posteriori': 100.0,\n",
       "  'Gender': 'a female',\n",
       "  'Mood_from_mva': 'Showing no emotion',\n",
       "  'Count of Syllables': 76,\n",
       "  'Count of filler and pauses': 3,\n",
       "  'Rate of speech - syb per sec': 4.0,\n",
       "  'Speaking time secs w/o pauses': 18.7,\n",
       "  'Duration time secs w pauses': 21.0,\n",
       "  'Ratio speaking to duration': 0.9,\n",
       "  'Fundamental frequency_f0 Hz': 193.07,\n",
       "  'SD Fundamental frequency_f0 Hz': 37.54,\n",
       "  'Median Fundamental frequency_f0 Hz': 198.9,\n",
       "  'Minimum Fundamental frequency_f0 Hz': 81.0,\n",
       "  'Maximum Fundamental frequency_f0 Hz': 328.0,\n",
       "  '25th Quantile Fundamental frequency_f0 Hz': 188.0,\n",
       "  '75th Quantile Fundamental frequency_f0 Hz': 212.0},\n",
       " 'trial_truth_audio_059': {'Pronunciation_posteriori': 100.0,\n",
       "  'Gender': 'a female',\n",
       "  'Mood_from_mva': 'Showing no emotion',\n",
       "  'Count of Syllables': 102,\n",
       "  'Count of filler and pauses': 7,\n",
       "  'Rate of speech - syb per sec': 4.0,\n",
       "  'Speaking time secs w/o pauses': 21.3,\n",
       "  'Duration time secs w pauses': 27.0,\n",
       "  'Ratio speaking to duration': 0.8,\n",
       "  'Fundamental frequency_f0 Hz': 191.05,\n",
       "  'SD Fundamental frequency_f0 Hz': 45.28,\n",
       "  'Median Fundamental frequency_f0 Hz': 205.4,\n",
       "  'Minimum Fundamental frequency_f0 Hz': 81.0,\n",
       "  'Maximum Fundamental frequency_f0 Hz': 305.0,\n",
       "  '25th Quantile Fundamental frequency_f0 Hz': 194.0,\n",
       "  '75th Quantile Fundamental frequency_f0 Hz': 215.0},\n",
       " 'trial_truth_audio_060': {'Pronunciation_posteriori': 100.0,\n",
       "  'Gender': 'a female',\n",
       "  'Mood_from_mva': 'Showing no emotion',\n",
       "  'Count of Syllables': 76,\n",
       "  'Count of filler and pauses': 7,\n",
       "  'Rate of speech - syb per sec': 4.0,\n",
       "  'Speaking time secs w/o pauses': 14.3,\n",
       "  'Duration time secs w pauses': 20.0,\n",
       "  'Ratio speaking to duration': 0.7,\n",
       "  'Fundamental frequency_f0 Hz': 179.65,\n",
       "  'SD Fundamental frequency_f0 Hz': 32.57,\n",
       "  'Median Fundamental frequency_f0 Hz': 174.4,\n",
       "  'Minimum Fundamental frequency_f0 Hz': 74.0,\n",
       "  'Maximum Fundamental frequency_f0 Hz': 340.0,\n",
       "  '25th Quantile Fundamental frequency_f0 Hz': 167.0,\n",
       "  '75th Quantile Fundamental frequency_f0 Hz': 188.0}}"
      ]
     },
     "execution_count": 9,
     "metadata": {},
     "output_type": "execute_result"
    }
   ],
   "source": [
    "audio_feature_list"
   ]
  },
  {
   "cell_type": "code",
   "execution_count": 10,
   "metadata": {},
   "outputs": [
    {
     "data": {
      "text/html": [
       "<div>\n",
       "<style scoped>\n",
       "    .dataframe tbody tr th:only-of-type {\n",
       "        vertical-align: middle;\n",
       "    }\n",
       "\n",
       "    .dataframe tbody tr th {\n",
       "        vertical-align: top;\n",
       "    }\n",
       "\n",
       "    .dataframe thead th {\n",
       "        text-align: right;\n",
       "    }\n",
       "</style>\n",
       "<table border=\"1\" class=\"dataframe\">\n",
       "  <thead>\n",
       "    <tr style=\"text-align: right;\">\n",
       "      <th></th>\n",
       "      <th>Pronunciation_posteriori</th>\n",
       "      <th>Gender</th>\n",
       "      <th>Mood_from_mva</th>\n",
       "      <th>Count of Syllables</th>\n",
       "      <th>Count of filler and pauses</th>\n",
       "      <th>Rate of speech - syb per sec</th>\n",
       "      <th>Speaking time secs w/o pauses</th>\n",
       "      <th>Duration time secs w pauses</th>\n",
       "      <th>Ratio speaking to duration</th>\n",
       "      <th>Fundamental frequency_f0 Hz</th>\n",
       "      <th>SD Fundamental frequency_f0 Hz</th>\n",
       "      <th>Median Fundamental frequency_f0 Hz</th>\n",
       "      <th>Minimum Fundamental frequency_f0 Hz</th>\n",
       "      <th>Maximum Fundamental frequency_f0 Hz</th>\n",
       "      <th>25th Quantile Fundamental frequency_f0 Hz</th>\n",
       "      <th>75th Quantile Fundamental frequency_f0 Hz</th>\n",
       "    </tr>\n",
       "  </thead>\n",
       "  <tbody>\n",
       "    <tr>\n",
       "      <th>trial_lie_audio_001</th>\n",
       "      <td>85.06</td>\n",
       "      <td>a female</td>\n",
       "      <td>Showing no emotion</td>\n",
       "      <td>52</td>\n",
       "      <td>9</td>\n",
       "      <td>3.0</td>\n",
       "      <td>11.6</td>\n",
       "      <td>17.0</td>\n",
       "      <td>0.7</td>\n",
       "      <td>164.97</td>\n",
       "      <td>59.18</td>\n",
       "      <td>155.0</td>\n",
       "      <td>73.0</td>\n",
       "      <td>396.0</td>\n",
       "      <td>118.0</td>\n",
       "      <td>196.0</td>\n",
       "    </tr>\n",
       "    <tr>\n",
       "      <th>trial_lie_audio_002</th>\n",
       "      <td>100.00</td>\n",
       "      <td>a female</td>\n",
       "      <td>Showing no emotion</td>\n",
       "      <td>246</td>\n",
       "      <td>17</td>\n",
       "      <td>4.0</td>\n",
       "      <td>53.7</td>\n",
       "      <td>62.5</td>\n",
       "      <td>0.9</td>\n",
       "      <td>183.72</td>\n",
       "      <td>39.43</td>\n",
       "      <td>193.9</td>\n",
       "      <td>73.0</td>\n",
       "      <td>364.0</td>\n",
       "      <td>182.0</td>\n",
       "      <td>203.0</td>\n",
       "    </tr>\n",
       "    <tr>\n",
       "      <th>trial_lie_audio_003</th>\n",
       "      <td>60.00</td>\n",
       "      <td>a Male</td>\n",
       "      <td>Reading</td>\n",
       "      <td>5</td>\n",
       "      <td>0</td>\n",
       "      <td>2.0</td>\n",
       "      <td>2.1</td>\n",
       "      <td>2.4</td>\n",
       "      <td>0.9</td>\n",
       "      <td>117.08</td>\n",
       "      <td>48.00</td>\n",
       "      <td>91.1</td>\n",
       "      <td>82.0</td>\n",
       "      <td>220.0</td>\n",
       "      <td>88.0</td>\n",
       "      <td>166.0</td>\n",
       "    </tr>\n",
       "    <tr>\n",
       "      <th>trial_lie_audio_004</th>\n",
       "      <td>90.05</td>\n",
       "      <td>a female</td>\n",
       "      <td>Showing no emotion</td>\n",
       "      <td>39</td>\n",
       "      <td>4</td>\n",
       "      <td>3.0</td>\n",
       "      <td>9.8</td>\n",
       "      <td>11.6</td>\n",
       "      <td>0.8</td>\n",
       "      <td>184.46</td>\n",
       "      <td>51.64</td>\n",
       "      <td>NaN</td>\n",
       "      <td>77.0</td>\n",
       "      <td>277.0</td>\n",
       "      <td>173.0</td>\n",
       "      <td>NaN</td>\n",
       "    </tr>\n",
       "    <tr>\n",
       "      <th>trial_lie_audio_005</th>\n",
       "      <td>100.00</td>\n",
       "      <td>a female</td>\n",
       "      <td>Showing no emotion</td>\n",
       "      <td>209</td>\n",
       "      <td>16</td>\n",
       "      <td>4.0</td>\n",
       "      <td>43.1</td>\n",
       "      <td>53.4</td>\n",
       "      <td>0.8</td>\n",
       "      <td>180.14</td>\n",
       "      <td>43.52</td>\n",
       "      <td>195.6</td>\n",
       "      <td>77.0</td>\n",
       "      <td>289.0</td>\n",
       "      <td>182.0</td>\n",
       "      <td>205.0</td>\n",
       "    </tr>\n",
       "    <tr>\n",
       "      <th>...</th>\n",
       "      <td>...</td>\n",
       "      <td>...</td>\n",
       "      <td>...</td>\n",
       "      <td>...</td>\n",
       "      <td>...</td>\n",
       "      <td>...</td>\n",
       "      <td>...</td>\n",
       "      <td>...</td>\n",
       "      <td>...</td>\n",
       "      <td>...</td>\n",
       "      <td>...</td>\n",
       "      <td>...</td>\n",
       "      <td>...</td>\n",
       "      <td>...</td>\n",
       "      <td>...</td>\n",
       "      <td>...</td>\n",
       "    </tr>\n",
       "    <tr>\n",
       "      <th>trial_truth_audio_056</th>\n",
       "      <td>90.09</td>\n",
       "      <td>a female</td>\n",
       "      <td>Showing no emotion</td>\n",
       "      <td>111</td>\n",
       "      <td>15</td>\n",
       "      <td>3.0</td>\n",
       "      <td>20.9</td>\n",
       "      <td>34.0</td>\n",
       "      <td>0.6</td>\n",
       "      <td>173.04</td>\n",
       "      <td>57.98</td>\n",
       "      <td>195.4</td>\n",
       "      <td>80.0</td>\n",
       "      <td>400.0</td>\n",
       "      <td>104.0</td>\n",
       "      <td>211.0</td>\n",
       "    </tr>\n",
       "    <tr>\n",
       "      <th>trial_truth_audio_057</th>\n",
       "      <td>100.00</td>\n",
       "      <td>a female</td>\n",
       "      <td>Reading</td>\n",
       "      <td>135</td>\n",
       "      <td>10</td>\n",
       "      <td>4.0</td>\n",
       "      <td>31.3</td>\n",
       "      <td>38.0</td>\n",
       "      <td>0.8</td>\n",
       "      <td>198.85</td>\n",
       "      <td>37.68</td>\n",
       "      <td>200.6</td>\n",
       "      <td>77.0</td>\n",
       "      <td>373.0</td>\n",
       "      <td>192.0</td>\n",
       "      <td>214.0</td>\n",
       "    </tr>\n",
       "    <tr>\n",
       "      <th>trial_truth_audio_058</th>\n",
       "      <td>100.00</td>\n",
       "      <td>a female</td>\n",
       "      <td>Showing no emotion</td>\n",
       "      <td>76</td>\n",
       "      <td>3</td>\n",
       "      <td>4.0</td>\n",
       "      <td>18.7</td>\n",
       "      <td>21.0</td>\n",
       "      <td>0.9</td>\n",
       "      <td>193.07</td>\n",
       "      <td>37.54</td>\n",
       "      <td>198.9</td>\n",
       "      <td>81.0</td>\n",
       "      <td>328.0</td>\n",
       "      <td>188.0</td>\n",
       "      <td>212.0</td>\n",
       "    </tr>\n",
       "    <tr>\n",
       "      <th>trial_truth_audio_059</th>\n",
       "      <td>100.00</td>\n",
       "      <td>a female</td>\n",
       "      <td>Showing no emotion</td>\n",
       "      <td>102</td>\n",
       "      <td>7</td>\n",
       "      <td>4.0</td>\n",
       "      <td>21.3</td>\n",
       "      <td>27.0</td>\n",
       "      <td>0.8</td>\n",
       "      <td>191.05</td>\n",
       "      <td>45.28</td>\n",
       "      <td>205.4</td>\n",
       "      <td>81.0</td>\n",
       "      <td>305.0</td>\n",
       "      <td>194.0</td>\n",
       "      <td>215.0</td>\n",
       "    </tr>\n",
       "    <tr>\n",
       "      <th>trial_truth_audio_060</th>\n",
       "      <td>100.00</td>\n",
       "      <td>a female</td>\n",
       "      <td>Showing no emotion</td>\n",
       "      <td>76</td>\n",
       "      <td>7</td>\n",
       "      <td>4.0</td>\n",
       "      <td>14.3</td>\n",
       "      <td>20.0</td>\n",
       "      <td>0.7</td>\n",
       "      <td>179.65</td>\n",
       "      <td>32.57</td>\n",
       "      <td>174.4</td>\n",
       "      <td>74.0</td>\n",
       "      <td>340.0</td>\n",
       "      <td>167.0</td>\n",
       "      <td>188.0</td>\n",
       "    </tr>\n",
       "  </tbody>\n",
       "</table>\n",
       "<p>121 rows × 16 columns</p>\n",
       "</div>"
      ],
      "text/plain": [
       "                       Pronunciation_posteriori    Gender       Mood_from_mva  \\\n",
       "trial_lie_audio_001                       85.06  a female  Showing no emotion   \n",
       "trial_lie_audio_002                      100.00  a female  Showing no emotion   \n",
       "trial_lie_audio_003                       60.00    a Male             Reading   \n",
       "trial_lie_audio_004                       90.05  a female  Showing no emotion   \n",
       "trial_lie_audio_005                      100.00  a female  Showing no emotion   \n",
       "...                                         ...       ...                 ...   \n",
       "trial_truth_audio_056                     90.09  a female  Showing no emotion   \n",
       "trial_truth_audio_057                    100.00  a female             Reading   \n",
       "trial_truth_audio_058                    100.00  a female  Showing no emotion   \n",
       "trial_truth_audio_059                    100.00  a female  Showing no emotion   \n",
       "trial_truth_audio_060                    100.00  a female  Showing no emotion   \n",
       "\n",
       "                       Count of Syllables  Count of filler and pauses  \\\n",
       "trial_lie_audio_001                    52                           9   \n",
       "trial_lie_audio_002                   246                          17   \n",
       "trial_lie_audio_003                     5                           0   \n",
       "trial_lie_audio_004                    39                           4   \n",
       "trial_lie_audio_005                   209                          16   \n",
       "...                                   ...                         ...   \n",
       "trial_truth_audio_056                 111                          15   \n",
       "trial_truth_audio_057                 135                          10   \n",
       "trial_truth_audio_058                  76                           3   \n",
       "trial_truth_audio_059                 102                           7   \n",
       "trial_truth_audio_060                  76                           7   \n",
       "\n",
       "                       Rate of speech - syb per sec  \\\n",
       "trial_lie_audio_001                             3.0   \n",
       "trial_lie_audio_002                             4.0   \n",
       "trial_lie_audio_003                             2.0   \n",
       "trial_lie_audio_004                             3.0   \n",
       "trial_lie_audio_005                             4.0   \n",
       "...                                             ...   \n",
       "trial_truth_audio_056                           3.0   \n",
       "trial_truth_audio_057                           4.0   \n",
       "trial_truth_audio_058                           4.0   \n",
       "trial_truth_audio_059                           4.0   \n",
       "trial_truth_audio_060                           4.0   \n",
       "\n",
       "                       Speaking time secs w/o pauses  \\\n",
       "trial_lie_audio_001                             11.6   \n",
       "trial_lie_audio_002                             53.7   \n",
       "trial_lie_audio_003                              2.1   \n",
       "trial_lie_audio_004                              9.8   \n",
       "trial_lie_audio_005                             43.1   \n",
       "...                                              ...   \n",
       "trial_truth_audio_056                           20.9   \n",
       "trial_truth_audio_057                           31.3   \n",
       "trial_truth_audio_058                           18.7   \n",
       "trial_truth_audio_059                           21.3   \n",
       "trial_truth_audio_060                           14.3   \n",
       "\n",
       "                       Duration time secs w pauses  \\\n",
       "trial_lie_audio_001                           17.0   \n",
       "trial_lie_audio_002                           62.5   \n",
       "trial_lie_audio_003                            2.4   \n",
       "trial_lie_audio_004                           11.6   \n",
       "trial_lie_audio_005                           53.4   \n",
       "...                                            ...   \n",
       "trial_truth_audio_056                         34.0   \n",
       "trial_truth_audio_057                         38.0   \n",
       "trial_truth_audio_058                         21.0   \n",
       "trial_truth_audio_059                         27.0   \n",
       "trial_truth_audio_060                         20.0   \n",
       "\n",
       "                       Ratio speaking to duration  \\\n",
       "trial_lie_audio_001                           0.7   \n",
       "trial_lie_audio_002                           0.9   \n",
       "trial_lie_audio_003                           0.9   \n",
       "trial_lie_audio_004                           0.8   \n",
       "trial_lie_audio_005                           0.8   \n",
       "...                                           ...   \n",
       "trial_truth_audio_056                         0.6   \n",
       "trial_truth_audio_057                         0.8   \n",
       "trial_truth_audio_058                         0.9   \n",
       "trial_truth_audio_059                         0.8   \n",
       "trial_truth_audio_060                         0.7   \n",
       "\n",
       "                       Fundamental frequency_f0 Hz  \\\n",
       "trial_lie_audio_001                         164.97   \n",
       "trial_lie_audio_002                         183.72   \n",
       "trial_lie_audio_003                         117.08   \n",
       "trial_lie_audio_004                         184.46   \n",
       "trial_lie_audio_005                         180.14   \n",
       "...                                            ...   \n",
       "trial_truth_audio_056                       173.04   \n",
       "trial_truth_audio_057                       198.85   \n",
       "trial_truth_audio_058                       193.07   \n",
       "trial_truth_audio_059                       191.05   \n",
       "trial_truth_audio_060                       179.65   \n",
       "\n",
       "                       SD Fundamental frequency_f0 Hz  \\\n",
       "trial_lie_audio_001                             59.18   \n",
       "trial_lie_audio_002                             39.43   \n",
       "trial_lie_audio_003                             48.00   \n",
       "trial_lie_audio_004                             51.64   \n",
       "trial_lie_audio_005                             43.52   \n",
       "...                                               ...   \n",
       "trial_truth_audio_056                           57.98   \n",
       "trial_truth_audio_057                           37.68   \n",
       "trial_truth_audio_058                           37.54   \n",
       "trial_truth_audio_059                           45.28   \n",
       "trial_truth_audio_060                           32.57   \n",
       "\n",
       "                       Median Fundamental frequency_f0 Hz  \\\n",
       "trial_lie_audio_001                                 155.0   \n",
       "trial_lie_audio_002                                 193.9   \n",
       "trial_lie_audio_003                                  91.1   \n",
       "trial_lie_audio_004                                   NaN   \n",
       "trial_lie_audio_005                                 195.6   \n",
       "...                                                   ...   \n",
       "trial_truth_audio_056                               195.4   \n",
       "trial_truth_audio_057                               200.6   \n",
       "trial_truth_audio_058                               198.9   \n",
       "trial_truth_audio_059                               205.4   \n",
       "trial_truth_audio_060                               174.4   \n",
       "\n",
       "                       Minimum Fundamental frequency_f0 Hz  \\\n",
       "trial_lie_audio_001                                   73.0   \n",
       "trial_lie_audio_002                                   73.0   \n",
       "trial_lie_audio_003                                   82.0   \n",
       "trial_lie_audio_004                                   77.0   \n",
       "trial_lie_audio_005                                   77.0   \n",
       "...                                                    ...   \n",
       "trial_truth_audio_056                                 80.0   \n",
       "trial_truth_audio_057                                 77.0   \n",
       "trial_truth_audio_058                                 81.0   \n",
       "trial_truth_audio_059                                 81.0   \n",
       "trial_truth_audio_060                                 74.0   \n",
       "\n",
       "                       Maximum Fundamental frequency_f0 Hz  \\\n",
       "trial_lie_audio_001                                  396.0   \n",
       "trial_lie_audio_002                                  364.0   \n",
       "trial_lie_audio_003                                  220.0   \n",
       "trial_lie_audio_004                                  277.0   \n",
       "trial_lie_audio_005                                  289.0   \n",
       "...                                                    ...   \n",
       "trial_truth_audio_056                                400.0   \n",
       "trial_truth_audio_057                                373.0   \n",
       "trial_truth_audio_058                                328.0   \n",
       "trial_truth_audio_059                                305.0   \n",
       "trial_truth_audio_060                                340.0   \n",
       "\n",
       "                       25th Quantile Fundamental frequency_f0 Hz  \\\n",
       "trial_lie_audio_001                                        118.0   \n",
       "trial_lie_audio_002                                        182.0   \n",
       "trial_lie_audio_003                                         88.0   \n",
       "trial_lie_audio_004                                        173.0   \n",
       "trial_lie_audio_005                                        182.0   \n",
       "...                                                          ...   \n",
       "trial_truth_audio_056                                      104.0   \n",
       "trial_truth_audio_057                                      192.0   \n",
       "trial_truth_audio_058                                      188.0   \n",
       "trial_truth_audio_059                                      194.0   \n",
       "trial_truth_audio_060                                      167.0   \n",
       "\n",
       "                       75th Quantile Fundamental frequency_f0 Hz  \n",
       "trial_lie_audio_001                                        196.0  \n",
       "trial_lie_audio_002                                        203.0  \n",
       "trial_lie_audio_003                                        166.0  \n",
       "trial_lie_audio_004                                          NaN  \n",
       "trial_lie_audio_005                                        205.0  \n",
       "...                                                          ...  \n",
       "trial_truth_audio_056                                      211.0  \n",
       "trial_truth_audio_057                                      214.0  \n",
       "trial_truth_audio_058                                      212.0  \n",
       "trial_truth_audio_059                                      215.0  \n",
       "trial_truth_audio_060                                      188.0  \n",
       "\n",
       "[121 rows x 16 columns]"
      ]
     },
     "execution_count": 10,
     "metadata": {},
     "output_type": "execute_result"
    }
   ],
   "source": [
    "#Creates a pandas dataframe of the extracted voice acoustic features\n",
    "df_audio = pd.DataFrame.from_dict(audio_feature_list,orient='index')\n",
    "df_audio"
   ]
  },
  {
   "cell_type": "markdown",
   "metadata": {},
   "source": [
    "### Other vocal features\n",
    "While useful, my-voice-analyzer does not extract other important vocal features that may be useful. \n",
    "\n",
    "Jitter  and  shimmer  are  perturbation  measures  of  voice signals. For detailed acoustic measurements, jitter and shimmer were also considered because they describe the disturbances, or changes in the  output  of  the voice. Jitter  reveals  the source of variation in the frequency whereas shimmer reveals the source of variation in amplitude of vocal fold vibrations. Jitter in particular has been implicated in deception (see https://www.researchgate.net/publication/317692745_Voice_analysis_for_detection_of_deception)"
   ]
  },
  {
   "cell_type": "code",
   "execution_count": 11,
   "metadata": {},
   "outputs": [],
   "source": [
    "#Import sounddevice library to read in wav files as numpy arrays, which re required for the Signal_Analysis library\n",
    "import sounddevice as sd\n",
    "import soundfile as sf\n",
    "#Import Signal_analysis library, which is used to extract other voice features.\n",
    "from Signal_Analysis.features import signal"
   ]
  },
  {
   "cell_type": "code",
   "execution_count": 13,
   "metadata": {
    "scrolled": true
   },
   "outputs": [
    {
     "name": "stdout",
     "output_type": "stream",
     "text": [
      "Analysing data/cleaned_audio\\trial_truth_audio_060.wav\n",
      "<class 'numpy.float64'> \n",
      "\n"
     ]
    }
   ],
   "source": [
    "#This iterates through the audio files \n",
    "#extracts jitter related features\n",
    "#and then appends these to the other_audio_feature_list dictionary\n",
    "\n",
    "other_audio_feature_list = {}\n",
    "for x in audios:\n",
    "    clear_output(wait=True)\n",
    "    print(\"Analysing\", x) #<-- Print out to screen to see audio currently being printed\n",
    "#     audio_file_name = (x.split('\\\\')[-1].split(\".\")[0] + \".wav\") #<-- captures the unique name of file to be used in the processing\n",
    "#     audio_path = r\"..\\Part 3\\data\\audio\"   # # <--folder pathway to audio files\n",
    "#     print(audio_path)\n",
    "    data, samplerate = sf.read(x)\n",
    "    try:\n",
    "        output = Signal_Analysis.features.signal.get_Jitter(data[:,1], rate = 50000)\n",
    "        \n",
    "        other_audio_feature_list.update({x: {'Jitter - local': output['local'],\n",
    "                                             'Jitter - local, absolute': output['local, absolute'],\n",
    "                                             'Jitter - rap': output['rap'],\n",
    "                                             'Jitter - ppq5': output['ppq5'],\n",
    "                                             'Jitter - ddp': output['ddp']\n",
    "                                        }})\n",
    "        \n",
    "    except:    \n",
    "        other_audio_feature_list.update({x: {'Jitter - local': np.nan,\n",
    "                                             'Jitter - local, absolute': 'Unable to extract',\n",
    "                                             'Jitter - rap': 'Unable to extract',\n",
    "                                             'Jitter - ppq5': 'Unable to extract',\n",
    "                                             'Jitter - ddp': 'Unable to extract'\n",
    "                                        }})\n"
   ]
  },
  {
   "cell_type": "code",
   "execution_count": 14,
   "metadata": {},
   "outputs": [
    {
     "data": {
      "text/plain": [
       "{'data/cleaned_audio\\\\trial_lie_audio_001.wav': {'Jitter - local': 0.061507496334913356,\n",
       "  'Jitter - local, absolute': 0.00029892131712988903,\n",
       "  'Jitter - rap': 0.032612340281486386,\n",
       "  'Jitter - ppq5': 0.03103215716687621,\n",
       "  'Jitter - ddp': 0.09783702084445917},\n",
       " 'data/cleaned_audio\\\\trial_lie_audio_002.wav': {'Jitter - local': 0.04696503680506068,\n",
       "  'Jitter - local, absolute': 0.00021224540480204368,\n",
       "  'Jitter - rap': 0.02565948399243127,\n",
       "  'Jitter - ppq5': 0.023040926080594964,\n",
       "  'Jitter - ddp': 0.0769784519772938},\n",
       " 'data/cleaned_audio\\\\trial_lie_audio_003.wav': {'Jitter - local': 0.049203109148561144,\n",
       "  'Jitter - local, absolute': 0.00028828791374794295,\n",
       "  'Jitter - rap': 0.02746312831564402,\n",
       "  'Jitter - ppq5': 0.024931723442650527,\n",
       "  'Jitter - ddp': 0.08238938494693207},\n",
       " 'data/cleaned_audio\\\\trial_lie_audio_004.wav': {'Jitter - local': 0.041626466172308474,\n",
       "  'Jitter - local, absolute': 0.00019246600978374515,\n",
       "  'Jitter - rap': 0.02276349873795833,\n",
       "  'Jitter - ppq5': 0.019899332929486795,\n",
       "  'Jitter - ddp': 0.068290496213875},\n",
       " 'data/cleaned_audio\\\\trial_lie_audio_005.wav': {'Jitter - local': 0.051145185299723166,\n",
       "  'Jitter - local, absolute': 0.00022836965605465046,\n",
       "  'Jitter - rap': 0.028416397665538287,\n",
       "  'Jitter - ppq5': 0.024742476166807286,\n",
       "  'Jitter - ddp': 0.08524919299661486},\n",
       " 'data/cleaned_audio\\\\trial_lie_audio_006.wav': {'Jitter - local': 0.04334446612130978,\n",
       "  'Jitter - local, absolute': 0.0001607987177283384,\n",
       "  'Jitter - rap': 0.022293939661348613,\n",
       "  'Jitter - ppq5': 0.02130333157033153,\n",
       "  'Jitter - ddp': 0.06688181898404584},\n",
       " 'data/cleaned_audio\\\\trial_lie_audio_007.wav': {'Jitter - local': 0.06840417829015179,\n",
       "  'Jitter - local, absolute': 0.0003445482692497923,\n",
       "  'Jitter - rap': 0.03634812886391304,\n",
       "  'Jitter - ppq5': 0.03684623556502701,\n",
       "  'Jitter - ddp': 0.10904438659173912},\n",
       " 'data/cleaned_audio\\\\trial_lie_audio_008.wav': {'Jitter - local': 0.07794792597998548,\n",
       "  'Jitter - local, absolute': 0.0004249882161422658,\n",
       "  'Jitter - rap': 0.041939281564730806,\n",
       "  'Jitter - ppq5': 0.042643078688504796,\n",
       "  'Jitter - ddp': 0.1258178446941924},\n",
       " 'data/cleaned_audio\\\\trial_lie_audio_009.wav': {'Jitter - local': 0.07842536525032756,\n",
       "  'Jitter - local, absolute': 0.0004074448330141124,\n",
       "  'Jitter - rap': 0.041280089203933994,\n",
       "  'Jitter - ppq5': 0.04294138243551347,\n",
       "  'Jitter - ddp': 0.12384026761180197},\n",
       " 'data/cleaned_audio\\\\trial_lie_audio_010.wav': {'Jitter - local': 0.07635031015940537,\n",
       "  'Jitter - local, absolute': 0.0003651725879209584,\n",
       "  'Jitter - rap': 0.042002924991765826,\n",
       "  'Jitter - ppq5': 0.04205027789850476,\n",
       "  'Jitter - ddp': 0.12600877497529747},\n",
       " 'data/cleaned_audio\\\\trial_lie_audio_011.wav': {'Jitter - local': 0.08054051396893225,\n",
       "  'Jitter - local, absolute': 0.00035381417936321903,\n",
       "  'Jitter - rap': 0.043184289516202214,\n",
       "  'Jitter - ppq5': 0.04567274022431584,\n",
       "  'Jitter - ddp': 0.12955286854860665},\n",
       " 'data/cleaned_audio\\\\trial_lie_audio_012.wav': {'Jitter - local': 0.06520753413319384,\n",
       "  'Jitter - local, absolute': 0.00030695245712310644,\n",
       "  'Jitter - rap': 0.0355359798355206,\n",
       "  'Jitter - ppq5': 0.03715031547655177,\n",
       "  'Jitter - ddp': 0.1066079395065618},\n",
       " 'data/cleaned_audio\\\\trial_lie_audio_013.wav': {'Jitter - local': 0.07736369709153752,\n",
       "  'Jitter - local, absolute': 0.00036334784917227886,\n",
       "  'Jitter - rap': 0.04051985530463937,\n",
       "  'Jitter - ppq5': 0.04174279449100614,\n",
       "  'Jitter - ddp': 0.12155956591391812},\n",
       " 'data/cleaned_audio\\\\trial_lie_audio_014.wav': {'Jitter - local': 0.0688366320640817,\n",
       "  'Jitter - local, absolute': 0.00029179350791919665,\n",
       "  'Jitter - rap': 0.036285042018879304,\n",
       "  'Jitter - ppq5': 0.037978389183576315,\n",
       "  'Jitter - ddp': 0.10885512605663791},\n",
       " 'data/cleaned_audio\\\\trial_lie_audio_015.wav': {'Jitter - local': 0.07199471376425629,\n",
       "  'Jitter - local, absolute': 0.00032292740571597685,\n",
       "  'Jitter - rap': 0.03719311802108272,\n",
       "  'Jitter - ppq5': 0.03734553653244879,\n",
       "  'Jitter - ddp': 0.11157935406324818},\n",
       " 'data/cleaned_audio\\\\trial_lie_audio_016.wav': {'Jitter - local': 0.0706136210281567,\n",
       "  'Jitter - local, absolute': 0.0003325713247899752,\n",
       "  'Jitter - rap': 0.036948450492513676,\n",
       "  'Jitter - ppq5': 0.03730960595375698,\n",
       "  'Jitter - ddp': 0.11084535147754103},\n",
       " 'data/cleaned_audio\\\\trial_lie_audio_017.wav': {'Jitter - local': 0.07385541444493449,\n",
       "  'Jitter - local, absolute': 0.00035114757779884155,\n",
       "  'Jitter - rap': 0.03784224019269736,\n",
       "  'Jitter - ppq5': 0.038896398869965106,\n",
       "  'Jitter - ddp': 0.11352672057809207},\n",
       " 'data/cleaned_audio\\\\trial_lie_audio_018.wav': {'Jitter - local': 0.07021545469220072,\n",
       "  'Jitter - local, absolute': 0.0003243676964367313,\n",
       "  'Jitter - rap': 0.03638032414738672,\n",
       "  'Jitter - ppq5': 0.03658903300635704,\n",
       "  'Jitter - ddp': 0.10914097244216016},\n",
       " 'data/cleaned_audio\\\\trial_lie_audio_019.wav': {'Jitter - local': 0.07737481116968536,\n",
       "  'Jitter - local, absolute': 0.00035103556561696253,\n",
       "  'Jitter - rap': 0.04014761184622389,\n",
       "  'Jitter - ppq5': 0.040738563014852604,\n",
       "  'Jitter - ddp': 0.12044283553867166},\n",
       " 'data/cleaned_audio\\\\trial_lie_audio_020.wav': {'Jitter - local': 0.07283480038693536,\n",
       "  'Jitter - local, absolute': 0.00033790247317926574,\n",
       "  'Jitter - rap': 0.037606531606742544,\n",
       "  'Jitter - ppq5': 0.03912427558696626,\n",
       "  'Jitter - ddp': 0.11281959482022763},\n",
       " 'data/cleaned_audio\\\\trial_lie_audio_021.wav': {'Jitter - local': 0.06742797612511077,\n",
       "  'Jitter - local, absolute': 0.0003298415844027325,\n",
       "  'Jitter - rap': 0.03569840438268257,\n",
       "  'Jitter - ppq5': 0.03539603700980372,\n",
       "  'Jitter - ddp': 0.10709521314804771},\n",
       " 'data/cleaned_audio\\\\trial_lie_audio_022.wav': {'Jitter - local': 0.07564980883398012,\n",
       "  'Jitter - local, absolute': 0.00030390913240098557,\n",
       "  'Jitter - rap': 0.040940259405096095,\n",
       "  'Jitter - ppq5': 0.041343344970515186,\n",
       "  'Jitter - ddp': 0.12282077821528828},\n",
       " 'data/cleaned_audio\\\\trial_lie_audio_023.wav': {'Jitter - local': 0.08340835457623401,\n",
       "  'Jitter - local, absolute': 0.0004138297242462484,\n",
       "  'Jitter - rap': 0.04200691313664893,\n",
       "  'Jitter - ppq5': 0.04199512799149332,\n",
       "  'Jitter - ddp': 0.1260207394099468},\n",
       " 'data/cleaned_audio\\\\trial_lie_audio_024.wav': {'Jitter - local': 0.07650004840268029,\n",
       "  'Jitter - local, absolute': 0.00033555136313711664,\n",
       "  'Jitter - rap': 0.03996171232713689,\n",
       "  'Jitter - ppq5': 0.04016160410860104,\n",
       "  'Jitter - ddp': 0.11988513698141068},\n",
       " 'data/cleaned_audio\\\\trial_lie_audio_025.wav': {'Jitter - local': 0.06823676670484548,\n",
       "  'Jitter - local, absolute': 0.0003054643244174503,\n",
       "  'Jitter - rap': 0.03590745405779281,\n",
       "  'Jitter - ppq5': 0.036765178051493694,\n",
       "  'Jitter - ddp': 0.10772236217337844},\n",
       " 'data/cleaned_audio\\\\trial_lie_audio_026.wav': {'Jitter - local': 0.07491963241979607,\n",
       "  'Jitter - local, absolute': 0.0003569460804954297,\n",
       "  'Jitter - rap': 0.03740920869992803,\n",
       "  'Jitter - ppq5': 0.03935300533486861,\n",
       "  'Jitter - ddp': 0.1122276260997841},\n",
       " 'data/cleaned_audio\\\\trial_lie_audio_027.wav': {'Jitter - local': 0.07199621152461587,\n",
       "  'Jitter - local, absolute': 0.000324469905609029,\n",
       "  'Jitter - rap': 0.037007771238074805,\n",
       "  'Jitter - ppq5': 0.03813608542444989,\n",
       "  'Jitter - ddp': 0.11102331371422441},\n",
       " 'data/cleaned_audio\\\\trial_lie_audio_028.wav': {'Jitter - local': 0.07633370533826156,\n",
       "  'Jitter - local, absolute': 0.00035113600424503476,\n",
       "  'Jitter - rap': 0.03925074292960219,\n",
       "  'Jitter - ppq5': 0.04215156314809418,\n",
       "  'Jitter - ddp': 0.11775222878880658},\n",
       " 'data/cleaned_audio\\\\trial_lie_audio_029.wav': {'Jitter - local': 0.0730513469172538,\n",
       "  'Jitter - local, absolute': 0.0003393835835733186,\n",
       "  'Jitter - rap': 0.038437698090734364,\n",
       "  'Jitter - ppq5': 0.03946563813093519,\n",
       "  'Jitter - ddp': 0.1153130942722031},\n",
       " 'data/cleaned_audio\\\\trial_lie_audio_030.wav': {'Jitter - local': 0.07534398521205828,\n",
       "  'Jitter - local, absolute': 0.00034863384193406364,\n",
       "  'Jitter - rap': 0.03832555963949889,\n",
       "  'Jitter - ppq5': 0.0396483257007469,\n",
       "  'Jitter - ddp': 0.11497667891849668},\n",
       " 'data/cleaned_audio\\\\trial_lie_audio_031.wav': {'Jitter - local': 0.06551179815997477,\n",
       "  'Jitter - local, absolute': 0.0002785354191010239,\n",
       "  'Jitter - rap': 0.034668213731908114,\n",
       "  'Jitter - ppq5': 0.03388947538895071,\n",
       "  'Jitter - ddp': 0.10400464119572433},\n",
       " 'data/cleaned_audio\\\\trial_lie_audio_032.wav': {'Jitter - local': 0.07647325292527273,\n",
       "  'Jitter - local, absolute': 0.000320121841980308,\n",
       "  'Jitter - rap': 0.04077452682009693,\n",
       "  'Jitter - ppq5': 0.04254788540409748,\n",
       "  'Jitter - ddp': 0.12232358046029079},\n",
       " 'data/cleaned_audio\\\\trial_lie_audio_033.wav': {'Jitter - local': 0.09942652578891144,\n",
       "  'Jitter - local, absolute': 0.0005510177508220302,\n",
       "  'Jitter - rap': 0.04915213041448629,\n",
       "  'Jitter - ppq5': 0.05246407301628486,\n",
       "  'Jitter - ddp': 0.14745639124345886},\n",
       " 'data/cleaned_audio\\\\trial_lie_audio_034.wav': {'Jitter - local': 0.10210798171384572,\n",
       "  'Jitter - local, absolute': 0.0006570822531205615,\n",
       "  'Jitter - rap': 0.05018857084926506,\n",
       "  'Jitter - ppq5': 0.05389959391212234,\n",
       "  'Jitter - ddp': 0.1505657125477952},\n",
       " 'data/cleaned_audio\\\\trial_lie_audio_035.wav': {'Jitter - local': 0.06977567293507045,\n",
       "  'Jitter - local, absolute': 0.0003047159792941782,\n",
       "  'Jitter - rap': 0.03676135683340474,\n",
       "  'Jitter - ppq5': 0.0381571259974174,\n",
       "  'Jitter - ddp': 0.11028407050021423},\n",
       " 'data/cleaned_audio\\\\trial_lie_audio_036.wav': {'Jitter - local': 0.08224800115214524,\n",
       "  'Jitter - local, absolute': 0.00023431347578472403,\n",
       "  'Jitter - rap': 0.043035597216939225,\n",
       "  'Jitter - ppq5': 0.046311707539901846,\n",
       "  'Jitter - ddp': 0.12910679165081768},\n",
       " 'data/cleaned_audio\\\\trial_lie_audio_037.wav': {'Jitter - local': 0.07319622165938473,\n",
       "  'Jitter - local, absolute': 0.00033895892334181033,\n",
       "  'Jitter - rap': 0.0409424950411902,\n",
       "  'Jitter - ppq5': 0.04300369953201519,\n",
       "  'Jitter - ddp': 0.1228274851235706},\n",
       " 'data/cleaned_audio\\\\trial_lie_audio_038.wav': {'Jitter - local': 0.07449222513155415,\n",
       "  'Jitter - local, absolute': 0.00034702635325495123,\n",
       "  'Jitter - rap': 0.041618406976759,\n",
       "  'Jitter - ppq5': 0.044654098833385156,\n",
       "  'Jitter - ddp': 0.12485522093027698},\n",
       " 'data/cleaned_audio\\\\trial_lie_audio_039.wav': {'Jitter - local': 0.06936060667183694,\n",
       "  'Jitter - local, absolute': 0.00031410506145875775,\n",
       "  'Jitter - rap': 0.037639126244642634,\n",
       "  'Jitter - ppq5': 0.04129271806963601,\n",
       "  'Jitter - ddp': 0.1129173787339279},\n",
       " 'data/cleaned_audio\\\\trial_lie_audio_040.wav': {'Jitter - local': 0.06702038698778934,\n",
       "  'Jitter - local, absolute': 0.00032930156346806534,\n",
       "  'Jitter - rap': 0.03734984455798612,\n",
       "  'Jitter - ppq5': 0.039801942051739314,\n",
       "  'Jitter - ddp': 0.11204953367395837},\n",
       " 'data/cleaned_audio\\\\trial_lie_audio_041.wav': {'Jitter - local': 0.04959290228670065,\n",
       "  'Jitter - local, absolute': 0.0003512728365516973,\n",
       "  'Jitter - rap': 0.023864535053558043,\n",
       "  'Jitter - ppq5': 0.02501145148356356,\n",
       "  'Jitter - ddp': 0.07159360516067413},\n",
       " 'data/cleaned_audio\\\\trial_lie_audio_042.wav': {'Jitter - local': 0.058778138813782736,\n",
       "  'Jitter - local, absolute': 0.00038714891787649326,\n",
       "  'Jitter - rap': 0.02947828991165315,\n",
       "  'Jitter - ppq5': 0.031801177356058065,\n",
       "  'Jitter - ddp': 0.08843486973495945},\n",
       " 'data/cleaned_audio\\\\trial_lie_audio_043.wav': {'Jitter - local': 0.06531322260608154,\n",
       "  'Jitter - local, absolute': 0.0005971052112860016,\n",
       "  'Jitter - rap': 0.03263484814576184,\n",
       "  'Jitter - ppq5': 0.03512304970321086,\n",
       "  'Jitter - ddp': 0.09790454443728552},\n",
       " 'data/cleaned_audio\\\\trial_lie_audio_044.wav': {'Jitter - local': 0.04881159977856091,\n",
       "  'Jitter - local, absolute': 0.00044781107310993255,\n",
       "  'Jitter - rap': 0.021350350718796048,\n",
       "  'Jitter - ppq5': 0.024055602442182182,\n",
       "  'Jitter - ddp': 0.06405105215638815},\n",
       " 'data/cleaned_audio\\\\trial_lie_audio_045.wav': {'Jitter - local': 0.07310135689350236,\n",
       "  'Jitter - local, absolute': 0.0002815676907290832,\n",
       "  'Jitter - rap': 0.03871506133722464,\n",
       "  'Jitter - ppq5': 0.0423352512405613,\n",
       "  'Jitter - ddp': 0.11614518401167392},\n",
       " 'data/cleaned_audio\\\\trial_lie_audio_046.wav': {'Jitter - local': 0.0868948676746327,\n",
       "  'Jitter - local, absolute': 0.00043214168160706775,\n",
       "  'Jitter - rap': 0.04542270157280019,\n",
       "  'Jitter - ppq5': 0.050046595546606454,\n",
       "  'Jitter - ddp': 0.13626810471840056},\n",
       " 'data/cleaned_audio\\\\trial_lie_audio_047.wav': {'Jitter - local': 0.08050411376189442,\n",
       "  'Jitter - local, absolute': 0.00041101640895162993,\n",
       "  'Jitter - rap': 0.04089718960864681,\n",
       "  'Jitter - ppq5': 0.046633213598754955,\n",
       "  'Jitter - ddp': 0.12269156882594043},\n",
       " 'data/cleaned_audio\\\\trial_lie_audio_048.wav': {'Jitter - local': 0.09424009091443615,\n",
       "  'Jitter - local, absolute': 0.0004936756945317077,\n",
       "  'Jitter - rap': 0.05050151767498897,\n",
       "  'Jitter - ppq5': 0.054899766039722686,\n",
       "  'Jitter - ddp': 0.1515045530249669},\n",
       " 'data/cleaned_audio\\\\trial_lie_audio_049.wav': {'Jitter - local': 0.09178794319769171,\n",
       "  'Jitter - local, absolute': 0.000527129162575316,\n",
       "  'Jitter - rap': 0.04776306113766765,\n",
       "  'Jitter - ppq5': 0.053969110010887646,\n",
       "  'Jitter - ddp': 0.14328918341300295},\n",
       " 'data/cleaned_audio\\\\trial_lie_audio_050.wav': {'Jitter - local': 0.07417214113901244,\n",
       "  'Jitter - local, absolute': 0.0003285592014146039,\n",
       "  'Jitter - rap': 0.03820725584087974,\n",
       "  'Jitter - ppq5': 0.03841845578855053,\n",
       "  'Jitter - ddp': 0.11462176752263922},\n",
       " 'data/cleaned_audio\\\\trial_lie_audio_051.wav': {'Jitter - local': 0.09381682263473261,\n",
       "  'Jitter - local, absolute': 0.0003211656087112007,\n",
       "  'Jitter - rap': 0.04735373277048418,\n",
       "  'Jitter - ppq5': 0.05302156541682519,\n",
       "  'Jitter - ddp': 0.14206119831145253},\n",
       " 'data/cleaned_audio\\\\trial_lie_audio_052.wav': {'Jitter - local': 0.09630673367692903,\n",
       "  'Jitter - local, absolute': 0.0007217920333299641,\n",
       "  'Jitter - rap': 0.047857633306055726,\n",
       "  'Jitter - ppq5': 0.05514764420182128,\n",
       "  'Jitter - ddp': 0.14357289991816718},\n",
       " 'data/cleaned_audio\\\\trial_lie_audio_053.wav': {'Jitter - local': 0.08637531452111954,\n",
       "  'Jitter - local, absolute': 0.0006565010487424866,\n",
       "  'Jitter - rap': 0.045721918719094506,\n",
       "  'Jitter - ppq5': 0.04958975934369394,\n",
       "  'Jitter - ddp': 0.13716575615728352},\n",
       " 'data/cleaned_audio\\\\trial_lie_audio_054.wav': {'Jitter - local': 0.07141146801017366,\n",
       "  'Jitter - local, absolute': 0.00025194540553989973,\n",
       "  'Jitter - rap': 0.03927513045849838,\n",
       "  'Jitter - ppq5': 0.04250573373036414,\n",
       "  'Jitter - ddp': 0.11782539137549515},\n",
       " 'data/cleaned_audio\\\\trial_lie_audio_055.wav': {'Jitter - local': 0.04464231115822584,\n",
       "  'Jitter - local, absolute': 0.0002244352031729762,\n",
       "  'Jitter - rap': 0.021661545677223847,\n",
       "  'Jitter - ppq5': 0.022353084800857254,\n",
       "  'Jitter - ddp': 0.06498463703167154},\n",
       " 'data/cleaned_audio\\\\trial_lie_audio_056.wav': {'Jitter - local': 0.056196793168578535,\n",
       "  'Jitter - local, absolute': 0.0002677675353232946,\n",
       "  'Jitter - rap': 0.028940829781151613,\n",
       "  'Jitter - ppq5': 0.030910529813525982,\n",
       "  'Jitter - ddp': 0.08682248934345484},\n",
       " 'data/cleaned_audio\\\\trial_lie_audio_057.wav': {'Jitter - local': 0.06471738160565174,\n",
       "  'Jitter - local, absolute': 0.0003078849090065677,\n",
       "  'Jitter - rap': 0.034118037702232894,\n",
       "  'Jitter - ppq5': 0.03625022315600757,\n",
       "  'Jitter - ddp': 0.10235411310669867},\n",
       " 'data/cleaned_audio\\\\trial_lie_audio_058.wav': {'Jitter - local': 0.05977811563818279,\n",
       "  'Jitter - local, absolute': 0.00035242303244209684,\n",
       "  'Jitter - rap': 0.03088642270596214,\n",
       "  'Jitter - ppq5': 0.034256722844064856,\n",
       "  'Jitter - ddp': 0.09265926811788641},\n",
       " 'data/cleaned_audio\\\\trial_lie_audio_059.wav': {'Jitter - local': 0.06779701168099579,\n",
       "  'Jitter - local, absolute': 0.0004279405915393949,\n",
       "  'Jitter - rap': 0.03505425247818039,\n",
       "  'Jitter - ppq5': 0.03628147806943408,\n",
       "  'Jitter - ddp': 0.10516275743454118},\n",
       " 'data/cleaned_audio\\\\trial_lie_audio_060.wav': {'Jitter - local': 0.0703799958518649,\n",
       "  'Jitter - local, absolute': 0.00028673374038450377,\n",
       "  'Jitter - rap': 0.03640008599156198,\n",
       "  'Jitter - ppq5': 0.040707507350246336,\n",
       "  'Jitter - ddp': 0.10920025797468594},\n",
       " 'data/cleaned_audio\\\\trial_lie_audio_061.wav': {'Jitter - local': 0.07334240639329637,\n",
       "  'Jitter - local, absolute': 0.00046260845374652867,\n",
       "  'Jitter - rap': 0.036336309311984984,\n",
       "  'Jitter - ppq5': 0.03881074811015874,\n",
       "  'Jitter - ddp': 0.10900892793595496},\n",
       " 'data/cleaned_audio\\\\trial_truth_audio_001.wav': {'Jitter - local': 0.05200195253210512,\n",
       "  'Jitter - local, absolute': 0.0002362164414897973,\n",
       "  'Jitter - rap': 0.025880554529431728,\n",
       "  'Jitter - ppq5': 0.02531343235221362,\n",
       "  'Jitter - ddp': 0.07764166358829519},\n",
       " 'data/cleaned_audio\\\\trial_truth_audio_002.wav': {'Jitter - local': 0.04388051630622415,\n",
       "  'Jitter - local, absolute': 0.000211072114455613,\n",
       "  'Jitter - rap': 0.022604998765085038,\n",
       "  'Jitter - ppq5': 0.022684663376886027,\n",
       "  'Jitter - ddp': 0.06781499629525511},\n",
       " 'data/cleaned_audio\\\\trial_truth_audio_003.wav': {'Jitter - local': 0.09002555303880547,\n",
       "  'Jitter - local, absolute': 0.00043412130994836286,\n",
       "  'Jitter - rap': 0.04830028596859513,\n",
       "  'Jitter - ppq5': 0.05019593429099116,\n",
       "  'Jitter - ddp': 0.14490085790578539},\n",
       " 'data/cleaned_audio\\\\trial_truth_audio_004.wav': {'Jitter - local': 0.07893620116119694,\n",
       "  'Jitter - local, absolute': 0.00037042906594117323,\n",
       "  'Jitter - rap': 0.04246847073242907,\n",
       "  'Jitter - ppq5': 0.04238563225390344,\n",
       "  'Jitter - ddp': 0.1274054121972872},\n",
       " 'data/cleaned_audio\\\\trial_truth_audio_005.wav': {'Jitter - local': 0.07936210368985809,\n",
       "  'Jitter - local, absolute': 0.00034225241545091193,\n",
       "  'Jitter - rap': 0.042449284058175774,\n",
       "  'Jitter - ppq5': 0.044611039053255516,\n",
       "  'Jitter - ddp': 0.12734785217452732},\n",
       " 'data/cleaned_audio\\\\trial_truth_audio_006.wav': {'Jitter - local': 0.07732128126470533,\n",
       "  'Jitter - local, absolute': 0.0003794129624996293,\n",
       "  'Jitter - rap': 0.04330564667159514,\n",
       "  'Jitter - ppq5': 0.04405021852164655,\n",
       "  'Jitter - ddp': 0.1299169400147854},\n",
       " 'data/cleaned_audio\\\\trial_truth_audio_007.wav': {'Jitter - local': 0.07972456116721363,\n",
       "  'Jitter - local, absolute': 0.0003881098486301597,\n",
       "  'Jitter - rap': 0.041655194020271874,\n",
       "  'Jitter - ppq5': 0.04274661431957827,\n",
       "  'Jitter - ddp': 0.12496558206081562},\n",
       " 'data/cleaned_audio\\\\trial_truth_audio_008.wav': {'Jitter - local': 0.08131860082842808,\n",
       "  'Jitter - local, absolute': 0.0005919494113760654,\n",
       "  'Jitter - rap': 0.04310867112411158,\n",
       "  'Jitter - ppq5': 0.04901871029414306,\n",
       "  'Jitter - ddp': 0.12932601337233474},\n",
       " 'data/cleaned_audio\\\\trial_truth_audio_009.wav': {'Jitter - local': 0.08633327913433275,\n",
       "  'Jitter - local, absolute': 0.0006755249794039806,\n",
       "  'Jitter - rap': 0.04563574314798278,\n",
       "  'Jitter - ppq5': 0.05097295338404755,\n",
       "  'Jitter - ddp': 0.13690722944394834},\n",
       " 'data/cleaned_audio\\\\trial_truth_audio_010.wav': {'Jitter - local': 0.07826652527362184,\n",
       "  'Jitter - local, absolute': 0.0006094259905252057,\n",
       "  'Jitter - rap': 0.0404762244688438,\n",
       "  'Jitter - ppq5': 0.04501542331159414,\n",
       "  'Jitter - ddp': 0.1214286734065314},\n",
       " 'data/cleaned_audio\\\\trial_truth_audio_011.wav': {'Jitter - local': 0.08357813304635293,\n",
       "  'Jitter - local, absolute': 0.0006666740467085467,\n",
       "  'Jitter - rap': 0.04443394989707344,\n",
       "  'Jitter - ppq5': 0.05006937352121058,\n",
       "  'Jitter - ddp': 0.1333018496912203},\n",
       " 'data/cleaned_audio\\\\trial_truth_audio_012.wav': {'Jitter - local': 0.08248262544002787,\n",
       "  'Jitter - local, absolute': 0.0005795891241678115,\n",
       "  'Jitter - rap': 0.04322638631851703,\n",
       "  'Jitter - ppq5': 0.04937690256350288,\n",
       "  'Jitter - ddp': 0.1296791589555511},\n",
       " 'data/cleaned_audio\\\\trial_truth_audio_013.wav': {'Jitter - local': 0.08976678777489489,\n",
       "  'Jitter - local, absolute': 0.0006388559843572132,\n",
       "  'Jitter - rap': 0.04813491943185572,\n",
       "  'Jitter - ppq5': 0.054578260934247,\n",
       "  'Jitter - ddp': 0.14440475829556718},\n",
       " 'data/cleaned_audio\\\\trial_truth_audio_014.wav': {'Jitter - local': 0.08315176063942828,\n",
       "  'Jitter - local, absolute': 0.0005126064401671106,\n",
       "  'Jitter - rap': 0.04340279976008056,\n",
       "  'Jitter - ppq5': 0.05169949021105434,\n",
       "  'Jitter - ddp': 0.1302083992802417},\n",
       " 'data/cleaned_audio\\\\trial_truth_audio_015.wav': {'Jitter - local': 0.08007939467688648,\n",
       "  'Jitter - local, absolute': 0.0005297113167157591,\n",
       "  'Jitter - rap': 0.04204884329974253,\n",
       "  'Jitter - ppq5': 0.04609141678227579,\n",
       "  'Jitter - ddp': 0.1261465298992276},\n",
       " 'data/cleaned_audio\\\\trial_truth_audio_016.wav': {'Jitter - local': 0.06987697106773032,\n",
       "  'Jitter - local, absolute': 0.00030786575574664934,\n",
       "  'Jitter - rap': 0.03526188647169827,\n",
       "  'Jitter - ppq5': 0.03754749615324945,\n",
       "  'Jitter - ddp': 0.10578565941509481},\n",
       " 'data/cleaned_audio\\\\trial_truth_audio_017.wav': {'Jitter - local': 0.06463537962412774,\n",
       "  'Jitter - local, absolute': 0.0003880413473699068,\n",
       "  'Jitter - rap': 0.033010572436791306,\n",
       "  'Jitter - ppq5': 0.0347660557184766,\n",
       "  'Jitter - ddp': 0.09903171731037391},\n",
       " 'data/cleaned_audio\\\\trial_truth_audio_018.wav': {'Jitter - local': 0.0781764637040344,\n",
       "  'Jitter - local, absolute': 0.0005851685802353387,\n",
       "  'Jitter - rap': 0.04095775894324138,\n",
       "  'Jitter - ppq5': 0.04063464191434221,\n",
       "  'Jitter - ddp': 0.12287327682972413},\n",
       " 'data/cleaned_audio\\\\trial_truth_audio_019.wav': {'Jitter - local': 0.07367265055528192,\n",
       "  'Jitter - local, absolute': 0.0006441286142888838,\n",
       "  'Jitter - rap': 0.0384331736229117,\n",
       "  'Jitter - ppq5': 0.0402992549351528,\n",
       "  'Jitter - ddp': 0.1152995208687351},\n",
       " 'data/cleaned_audio\\\\trial_truth_audio_020.wav': {'Jitter - local': 0.04825161256092962,\n",
       "  'Jitter - local, absolute': 0.00040756983815122804,\n",
       "  'Jitter - rap': 0.02404095894693405,\n",
       "  'Jitter - ppq5': 0.02361837050269282,\n",
       "  'Jitter - ddp': 0.07212287684080215},\n",
       " 'data/cleaned_audio\\\\trial_truth_audio_021.wav': {'Jitter - local': 0.06287950487258047,\n",
       "  'Jitter - local, absolute': 0.0002640713001362508,\n",
       "  'Jitter - rap': 0.03169259917964234,\n",
       "  'Jitter - ppq5': 0.034912857059469116,\n",
       "  'Jitter - ddp': 0.095077797538927},\n",
       " 'data/cleaned_audio\\\\trial_truth_audio_022.wav': {'Jitter - local': 0.05387818504444732,\n",
       "  'Jitter - local, absolute': 0.0005505401497058047,\n",
       "  'Jitter - rap': 0.025885682362698528,\n",
       "  'Jitter - ppq5': 0.02803147894652084,\n",
       "  'Jitter - ddp': 0.07765704708809558},\n",
       " 'data/cleaned_audio\\\\trial_truth_audio_023.wav': {'Jitter - local': 0.04880199048351457,\n",
       "  'Jitter - local, absolute': 0.0002636398589199049,\n",
       "  'Jitter - rap': 0.023566190655597483,\n",
       "  'Jitter - ppq5': 0.023765435535149,\n",
       "  'Jitter - ddp': 0.07069857196679245},\n",
       " 'data/cleaned_audio\\\\trial_truth_audio_024.wav': {'Jitter - local': 0.07653202962062018,\n",
       "  'Jitter - local, absolute': 0.0008602875587854422,\n",
       "  'Jitter - rap': 0.03911773434194426,\n",
       "  'Jitter - ppq5': 0.04123280547911189,\n",
       "  'Jitter - ddp': 0.11735320302583277},\n",
       " 'data/cleaned_audio\\\\trial_truth_audio_025.wav': {'Jitter - local': 0.0749346487940858,\n",
       "  'Jitter - local, absolute': 0.0007496094368868119,\n",
       "  'Jitter - rap': 0.03890255795588711,\n",
       "  'Jitter - ppq5': 0.043147816887789535,\n",
       "  'Jitter - ddp': 0.11670767386766133},\n",
       " 'data/cleaned_audio\\\\trial_truth_audio_026.wav': {'Jitter - local': 0.09858957701085166,\n",
       "  'Jitter - local, absolute': 0.0007668548293774078,\n",
       "  'Jitter - rap': 0.04843564266412848,\n",
       "  'Jitter - ppq5': 0.05618492883885408,\n",
       "  'Jitter - ddp': 0.14530692799238545},\n",
       " 'data/cleaned_audio\\\\trial_truth_audio_027.wav': {'Jitter - local': 0.04588015949391095,\n",
       "  'Jitter - local, absolute': 0.00021752845726503758,\n",
       "  'Jitter - rap': 0.022947682184339152,\n",
       "  'Jitter - ppq5': 0.02196969868234304,\n",
       "  'Jitter - ddp': 0.06884304655301746},\n",
       " 'data/cleaned_audio\\\\trial_truth_audio_028.wav': {'Jitter - local': 0.08153336441323039,\n",
       "  'Jitter - local, absolute': 0.0005445633608661256,\n",
       "  'Jitter - rap': 0.04354393888434858,\n",
       "  'Jitter - ppq5': 0.05255062091781311,\n",
       "  'Jitter - ddp': 0.13063181665304574},\n",
       " 'data/cleaned_audio\\\\trial_truth_audio_029.wav': {'Jitter - local': 0.0791316325348054,\n",
       "  'Jitter - local, absolute': 0.00040205223119303533,\n",
       "  'Jitter - rap': 0.04260783616103768,\n",
       "  'Jitter - ppq5': 0.042489279844703805,\n",
       "  'Jitter - ddp': 0.12782350848311302},\n",
       " 'data/cleaned_audio\\\\trial_truth_audio_030.wav': {'Jitter - local': 0.10267348894991625,\n",
       "  'Jitter - local, absolute': 0.000662561027532125,\n",
       "  'Jitter - rap': 0.05373571981338921,\n",
       "  'Jitter - ppq5': 0.059824287642879274,\n",
       "  'Jitter - ddp': 0.16120715944016764},\n",
       " 'data/cleaned_audio\\\\trial_truth_audio_031.wav': {'Jitter - local': 0.07906717617692828,\n",
       "  'Jitter - local, absolute': 0.00042557813695538857,\n",
       "  'Jitter - rap': 0.04124827535361837,\n",
       "  'Jitter - ppq5': 0.04102119643452696,\n",
       "  'Jitter - ddp': 0.12374482606085511},\n",
       " 'data/cleaned_audio\\\\trial_truth_audio_032.wav': {'Jitter - local': 0.09265990478873448,\n",
       "  'Jitter - local, absolute': 0.0008142602752752017,\n",
       "  'Jitter - rap': 0.048867253692045975,\n",
       "  'Jitter - ppq5': 0.051317425659239586,\n",
       "  'Jitter - ddp': 0.14660176107613793},\n",
       " 'data/cleaned_audio\\\\trial_truth_audio_033.wav': {'Jitter - local': 0.08257405967779476,\n",
       "  'Jitter - local, absolute': 0.000472682948586798,\n",
       "  'Jitter - rap': 0.04139316772516521,\n",
       "  'Jitter - ppq5': 0.041780574098451366,\n",
       "  'Jitter - ddp': 0.12417950317549561},\n",
       " 'data/cleaned_audio\\\\trial_truth_audio_034.wav': {'Jitter - local': 0.1033859459917871,\n",
       "  'Jitter - local, absolute': 0.0006154420605338953,\n",
       "  'Jitter - rap': 0.05305766158979659,\n",
       "  'Jitter - ppq5': 0.055997927642425324,\n",
       "  'Jitter - ddp': 0.1591729847693898},\n",
       " 'data/cleaned_audio\\\\trial_truth_audio_035.wav': {'Jitter - local': 0.06634425119681277,\n",
       "  'Jitter - local, absolute': 0.000643232463551332,\n",
       "  'Jitter - rap': 0.034870696444557404,\n",
       "  'Jitter - ppq5': 0.03633533386878078,\n",
       "  'Jitter - ddp': 0.10461208933367222},\n",
       " 'data/cleaned_audio\\\\trial_truth_audio_036.wav': {'Jitter - local': 0.07313089370356216,\n",
       "  'Jitter - local, absolute': 0.0007261420785349532,\n",
       "  'Jitter - rap': 0.03907531446562256,\n",
       "  'Jitter - ppq5': 0.04014148456665761,\n",
       "  'Jitter - ddp': 0.11722594339686768},\n",
       " 'data/cleaned_audio\\\\trial_truth_audio_037.wav': {'Jitter - local': 0.05109556930182329,\n",
       "  'Jitter - local, absolute': 0.0002858103919560903,\n",
       "  'Jitter - rap': 0.02625444111229651,\n",
       "  'Jitter - ppq5': 0.025524921930909147,\n",
       "  'Jitter - ddp': 0.07876332333688953},\n",
       " 'data/cleaned_audio\\\\trial_truth_audio_038.wav': {'Jitter - local': 0.056994039315482074,\n",
       "  'Jitter - local, absolute': 0.00048632525012069576,\n",
       "  'Jitter - rap': 0.032220876971294804,\n",
       "  'Jitter - ppq5': 0.030529255168988988,\n",
       "  'Jitter - ddp': 0.09666263091388441},\n",
       " 'data/cleaned_audio\\\\trial_truth_audio_039.wav': {'Jitter - local': nan,\n",
       "  'Jitter - local, absolute': 'Unable to extract',\n",
       "  'Jitter - rap': 'Unable to extract',\n",
       "  'Jitter - ppq5': 'Unable to extract',\n",
       "  'Jitter - ddp': 'Unable to extract'},\n",
       " 'data/cleaned_audio\\\\trial_truth_audio_040.wav': {'Jitter - local': 0.08829042619508959,\n",
       "  'Jitter - local, absolute': 0.0004270922729334163,\n",
       "  'Jitter - rap': 0.048340913726866656,\n",
       "  'Jitter - ppq5': 0.05388248092540669,\n",
       "  'Jitter - ddp': 0.14502274118059996},\n",
       " 'data/cleaned_audio\\\\trial_truth_audio_041.wav': {'Jitter - local': 0.08094073940181093,\n",
       "  'Jitter - local, absolute': 0.0005912959894240436,\n",
       "  'Jitter - rap': 0.04243009124839954,\n",
       "  'Jitter - ppq5': 0.045040612998741895,\n",
       "  'Jitter - ddp': 0.12729027374519863},\n",
       " 'data/cleaned_audio\\\\trial_truth_audio_042.wav': {'Jitter - local': 0.08703861813238593,\n",
       "  'Jitter - local, absolute': 0.0006448783562825673,\n",
       "  'Jitter - rap': 0.044727775447572074,\n",
       "  'Jitter - ppq5': 0.04865850403276897,\n",
       "  'Jitter - ddp': 0.13418332634271624},\n",
       " 'data/cleaned_audio\\\\trial_truth_audio_043.wav': {'Jitter - local': 0.08238774025198346,\n",
       "  'Jitter - local, absolute': 0.0006931659271610447,\n",
       "  'Jitter - rap': 0.042078034279466374,\n",
       "  'Jitter - ppq5': 0.04790626974478864,\n",
       "  'Jitter - ddp': 0.12623410283839911},\n",
       " 'data/cleaned_audio\\\\trial_truth_audio_044.wav': {'Jitter - local': 0.08724054561438789,\n",
       "  'Jitter - local, absolute': 0.0005769915682260511,\n",
       "  'Jitter - rap': 0.046075226753715504,\n",
       "  'Jitter - ppq5': 0.04888752267482446,\n",
       "  'Jitter - ddp': 0.1382256802611465},\n",
       " 'data/cleaned_audio\\\\trial_truth_audio_045.wav': {'Jitter - local': 0.076051195192521,\n",
       "  'Jitter - local, absolute': 0.0003812077040438893,\n",
       "  'Jitter - rap': 0.039108786807540874,\n",
       "  'Jitter - ppq5': 0.04086084364200849,\n",
       "  'Jitter - ddp': 0.11732636042262262},\n",
       " 'data/cleaned_audio\\\\trial_truth_audio_046.wav': {'Jitter - local': 0.07533680070161729,\n",
       "  'Jitter - local, absolute': 0.0005553539563480263,\n",
       "  'Jitter - rap': 0.039002052097396454,\n",
       "  'Jitter - ppq5': 0.04285883617483376,\n",
       "  'Jitter - ddp': 0.11700615629218936},\n",
       " 'data/cleaned_audio\\\\trial_truth_audio_047.wav': {'Jitter - local': 0.08693422230764555,\n",
       "  'Jitter - local, absolute': 0.0007990492079029196,\n",
       "  'Jitter - rap': 0.04380492159693088,\n",
       "  'Jitter - ppq5': 0.04929610772315874,\n",
       "  'Jitter - ddp': 0.13141476479079264},\n",
       " 'data/cleaned_audio\\\\trial_truth_audio_048.wav': {'Jitter - local': 0.08601441189742402,\n",
       "  'Jitter - local, absolute': 0.0006717828188797725,\n",
       "  'Jitter - rap': 0.04520317506134926,\n",
       "  'Jitter - ppq5': 0.05083189495787447,\n",
       "  'Jitter - ddp': 0.13560952518404779},\n",
       " 'data/cleaned_audio\\\\trial_truth_audio_049.wav': {'Jitter - local': 0.08667714793248486,\n",
       "  'Jitter - local, absolute': 0.00046169191975662267,\n",
       "  'Jitter - rap': 0.04407590768337305,\n",
       "  'Jitter - ppq5': 0.047309011821421484,\n",
       "  'Jitter - ddp': 0.13222772305011915},\n",
       " 'data/cleaned_audio\\\\trial_truth_audio_050.wav': {'Jitter - local': 0.08286812697758572,\n",
       "  'Jitter - local, absolute': 0.0006894065980635951,\n",
       "  'Jitter - rap': 0.04467336979421576,\n",
       "  'Jitter - ppq5': 0.04977755532814822,\n",
       "  'Jitter - ddp': 0.13402010938264727},\n",
       " 'data/cleaned_audio\\\\trial_truth_audio_051.wav': {'Jitter - local': 0.06568552173279672,\n",
       "  'Jitter - local, absolute': 0.0003534186559181601,\n",
       "  'Jitter - rap': 0.030464740808584783,\n",
       "  'Jitter - ppq5': 0.027189796701853414,\n",
       "  'Jitter - ddp': 0.09139422242575435},\n",
       " 'data/cleaned_audio\\\\trial_truth_audio_052.wav': {'Jitter - local': 0.05842569511581243,\n",
       "  'Jitter - local, absolute': 0.000250460855447659,\n",
       "  'Jitter - rap': 0.030428739376720592,\n",
       "  'Jitter - ppq5': 0.030369513025067685,\n",
       "  'Jitter - ddp': 0.09128621813016177},\n",
       " 'data/cleaned_audio\\\\trial_truth_audio_053.wav': {'Jitter - local': 0.05546205173321944,\n",
       "  'Jitter - local, absolute': 0.0002469707810302319,\n",
       "  'Jitter - rap': 0.030845816556237297,\n",
       "  'Jitter - ppq5': 0.03283346698982406,\n",
       "  'Jitter - ddp': 0.09253744966871189},\n",
       " 'data/cleaned_audio\\\\trial_truth_audio_054.wav': {'Jitter - local': 0.09328158458547174,\n",
       "  'Jitter - local, absolute': 0.0004489015698267095,\n",
       "  'Jitter - rap': 0.04856356864282408,\n",
       "  'Jitter - ppq5': 0.050774225710702774,\n",
       "  'Jitter - ddp': 0.14569070592847225},\n",
       " 'data/cleaned_audio\\\\trial_truth_audio_055.wav': {'Jitter - local': 0.08533446516686934,\n",
       "  'Jitter - local, absolute': 0.00040065112676547206,\n",
       "  'Jitter - rap': 0.04437556859496211,\n",
       "  'Jitter - ppq5': 0.04683551850722487,\n",
       "  'Jitter - ddp': 0.13312670578488633},\n",
       " 'data/cleaned_audio\\\\trial_truth_audio_056.wav': {'Jitter - local': 0.08074062209684972,\n",
       "  'Jitter - local, absolute': 0.00039938635982853367,\n",
       "  'Jitter - rap': 0.042642407036810576,\n",
       "  'Jitter - ppq5': 0.04384485662694927,\n",
       "  'Jitter - ddp': 0.12792722111043173},\n",
       " 'data/cleaned_audio\\\\trial_truth_audio_057.wav': {'Jitter - local': 0.04595381998911679,\n",
       "  'Jitter - local, absolute': 0.0001948336075938602,\n",
       "  'Jitter - rap': 0.02501771860089926,\n",
       "  'Jitter - ppq5': 0.023296456724844893,\n",
       "  'Jitter - ddp': 0.07505315580269778},\n",
       " 'data/cleaned_audio\\\\trial_truth_audio_058.wav': {'Jitter - local': 0.04144052759657762,\n",
       "  'Jitter - local, absolute': 0.00018173391944504845,\n",
       "  'Jitter - rap': 0.02292672925739348,\n",
       "  'Jitter - ppq5': 0.020911525670843246,\n",
       "  'Jitter - ddp': 0.06878018777218045},\n",
       " 'data/cleaned_audio\\\\trial_truth_audio_059.wav': {'Jitter - local': nan,\n",
       "  'Jitter - local, absolute': 'Unable to extract',\n",
       "  'Jitter - rap': 'Unable to extract',\n",
       "  'Jitter - ppq5': 'Unable to extract',\n",
       "  'Jitter - ddp': 'Unable to extract'},\n",
       " 'data/cleaned_audio\\\\trial_truth_audio_060.wav': {'Jitter - local': 0.06224115063123806,\n",
       "  'Jitter - local, absolute': 0.00029772588246027243,\n",
       "  'Jitter - rap': 0.033522540457293144,\n",
       "  'Jitter - ppq5': 0.03557932626929431,\n",
       "  'Jitter - ddp': 0.10056762137187944}}"
      ]
     },
     "execution_count": 14,
     "metadata": {},
     "output_type": "execute_result"
    }
   ],
   "source": [
    "other_audio_feature_list"
   ]
  },
  {
   "cell_type": "code",
   "execution_count": 15,
   "metadata": {},
   "outputs": [],
   "source": [
    "#This creates a new dataframe containing the extracted jitter features. \n",
    "df_jitter = pd.DataFrame.from_dict(other_audio_feature_list,orient='index')\n",
    "df_jitter.replace('Unable to extract',np.nan, inplace=True)"
   ]
  },
  {
   "cell_type": "code",
   "execution_count": 16,
   "metadata": {
    "scrolled": true
   },
   "outputs": [
    {
     "data": {
      "text/html": [
       "<div>\n",
       "<style scoped>\n",
       "    .dataframe tbody tr th:only-of-type {\n",
       "        vertical-align: middle;\n",
       "    }\n",
       "\n",
       "    .dataframe tbody tr th {\n",
       "        vertical-align: top;\n",
       "    }\n",
       "\n",
       "    .dataframe thead th {\n",
       "        text-align: right;\n",
       "    }\n",
       "</style>\n",
       "<table border=\"1\" class=\"dataframe\">\n",
       "  <thead>\n",
       "    <tr style=\"text-align: right;\">\n",
       "      <th></th>\n",
       "      <th>Jitter - local</th>\n",
       "      <th>Jitter - local, absolute</th>\n",
       "      <th>Jitter - rap</th>\n",
       "      <th>Jitter - ppq5</th>\n",
       "      <th>Jitter - ddp</th>\n",
       "    </tr>\n",
       "  </thead>\n",
       "  <tbody>\n",
       "    <tr>\n",
       "      <th>data/cleaned_audio\\trial_lie_audio_001.wav</th>\n",
       "      <td>0.061507</td>\n",
       "      <td>0.000299</td>\n",
       "      <td>0.032612</td>\n",
       "      <td>0.031032</td>\n",
       "      <td>0.097837</td>\n",
       "    </tr>\n",
       "    <tr>\n",
       "      <th>data/cleaned_audio\\trial_lie_audio_002.wav</th>\n",
       "      <td>0.046965</td>\n",
       "      <td>0.000212</td>\n",
       "      <td>0.025659</td>\n",
       "      <td>0.023041</td>\n",
       "      <td>0.076978</td>\n",
       "    </tr>\n",
       "    <tr>\n",
       "      <th>data/cleaned_audio\\trial_lie_audio_003.wav</th>\n",
       "      <td>0.049203</td>\n",
       "      <td>0.000288</td>\n",
       "      <td>0.027463</td>\n",
       "      <td>0.024932</td>\n",
       "      <td>0.082389</td>\n",
       "    </tr>\n",
       "    <tr>\n",
       "      <th>data/cleaned_audio\\trial_lie_audio_004.wav</th>\n",
       "      <td>0.041626</td>\n",
       "      <td>0.000192</td>\n",
       "      <td>0.022763</td>\n",
       "      <td>0.019899</td>\n",
       "      <td>0.068290</td>\n",
       "    </tr>\n",
       "    <tr>\n",
       "      <th>data/cleaned_audio\\trial_lie_audio_005.wav</th>\n",
       "      <td>0.051145</td>\n",
       "      <td>0.000228</td>\n",
       "      <td>0.028416</td>\n",
       "      <td>0.024742</td>\n",
       "      <td>0.085249</td>\n",
       "    </tr>\n",
       "    <tr>\n",
       "      <th>...</th>\n",
       "      <td>...</td>\n",
       "      <td>...</td>\n",
       "      <td>...</td>\n",
       "      <td>...</td>\n",
       "      <td>...</td>\n",
       "    </tr>\n",
       "    <tr>\n",
       "      <th>data/cleaned_audio\\trial_truth_audio_056.wav</th>\n",
       "      <td>0.080741</td>\n",
       "      <td>0.000399</td>\n",
       "      <td>0.042642</td>\n",
       "      <td>0.043845</td>\n",
       "      <td>0.127927</td>\n",
       "    </tr>\n",
       "    <tr>\n",
       "      <th>data/cleaned_audio\\trial_truth_audio_057.wav</th>\n",
       "      <td>0.045954</td>\n",
       "      <td>0.000195</td>\n",
       "      <td>0.025018</td>\n",
       "      <td>0.023296</td>\n",
       "      <td>0.075053</td>\n",
       "    </tr>\n",
       "    <tr>\n",
       "      <th>data/cleaned_audio\\trial_truth_audio_058.wav</th>\n",
       "      <td>0.041441</td>\n",
       "      <td>0.000182</td>\n",
       "      <td>0.022927</td>\n",
       "      <td>0.020912</td>\n",
       "      <td>0.068780</td>\n",
       "    </tr>\n",
       "    <tr>\n",
       "      <th>data/cleaned_audio\\trial_truth_audio_059.wav</th>\n",
       "      <td>NaN</td>\n",
       "      <td>NaN</td>\n",
       "      <td>NaN</td>\n",
       "      <td>NaN</td>\n",
       "      <td>NaN</td>\n",
       "    </tr>\n",
       "    <tr>\n",
       "      <th>data/cleaned_audio\\trial_truth_audio_060.wav</th>\n",
       "      <td>0.062241</td>\n",
       "      <td>0.000298</td>\n",
       "      <td>0.033523</td>\n",
       "      <td>0.035579</td>\n",
       "      <td>0.100568</td>\n",
       "    </tr>\n",
       "  </tbody>\n",
       "</table>\n",
       "<p>121 rows × 5 columns</p>\n",
       "</div>"
      ],
      "text/plain": [
       "                                              Jitter - local  \\\n",
       "data/cleaned_audio\\trial_lie_audio_001.wav          0.061507   \n",
       "data/cleaned_audio\\trial_lie_audio_002.wav          0.046965   \n",
       "data/cleaned_audio\\trial_lie_audio_003.wav          0.049203   \n",
       "data/cleaned_audio\\trial_lie_audio_004.wav          0.041626   \n",
       "data/cleaned_audio\\trial_lie_audio_005.wav          0.051145   \n",
       "...                                                      ...   \n",
       "data/cleaned_audio\\trial_truth_audio_056.wav        0.080741   \n",
       "data/cleaned_audio\\trial_truth_audio_057.wav        0.045954   \n",
       "data/cleaned_audio\\trial_truth_audio_058.wav        0.041441   \n",
       "data/cleaned_audio\\trial_truth_audio_059.wav             NaN   \n",
       "data/cleaned_audio\\trial_truth_audio_060.wav        0.062241   \n",
       "\n",
       "                                              Jitter - local, absolute  \\\n",
       "data/cleaned_audio\\trial_lie_audio_001.wav                    0.000299   \n",
       "data/cleaned_audio\\trial_lie_audio_002.wav                    0.000212   \n",
       "data/cleaned_audio\\trial_lie_audio_003.wav                    0.000288   \n",
       "data/cleaned_audio\\trial_lie_audio_004.wav                    0.000192   \n",
       "data/cleaned_audio\\trial_lie_audio_005.wav                    0.000228   \n",
       "...                                                                ...   \n",
       "data/cleaned_audio\\trial_truth_audio_056.wav                  0.000399   \n",
       "data/cleaned_audio\\trial_truth_audio_057.wav                  0.000195   \n",
       "data/cleaned_audio\\trial_truth_audio_058.wav                  0.000182   \n",
       "data/cleaned_audio\\trial_truth_audio_059.wav                       NaN   \n",
       "data/cleaned_audio\\trial_truth_audio_060.wav                  0.000298   \n",
       "\n",
       "                                              Jitter - rap  Jitter - ppq5  \\\n",
       "data/cleaned_audio\\trial_lie_audio_001.wav        0.032612       0.031032   \n",
       "data/cleaned_audio\\trial_lie_audio_002.wav        0.025659       0.023041   \n",
       "data/cleaned_audio\\trial_lie_audio_003.wav        0.027463       0.024932   \n",
       "data/cleaned_audio\\trial_lie_audio_004.wav        0.022763       0.019899   \n",
       "data/cleaned_audio\\trial_lie_audio_005.wav        0.028416       0.024742   \n",
       "...                                                    ...            ...   \n",
       "data/cleaned_audio\\trial_truth_audio_056.wav      0.042642       0.043845   \n",
       "data/cleaned_audio\\trial_truth_audio_057.wav      0.025018       0.023296   \n",
       "data/cleaned_audio\\trial_truth_audio_058.wav      0.022927       0.020912   \n",
       "data/cleaned_audio\\trial_truth_audio_059.wav           NaN            NaN   \n",
       "data/cleaned_audio\\trial_truth_audio_060.wav      0.033523       0.035579   \n",
       "\n",
       "                                              Jitter - ddp  \n",
       "data/cleaned_audio\\trial_lie_audio_001.wav        0.097837  \n",
       "data/cleaned_audio\\trial_lie_audio_002.wav        0.076978  \n",
       "data/cleaned_audio\\trial_lie_audio_003.wav        0.082389  \n",
       "data/cleaned_audio\\trial_lie_audio_004.wav        0.068290  \n",
       "data/cleaned_audio\\trial_lie_audio_005.wav        0.085249  \n",
       "...                                                    ...  \n",
       "data/cleaned_audio\\trial_truth_audio_056.wav      0.127927  \n",
       "data/cleaned_audio\\trial_truth_audio_057.wav      0.075053  \n",
       "data/cleaned_audio\\trial_truth_audio_058.wav      0.068780  \n",
       "data/cleaned_audio\\trial_truth_audio_059.wav           NaN  \n",
       "data/cleaned_audio\\trial_truth_audio_060.wav      0.100568  \n",
       "\n",
       "[121 rows x 5 columns]"
      ]
     },
     "execution_count": 16,
     "metadata": {},
     "output_type": "execute_result"
    }
   ],
   "source": [
    "df_jitter"
   ]
  },
  {
   "cell_type": "markdown",
   "metadata": {},
   "source": [
    "### Pull in transcripts data"
   ]
  },
  {
   "cell_type": "markdown",
   "metadata": {},
   "source": [
    "While it is possible to use automated transcription from the audio files, manual transcriptions exist of the truthful and unthruthful statements. These exist in text documents in the ./Part 2/data/words/ relative pathway. File names correspond to the respective truth or lie audio."
   ]
  },
  {
   "cell_type": "code",
   "execution_count": 19,
   "metadata": {},
   "outputs": [],
   "source": [
    "#Create a list of all files for iterating through \n",
    "statement_transcriptions=glob('data/words/*.txt')\n",
    "# statement_transcriptions"
   ]
  },
  {
   "cell_type": "code",
   "execution_count": 20,
   "metadata": {},
   "outputs": [],
   "source": [
    "#This iterates through the transcript files (in txt format) located in the ./data/words/ pathway and\n",
    "#appends adds the statements to a dictionary that can be used to import into the libaray\n",
    "transcription_dictionary = {}\n",
    "\n",
    "for i in statement_transcriptions:\n",
    "    transcript_file_location = i\n",
    "    transcript_file = open(transcript_file_location, \"r\",encoding=\"utf8\")\n",
    "    transcript_lines = transcript_file.readlines()\n",
    "    transcription_dictionary.update({transcript_file.name:transcript_lines})"
   ]
  },
  {
   "cell_type": "code",
   "execution_count": 22,
   "metadata": {},
   "outputs": [
    {
     "data": {
      "text/html": [
       "<div>\n",
       "<style scoped>\n",
       "    .dataframe tbody tr th:only-of-type {\n",
       "        vertical-align: middle;\n",
       "    }\n",
       "\n",
       "    .dataframe tbody tr th {\n",
       "        vertical-align: top;\n",
       "    }\n",
       "\n",
       "    .dataframe thead th {\n",
       "        text-align: right;\n",
       "    }\n",
       "</style>\n",
       "<table border=\"1\" class=\"dataframe\">\n",
       "  <thead>\n",
       "    <tr style=\"text-align: right;\">\n",
       "      <th></th>\n",
       "      <th>transcription</th>\n",
       "    </tr>\n",
       "  </thead>\n",
       "  <tbody>\n",
       "    <tr>\n",
       "      <th>data/words\\trial_lie_001.txt</th>\n",
       "      <td>No sir I did not. I absolutely did not. No sir...</td>\n",
       "    </tr>\n",
       "    <tr>\n",
       "      <th>data/words\\trial_lie_002.txt</th>\n",
       "      <td>... and she approached me, and at that time th...</td>\n",
       "    </tr>\n",
       "    <tr>\n",
       "      <th>data/words\\trial_lie_003.txt</th>\n",
       "      <td>No sir I was not, not at all.</td>\n",
       "    </tr>\n",
       "    <tr>\n",
       "      <th>data/words\\trial_lie_004.txt</th>\n",
       "      <td>He had told me that he had had a dream that, a...</td>\n",
       "    </tr>\n",
       "    <tr>\n",
       "      <th>data/words\\trial_lie_005.txt</th>\n",
       "      <td>And he told me that, ammm … he was trying to f...</td>\n",
       "    </tr>\n",
       "    <tr>\n",
       "      <th>...</th>\n",
       "      <td>...</td>\n",
       "    </tr>\n",
       "    <tr>\n",
       "      <th>data/words\\trial_truth_056.txt</th>\n",
       "      <td>Mmm initially ... I've never been on Twitter, ...</td>\n",
       "    </tr>\n",
       "    <tr>\n",
       "      <th>data/words\\trial_truth_057.txt</th>\n",
       "      <td>I was born in Durango, Colorado. My mother was...</td>\n",
       "    </tr>\n",
       "    <tr>\n",
       "      <th>data/words\\trial_truth_058.txt</th>\n",
       "      <td>Um whenever I was little, um my oldest nephew ...</td>\n",
       "    </tr>\n",
       "    <tr>\n",
       "      <th>data/words\\trial_truth_059.txt</th>\n",
       "      <td>We were married for two years, and um, we divo...</td>\n",
       "    </tr>\n",
       "    <tr>\n",
       "      <th>data/words\\trial_truth_060.txt</th>\n",
       "      <td>Yes um, Reginald and I would have like long ta...</td>\n",
       "    </tr>\n",
       "  </tbody>\n",
       "</table>\n",
       "<p>121 rows × 1 columns</p>\n",
       "</div>"
      ],
      "text/plain": [
       "                                                                    transcription\n",
       "data/words\\trial_lie_001.txt    No sir I did not. I absolutely did not. No sir...\n",
       "data/words\\trial_lie_002.txt    ... and she approached me, and at that time th...\n",
       "data/words\\trial_lie_003.txt                        No sir I was not, not at all.\n",
       "data/words\\trial_lie_004.txt    He had told me that he had had a dream that, a...\n",
       "data/words\\trial_lie_005.txt    And he told me that, ammm … he was trying to f...\n",
       "...                                                                           ...\n",
       "data/words\\trial_truth_056.txt  Mmm initially ... I've never been on Twitter, ...\n",
       "data/words\\trial_truth_057.txt  I was born in Durango, Colorado. My mother was...\n",
       "data/words\\trial_truth_058.txt  Um whenever I was little, um my oldest nephew ...\n",
       "data/words\\trial_truth_059.txt  We were married for two years, and um, we divo...\n",
       "data/words\\trial_truth_060.txt  Yes um, Reginald and I would have like long ta...\n",
       "\n",
       "[121 rows x 1 columns]"
      ]
     },
     "execution_count": 22,
     "metadata": {},
     "output_type": "execute_result"
    }
   ],
   "source": [
    "#This intialises the transcription_dictionary into a pandas dataframe\n",
    "df_transcription = pd.DataFrame.from_dict(transcription_dictionary,orient='index', columns=['transcription'])\n",
    "df_transcription"
   ]
  },
  {
   "cell_type": "markdown",
   "metadata": {},
   "source": [
    "### Pull in annotated gestures data"
   ]
  },
  {
   "cell_type": "markdown",
   "metadata": {},
   "source": [
    "The annotated gesture information is contained in an CSV file in the ./data/body/ pathway. This file also contains the target class (i.e. truthful vs. deceptive) that we will keep as part of our data-set."
   ]
  },
  {
   "cell_type": "code",
   "execution_count": 24,
   "metadata": {
    "scrolled": true
   },
   "outputs": [
    {
     "data": {
      "text/html": [
       "<div>\n",
       "<style scoped>\n",
       "    .dataframe tbody tr th:only-of-type {\n",
       "        vertical-align: middle;\n",
       "    }\n",
       "\n",
       "    .dataframe tbody tr th {\n",
       "        vertical-align: top;\n",
       "    }\n",
       "\n",
       "    .dataframe thead th {\n",
       "        text-align: right;\n",
       "    }\n",
       "</style>\n",
       "<table border=\"1\" class=\"dataframe\">\n",
       "  <thead>\n",
       "    <tr style=\"text-align: right;\">\n",
       "      <th></th>\n",
       "      <th>id</th>\n",
       "      <th>OtherGestures</th>\n",
       "      <th>Smile</th>\n",
       "      <th>Laugh</th>\n",
       "      <th>Scowl</th>\n",
       "      <th>otherEyebrowMovement</th>\n",
       "      <th>Frown</th>\n",
       "      <th>Raise</th>\n",
       "      <th>OtherEyeMovements</th>\n",
       "      <th>Close-R</th>\n",
       "      <th>...</th>\n",
       "      <th>forwardHead</th>\n",
       "      <th>downRHead</th>\n",
       "      <th>singleHand</th>\n",
       "      <th>bothHands</th>\n",
       "      <th>otherHandM</th>\n",
       "      <th>complexHandM</th>\n",
       "      <th>sidewaysHand</th>\n",
       "      <th>downHands</th>\n",
       "      <th>upHands</th>\n",
       "      <th>class</th>\n",
       "    </tr>\n",
       "  </thead>\n",
       "  <tbody>\n",
       "    <tr>\n",
       "      <th>0</th>\n",
       "      <td>trial_lie_001.mp4</td>\n",
       "      <td>1</td>\n",
       "      <td>0</td>\n",
       "      <td>0</td>\n",
       "      <td>0</td>\n",
       "      <td>1</td>\n",
       "      <td>0</td>\n",
       "      <td>0</td>\n",
       "      <td>1</td>\n",
       "      <td>0</td>\n",
       "      <td>...</td>\n",
       "      <td>0</td>\n",
       "      <td>0</td>\n",
       "      <td>0</td>\n",
       "      <td>0</td>\n",
       "      <td>1</td>\n",
       "      <td>0</td>\n",
       "      <td>0</td>\n",
       "      <td>0</td>\n",
       "      <td>0</td>\n",
       "      <td>deceptive</td>\n",
       "    </tr>\n",
       "    <tr>\n",
       "      <th>1</th>\n",
       "      <td>trial_lie_002.mp4</td>\n",
       "      <td>1</td>\n",
       "      <td>0</td>\n",
       "      <td>0</td>\n",
       "      <td>0</td>\n",
       "      <td>0</td>\n",
       "      <td>1</td>\n",
       "      <td>0</td>\n",
       "      <td>1</td>\n",
       "      <td>0</td>\n",
       "      <td>...</td>\n",
       "      <td>0</td>\n",
       "      <td>0</td>\n",
       "      <td>0</td>\n",
       "      <td>1</td>\n",
       "      <td>0</td>\n",
       "      <td>1</td>\n",
       "      <td>0</td>\n",
       "      <td>0</td>\n",
       "      <td>0</td>\n",
       "      <td>deceptive</td>\n",
       "    </tr>\n",
       "    <tr>\n",
       "      <th>2</th>\n",
       "      <td>trial_lie_003.mp4</td>\n",
       "      <td>1</td>\n",
       "      <td>0</td>\n",
       "      <td>0</td>\n",
       "      <td>0</td>\n",
       "      <td>0</td>\n",
       "      <td>1</td>\n",
       "      <td>0</td>\n",
       "      <td>0</td>\n",
       "      <td>1</td>\n",
       "      <td>...</td>\n",
       "      <td>0</td>\n",
       "      <td>0</td>\n",
       "      <td>0</td>\n",
       "      <td>0</td>\n",
       "      <td>1</td>\n",
       "      <td>0</td>\n",
       "      <td>0</td>\n",
       "      <td>0</td>\n",
       "      <td>0</td>\n",
       "      <td>deceptive</td>\n",
       "    </tr>\n",
       "    <tr>\n",
       "      <th>3</th>\n",
       "      <td>trial_lie_004.mp4</td>\n",
       "      <td>1</td>\n",
       "      <td>0</td>\n",
       "      <td>0</td>\n",
       "      <td>0</td>\n",
       "      <td>1</td>\n",
       "      <td>0</td>\n",
       "      <td>0</td>\n",
       "      <td>1</td>\n",
       "      <td>0</td>\n",
       "      <td>...</td>\n",
       "      <td>0</td>\n",
       "      <td>1</td>\n",
       "      <td>0</td>\n",
       "      <td>0</td>\n",
       "      <td>1</td>\n",
       "      <td>0</td>\n",
       "      <td>0</td>\n",
       "      <td>0</td>\n",
       "      <td>0</td>\n",
       "      <td>deceptive</td>\n",
       "    </tr>\n",
       "    <tr>\n",
       "      <th>4</th>\n",
       "      <td>trial_lie_005.mp4</td>\n",
       "      <td>1</td>\n",
       "      <td>0</td>\n",
       "      <td>0</td>\n",
       "      <td>0</td>\n",
       "      <td>0</td>\n",
       "      <td>1</td>\n",
       "      <td>0</td>\n",
       "      <td>1</td>\n",
       "      <td>0</td>\n",
       "      <td>...</td>\n",
       "      <td>0</td>\n",
       "      <td>0</td>\n",
       "      <td>1</td>\n",
       "      <td>0</td>\n",
       "      <td>0</td>\n",
       "      <td>0</td>\n",
       "      <td>0</td>\n",
       "      <td>0</td>\n",
       "      <td>0</td>\n",
       "      <td>deceptive</td>\n",
       "    </tr>\n",
       "    <tr>\n",
       "      <th>...</th>\n",
       "      <td>...</td>\n",
       "      <td>...</td>\n",
       "      <td>...</td>\n",
       "      <td>...</td>\n",
       "      <td>...</td>\n",
       "      <td>...</td>\n",
       "      <td>...</td>\n",
       "      <td>...</td>\n",
       "      <td>...</td>\n",
       "      <td>...</td>\n",
       "      <td>...</td>\n",
       "      <td>...</td>\n",
       "      <td>...</td>\n",
       "      <td>...</td>\n",
       "      <td>...</td>\n",
       "      <td>...</td>\n",
       "      <td>...</td>\n",
       "      <td>...</td>\n",
       "      <td>...</td>\n",
       "      <td>...</td>\n",
       "      <td>...</td>\n",
       "    </tr>\n",
       "    <tr>\n",
       "      <th>116</th>\n",
       "      <td>trial_truth_056.mp4</td>\n",
       "      <td>1</td>\n",
       "      <td>0</td>\n",
       "      <td>0</td>\n",
       "      <td>0</td>\n",
       "      <td>1</td>\n",
       "      <td>0</td>\n",
       "      <td>0</td>\n",
       "      <td>1</td>\n",
       "      <td>0</td>\n",
       "      <td>...</td>\n",
       "      <td>0</td>\n",
       "      <td>0</td>\n",
       "      <td>1</td>\n",
       "      <td>0</td>\n",
       "      <td>0</td>\n",
       "      <td>0</td>\n",
       "      <td>0</td>\n",
       "      <td>0</td>\n",
       "      <td>1</td>\n",
       "      <td>truthful</td>\n",
       "    </tr>\n",
       "    <tr>\n",
       "      <th>117</th>\n",
       "      <td>trial_truth_057.mp4</td>\n",
       "      <td>1</td>\n",
       "      <td>0</td>\n",
       "      <td>0</td>\n",
       "      <td>0</td>\n",
       "      <td>0</td>\n",
       "      <td>0</td>\n",
       "      <td>1</td>\n",
       "      <td>0</td>\n",
       "      <td>1</td>\n",
       "      <td>...</td>\n",
       "      <td>0</td>\n",
       "      <td>1</td>\n",
       "      <td>0</td>\n",
       "      <td>0</td>\n",
       "      <td>1</td>\n",
       "      <td>0</td>\n",
       "      <td>0</td>\n",
       "      <td>0</td>\n",
       "      <td>0</td>\n",
       "      <td>truthful</td>\n",
       "    </tr>\n",
       "    <tr>\n",
       "      <th>118</th>\n",
       "      <td>trial_truth_058.mp4</td>\n",
       "      <td>1</td>\n",
       "      <td>0</td>\n",
       "      <td>0</td>\n",
       "      <td>0</td>\n",
       "      <td>0</td>\n",
       "      <td>0</td>\n",
       "      <td>1</td>\n",
       "      <td>0</td>\n",
       "      <td>1</td>\n",
       "      <td>...</td>\n",
       "      <td>0</td>\n",
       "      <td>1</td>\n",
       "      <td>0</td>\n",
       "      <td>0</td>\n",
       "      <td>1</td>\n",
       "      <td>0</td>\n",
       "      <td>0</td>\n",
       "      <td>0</td>\n",
       "      <td>0</td>\n",
       "      <td>truthful</td>\n",
       "    </tr>\n",
       "    <tr>\n",
       "      <th>119</th>\n",
       "      <td>trial_truth_059.mp4</td>\n",
       "      <td>0</td>\n",
       "      <td>0</td>\n",
       "      <td>0</td>\n",
       "      <td>1</td>\n",
       "      <td>0</td>\n",
       "      <td>0</td>\n",
       "      <td>1</td>\n",
       "      <td>0</td>\n",
       "      <td>1</td>\n",
       "      <td>...</td>\n",
       "      <td>0</td>\n",
       "      <td>0</td>\n",
       "      <td>0</td>\n",
       "      <td>0</td>\n",
       "      <td>1</td>\n",
       "      <td>0</td>\n",
       "      <td>0</td>\n",
       "      <td>0</td>\n",
       "      <td>0</td>\n",
       "      <td>truthful</td>\n",
       "    </tr>\n",
       "    <tr>\n",
       "      <th>120</th>\n",
       "      <td>trial_truth_060.mp4</td>\n",
       "      <td>0</td>\n",
       "      <td>1</td>\n",
       "      <td>0</td>\n",
       "      <td>0</td>\n",
       "      <td>0</td>\n",
       "      <td>0</td>\n",
       "      <td>1</td>\n",
       "      <td>1</td>\n",
       "      <td>0</td>\n",
       "      <td>...</td>\n",
       "      <td>0</td>\n",
       "      <td>0</td>\n",
       "      <td>0</td>\n",
       "      <td>0</td>\n",
       "      <td>1</td>\n",
       "      <td>0</td>\n",
       "      <td>0</td>\n",
       "      <td>0</td>\n",
       "      <td>0</td>\n",
       "      <td>truthful</td>\n",
       "    </tr>\n",
       "  </tbody>\n",
       "</table>\n",
       "<p>121 rows × 41 columns</p>\n",
       "</div>"
      ],
      "text/plain": [
       "                      id  OtherGestures  Smile  Laugh  Scowl  \\\n",
       "0      trial_lie_001.mp4              1      0      0      0   \n",
       "1      trial_lie_002.mp4              1      0      0      0   \n",
       "2      trial_lie_003.mp4              1      0      0      0   \n",
       "3      trial_lie_004.mp4              1      0      0      0   \n",
       "4      trial_lie_005.mp4              1      0      0      0   \n",
       "..                   ...            ...    ...    ...    ...   \n",
       "116  trial_truth_056.mp4              1      0      0      0   \n",
       "117  trial_truth_057.mp4              1      0      0      0   \n",
       "118  trial_truth_058.mp4              1      0      0      0   \n",
       "119  trial_truth_059.mp4              0      0      0      1   \n",
       "120  trial_truth_060.mp4              0      1      0      0   \n",
       "\n",
       "     otherEyebrowMovement  Frown  Raise  OtherEyeMovements  Close-R  ...  \\\n",
       "0                       1      0      0                  1        0  ...   \n",
       "1                       0      1      0                  1        0  ...   \n",
       "2                       0      1      0                  0        1  ...   \n",
       "3                       1      0      0                  1        0  ...   \n",
       "4                       0      1      0                  1        0  ...   \n",
       "..                    ...    ...    ...                ...      ...  ...   \n",
       "116                     1      0      0                  1        0  ...   \n",
       "117                     0      0      1                  0        1  ...   \n",
       "118                     0      0      1                  0        1  ...   \n",
       "119                     0      0      1                  0        1  ...   \n",
       "120                     0      0      1                  1        0  ...   \n",
       "\n",
       "     forwardHead  downRHead  singleHand  bothHands  otherHandM  complexHandM  \\\n",
       "0              0          0           0          0           1             0   \n",
       "1              0          0           0          1           0             1   \n",
       "2              0          0           0          0           1             0   \n",
       "3              0          1           0          0           1             0   \n",
       "4              0          0           1          0           0             0   \n",
       "..           ...        ...         ...        ...         ...           ...   \n",
       "116            0          0           1          0           0             0   \n",
       "117            0          1           0          0           1             0   \n",
       "118            0          1           0          0           1             0   \n",
       "119            0          0           0          0           1             0   \n",
       "120            0          0           0          0           1             0   \n",
       "\n",
       "     sidewaysHand  downHands  upHands      class  \n",
       "0               0          0        0  deceptive  \n",
       "1               0          0        0  deceptive  \n",
       "2               0          0        0  deceptive  \n",
       "3               0          0        0  deceptive  \n",
       "4               0          0        0  deceptive  \n",
       "..            ...        ...      ...        ...  \n",
       "116             0          0        1   truthful  \n",
       "117             0          0        0   truthful  \n",
       "118             0          0        0   truthful  \n",
       "119             0          0        0   truthful  \n",
       "120             0          0        0   truthful  \n",
       "\n",
       "[121 rows x 41 columns]"
      ]
     },
     "execution_count": 24,
     "metadata": {},
     "output_type": "execute_result"
    }
   ],
   "source": [
    "#Read in the gestures csv data set and initalise into a pandas dataframe \n",
    "file_path_annotated_body = './data/body/All_Gestures_Deceptive and Truthful.csv'\n",
    "df_annotated_body = pd.read_csv(file_path_annotated_body)\n",
    "df_annotated_body"
   ]
  },
  {
   "cell_type": "markdown",
   "metadata": {},
   "source": [
    "### Concatenate Data Sets"
   ]
  },
  {
   "cell_type": "markdown",
   "metadata": {},
   "source": [
    "Finally we will pull in all the raw data and extracted audio features into a single dataframe that will be used as the basis for all further analysis. As all rows have been read in the exact same order from the various data sources, the dataframes can be easily and safely conatenated using the pd.concat methods and using the reset_index attribute."
   ]
  },
  {
   "cell_type": "code",
   "execution_count": 25,
   "metadata": {},
   "outputs": [
    {
     "name": "stdout",
     "output_type": "stream",
     "text": [
      "File called 'concated_26Feb20_090432.csv' placed in directory ./data/concatenated_data/\n",
      "Location to copy to book two is:  ./data/concatenated_data/concated_26Feb20_090432.csv\n"
     ]
    }
   ],
   "source": [
    "#Concatenates the three created dataframes from the audio, annotated gestures, and manual transcription data sources. \n",
    "df_concat = pd.concat([df_annotated_body.reset_index(drop=True),\n",
    "                       df_transcription.reset_index(drop=True),\n",
    "                       df_audio.reset_index(drop=True),\n",
    "                       df_jitter.reset_index(drop=True)],\n",
    "                       axis=1)\n",
    "\n",
    "#specifies the relative path location to save the df_concat data frame just created\n",
    "data_frame_location = './data/concatenated_data/'\n",
    "#Gets the date using the datetime module for use in the file name\n",
    "date_time = datetime.now() \n",
    "#Creates the file name string\n",
    "end_filename = str(data_frame_location + 'concated_' + date_time.strftime(\"%d%b%y_%T\")+\".csv\").replace(':',\"\") \n",
    "#And finally writes the df_concat dataframe to a csv file using the end_filename string just created.\n",
    "df_concat.to_csv(end_filename, index=False)\n",
    "\n",
    "#This confirms the file name and location for use as a reference if required. \n",
    "print(\"File called\",str(\"'concated_\" + date_time.strftime(\"%d%b%y_%T\")+\".csv'\").replace(':',\"\"),\\\n",
    "      'placed in directory',data_frame_location)\n",
    "print(\"Location to copy to book two is: \",end_filename)"
   ]
  },
  {
   "cell_type": "markdown",
   "metadata": {},
   "source": [
    "### Data Dictionary\n",
    "As with all data sets, it is important to create a data-dictionary. Below is a dictionary of the variables in the data set and their description. The data_dictionary is copied to a text file for quick and easy updates and distribution outside of the python environment."
   ]
  },
  {
   "cell_type": "code",
   "execution_count": 29,
   "metadata": {},
   "outputs": [],
   "source": [
    "data_dictionary = {'id': \"id of witness/defendant statement\",\n",
    "                    'OtherGestures': 'Other gestures shown not elsewhere specified',\n",
    "                    'Smile': 'Absence (0) or Presence (1) of smiling',\n",
    "                    'Laugh': 'Absence (0) or Presence (1) of laughing',\n",
    "                    'Scowl': 'Absence (0) or Presence (1) of scowling',\n",
    "                    'otherEyebrowMovement': 'Absence (0) or Presence (1) of eyebrow movement not elsewhere captured',\n",
    "                    'Frown': 'Absence (0) or Presence (1) of frowing (as indicated by eyebrows)',\n",
    "                    'Raise': 'Absence (0) or Presence (1) of raising of eyebrows',\n",
    "                    'OtherEyeMovements': 'Absence (0) or Presence (1) of raising of eyebrows',\n",
    "                    'Close-R': 'Absence (0) or Presence (1) of the closing of eyes repeatedly',\n",
    "                    'X-Open': 'Absence (0) or Presence (1) of exaggerated opening of eyes',\n",
    "                    'Close-BE': 'Absence (0) or Presence (1) of repeatedly closing eyes',\n",
    "                    'gazeInterlocutor': 'Absence (0) or Presence (1) of making direct eyecontact to other party (e.g. lawyer)',\n",
    "                    'gazeDown': 'Absence (0) or Presence (1) of gazing down towards floor',\n",
    "                    'gazeUp': 'Absence (0) or Presence (1) of gazing upwards towards ceiling',\n",
    "                    'otherGaze': 'Absence (0) or Presence (1) of gaze direction not otherwise specified',\n",
    "                    'gazeSide': 'Absence (0) or Presence (1) of gazing towards either side',\n",
    "                    'openMouth': 'Absence (0) or Presence (1) of mouth open',\n",
    "                    'closeMouth': 'Absence (0) or Presence (1) of mouth closed',\n",
    "                    'lipsDown': 'Absence (0) or Presence (1) of corners of lip down',\n",
    "                    'lipsUp': 'Absence (0) or Presence (1) of corners of lip up',\n",
    "                    'lipsRetracted': 'Absence (0) or Presence (1) of retracted lips',\n",
    "                    'lipsProtruded': 'Absence (0) or Presence (1) of protruded lips',\n",
    "                    'SideTurn': 'Absence (0) or Presence (1) of head turning to side',\n",
    "                    'downR': 'Absence (0) or Presence (1) of head turning to side',\n",
    "                    'sideTilt':  'Absence (0) or Presence (1) of head in side tilt',\n",
    "                    'backHead': 'Absence (0) or Presence (1) of head moving backwards',\n",
    "                    'otherHeadM': 'Absence (0) or Presence (1) of head movement not elsewhere specified',\n",
    "                    'sideTurnR': 'Absence (0) or Presence (1) of repeated head turning to side',\n",
    "                    'sideTiltR': 'Absence (0) or Presence (1) of repeated head tilting',\n",
    "                    'waggle': 'Absence (0) or Presence (1) of a waggle which is a movement of the head back and forth, side to side, it is like a mixture of shake and  move backward or forward it is usually produced to show uncertainty, doubtfulness.',\n",
    "                    'forwardHead': 'Absence (0) or Presence (1) of ra movement of the head forward, this can either be a movement of the head only or can be a movement of the whole trunk',\n",
    "                    'downRHead': 'Absence (0) or Presence (1) of repeated down moving of head',\n",
    "                    'singleHand': 'Absence (0) or Presence (1) of using either right or left hand to gesture',\n",
    "                    'bothHands': 'Absence (0) or Presence (1) of using both hands to gesture',\n",
    "                    'otherHandM': 'Absence (0) or Presence (1) of using one hand to gesture',\n",
    "                    'complexHandM': 'Absence (0) or Presence (1) of a complex stroke trajectory (gesture)',\n",
    "                    'sidewaysHand': 'Absence (0) or Presence (1) of the trajectory of a stroke which is sideways (gesture)',\n",
    "                    'downHands': 'Absence (0) or Presence (1) of the trajectory of a stroke which is downwards (gesture)',\n",
    "                    'upHands': 'Absence (0) or Presence (1) of the trajectory of a stroke which is upwards (gesture)',\n",
    "                    'class': 'Identifies whethere statement was truthful or deceptive',\n",
    "                    'transcription': 'Manual annotated of statement from audio collected using Mechanical Turk. word repetitions and fillers such as um, ah, and uh are included. Intentional silence indicated using ellipsis',\n",
    "                    'Pronunciation_posteriori': 'UNSURE',\n",
    "                    'Gender': 'Extracted gender using my-voice-analysis',\n",
    "                    'Mood_from_mva': 'Extracted mood using my-voice-analysis',\n",
    "                    'Count of Syllables': 'Extracted number of syllables identified using my-voice-analysis',\n",
    "                    'Count of filler and pauses': 'Extracted number of filler and pauses identified using my-voice-analysis',\n",
    "                    'Rate of speech - syb per sec': 'Number of syllables per second speaking identified using my-voice-analysis',\n",
    "                    'Speaking time secs w/o pauses': 'Time in seconds speaking WITHOUT fillers and pauses identified using my-voice-analysis',\n",
    "                    'Duration time secs w pauses': 'Time in seconds speaking INCLUDING fillers and pauses identified using my-voice-analysis',\n",
    "                    'Ratio speaking to duration': 'Calculated ratio of speaking to time speaking (duration) in seconds identified using my-voice-analysis',\n",
    "                    'Fundamental frequency_f0 Hz': 'The MEAN of the fundamental frequency of the complex speech tone – also known as the pitch or f0',\n",
    "                    'SD Fundamental frequency_f0 Hz': 'The STD of the fundamental frequency',\n",
    "                    'Median Fundamental frequency_f0 Hz': 'The Median of the fundamental frequency observed in the audio',\n",
    "                    'Minimum Fundamental frequency_f0 Hz': 'The MINIMUM of the fundamental frequency observed in the audio',\n",
    "                    'Maximum Fundamental frequency_f0 Hz': 'The MAXIMUM of the fundamental frequency observed in the audio',\n",
    "                    '25th Quantile Fundamental frequency_f0 Hz': 'The 25th Quantile of the fundamental frequency observed in the audio',\n",
    "                    '75th Quantile Fundamental frequency_f0 Hz':'The 75th Quantile of the fundamental frequency observed in the audio',\n",
    "                    'Jitter - local': 'This is the average absolute difference between consecutive periods, divided by the average period.',\n",
    "                    'Jitter - local, absolute': 'Average absolute difference between consecutive periods, in seconds',\n",
    "                    'Jitter - rap': 'The Relative Average Perturbation is the average absolute difference between a period and the average of it and its two neighbours, divided by the average period, in percentage.',\n",
    "                    'Jitter - ppq5': 'This is the five-point Period Perturbation Quotient, the average absolute difference between a period and the average of it and its four closest neighbours, divided by the average period.',\n",
    "                    'Jitter - ddp': 'This is the average absolute difference between consecutive differences between consecutive periods, divided by the average period.'}\n",
    "\n",
    "\n",
    "\n",
    "#This creates a data dictionary in the respective concatenated data folder. \n",
    "data_dictionary_filename = str(data_frame_location + \"Data_Dictionary.txt\")\n",
    "f = open(data_dictionary_filename,\"w+\")\n",
    "for k, v in data_dictionary.items():\n",
    "    f.write(str(k) + '\\n-----\\n'+ str(v) + '\\n\\n')\n",
    "f.close()"
   ]
  }
 ],
 "metadata": {
  "kernelspec": {
   "display_name": "Python 3",
   "language": "python",
   "name": "python3"
  },
  "language_info": {
   "codemirror_mode": {
    "name": "ipython",
    "version": 3
   },
   "file_extension": ".py",
   "mimetype": "text/x-python",
   "name": "python",
   "nbconvert_exporter": "python",
   "pygments_lexer": "ipython3",
   "version": "3.7.6"
  }
 },
 "nbformat": 4,
 "nbformat_minor": 2
}
